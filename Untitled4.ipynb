{
  "cells": [
    {
      "cell_type": "code",
      "execution_count": null,
      "metadata": {
        "colab": {
          "base_uri": "https://localhost:8080/"
        },
        "id": "nc6gimWDjgva",
        "outputId": "ed9cc270-57a3-4b1c-ec92-99699ca95ad8"
      },
      "outputs": [
        {
          "output_type": "stream",
          "name": "stdout",
          "text": [
            "IPython console for SymPy 1.7.1 (Python 3.7.13-64-bit) (ground types: python)\n",
            "\n",
            "These commands were executed:\n",
            ">>> from __future__ import division\n",
            ">>> from sympy import *\n",
            ">>> x, y, z, t = symbols('x y z t')\n",
            ">>> k, m, n = symbols('k m n', integer=True)\n",
            ">>> f, g, h = symbols('f g h', cls=Function)\n",
            ">>> init_printing()\n",
            "\n",
            "Documentation can be found at https://docs.sympy.org/1.7.1/\n",
            "\n"
          ]
        }
      ],
      "source": [
        "from sympy.printing import latex\n",
        "import sympy\n",
        "from sympy import init_session\n",
        "init_session(use_latex=True)\n"
      ]
    },
    {
      "cell_type": "markdown",
      "metadata": {
        "id": "x6_wEbKEN4ir"
      },
      "source": [
        "Un subconjunto  $S⊂R^3$  es una superficie regular si para toso $p \\in S $  existe un entorno $V\\in R^3$  y una aplicación   $φ: U \\subset R^2 \\rightarrow R^3 \\cap V $ con  $ φ(x, y) =\n",
        "(φ_1(x, y), φ_2(x, y), φ_3(x, y))$.Para el cual \n",
        "\n",
        "\n",
        "*  $φ$ es una funcion diferenciable es decir  sus funciones componentes $φ_1(x, y), φ_2(x, y), φ_3(x, y) $ tienen derivadas parciales de todos los ordenes \n",
        "*    $φ$  es un homeomorfismo \n",
        "*  Para todo  $q \\in U $ , la diferencial $dx_q$ es inyectiva \n",
        "\n",
        "En este orden de ideas  en el siguiente documento vamos a careaterizar propiedades geometricas  de las superficies minimas atravez  de su parametizacion \n",
        "\n"
      ]
    },
    {
      "cell_type": "code",
      "execution_count": null,
      "metadata": {
        "colab": {
          "base_uri": "https://localhost:8080/"
        },
        "id": "9FKv2FWJjpVd",
        "outputId": "205ae2af-48fd-4ac9-aecb-1fb4b6478f25"
      },
      "outputs": [
        {
          "name": "stdout",
          "output_type": "stream",
          "text": [
            "Digite parametrizacion de la superficie en funcion de  x,y :\n",
            "x*cos(y)\n",
            "x*sin(y)\n",
            "y\n"
          ]
        }
      ],
      "source": [
        "print('Digite parametrizacion de la superficie en funcion de  x,y :')\n",
        "expresion1= input()\n",
        "expresion2= input()\n",
        "expresion3=input()\n",
        "\n",
        "\n"
      ]
    },
    {
      "cell_type": "markdown",
      "metadata": {
        "id": "gtuZMEQEfBoZ"
      },
      "source": [
        "# Parametrizacion de la superficie S "
      ]
    },
    {
      "cell_type": "code",
      "execution_count": null,
      "metadata": {
        "colab": {
          "base_uri": "https://localhost:8080/"
        },
        "id": "iv0EQHQCfJEc",
        "outputId": "8a453d1c-0127-4a41-cc1c-3a1997d9acdf"
      },
      "outputs": [
        {
          "output_type": "stream",
          "name": "stdout",
          "text": [
            "['x*cos(y)', 'x*sin(y)', 'y']\n"
          ]
        }
      ],
      "source": [
        "Parametrizacion=[expresion1,expresion2,expresion3]\n",
        "print(Parametrizacion)"
      ]
    },
    {
      "cell_type": "code",
      "source": [
        ""
      ],
      "metadata": {
        "id": "SJG1zD2qW1du"
      },
      "execution_count": null,
      "outputs": []
    },
    {
      "cell_type": "markdown",
      "metadata": {
        "id": "snGG5gTHZecl"
      },
      "source": [
        "\\\n",
        "Ahora expresemos la primera forma fundamental en la base asociada $\\left \\{ \\varphi_x,\\varphi_y \\right \\}$ asociada a la parametrizacion $φ(x,y)$ como un vector tangente  $w\\in T_p(S)$ es un vector tangente  a la curva $\\alpha(t)=φ(x(t),y(t))$ obtenemos así que ;\n",
        "\n",
        "\n",
        "\\begin{equation*} \n",
        "\\begin{split}\n",
        "I_p &= \\left \\langle w_1,w_2  \\right \\rangle_p \\\\\n",
        "&=\\left \\langle \\alpha' (t), \\alpha' (t)\\right \\rangle_p \\\\\n",
        "&=\\left \\langle \\varphi_x x' +\\varphi_y y', \\varphi_x x' +\\varphi_y y' \\right \\rangle \\\\\n",
        "&=\\left \\langle \\varphi_x,\\varphi_x \\right \\rangle_p (x')^2+2 \\left \\langle \\varphi_x,\\varphi_y \\right \\rangle_p x'y' + \\left \\langle \\varphi_y,\\varphi_y \\right \\rangle_p (y')^2 \\\\\n",
        "&=E (x')^2+2F x' y' +G (y')^2\n",
        "\\end{split}\n",
        "\\end{equation*}\n",
        "\n",
        "En donde los valores de la s funciones involucradas se evalúan en $t=0$  y\n",
        "\n",
        "\n",
        "\\begin{equation*} \n",
        "\\begin{split}\n",
        "E(u_0,v_0)=\\left \\langle \\varphi_x,\\varphi_x \\right \\rangle_p \\\\\n",
        "F(u_0,v_0)=\\left \\langle \\varphi_x,\\varphi_y \\right \\rangle_p \\\\\n",
        "G(u_0,v_0)=\\left \\langle \\varphi_y,\\varphi_y \\right \\rangle_p\n",
        "\\end{split}\n",
        "\\end{equation*}\n",
        "DE esta forma vamos a definir los coeficientes de la primera forma fundamental por lo tanto lo podemos programar de la siguiente forma \n"
      ]
    },
    {
      "cell_type": "code",
      "execution_count": null,
      "metadata": {
        "id": "4QsClO15ba9n"
      },
      "outputs": [],
      "source": [
        "x_1= diff(expresion1,x,1)\n",
        "y_1= diff(expresion2,x,1)\n",
        "z_1= diff(expresion3,x,1)\n",
        "\n",
        "#-----------------------------------------------------------------------\n",
        "x_2= diff(expresion1,y,1)\n",
        "y_2= diff(expresion2,y,1)\n",
        "z_2= diff(expresion3,y,1)\n",
        "#-----------------------------------------------------------------------\n",
        "x_11= diff(expresion1,x,2)\n",
        "y_11= diff(expresion2,x,2)\n",
        "z_11= diff(expresion3,x,2)\n",
        "#-----------------------------------------------------------------------\n",
        "x_22= diff(expresion1,y,2)\n",
        "y_22= diff(expresion2,y,2)\n",
        "z_22= diff(expresion3,y,2)\n",
        "#-----------------------------------------------------------------------\n",
        "x_12= diff(expresion1,x,1,y,1)\n",
        "y_12= diff(expresion2,x,1,y,1)\n",
        "z_12= diff(expresion3,x,1,y,1)\n",
        "\n",
        "#-----------------------------------------------------------------------\n",
        "E=x_1*x_1+y_1*y_1+z_1*z_1\n",
        "F=x_1*x_2+y_1*y_2+z_1*z_2\n",
        "G=x_2*x_2+y_2*y_2+z_2*z_2\n",
        "\n",
        "\n",
        "\n"
      ]
    },
    {
      "cell_type": "markdown",
      "metadata": {
        "id": "xvZpL1xMbgYU"
      },
      "source": [
        "## Coeficientes de la primera forma fundamental "
      ]
    },
    {
      "cell_type": "code",
      "execution_count": null,
      "metadata": {
        "id": "0mZwU4hVhzFI"
      },
      "outputs": [],
      "source": [
        "N_1=(y_1*z_2-y_2*z_1)/sqrt(E*G-F**2)\n",
        "N_2=(z_1*x_2-x_1*z_2)/sqrt(E*G-F**2)\n",
        "N_3=(x_1*y_2-y_1*x_2)/sqrt(E*G-F**2)\n",
        "#-----------------------------------------------------------------------\n",
        "e=N_1*x_11+N_2*y_11+N_3*z_11\n",
        "f=N_1*x_12+N_2*y_12+N_3*z_12\n",
        "g=N_1*x_22+N_2*y_22+N_3*z_22"
      ]
    },
    {
      "cell_type": "code",
      "execution_count": null,
      "metadata": {
        "colab": {
          "base_uri": "https://localhost:8080/",
          "height": 56
        },
        "id": "GyIHu_jImrnz",
        "outputId": "2635397c-2dac-4889-e570-0a6261adceb0"
      },
      "outputs": [
        {
          "output_type": "stream",
          "name": "stdout",
          "text": [
            "sin(y)**2 + cos(y)**2\n"
          ]
        },
        {
          "output_type": "execute_result",
          "data": {
            "text/plain": [
              "1"
            ],
            "image/png": "[encoded data removed]",
            "text/latex": "$\\displaystyle 1$"
          },
          "metadata": {},
          "execution_count": 22
        }
      ],
      "source": [
        "\n",
        "print(E)\n",
        "simplify(E)\n"
      ]
    },
    {
      "cell_type": "code",
      "execution_count": null,
      "metadata": {
        "colab": {
          "base_uri": "https://localhost:8080/",
          "height": 56
        },
        "id": "EYsmp39Xmz6y",
        "outputId": "04bf1df6-1624-4c2f-e854-2c0a112151d0"
      },
      "outputs": [
        {
          "output_type": "stream",
          "name": "stdout",
          "text": [
            "0\n"
          ]
        },
        {
          "output_type": "execute_result",
          "data": {
            "text/plain": [
              "0"
            ],
            "image/png": "[encoded data removed]",
            "text/latex": "$\\displaystyle 0$"
          },
          "metadata": {},
          "execution_count": 23
        }
      ],
      "source": [
        "print(F)\n",
        "simplify(F)\n"
      ]
    },
    {
      "cell_type": "code",
      "execution_count": null,
      "metadata": {
        "colab": {
          "base_uri": "https://localhost:8080/",
          "height": 57
        },
        "id": "eimLzTfrm2ps",
        "outputId": "a0d57a94-48dd-490f-bf4c-6e3258dc6f5f"
      },
      "outputs": [
        {
          "output_type": "stream",
          "name": "stdout",
          "text": [
            "x**2*sin(y)**2 + x**2*cos(y)**2 + 1\n"
          ]
        },
        {
          "output_type": "execute_result",
          "data": {
            "text/plain": [
              " 2    \n",
              "x  + 1"
            ],
            "image/png": "[encoded data removed]",
            "text/latex": "$\\displaystyle x^{2} + 1$"
          },
          "metadata": {},
          "execution_count": 24
        }
      ],
      "source": [
        "print(G)\n",
        "simplify(G)"
      ]
    },
    {
      "cell_type": "markdown",
      "metadata": {
        "id": "3T43RK6yiAvS"
      },
      "source": [
        "\\\n",
        "Definimos los coeficientes de la segunda forma fundamental  e,g,f  como :\n",
        "\n",
        "\\begin{equation*} \n",
        "\\begin{split}\n",
        "−f=⟨N_y,φ_x⟩_p,\\hspace{0.5cm}−e=⟨N_x,φ_x⟩_p,\\hspace{0.5cm}−g=⟨N_y,φ_y⟩_p\n",
        "\\end{split}\n",
        "\\end{equation*}"
      ]
    },
    {
      "cell_type": "markdown",
      "metadata": {
        "id": "6md4gwYvhS_r"
      },
      "source": [
        "# Coeficientes de la segunda forma fundamental "
      ]
    },
    {
      "cell_type": "code",
      "execution_count": null,
      "metadata": {
        "colab": {
          "base_uri": "https://localhost:8080/",
          "height": 56
        },
        "id": "4edro6nlm9Gb",
        "outputId": "afe1a3aa-94db-4207-cb48-b4eee9210007"
      },
      "outputs": [
        {
          "output_type": "stream",
          "name": "stdout",
          "text": [
            "0\n"
          ]
        },
        {
          "output_type": "execute_result",
          "data": {
            "text/plain": [
              "0"
            ],
            "image/png": "[encoded data removed]",
            "text/latex": "$\\displaystyle 0$"
          },
          "metadata": {},
          "execution_count": 12
        }
      ],
      "source": [
        "\n",
        "print(e)\n",
        "simplify(e)\n",
        "\n"
      ]
    },
    {
      "cell_type": "code",
      "execution_count": null,
      "metadata": {
        "colab": {
          "base_uri": "https://localhost:8080/",
          "height": 74
        },
        "id": "448nTGKNm_zz",
        "outputId": "0fff5919-76c9-453b-f632-548f44645948"
      },
      "outputs": [
        {
          "output_type": "stream",
          "name": "stdout",
          "text": [
            "-sin(y)**2/sqrt((sin(y)**2 + cos(y)**2)*(x**2*sin(y)**2 + x**2*cos(y)**2 + 1)) - cos(y)**2/sqrt((sin(y)**2 + cos(y)**2)*(x**2*sin(y)**2 + x**2*cos(y)**2 + 1))\n"
          ]
        },
        {
          "output_type": "execute_result",
          "data": {
            "text/plain": [
              "    -1     \n",
              "───────────\n",
              "   ________\n",
              "  ╱  2     \n",
              "╲╱  x  + 1 "
            ],
            "image/png": "[encoded data removed]",
            "text/latex": "$\\displaystyle - \\frac{1}{\\sqrt{x^{2} + 1}}$"
          },
          "metadata": {},
          "execution_count": 13
        }
      ],
      "source": [
        "print(f)\n",
        "simplify(f)\n"
      ]
    },
    {
      "cell_type": "code",
      "execution_count": null,
      "metadata": {
        "colab": {
          "base_uri": "https://localhost:8080/",
          "height": 56
        },
        "id": "gr905TIInB79",
        "outputId": "45ed4696-118c-4131-f4a9-8ae4d66c7403"
      },
      "outputs": [
        {
          "output_type": "stream",
          "name": "stdout",
          "text": [
            "0\n"
          ]
        },
        {
          "output_type": "execute_result",
          "data": {
            "text/plain": [
              "0"
            ],
            "image/png": "[encoded data removed]",
            "text/latex": "$\\displaystyle 0$"
          },
          "metadata": {},
          "execution_count": 14
        }
      ],
      "source": [
        "print(g)\n",
        "simplify(g)\n"
      ]
    },
    {
      "cell_type": "markdown",
      "metadata": {
        "id": "skDOhc_givWy"
      },
      "source": [
        ""
      ]
    },
    {
      "cell_type": "markdown",
      "metadata": {
        "id": "x7henfasjAt3"
      },
      "source": [
        "# Curvatura de gauss de la superficie S "
      ]
    },
    {
      "cell_type": "markdown",
      "metadata": {
        "id": "VQTRPeAaFmNb"
      },
      "source": [
        "\\La curvatura gaussiana de una superficie es un número real $K(P_0)$  que mide la curvatura intrínseca en cada punto regular $P_0$ de una superficie. Esta curvatura puede calcularse a partir de los coeficientes  de la primera y segunda forma fundamental de la superficie y su expresion viene dada por \n",
        "\\begin{equation*} \n",
        "\\begin{split}\n",
        "  K=\\frac{eg-f^2}{EG-F^2}\n",
        "  \\end{split}\n",
        "\\end{equation*}\n",
        "\n",
        "\n"
      ]
    },
    {
      "cell_type": "markdown",
      "metadata": {
        "id": "SSpbToP-EGjn"
      },
      "source": [
        "\\"
      ]
    },
    {
      "cell_type": "code",
      "execution_count": null,
      "metadata": {
        "colab": {
          "base_uri": "https://localhost:8080/",
          "height": 96
        },
        "id": "3kaEcRKfnICj",
        "outputId": "453dbff8-d4a5-40a8-eaa3-80d2847125d4"
      },
      "outputs": [
        {
          "output_type": "stream",
          "name": "stdout",
          "text": [
            "-(-sin(y)**2/sqrt((sin(y)**2 + cos(y)**2)*(x**2*sin(y)**2 + x**2*cos(y)**2 + 1)) - cos(y)**2/sqrt((sin(y)**2 + cos(y)**2)*(x**2*sin(y)**2 + x**2*cos(y)**2 + 1)))**2/((sin(y)**2 + cos(y)**2)*(x**2*sin(y)**2 + x**2*cos(y)**2 + 1))\n"
          ]
        },
        {
          "output_type": "execute_result",
          "data": {
            "text/plain": [
              "   -1    \n",
              "─────────\n",
              "        2\n",
              "⎛ 2    ⎞ \n",
              "⎝x  + 1⎠ "
            ],
            "image/png": "[encoded data removed]",
            "text/latex": "$\\displaystyle - \\frac{1}{\\left(x^{2} + 1\\right)^{2}}$"
          },
          "metadata": {},
          "execution_count": 15
        }
      ],
      "source": [
        "\n",
        "K=(e*g-f**2)/(E*G-F**2)\n",
        "print(K)\n",
        "simplify(K)"
      ]
    },
    {
      "cell_type": "markdown",
      "metadata": {
        "id": "tIB-vuUSjIZt"
      },
      "source": [
        "# Curvatura normal de la superficie S "
      ]
    },
    {
      "cell_type": "markdown",
      "metadata": {
        "id": "CLEW1soxHc7l"
      },
      "source": [
        ""
      ]
    },
    {
      "cell_type": "markdown",
      "metadata": {
        "id": "5CeDDAouHdDG"
      },
      "source": [
        "Sea $p$ un punto sobre la superficie $S$. Considérense todas las curvas $\\displaystyle C_{i}$  sobre  $S$ que pasan a través del punto $p$ sobre la superficie. Tales $C_{i}$ tienen una curvatura asociada $ K_{i}$dada en $p$. De todas esas curvaturas $ K_{i}$, al menos una está caracterizada como máxima, $\\kappa _{1}$ y otra como mínima,$\\kappa _{2}$, y esas dos curvaturas $ \\kappa _{1}$,$\\kappa _{2}$ son conocidas como las curvaturas principales de $S$.\n",
        "\n",
        "Definimos la curvatura media en $ p\\in S$ como la media  de las curvaturas principales esta se  puede calcular respecto a los coeficientes de la primera y segunda forma fundamental mediante la siguiente expresión \n",
        "\n",
        "\\begin{equation*} \n",
        "\\begin{split}\n",
        "  H=\\frac{1}{2}\\frac{eG-2fF+gE}{EG-F^{2}}\n",
        "  \\end{split}\n",
        "\\end{equation*}\n"
      ]
    },
    {
      "cell_type": "markdown",
      "metadata": {
        "id": "0l0PYMiyJChM"
      },
      "source": [
        ""
      ]
    },
    {
      "cell_type": "code",
      "execution_count": null,
      "metadata": {
        "colab": {
          "base_uri": "https://localhost:8080/",
          "height": 56
        },
        "id": "7QB59a41nI4K",
        "outputId": "bd68164c-9a8f-4a7c-b29c-ec8aa4fda41f"
      },
      "outputs": [
        {
          "output_type": "stream",
          "name": "stdout",
          "text": [
            "0\n"
          ]
        },
        {
          "output_type": "execute_result",
          "data": {
            "text/plain": [
              "0"
            ],
            "image/png": "[encoded data removed]",
            "text/latex": "$\\displaystyle 0$"
          },
          "metadata": {},
          "execution_count": 16
        }
      ],
      "source": [
        "\n",
        "H= 1/2*(e*G-2*f*F+g*E)/(E*G-F**2)\n",
        "print(H)\n",
        "simplify(H)\n"
      ]
    },
    {
      "cell_type": "markdown",
      "metadata": {
        "id": "ATqSwDtflEyt"
      },
      "source": [
        "\\\n",
        "Definición :Se dice que una superficie parametrizada regular es mínima ,si su curvatura media se anula en todos sus puntos "
      ]
    },
    {
      "cell_type": "code",
      "execution_count": null,
      "metadata": {
        "id": "tpQreSX2C-k5"
      },
      "outputs": [],
      "source": [
        ""
      ]
    },
    {
      "cell_type": "markdown",
      "metadata": {
        "id": "rrPARwFn8GN4"
      },
      "source": [
        "**Superficies de revolución**\n",
        "\n",
        "Una superficie regular  se dirá que es de revolución si está generada por la rotación de una curva plana $C$ a la que llamamos generatriz, alrededor de un eje de revolución coplanario con $C$ . Para obtener una parametrización de la superficie de revolución consideramos una referencia donde la curva plana  C este contenida ,Tomaremos el plano  $xy$  como referencia  y Tomaremos a $y$ como el eje de rotación de  $C$ \n",
        "\n",
        "\\begin{equation*} \n",
        "\\begin{split}\n",
        " x=φ(x) \\hspace{0.3 cm} ,  \\hspace{0.3 cm} y=ψ(x) \\hspace{0.3 cm} a\\leq x\\leq b ,\\hspace{0.3 cm} ψ(x)\\geq 0\n",
        "\\end{split}\n",
        "\\end{equation*}\n",
        "\n",
        "Una parametrización de  y denotemos  por   a  el ángulo de rotación de   alrededor del eje  obtenemos así la aplicación dada por\n",
        "\n",
        "\\begin{equation*} \n",
        "\\begin{split}\n",
        "𝛗(x,y)= (φ(x)\\cdot \\cos(y), φ(x)\\cdot\\sin(y) , ψ(x) ) , \\hspace{0.3 cm} a\\leq x\\leq b ,\\hspace{0.3 cm}  y \\in  \\left [ 0,2\\pi \\right ]\n",
        "\\end{split}\n",
        "\\end{equation*}\n",
        "              "
      ]
    },
    {
      "cell_type": "markdown",
      "metadata": {
        "id": "8z245f4TCtf4"
      },
      "source": [
        "[texto del vínculo](https://www.geogebra.org/classic/xvfatyhm)"
      ]
    },
    {
      "cell_type": "markdown",
      "metadata": {
        "id": "iHqgdH2qmiIv"
      },
      "source": [
        "# Catenoide "
      ]
    },
    {
      "cell_type": "markdown",
      "metadata": {
        "id": "7u2Sg2oIlNFO"
      },
      "source": [
        "\n",
        "\n",
        "\n",
        " La catenoide es la superficie de revolución generada por la curva catenaria  cuando rota alrededor de un eje coplanario rectilıneo, perpendicular al eje de simetría de la catenaria.Como la catenaria tiene la siguiente parametrización $C= (v, \\cosh(v))$  con $v\\in R$\n"
      ]
    },
    {
      "cell_type": "code",
      "execution_count": null,
      "metadata": {
        "id": "UWPJwANyoJM_"
      },
      "outputs": [],
      "source": [
        "import numpy as np\n",
        "import matplotlib.pyplot as plt\n",
        "\n",
        "def h(x):\n",
        "  return np.cosh(x)\n",
        "\n",
        "x=np.linspace(-3,3,100)\n",
        "plt.plot(x,h(x))\n",
        "plt.title('catenaria')\n",
        "plt.grid()\n",
        "\n"
      ]
    },
    {
      "cell_type": "markdown",
      "metadata": {
        "id": "SdrfoN_IrjlH"
      },
      "source": [
        "Entonces vamos a tener que la catenoide va ha estar parametrizada por la aplicación\n",
        "\\begin{equation*} \n",
        "\\begin{split}\n",
        "φ(u,v)=(\\cosh(y)\\cos(x),\\cosh(y) \\sin(x),y) \\hspace{0,5cm},x\\in \\left [ 0,2\\pi \\right ] \\hspace{0,5cm}  a<y<b\n",
        "\\end{split}\n",
        "\\end{equation*}\n",
        "\n",
        "Se prueba fácilmente que la curvatura media de la catenoide es igual a cero esto es empleando el codigo anterior y haciendo \n",
        "\n",
        "\n",
        "*   expresion$_1$=$\\cosh(y)\\cos(x)$\n",
        "*   expresion$_2$=$\\cosh(y) \\sin(x)$\n",
        "*   expresion$_3$=$y$\n",
        "\n",
        "Por lo tanto podemos concluir que la catenoide es una superficie minima\n",
        "\n",
        "\n",
        "\n",
        "\n"
      ]
    },
    {
      "cell_type": "code",
      "execution_count": null,
      "metadata": {
        "id": "-hUcI-ikszug"
      },
      "outputs": [],
      "source": [
        "#Creacion de la catenoide \n",
        "from matplotlib.tri import triangulation\n",
        "catenoide=plt.figure()\n",
        "ax=plt.axes(projection=\"3d\")\n",
        "u=np.linspace(-2,2,70)\n",
        "v=np.linspace(0,2*np.pi,70)\n",
        "u,v=np.meshgrid(u,v)\n",
        "x=np.cosh(u)*np.cos(v)\n",
        "y=np.sinh(u)*np.sin(v)\n",
        "z=u\n",
        "ax.plot_surface(x,y,z,cmap=\"viridis\")\n",
        "plt.title('catenoide')\n",
        "plt.show()"
      ]
    },
    {
      "cell_type": "markdown",
      "metadata": {
        "id": "H5CZutgxsuFE"
      },
      "source": [
        "# Superficies regladas \n",
        "\n",
        "\n",
        "\n"
      ]
    },
    {
      "cell_type": "markdown",
      "metadata": {
        "id": "CA0Psj0be-ee"
      },
      "source": [
        "\n",
        "Una superficie regular $S$ se dice reglada si para todo punto $p\\in S$ existe una recta que pasa por  $P$  y esta contenida en , las superficies regladas se parametrizan localmente de la siguiente manera   \n",
        "\\begin{equation*} \n",
        "\\begin{split}\n",
        "\\varphi(x, y) = \\alpha(x) + y\\beta(x),\\hspace{0.5cm}  x, y \\in R\n",
        "\\end{split}\n",
        "\\end{equation*}\n",
        " \n",
        "Donde α(x)  es la curva directriz y β(x) es el vector director unitario de cada recta que pasa por α(x) fijado un valor del parámetro x   puede observarse que la expresión obtenida es la ecuación de una recta y, variando  x , geométricamente lo que se puede interpretar es que se va recorriendo cada punto de la curva  base α(x)  y por él pasa una recta cuya dirección viene dada por β(x).\n",
        "\n",
        "Note quela parametrización de una superficie reglada  la podemos escribir como :\n",
        " \n",
        "\n",
        "  \\begin{equation*} \n",
        "\\begin{split}\n",
        "\\varphi(x, y)&= \\alpha(x) + y\\beta(x),\\hspace{0.5cm}  x, y \\in R  \\\\\n",
        "              &=(1-y) \\alpha(x) +y(\\beta(x) +\\alpha(x))  \\\\\n",
        "              &=(1-y) \\alpha(x) +y Ψ(x)\n",
        "\\end{split}\n",
        "\\end{equation*}\n",
        "             \n",
        "            \n",
        "Que algebraicamente representa, para cada valor de x a una recta  o un segmento si consideramos  $0\\leq y \\leq1$, que se apoya en un punto de la curva α(x)  y en otro de la curva β(x) .  "
      ]
    },
    {
      "cell_type": "markdown",
      "metadata": {
        "id": "VULYMd_bk04L"
      },
      "source": [
        "Ejemplos \n"
      ]
    },
    {
      "cell_type": "markdown",
      "metadata": {
        "id": "34lge_Wmk5Ks"
      },
      "source": [
        "**Plano**\n",
        "\n",
        "El ejemplo más sencillo es un plano, que se puede obtener cuando la directriz es una recta, y las generatrices son paralelas entre sí. Por ejemplo, el plano que pasa por el punto $p$  generado por los vectores  $a$ ,$b$  se puede parametrizar como\n",
        "\\begin{equation*} \n",
        "\\begin{split}\n",
        "𝛗(x,y)=p+a\\cdot x + b\\cdot y,\\hspace{0.5cm}  x, y \\in R\n",
        "\\end{split}\n",
        "\\end{equation*}\n",
        "Donde $a$  y $b$ son vectores linealmente independientes  por lo tanto es una superficie reglada si hacemos\n",
        "\n",
        "\\begin{equation*} \n",
        "\\begin{split}\n",
        "α(x)=p+a\\cdot x \\hspace{0.5cm} y \\hspace{0.5cm} β(x)=b\n",
        "\\end{split}\n",
        "\\end{equation*}"
      ]
    },
    {
      "cell_type": "markdown",
      "metadata": {
        "id": "ioQi1lYMnBty"
      },
      "source": [
        "**Superficie conica**\n",
        "\n",
        "Una superficie de revolución cónica es generada por la rotación de una recta alrededor de un eje al cual interseca en un punto, llamado vértice o ápice, de forma que el ángulo bajo el que la generatriz corta al eje es constante; la superficie cónica delimita al volumen denominado cono  Esta es una superficie reglada y se puede generar haciendo\n",
        "\n",
        "\n",
        "\n",
        "\\begin{equation*} \n",
        "\\begin{split}\n",
        "α(x)=(a,b,c) \\hspace{0.5cm} y \\hspace{0.5cm} β(x)=(\\cos(x)-a,\\sin(x)-b,-c)\\hspace{0.5cm} x\\in \\left \\lfloor 0,2\\pi \\right \\rfloor , \\infty <y<\\infty \n",
        "\\end{split}\n",
        "\\end{equation*}\n",
        "\n"
      ]
    },
    {
      "cell_type": "markdown",
      "metadata": {
        "id": "8sDORGA9unPX"
      },
      "source": [
        "**Superficie cilindrica**\n",
        "\n",
        "Otro ejemplo particular y relevante son los cilindros .Éste es el caso cuando\n",
        "la curva directriz α es plana, y las generatrices son todas paralelas entre sí. Así pues, tenemos una parametrización de la forma\n",
        "\n",
        "\\begin{equation*} \n",
        "\\begin{split}\n",
        "𝛗(x,y)=α(x) \\cdot  + b\\cdot y,\n",
        "\\end{split}\n",
        "\\end{equation*}\n",
        "                                                                            \n",
        "\n",
        "con α una curva  plana es decir con  τ=0 donde τ representa la torcion de la curva   y  $b$ un vector fijo no  coplanario con  α \n",
        "\n"
      ]
    },
    {
      "cell_type": "markdown",
      "metadata": {
        "id": "Nv2l9IynvxLc"
      },
      "source": [
        "**Superficies tangentes**\n",
        "\n",
        "Una familia más general de superficies regladas son las llamadas superficies tangentes a una curva. Para construir una superficie de este tipo, basta tomar como generatrices las velocidades de la directriz. Así  pues consideremos  una curva regular α(X)⊂$R^3$  y definimos la superficie parametrizada\n",
        "\n",
        "\\begin{equation*} \n",
        "\\begin{split}\n",
        "𝛗(x,y)=α(x) \\cdot  + y\\cdot α'(x),\n",
        "\\end{split}\n",
        "\\end{equation*}\n",
        "\n",
        "\n",
        "\n",
        "Para que esta sea una  superficie es regular es  necesario asumir que la curvatura de  no se anula. "
      ]
    },
    {
      "cell_type": "markdown",
      "metadata": {
        "id": "vcFoYByIxmJE"
      },
      "source": [
        "![Banda de mobius .png](data:image/png;base64,iVBORw0KGgoAAAANSUhEUgAAArMAAAKQCAYAAACM3/KDAAAAAXNSR0IArs4c6QAAAARnQU1BAACxjwv8YQUAAAAJcEhZcwAAEnQAABJ0Ad5mH3gAAP+lSURBVHhe7P0HlCRZdp4JXncPdw+ttUitMyuzKisrS7SoqtYAmhAkAAIESGAaOyDBwQ7PYMk9B8MhBzwcknOW4HBJAgRILMilWmgC3WiN7i7Z3VWZWZWVWmdorXW43vs/sxdhYWHu4am60qv/L/OFPXvvmXBzc7Pfrt13XyinCCGEEEIIISVI2J0SQgghhBBSclDMEkIIIYSQkoVilhBCCCGElCwUs4QQQgghpGShmCWEEEIIISULxSwhhBBCCClZKGYJIYQQQkjJQjFLCCGEEEJKFopZQgghhBBSslDMEkIIIYSQkoVilhBCCCGElCwUs4QQQgghpGShmCWEEEIIISULxSwhhBBCCClZKGYJIYQQQkjJQjFLCCGEEEJKFopZQgghhBBSslDMEkIIIYSQkoVilhDyyDlzZsHNEUIIIQ8XillCyCPntdcm3RwhhBDycAnlFDdPCCGPhObmb8rU1MfdOUIIIeThQcssIeSRcubMokxPr8lv/uaAW0IIIYQ8PChmCSGPlH/+z/vMdGpqzUwJIYSQhwnFLCHkkTI1lTLT3/iNfjMlhBBCHiYUs4SQRwZcDGwkg6mppJkSQgghDxOKWULII2NlJaNpQ8TSb5YQQsjDhmKWEPLI+M3fHNG/GWdGoXWWEELIw4ahuQghj4yqqjdkZWVJc1kz39wck8nJT5o8IYQQ8jCgZZYQ8kiAv+zKSlpzjpAFsMxyNDBCCCEPE4pZQsgjAf6yXhcDh5y89tqsmyeEEEIeHIpZQsgj4d/+W/jL+r2YQvLqq9NunhBCCHlw6DNLCHkkOP6yy5rbbJ2trIzK8vKn3DlCCCHkwaBllhDy0Dl7dqu/rGVlJSX/9t8OuXOEEELIg0ExSwh56Lz22rz+zf/SZ3KSIboIIYQ8HChmCSEPnVdfndO/ELNBgjYnv/mbg26eEEIIeTAoZgkhD51XX0XEgnyW2ZBMTq65eUIIIeTBoJglhDxUzp5dkuXlYH/ZDbLyW7817OYJIYSQ+4dilhDyUPn1Xx/Qv/lcDCxZmZig3ywhhJAHh2KWEPJQmZhI6V8I2UKW2Zz8239Lv1lCCCEPDsUsIeShAReDs2cxXO12llmI3jUTwosQQgh5EChmCSEPjeXljOsvu52YDWnC0LaIekAIIYTcPxSzhJCHxm/9lh3CtrBV1iHjRj0ghBBC7h+KWULIQ2NiIqF/ixWzORWzM26eEEIIuT8oZgkhDwXHXxY+sBCyhTp/WXLGJeG3fxvWXEIIIeT+oJglhDwUIEyXl20kg2IssyArPT1xN08IIYTcOxSzhJCHwqlTNfK7v3tIc7DKFiNmQ/JLv9QjL75Y784TQggh904op7h5Qgh5IJaWMnL37or89m/3ydmz86bs3DlnCk6dqpNnnqkz+b/1t3ZKW1u5ppiZJ4QQQu4HillCyENnfDxhhC34qZ961whaCNnf//2TUl0dMeVtbXQvIIQQ8uDQzYAQ8tCBUN27t9Kk6uoyU4Yp5lFHIUsIIeRhQTFLCCGEEEJKFopZQgghhBBSslDMEkIIIYSQkoVilhBCCCGElCwUs4QQQgghpGShmCWEEEIIISULxSwhhBBCCClZKGYJIYQQQkjJQjFLCCGEEEJKFopZQgghhBBSslDMEkIIIYSQkoVilhCSly99SeRv/S2RT39a5Bd+QeRb33IrCCGEkMcEillCSCAQrrdvi+zaJfIjPyJy6JDI1atuJSGEEPKYQDFLCAnk5k2RykrHIvszPyPyP/wPIj/xE24lIYQQ8phAMUsICSSZFIlGRVpaRM6fF7lzR6Stza0khBBCHhMoZgkhgSwvi1y/LvL3/77I//6/i/z6r4t88YtuJSGEEPKYQDFLCAnkrbdEZmYcN4Pf+A2RF14QuXBB5I033AaEEELIYwDFLCEkkPZ2kcOHRfbsEXniCZG/8TdEFhZEbt1yGxBCCCGPARSzhJBA4B/r9ZFtahJJp0WWltwCQggh5DGAYpYQEkg8LpJKuTMuuZxILObObMPv/M6qSe+846wE01/6pUWdqiImhBBCHhIUs4SQQBDFYG3NnVH+4390hGxnp1tQgNOnZ+TXfm3ZpMVFVcAKpv/tv63Jz/7sPEUtIYSQh0Yop7h5QghZZ2pK5E/+ROTdd0UGB52Ys4gz+5nPiNTVuY0C+J3fmZZf/MWMOwemNS1qimjqQYHU1IRU6K7Ir/zKTjNPCCGE3C+0zBJCAmluFvnLf1nkf/lfRH70R0X+6T/dXsiCkZE5/YuhwlbcBL+ELk3tmiZNWly8oimheUIIIeTBoJglhOQFrgYYxvanfkrkwIHthawDrLLLmu64qU8TQiAgjbhpWU6eLGplhBBCSEHoZkAIeagMD6/Jn//5uPzSL112SzYDEfv007Xy679+RGpry9xSQggh5P6gmCWEPHQWFtJy/boTwwui9t13542I/a3fOmYEbE1NmXR1lZt6Qggh5EGgmwEh5KEDwXr6dL1J1vpqyw4dqqaQJYQQ8tCgmCWEEEIIISULxSwhhBBCCClZKGYJIYQQQkjJQjFLCCGEEEJKFopZQgghhBBSslDMEkIIIYSQkoVilhBCCCGElCwUs4QQQgghpGShmCWEEEIIISULxSwhhBBCCClZKGYJIYQQQkjJQjFLCCGEEEJKFopZQgghhBBSslDMEkIIIYSQkoVilhBCCCGElCwUs4QQQgghpGShmCWEEEIIISULxSwhhBBCCClZKGYJIYQQQkjJQjFLCCGEEEJKFopZQgghhBBSslDMEkIIIYSQkoVilhBCCCGElCwUs4QQQgghpGShmCWEEEIIISULxSwhhBBCCClZKGYJIYQQQkjJQjFLCCGEEEJKFopZQgghhBBSslDMEkIIIYSQkoVilhBCCCGElCwUs4QQQgghpGShmCWEEEIIISULxSwhhBBCCClZKGYJIYQQQkjJQjFLCCGEEEJKFopZQgghhBBSslDMEkIIIYSQkoVilhBCCCGElCwUs4QQQgghpGShmCWEEEIIISULxSwhhBBCCClZKGYJIYQQQkjJQjFLCCGEEEJKFopZQgghhBBSslDMEkIIIYSQkoVilhBCCCGElCwUs4QQQgghpGShmCWEEEIIISULxSwhhBBCCClZKGYJIYQQQkjJQjFLCCGEEEJKFopZQgghhBBSslDMEkIIIYSQkoVilhBCCCGElCwUs4QQQgghpGShmCWEEEIIISULxSwhhBBCCClZKGYJIYQQQkjJQjFLCCGEEEJKFopZQgghhBBSslDMEkIIIYSQkoVilhBCCCGElCwUs4QQQgghpGShmCWEEEIIISULxSwhhBBCCClZKGYJIYQQQkjJQjFLCCGEEEJKFopZQgghhBBSslDMEkIIIYSQkoVilhBCCCGElCwUs4QQQgghpGShmCWEEEIIISULxSwhhBBCCClZKGYJIYQQQkjJQjFLCCGEEEJKFopZQgghhBBSslDMEkIIIYSQkoVilhBCCCGElCwUs4QQQgghpGShmCWEEEIIISULxSwhhBBCCClZKGYJIYQQQkjJQjFLCCGEEEJKFopZQgghhBBSslDMEkIIIYSQkoVilhBCCCGElCwUs4QQQgghpGShmCWEEEIIISULxSwhhBBCCClZKGYJIYQQQkjJQjFLCCGEEEJKFopZQgghhBBSslDMEkIIIYSQkoVilhBCCCGElCwUs4QQQgghpGShmCWEEEIIISULxSwhhBBCCClZKGYJIUXxb/6NyJkz7gwhhBDymEAxSwjZlv/230S+8AWR3l63gBBCCHlMoJglhBTk3DmRs2dFYjGRsjK3kBBCCHlMoJglhOTl4kWRd94R6egQaWgQiUbdCkIIIeQxgWKWEJKXmzdF1tZEfuInRMrLRUIht4IQQgh5TKCYJYQEcv68SCol8tnPiuzZIxKJuBWEEELIYwTFLCEkkAsXRCorRfbudeZplSWEEPI4QjFLCNkCrLKvvCLyX/+ryN/7eyK/8isib7/tRDT4i79wG23DlSsZ+cM/TLhzmE+beZQTQgghD4tQTnHzhBBiGBsT+S//xZmG9ZF3cdGJMfv00yL/6/8qsnu32zAPv/Zry/LqqymZnMxquqppXktr5MiRY9LSEpaXXorKT/xEuRw9St8FQgghDwbFLCEkkOFhkURCBFcI+M7+438s8slPivz8z7sN8gDL68svzxoh69CvSdWwilmRnSgwgvbXfi0sf/tvN5p5Qggh5H6hmwEhJJCuLqfjF3xmDx1yrLGf/rRbWYDXXhtTITuouVWnQFo1QcRiCiB0p11rLSGEEPJgUMwSQoriZ37GiTe7HZOTy/p3QhMssrc1DWsad6d2fliOHCnXKSGEEPJgUMwSQori8GE3sw0/8RMdmlo0B9eC2YC0qvX18tJLTZonhBBCHgz6zBJCHjpXry7KH/3RqMn/0R+NyZUri3L0aI2K2HY5cqRG89VmSgghhDwoFLOEkEfC5GTSTH/yJ9+VV1+dNpbYP/zDk9LSEjPlhBBCyMOAbgaEkEcCRKtfuFLIEkIIedhQzBJCCCGEkJKFYpYQQgghhJQsFLOEEEIIIaRkoZglhBBCCCElC8UsIYQQQggpWShmCSGEEEJIyUIxSwghhBBCShaKWUIIIYQQUrJQzBJCCCGEkJKFYpYQQgghhJQsFLOEEEIIIaRkoZglhBBCCCElC8UsIYQQQggpWShmCSGEEEJIyUIxSwghhBBCShaKWUIIIYQQUrJQzBJCCCGEkJKFYpYQQgghhJQsFLOEEEIIIaRkoZglhBBCCCElC8UsIYQQQggpWShmCSGEEEJIyUIxSwghhBBCShaKWUIIIYQQUrJQzBJCCCGEkJKFYpYQQgghhJQsFLOEEEIIIaRkoZglhBBCCCElC8UsIYQQQggpWShmCSGEEEJIyUIxSwghhBBCShaKWUIIIYQQUrJQzBJCCCGEkJKFYpYQQgghhJQsFLOEEEIIIaRkoZglhBBCCCElC8UsIYQQQggpWShmCSGEEEJIyUIxSwghhBBCShaKWUIIIYQQUrJQzBJCCCGEkJKFYpYQQgghhJQsFLOEEEIIIaRkoZglhBBCCCElC8UsIYQQQggpWShmCSGEEEJIyUIxSwghhBBCShaKWUIIIYQQUrJQzBJCCCGEkJKFYpYQQgghhJQsFLOEEEIIIaRkoZglhBBCCCElC8UsIYQQQggpWShmCSGEEEJIyUIxSwghhBBCShaKWUIIIYQQUrJQzBJCCCGEkJKFYpYQQgghhJQsFLOEEEIIIaRkoZglhBBCCCElC8UsIYQQQggpWShmCSGEEEJIyUIxSwghhBBCShaKWUIIIYQQUrJQzBJCCCGEkJKFYpYQQgghhJQsFLOEEEIIIaRkoZglhBBCCCElC8UsIYQQQggpWShmCSGEEEJIyUIxSwghhBBCShaKWUIIIYQQUrJQzBJCCCGEkJKFYpYQQgghhJQsFLOEEEIIIaRkoZglhBBCCCElC8UsIYQQQggpWShmCSGEEEJIyUIxSwghhBBCShaKWUIIIYQQUrJQzBJCCCGEkJKFYpYQQgghhJQsFLOEEEIIIaRkoZglhBBCCCElC8UsIYQQQggpWShmCSGEEEJIyUIxSwghhBBCShaKWUIIIYQQUrJQzBJCCCGEkJKFYpYQQgghhJQsFLOEEEIIIaRkoZglhBBCCCElC8UsIYQQQggpWShmCSGEEEJIyUIxSwghhBBCShaKWUIIIYQQUrJQzBJCCCGEkJKFYpYQkpevf13kP/0nkf/6X0W+9jW3kBBCCHmMoJglhARy5ozIt78t8tZbIt/5jshXvypy9qxbSQghhDwmUMwSQgLp7xf59KdFfuZnRH76p0VaWkRef13k2jW3ASGEEPIYQDFLCAnk6adFXnhB5MMfFvnIR0R+9EdFxsZELlxwGxBCCCGPARSzhJBA9uxxMy65nJMyGbeAEEIIeQygmCWEFAU6g7W3i5w+7RYQQgghjwEUs4SQbfnWt0Smpx0f2v373UJCCCHkMYBilhBSkDffdKyyn/2syBNPuIVFcvv2Zp8EzPvLCCGEkAchlFPcPCGEbOIrXxH57ndFXnxR5OMfdwuL4OtfT5o0OJjV5S/pdE56eurl+ecdNfwLv1Aun/pUzOQJIYSQB4FilhASCAZJOHdOVICKfOxjbmER3LmTkb/+1xdUxKbckj5NC5pqNe1Cga4zKr/2a2UqaGvMPCGEEHK/0M2AELKF27dFfv/3Ra5cEentFfnP/9lJX/yiyK1bbqM8vPrqlArZYXcONGvqdqcgofXTJhFCCCEPCsUsIWQLsZhIfb1INuuMAAZXA6SLF526QgwNzevfUU2DblrRlHanmB/SNCx79pTplBBCCHkw6GZACAnk/HmRpSV3xqW6WuSpp9yZPPyX/zIk/+gf3ZI7dyBegVf9Js3fvXsr5ZVXnpOengozTwghhNwvFLOEkIfK4OCqfOc7c/Lqq9Ny9+6yfP3rU6YcAhbpk59sMSL2r/7VDlNOCCGEPAgUs4SQRwJE7eDgmvyNv/GesdK+9FKT/JN/clBeeKHBbUEIIYQ8OPSZJYQ8EmB9hXD1uhJQyBJCCHnYUMwSQgghhJCShWKWEEIIIYSULBSzhBBCCCGkZKGYJYQQQgghJQvFLCGEEEIIKVkoZgkhhBBCSMlCMUsIIYQQQkoWillCCCGEEFKyUMwSQgghpCTAoKXelM1mtyQObPr9B8UsIYQQQh45fiGayWS2pHQ6vSmlUimT7HzQMv4EQUu+v6CYJYQQQkhB/NZPr+C0ItMKT5uSyeS2ydvev05v8tdb4eoXyEgUs99/hPSLpz2eEPLIePnlt+TVV6flpZea5JVXnnNLCSHfS7wCL0jsQRiCUChkpnbe4pUKaBO0Dr+cCJIXdv1etisLqgf+Nt75srIyCYdpr/t+gWKWEPJIoZgl5MEoVoha/PNgu3X4yzCfT0SCQnXALzT9FFOWbz5oWeCth5CNRqNmnnzwoZglhDxSKGbJ9zPbiciHJUS9t3J/G/9tvtBt3ysU84lG4K8LalvM8oXWU2id+ZYHtiwWi9E6+30CxSwh5JFCMUtKFb8oDBKSXvH5KIQo8NYXe8su1K5QnV8cBolFi7eukKgExazXluVbLt86gpYDcDWgdfb7A4pZQsgjhWKWvB/4RWGQSLwXIQq2W8f7LUQt27UpVO8XhCCoDOQTkcBb5q/PV5evnX8KCrW1eVhl4/G4yZMPNhSzhJQg4+PjW25IIyMjZmpvqLZ+eHh4S1tvHXiUl4Hf+I0uuXWrXPbvX5Nf/mVnexZ70+nq6tp0c/LemDo7O00eeG9S3nKAura2NneOlDL3KiKBf/5e1xFU7/1d3MtvJF/bYtaxXZsHWbelUFvv79CLt9zfJmgZlG3Xzjtv80FlwJ/frp1tA1eDSCRiysgHF4pZQt5HvKIUYtTeUFHmFaF+QToxMbHpAh6uqnXWhX9Zp12oskb/5mRsbMwsm1lekOzSgkRr6yXU7AjB0dFRM9UG2lKXceYMoeoaSd69JqmyuFTt2OOWFiY9PqxpSCI7D0q0rt6UXfuLF2RhrFlq26fk0PNfM2Xr6GdI3r0qXfu0fVu3KcrqfqLc7ItO29va18vxmTNL846Y3XtgvRyfD3UtLS2mDGDeK5LtPPCL4fZ2ZxvkwblXEQn8bbarB9u18f5evPntyNe2mHVs16ZQfbH7WOz+Fbu+7fD+fizePAhqA4LmC7UJyvunIF+dvw0Sfuvl5eVuKfmgQjFLyCMAAhJCET8v3GQxtYLUK0ytKIUYHblz07Qta4WoyznLm1YqeheWzTK4VENkoiIzMSLpiSGJtvdIdNdBp6GHsBGzG2RXFlU4Xpfc8rxET74osfpGtyaYcGW1JPtvysrAHYnuPKCCdq9bk5/05KisXT4r6UhUKp/7uLGKvPc7TTJ3Ny71exJy/Gf63ZYbrLz9LRXZ81L21EekvLFZxemiW7MZ7D/AZzCfWz9DNBY15UbAu/ex3JK7vB7Xzo4OI3ZXZ6eksqnVCOOctg+FHZFshXBra6u7iLOS7u7u9ZshRK9fFH9QLcB+QXg/IpJCND/FrqPY9fnJt1yx2wX2PAfecz4If30xywbNB7UNyuebAuTzlUPM0jr7wYZilpB7xC9Uh4aGTN6KVKSpqal1q2vYWEE3xKkVpmFXlEJYQXimVZzCShnaf0KqejZbQsNVG8IUIhNAOCb7bqh4m5P4kVNS5lo2C4FlVi+9LZmymJQfO23E43bcj6BdufiWpJq7pObwk3L1P3Wsi9kn/8dpt9UG6wK4rEwqn/2EEcCFsO0Tje3SdOK0W7pBdmXJzTlAHM+9/mWpPnjcHCMrioFXCBsRrDe+nArclkjWWIpxI2ytrpT2zg5tEpL04pyx9MACjDorcq2l1yt63w9rr1cU3o+IpBDNT7HrKHZ9fvItV+x2i8W/jH/enr92avHO58sD//JBbYPKAPLFtPeXb1ePa8p21xVS2lDMEuIDYhXgtT9u3BCrEKr2pg2hOrm86oigimoVqSPrIlXvDBJS4QmBmlVxhFfuZS0dEttzxCwLrDC1otQCEbZ25Zwk19aksmunLnPYrcmPXSa7MCuhA8dVBBcpNlXQZlXQQmxGWjb7ngZxP4J28fp7kq1tksEzP1BQzILtBKoftJ9/5w0V8U9LdRH7s3L2VXOMIk99WCoaN1wRvFgRDPGLfcH35he/mSW4QOjX7ApfWH7Tk8MS1jwsvRC9OV0el1VYe3EztVZeCF2ve4Nf7HpF4f2KyIexDi/F3h7ytStm+e3aFKp/0P0D3rpi1+cn33LFbrdY/Ms86DryLe8VhBY7X0x5UL5Qu3x1xbT1tstXB6tsRUWFKSMfTChmyfclsJrCUophEfETgFi1Fla8+o/U1Mn42LjkyitNuzFYU/XGn55whEv5vqOSq6jaJEjta30rViGK0lOjxu80tnO/xDp2qvitMnX58C6TbdshtbsPFLXM2tV3VASvqgjeVZQITk+OqGA7pxf6nJQffeYeBe3BonxosY3F6xek950floXxloJiFtj2sSIFM/Zn8ep5qTv5oW2t0jhGK2dekdXyKml5/uNuaX7M8YHgP/Vxqa2tdUs3wPos+L7WLr4lue69RiijDucRRC3uqR0qXuHa0FpdpTfVsLRUV5rlIHYxROeuXbvMDRfzELjINzU1mTZeIDy9l+tHLUTBdusoZhv52jzs/St2fX7uZ//uZ1v+ZR50HfezPChmHVYE+gkq95fZfFAZ8NdvNwXIb9cuXxubr6yspKvBBxiKWfKBxitacfO3onVyclKmVtYkk86YDkWTS6syltIfhCtOI9WOgLFi1QpVCJeVgbsSj8ek4onTxjK7HRBd6bEhvaiqcNx7VEJN279+xjLLKhzL4/GituMVwVEVzqHufUW8rncFreh+HXt0gva9f98kS0u7txWzwAramgNPFOU2YSyui7OOv21DYZcJrHvpxkWp3n+s8LrdK+LSq1+Qmfp22fHkaS0qfJlc1rYL1U3ScepDbomuxmvRhcB155O9N4yICOs5BjG7Y8cO/SBL0lxZLq1tbfpdLkhzc7O5CXd0dBhrbk9PjxG48NX1WlcLXb6LubRv1yZffTHrthSzjntZn5f72b/72ZZ/mcdhHfezPCi0HOr8gtCLVxyCoLbFtrnf6f22wfWQHcE+uFDMkg8McA+AawCEqxWtsLJOrySMhRVi1lhZ55eMkLCC1XSKWlmQqmc/LuHmDlNWiJXhPsncuCBlVdXGClqMCISQWr10ViJ6bY0XKRzXl6mqkvieI0WLTQjn1fJqaTpwdFurLraR7Lt5T3639ypo3/1/x2RhvFkquhbk2V/e7M8aBNafvHPFWIyLtbimy6KOv21AgHSvEM0Yd4a3HWt0qxPZIB8ZPTbTF89K0xOntG3hY4/1Tn73W9L83EtStu16sQ9nJH34tNTUOA8pcHGwYhfCF58LN2D462I/eg4clvp4mfHVxSUbFlzrsgDh29DQYALEe8l3ab+XS34x67iX9fm5n328n+096P76l3lc1uElX939bMeLVxDavKWYsqD5e50WW2anQXn8Xqr0Woop+eBBMUtKkgsXLhjRCsFq3QOMtTUbkeTCrAzfumGsrZEd+1W01klYhacFVlZvhyoIOvhIwgob363idBvhArBMQkWwqACJ7Too0d2H3Jr8eJdB9IFYkcusXjrjuDYYAVbcvi1evyjlxnr8bHFuCvC7XZp3BWRhMQYggFcG70j1AXSqKtzeRjMorx+WUz8/kr+950q0cvaV9f3ZXkjq96f7n2jslMbjp9xSL5svccuv/jnu8BL78A9KNLpZAPpJXHnHRE4IPftJ85qyEM56s1L18o+4JWYzgay89ueS6jkgdXu2RqEAVthC5C6/8nmpOP2xdZ9enD/GgqufG5bb+nhU6urqzEhHmMfN+/jx46YphK4f/yX/fm8B+ZYrtL772daD7u+DLg8exjpAvuXutXw7vMvd7zosXkFo8ZYVU+dt46/319mpN2+nxZbZqb8efrPsCPbBhGKWPPZY4Qpr6+DgoLk4X7lyRaSxXUZGho2l1XS60osVOu1kl5eMb2t2akQqTr18T+IUojHS3F5c5ytXBEJ4RFU0xzp2FCUcl25ekvDcpPENLWYZ7Jt5Nb28YDpgFesTCxEc0eOCqAVe8R7E/Qra9PigivlDgdZIaxG98DvNMtcbl9q2KTlw/A+LEqg4prC46petQu7lbfcf1s75d96U2pMvFGcZ1c+61LZL2g4/4ZZuBVdG7Mfq2VdltqFLuo6fdGuCyUyNqvg9J/HDJ/XzFbEPl89I7tTHpLqm8GeD8I3pOu3nskIXneBwiE1EBp3H+Q5/XJzDR44e1e9ywVhy4ZoAa9SxY8fMbwQCN99lv9Dt4H5uFf5l7nUdD7o8eBjrAPmWu9fy7fAu973a10J4BaHFX+adz1cOCs1vV2enhcq3y+PtRXX19q5hpPSgmCWPFfBxtVEErKvA5cuXjXAdvHDW1MVUDJkLkwpX4Le0AoizVVhbtZ0Rp0UKTQiEZO81s0zFPrymL8JXVZeB9Q4vr8qL8G9NJpMiI33uMiF3me33zbgQjA85IvheBK0en/jeAu4Q7hUAosgraIt5CEj13TAPDrBObxVwzoov/E6LEbP1uxNy4Mk/MiIrfvSUirPtLK6O6Azpsal89mNuaX5SKq7x3Tnr7tIbt1sRAITn9IUzrgvB9sJz8rvflObnXi5OKBcpUpdf+4Kkeg5KHTr5FSBx9ZyJKVz50g+7JcGk+m8YSzI+v17a9ZxZEFldMh3LslNjcuTIEVMGMesXuEEdzvy3hnu9VTzo8uBhrAPkW+5ey7fDu9z9rgM86H496PJevIIQ+OeB99W9rSvUztvGkq8O03xlxZT78xCzfpccUvpEfk1x84R8z4Gf682bN41o/bM/+zN55ZVX5M133pN3b/fK62ffle8OTJiOWVPxGlnOhU0P8Ux5lVQdOCbhuiYjYkOxrWNvo6wMHYL04oXX0BBcZfGK9Q5eQWCZSL3e1ENhSavYzMxMSjheXtAqaJfBNDncW9Qy6FG7dZn4ttspgxjVfUv2XpfM4pxEaxtEyra+MrMWUYh8uFhk5mckrdsJR6K6ngpdJvhCHorG9Jg1SS6dMscL84X2CZjjlUpJStcfikYD24+/WyVrc2VS3pCRzo9VSNbsz13TFoNFBIF7LkYwg29zeqRflXZOwvWFO3iFdV9S/bdU+Ol3raIzFM0/JjuOTXRt2RxL01aPbz7Mfo71O6LddQ3JJwpwfqUG9KGjLC5xHJsC4LPnbl2URHOnxApsHzfg5NV3pEzbFfo+wrqOtD7wlO3YL9GuXeZ8wfezVlmrv52QDCwlpX92Qa73D8qd8+fk4q07MjW3IJfefUfu3Llj3HSWl5fNuvA6Fp/RJhtJ4XudgH/e4i33pnvZVy/+cu98scm7nB9vu0ed8uGv8y/nT5ZCZZbt5i3+Nl6C2oPt1nMv4PpLMfvBg2KWfE+B5fXWrVvG6grx+tprr8mrr74q7924LV89f0Xu6g13IhSTyVBcVitqVTwcNDdl3MQxhehYG7wjsjBrbt6Fbu5oa0SjiprM3JQj6AKsuH6wDIRGem7aLAMxEdlOSEHweJYBkW161zv7gmUmdZk+iWi+kNgG5vPo/qRUbGf1M5UhZuqWTk8bF3n4CmPfUxhmVrcRSqZVOKuoz9Or1whaWLxVoOJz5JKJbT9HWbkK5NUVI6RgYY6EyySUSUlIRTHS2MX6dTHbdHJFpKZBUirgc2MD5hikY+XGEh8Obw2bs36M9POKEdfB4teCelhHM7OTKuh2u6WbsTdBfGdYrzmOnbtMWT6wH7DmJvWzmYeIAoRVPEKkOudEAfGp60zB2q6fq1AkBrNt/UxLS0tS2Z1/P3GeZ+enZXFmZr0dypBw3iBZgbswPCBLoaiMhitU4C7KjYEh6R8elb6+Xum9eWNd3A4MDJhOMysrK6YnOI5dsQn45y3ecm96XISonbd4y78XKQh/uX+ZQinfcfWSr94/Bf42IKjeYvPFtAHF5L34y/3zuGZ6icfzPzyS0oRuBuSR89577xmf1zNnzhgxO7m0ItnyKjl/7YaEq+vMa+3E3IyUd+xwwlBtgxkpq++6uUDh5hw0lKufTW4HGMSgvafIV/s3zCveQJ9Y3y9HL82SW1kyo3IZK57xie2RnH7WQsAH0rxO1zyiKUDAbwfEDT5PBBEV0GnNdbkAoTUVjBb8vNeW9QFgQFJ3LmllRD/7Lkl375BoKuE0cT9IIuHMl7nleG2vB1k/+z4z7wdL4dVgOLFiNgNhFunZt+mVI7j65qdlYaJZalunZO9Hv2nKcJxkpFci+nkzdY4FEx2YQuYoqGhHpAn3BoRLFD4vXpHDnQHlxgKqghugQ0fKtVBDEEfmp4wlM3ryI5KtbzHrzQfWi9f4sSMn9Vza3oVg4d03pQZ+udu0hZ8rvhNEiCiE2f6Vs9u6EKDd9NuvSO2HPy3lKkbzYdthfYV8A/GZFxeXpPnZl8w8zkH4mhv/W/1ucKzhnpAZuCX7jj9pzpXDhw+b35ydNjZuHQ75fm4n/mXu95aUb7l7Wd/DWEc+vOu41/Vt1/5B6/3Y9lYEFpraPPDOb1dnpw+aL2beX4bY0bTOfrCgmCUPnbt378rs7KwRr+DS7V4Vr5XyzjvvGL9NCBVY0GA1hNUJonHmznWJTw5JfPehooUmfELhsxlpapfyfUd0mWL8W0fMa2hQvveIhBo3Yr5aUefHWM/Gh/UiqE/0e/RGnjdO7MbyEILmVb0u5CxTeCx/7BuECF57h5vbpdIOyuAKRcPqkhNjVOchOmBtTWj7WFu3hHX9ppk2DiVWVdTpRVuPrSnE6/SZGV1XQjIqSvA5kuUVUh7Wi3l5uYTdEbESyc1iFstj/xG7FscGotkLysKhzcIVlkiIM1gnrc/ttW98yITmQgeww5/4timz4Bgh4YHEbg+Yv27eHgB8ZjxYoLMfhGI6lTYNIVaTiaRpAyEdi0XNscSxStc2GrGbiZVvepWP/TTb0nMGFtcUjuPRp4sSqdifYsQnRgYzllBNhTAdvIoQ02i3WNMsbSefd0uCQbvUjsK+uFb01n3yx83x8WM7ma2+/uf6sNEs8fpmaakul6weq0OHDpv6Q4cOmeONKV7d1tfXr4ugeyXfcveyvoexjnx413Gv69uufTHru5dt3uv+gULL2N8kWP99eqZBeXCvdd56r/9sUDtbBtC2UBt/GRKuGTXb+LST0oJiljwUvNbX3t5eWYpXy9nXXjEDElTsOyaRnc6NdaMDjXvauaef0ymq1xWNORNXNewVjWhmr1+eMxaWUwhA9NpHr/qwx0KZD/jQQgSGVpdVRDztERv5fwq4+a8vY3qrFxYoAMsg5BcunnEVSn5Rs25BhUhNZ8zW0T6l4q58zyFj0YWYNRdgCFPdNl4Xwipp4pJiOF33mOC4YXlrpcYy3lfcqRvXJRpxRMuxyUHZMTEkU/WtEo+Xy+1jT8tER7eEyje/ejPbVCDmU2ZYXt3/rj0FLZ0A7gawnkd3HTCf+eLvtsp8b1zFVUKO/8KE28rBHNer51T8Vut3cWp9n62Y8pO4ilBZzrq94g9C1w++Z3NumP3eK9HUmlOhx8acdzoJqZg1DzkDN00eIhnHFSPAJVXcQwCn8arefAfVprNf+O4ViZ78sGTrWgKFoKXYjlvmGNyDdbb1s3/NzOe7cid1uxDSlS9uhAgLAkJV9h6TijzuGCBx7lVj9a5+8gXznWAfcNxwbFtaWiU3PSYHD+qDiD4wYQphgSmstg9DgD2M25N/HQ9jvyzFrOteP8OjaP8gnwPnfrHToDyw80H1xdZ5y6zYBUH1/gT8opfW2Q8W9Jkl9w0ErO249eUvf1nOD4zK185ekKF0WKbidRJpbDH+eqlUUsrKK6VKBVPG+EV6Lpx6UcFcBK+H65slrOIgPTMlCYiGTFrCdfAlzH+hNb6AKoDSs1PGXzCHbcUrAvxIN4BgwrbWl1HRUgYf0mh+YWKXycxOS2YOy6w5vqK6TL77gOnolctIcmxIslhGG6KjlPFfhUVypM+80oVAyOo+QFTpAZGyhhZ9CFhwxHOsXEJ6DEIVKvJUbEFgoqMTOr/hs9uOPrB0Q2xAjJXv2CuRjp3OsdEUUlHc2tcv+5aX5NmxQTk9MSrHpiakeWVZ9sxMSvP8nIQSCanTC/sMHgZwHDzHwnS0g6gb7Zfk1JiUNzTpU0mBY6XbzKWTzmfV+Znb3ZJwfWbbTjodjCw4rkjo5AXf1RgszGXRdV9Pf8LnwfEyYrdzt0SbWt3vxvms/oTOZrh/le05qutuXS+HbzDeCpiOX9oAgtecC/p9hPRYRlTkpxfnzfeXzWQluzCj3/2UKvukKcP3l1qYNW1S0xOSSaxKRvNh/c5D+lCH44fbJqy+sCRjH714zxl8p0ZMY3/cB4ggzHc/1rdtO5C69q5kO3ZLWUX+2LjoTLk8PWmGQN6Ku4P6eRODd6R872HnmOmxc869ZklU1skKOpZNTcuN996VsVxUrl++KONDg8bXdnp62vjbFuNrmw9/nX+5Qul+/UTvJfkppo2XYtoHtbnXZAmqQwrCW+ef5iOo3isogXfeWw787ezU395bBvxt/MmW2ykSO4J9sKCYJXnx3wzw2vbixYvG+vqNb3xDvva1r8m7KmC/cva8TITLZaqiQaI9e1Rg7ZUQRtiqbzHCLKWiNIHOPnOTEqptdIWQ56LnyRph0qBCU7eVUOElKkbKaupccRV8IXXEDESvJ3JBo857BJkfp3OYttGbMcQR3A8iEKcFXBWMmIKQs9vBMrqvoaU5I0ThZ4jy1NBdsw+Z0QEVAykVM9WSTawZQQsrp7EQoCOTCm4jSnSb4frGdVEGgWo6XeGim06pWO2Qsp0HHCEBIeaKGbMsPqMrMnCBhnjCPiCSA0QhSKuoeOndb8vxkV55QlPZ6rJAUpa5HbRaVaQ1qeDuVJE7o/sxH9AZCfsGMZNRYYPPEYVrQgFBi88huu7kwB2Z6d8jyeXKQDELsG4kCNr07KRkW7rMjSYIfAdoa76zmXGpaO1c/5x+vG1XVWhW7jpgymy5TVbgIo/vER3H0CEsWlvvfB+Y6gNSRG98EIfhWojkackO3hbB+ayCT78pI5xlcVZyELn6wIIHEijajD602I5rIf0t5AKOG4Q1LKrb+X8X0w7uOzgP1tIZPT6F3lSEZOXWJceCnu944+HyyhkVxnpO4vdhsecdHnR0nxJ3r0niwFOyFiqTwfkluTU0KgN3bsvU3Lz03bopMzMzsra2Zs5RdL7xXleC0vdCiCJ52a4+iO3a++vvJ1mC6pCCCGqH9KBYQWixwtASVO+degla1tveWwf8ZUH1durN+6feenYE++BAMfsBJUiIosyb0IEG5TZhHq4CNuHVP8pggcVgBZ///Ofla298R16/cEXeuHZb7t68LtPJnFQfeUrCOw+aMEoQCl4gGmPN7ZINl8mK3uBlakxC3tBVm66vzoxZpqlNl4mooB0SUdECC6WzDC5CzoUI2OuzESgQdHqDNeGuVKCFYdWE4MsDloFYMTdsRDuA6ND26/vmAS4BIRUqsKDCkgtXgKSKVojBzGi/c4xVvEDQwCqJ/cXNPlTbYDp1wfKH9cJyrFdSKd9zWMp25BeomOJBIJfSbQ336R7kHEvwNhZRfH5YRCE4TXsVynW3b8on331DahbnBN6wGyP7O2C+XD9H9dyM1M1Oy+U8PpnYf1jBk8N3HUtzNURe/rHOjUDMZWXifJWeSw15xSzAupFwTNfWVs1nzyewbNvs+JCK5CWRxrZt20LQZkJhfTDKH4nAHHs931O3L5q8eSuA81mTM6+fBwmfS+dzq0vGXzm+Y6+u1xG8eps03xHOAYBzENZe6zYBn1OcJ4gUgU6PYX0QSurDRUJFYGT4tnnYy+n3Bp/nIPBZ0gO33PM0/4MX6lO3Lxm/8HwixkTOuHNZRPfdPDAGoecT9jmnv0VYwYPAOZftvSbp1h6p6Npp3g6E6hplNReWodWU3LzbJ4Nj4zJw45qx2CIyAuJFY0S1YoRtvuRlu/ogtmvvr7+fZAmqQwoiqB3S+41XBNqpxV9u23rbBdVtV2/xznun+dqAoHbeetwD4TLldVkgpQt9Zh9T8EOzePMWiE8v/jbb1YNCba5evbouZC/e7pVoXYNcGp2WiN74IFphaVrqvyXZyWGpUEETe+I5kcoqvRK7K0DG5O1UZE0FZuLuVYmnExJp7pRoO3r6e1+Dri+8nk2ouMrees9EIQirIIR4QMeodQJOX1gm4SsZUvGCG2sU4/tv16FMxUYC0Q7gPrBjv7nRQ3QY65oSTqxKSAVGLl4pGW2b02NlBQ0stIgBGmvXfYOfqwoOIxQCMPvWd0PCKo7LDp00+7cdpgOaHueIfh74lW73WbANREfAK7Tooafkk3/xZTml88XyH//y35CbxgK9mcSa43MKMSUqaGsOnZDV8vwPC5a+L55QMXtQ4vUjsvNjb8paYk3K84hg00FPU/zoM6qwnXMj7oYR8/fiR9vlm5ekbOd+qereUzCua2ZqRJbOf8f4fhof2gIYX1I9r6If+sGCryHNd3n1nISOf8hxvTBsPh+dyACLsnbuVTN6m7XQZpYX9PeVlLg+uOF3hmNbmdS2GX3IVFGI7aIt/FXRUSUZia77KqeuvaOffVQqPvpZM5+PtTe+KLHDT5uHqXwk33lNlvRn3/jMi27JVrA9hAVrKNAG68nUNknF/mNuyQbGvxvHAPuj529TpT5kzo7L3s52OXBAj4mKif3795sOZMVSzG1ruzbF3vru5Rb5Qb6d5hOH/nnv1CsUvXnU23nvMjZ554G3rbfM5oF33razKagMiR3BPjhQzD4CHlSI4it5GOvwUuzXjGFiz58/L9euXTPhsy6NzUi2sU3KG1ukDKLQAEuBM10ZuCNrNy9KZUWFRPce3RhNyTRwt7k+yZle56HhO5IZH9KLiUhsz5GN6ADr+6hTm1UgBjIq5iAecAHCyFzofLOBp7GLs4zjCgAhbILd6+fwEkqsiOiNNp3OmLYQGLmhO87NX/cFYZ4ysCKraDUXP1j5XJHq5GucHvaw+rn7ZkIxFSGcEToKIDSVFcGFwPrRoQixaPGK2S9Q1lT0m+mcM0V7RFTo1AePXzmvy61utYjChu7ELdjMLRWFv33shNQ0bFgx0dFpbc1treuK6gNJKJuW6YVlqayplfq2jc56TW2bj/Nrf/KkTE+0SmXlHTn2oa9KvLp6Xcyajn8+1qbGJKGn8/zqmjS2d+r6nHVDzE5PjJu8ZfLqeyr8IrISrZR6TwzWmcUlN7chhtHJqqVnl6x1Q1Q6NzB0gMP3Bb9Oex7h+0yqgEvtOCS1u4LDkllWX/+iEfSNp7cKPe9vDkIO1t340xvtIHQBzgeIPRh1Tee5srhxQ4EVHA+AuNmuqth1BLM2woOXnj/lH/mhgsIcIhREVdDmA+4Is2dek+Yf/Cm3ZCu2Te0n/nLeDm/Y1qIK3kKiePm//45EP/tzJlqGsfbqgyCELd687OvqMIIWFva9e/duK2yLvZ4V2w7cS9vvV6wI9Of9QtVOvW2C8t4yECRIvXl/mX+7dt7fzjvv3wY7gn0woJj14ReFQULSW+YXlcBblm9572H3t/F/JcV+RYXaFaqDcIVbAaywN2eXzRRkF+ek8umPSkQFJ3BWgT+abF7/r81MSuL2ZYmn1iSigjfasdO1ntp2APn1GRWzw5K8e8WEV6ro3i1lO+ED6NRv7CuWcbMKBC1CKEWSa06v+l3OaEybGllMkROfNNWny2DfevabY21Eq24D1laIw3QmbdpBWJqLnooIiEEMAWrGxHcjMRQC7WENRdgxxEItZA0DVgSvDPcaYZdPBHtFKraR7L0hlU0tkuvYJfNjI6YOYH2gKupclCFEIZaOqkj6mbe+YzpieYGUw+PAqKZVTVmfSPkvL70snR992Z1TMRuNbTnKa0sLMtHXK4nlJdnz5NNS3+qIzsbWza+j//U/UIF8RaRn15J87DNvSHVzi3TvcUTiupj1rHxpflZWVRj1XnxX6tq75OBTp9arZyY9YlYLMQ+BdeG1b0rH3v3r+zCztKzrmTN5vcyZv4tzM9JQFpaxlaQshcrMa26wnMpIk+7zMkJ9uWQmRqUypL/Tzt1S4XaQitdvjasKobd667JU7j9W8DtHOzs6VyEBinYpFaqxU4j/qg+1eo4APJzhzYDzWXLmQQUPVthmuBouB7UmGoP3jYBdV/k2FtyVr/6+imz9nRfYL7TJnHxJatzj68cK3kKi2FnHi7qOjeOEz2WFbf2SPjjnsnJoZ4+x2O7bt69oa22x10jyYHhFoXdabHlQnS0D/jJv3i9CgbcM+Nv4E/ALXlwHnIdZUsp8oMSs/6PkE5IWtC+0DOr888BbZoWrdz358oUo1K6YdWzXJqgergQQrhCz0tIlVybmJGpGQnLaJm5eULGZkood+yS675hbrH90XTaLP1h3CqJk8KaK1EG93YYkvv8JkWa98TmrMsuYGee/ycMaNXvrqlQlliRdFpOqQydU0OnN2O6rmeCPXUi/DxVOqd5rRthFdx9yXAjWrZrOcniFj3BX6ES2MtjrxGodvmt6/adVgEFwhhrbzIXM+5rfezOHOExgIAO0UcFQjKuCEZsYMAECvWtnUSJ49so7snb5nFT17JZsXbMZuMAKWFAVc8SpnUKgQmRlI1EZv3NTOvYdlNr6BonGnFfQjS2OkLRW1Z6b12Xff//jzWJVP1Ojbme/CkY4UVzp6NhUn62rl28/+aTUPPGkEYgG59BuYXZ81IhOHKfdT5xcF5Ne/tX/LnJbxey+oyI/+XO3ZKT3jrTv2S+du/e4LYIZu6ttVSx3qPDt2JWvrbNj1996UxIry7Lz2JNS3wLLcE6WFuZNXdIdDALz8FkevHFd+vr75Ngzz5njvazlVbV1m8TszMSEVGSSMjo+IZEuFbR6w7P1Kyp+110l9JzAQ0lDLimpQ0+vjw4WdHM0Vld0AHzuUwVDesGKGzUuKJvFJV7XA/jf4reTeOc1p2Oga2XGoYCYxQMCfFERUix78TsSO1lYqGI9EMaFLLhok83jRmCB5TX3qZ8OHKwB14jkO6+bATLwZiUIbAMuF9j3xlxK9u3fJ40VcWlpaSnKWksePfid+6feZPHOW/EIvHnUe4WlJUiQevP+skLr9KagMiS6GnwweGzErH83gnYLZbY8X713WkjMok2QUPWv1zsf1Ab5YpYpxHZt8tUXs26LbYvBDDCULKIS3BmblPM3b0ukfYeUdexyLKpGHGjS/7DMLvXdlKwK1Ghdo1QeekpVlf7odV1mbfaPu278zYwNSPLWJSPy4927JQqr7npjtLWz5q/eeBMSnp2U1RsX9AYfddwOrIXLabje1uDmYaFddyHYc8gI6LTur/FxXV2WSCQs2XilrAz1Srxjh17g9CKHTjH9N/QCFpbyo88UOZCB48MZ0gskXBUggguBZVaH+8xY/maMfBXB6MVtX//DBxhCCPsIYEmtSK1KWWpNpmfmJFIWkX2HNgYnaGx1tue1dsJKGspmpPfCu1Lf3iGHnnle4vBXdg7YJmI3b0jd7/625HziKTYzI0+PjhpXgz/dv1/qPBfzlY+8LL2dXTKqYrKuo0u6VdDGtgj5jW3NqaAdvXtbkiomdz3xlNS5+2z510bMhlTM5uR//keOSB1VkdqmIrVzly/GqVntxrrHVfiO9PfK7qNPuCJ1A++nXdOHnJtnvmPOg11wkWj2uqFsZn5iXHqvXpL23fukfac+vG09bMbiu7a8LIPXLsnkzKwcfOppI3ABxOzMpBsvV4/L8sKClM1NmJB0sPSjDL8QK3bhywuBBgEL31LEdi0PDIflgPMNobUQA7mQtXft9S86YlbbGIHril2I2agK8VQyZSKI4LefU0GOfVgtrzU3bvji2lerdnv5LLhYHvXYRszjJuFn7Y0vSbJHH67yuGZgHdi3qhPPuSWbQT0G7qhSwYwHBMPshDRKyvjXwlILYbt7d/64uOTRY0WgzdupX1TaqU3eeW/eWwaCxOh287YMBIlhbwL+NnQ1KH3e12gGEJNIuFjaqU3eedsuX4JwCpr6l0e5twzYeYvN2/JHlbz797BSoXXeuHFDRlW8fOELX5Cz/aPyrbfPyfjggMT3HpHyky9KuLYev2qVAor7Bz3y421dkomUydrAXZEphK+qNGG3zIXBNHMuCGZZTRieNqIicVmFQHZiSDIzkxLF61nE8/S0w1KYQrzhFWm0uV3SY4OSQzQAdIzRbWTRQ93ukLY1CXOJFXMxwvj7iTtXTaQBBG/PQCRi9CoVEOhNjZ7nGE0srmLXjMRU32xcCBBCK7eg24GQLtBpaD18l04RHSEz2rfuK+sH1tSlsSHzyj2rx2u+96Ys6r7Njw3L2ki/qqMxqUgnJLY4I3V6zWwKZaS7sV727uiWg0ePCQRjVWWFNFVVyPFnn5cjTz8jh1RAde/aY1KTCjmb6puapU7FGvw951V0Lc3O6C7GpdxYtXVnPCnd2CwRFZsh3a+cXqxtyuqxbJmeFtgPh2FF1Iu5HlSTln/oR6RKRSwO9+TQoLR068OO2/loA+d3Asqrq6WmsdHsR1QFW7WxoG3sxNuvhlT8hVSQizz7UlaqGxr1G9XzUv86bT3oueqlqr4BT9zmDQHyW3A3U6YCv7yqWo/HhCxMTUrrjgCx6LYtV+FfUVUlvZfOS7We95j3A0tsje5bDbafTkmnrm/vkaP6XeyW3Xv2yM6dO6V75w7Z1dMj3W2t0tjWbgRYc7xMdnV1SvnaslRn0xJWAYiIBSsjA5LTsvSSPuzoAxY6VCHUVRqRG3yxYE3Egv6b2mbZWPjzASts+vZlSXTsNv60NjIGog6YASD0e0Wb1J3LJg5uVH+7a5NjEl1dkpWZCSnTfUMkgnC8QpK3L5nfS76OiyCt6zFvaPIAMW0Eb7v1rd8M6hDRpGKna+33AXeDtdVVqdilAt39LIgGspINyfDiigy8d05G5xZkenxM5ubm+Hr4fQLXbTv15vNNbbJ488Db1pJvGe80KA+C6vxlFm95obcl5PHnfRWzEFlegelPVpx5RZrF5v1TsF27fPVByVvnzXuTBfn7Fan3s5zdpnfeYsusiP393/99uTa9KO/MrMpCU5dEu3fL6vycZFQIYnCCMrgE2B87/pms/tH/MdxUEC8W1sXJESMCo3rTyyFkkdvMLODOhFRYleE1vorA3MSwiXgQqahQIWjD/3ja4i8uKNFyM8gC9hnDzYamRyUSr5Qc/ADRUUvF59pwv2RGeiULcZhOSjaRcASq7h9GGsN+xQ8+aXxpbdzQ9Vew7mfDPJbBdkyvfJ0ipBJCEHnR4nUgXrFMSoX5Wv8tM1rXyvy8EbDj579rhKuomC5fXZDI8rxJ5ZGQdLWr8CxXsTA3KT3t7fKkCtR9Bw7K0RNPyqHjT8qxp09vEqoQjXV19TKrN+v5iTEVfU0S8e2X7pk7FalubJKK6hoVnP2yoKIWFtGygAtyRkVZ7MpF5xi4KaciILy4KPV6DPGtjMHyq+XpnbskofuJ7UB0VqhAtOI0m3VeryPsVEbFZVofOjCNlEWNmER7WIj9wvfMq2FHzLaInFYxC7LptLl5JFQAwT1gdWVV1lZWJKHiLqGCxqa07l+1HpO4Cr4yxJPFx/cmDxCl5SpSUVHXvNlv1wsWw36uqiCaHRsxncLygXbluu3hm1dN3lqoo3qOV+g8RHGtfu6Wjk6pqa6Saj3P9z6h3+/BQ9KzY4cRuu111dJQGZfWipi0NesDlh6/BT2Xd3Z3S0p/T8ujQ5KcGJG5kUFZ1geitP4mU/pZEfItrucAhGkQ6FCGcxgdxvz+vBCpJpyY/g7g+x2tqZOyvUdFH2VMXF64KYRzGWcAEH2AzMxN6W8q5YQe0+uBfonumhyMwFYxa+rtb8oHxGpaRXKsZ69bshmEwEtdO2988INCqWH5xNT4JrFrQ+7B1Wfh2nsyHq2SvvEpGe7rlRn9ncBNhKL2e49XBPrzFm8eFGqDqb98uzp/mRc7720XNLV53A9wPbLzpPR4X8UsThyIOC9WhNm8n0L1/vKgdt4yb7Jl3inwtrHJElRn03bi1L+8F2+5PxUreiFiv/nNb8qrr75qROz1ZFhFbLdUIFRPbYNENIUaWs0rcNw0wxkVJfA9hQXV/tjxz2RDKl6rJNzWY6xUq/23VWyOqECtFMFrVbeNSW4eFteo3oTKmtrMyFE5vVlCbMZUfGVxo7TL6AbMp0c2poJWRTP2IX3jPcnCGqoiNT10V3IL05JemNUbrt5oVUiHWjr1JtesonyPEebo/Y0bdHZ+yghjWFC3go3qZ9KLFpbFccIrVliEjKD1WaUgViEuEnrDn1fxMTc6LDltG02uyLLOV2cSUptalZ0tTbK3p1sOHjggO7q6TDKiVUXhwSdOGNFTGYsal4GWzk4Vhw0SC7j5wncLAhXWzanBAVmeg6Uz7go0y+ZzBVZRCNrVpUVjmbRizpuydSpkhgZUvCKIv3PMYYFd1X1om5yU+mRSJrTN0r4DsvrCR2QMn3t2VmZGhlRgLhvrL9KcCuxpPQYLOsX8Aqygmhrbu8ymIGK3WnBVzL5mxWxOnv2o/t617dD1y/pAMKtpzqQlfThY1unqgjO/nhb0oUE/W6OKRYBPZFjPbAaCs9YVslODfbKsnxluABkV3qurayYEFs6CDMS0njNJFc+N7R26vjwrVLDOKT1+i9OT0tyd31IKwQ2Xi2n9LLDgwrpb29BgojF06UOCTe16DiT13N63s0da62ulOpeSFhW69bEyfRCak/p41FiXyxdnZFmP85R+Rwk9BsvLKypGs5KR8PorUQjW0N3LzqAGeWLtog1+40lYcFs6jDhEXNlwXaP+JpNGuJrIHGP6kKiYtyMqLAW/N4hi94EqN68Ps3oc84WTw+8qe+tCXusthGn26llZ69ofKD6t2C0/eMIt2UxWPwPClpXv2GestUPjEzLUd9dYanEdg6it0IcJ8ujxCsFipjZZguq89RZvO4u3rXearw0Iauef4jeV7zdEHn/e90ETcCJZQesVY3685d56fz6obrsp8Ob9gtHiLfMnu4xtZ6feVKwQ9RPUJl+6deuWscT+8R//sXztze/KfDguS7ufkPIjp4yANaLR/HEEarS5w4hIWIayg7ekDKK12rWgmt+40xaYEZBUnGYiUVmDBWlqzBHBWmbXacDUZLU0Dotrm9k3dA7LGVcFCEeIzY1lrPU1rW0y0xPGOoWezbippqbHTViwsu59RryWaXJi3eqNHOJbgasCrKcZFbQQnHBVCJtBBlxrnmHzsTVWXV0eLgRrA7ckk8kaAbXQd0umr12QpbvXjFW1Ir0mjZGsdDXUyX4Vp7v27JWGqnKpzKbkxPMfkmde/oR07d5j/FptqmtqMoIVllIjUFXkQQxCBEb1mMT1xruO2S38cZIRpSpQl2ZmzKviGhWatm7zJ3CIqDAth+VMhVlGHzbg67k4NaFieNakyrp6ydbW66EOSUYFdUiPTUhFTFbXXTUxITWZjGRq62TwL/+EpLt7ZOT2DbM5WEwhAjPaFhd6fFOYmos+pvqZMN2wggbt3WYxe/pFR8ymkykVf1XrCdZPpLh+Z94Uw/mj3yE+Q1703ApiZmxExfCCfo4V8zkWZqbNSGApWIJ1Oq/iFMcEonphdkZq9Xuy+FcJoYoDUIOR5czn3Joiejzwvc4MD0r7zvx+nWiTQgzjxJrsf/LpdZG7a88eaWtrk56OdqkrC0trT48kxoelLLkqTdWVkpwck6TOLwz2yvz4iCSnxmUVb0f6r5uHs3wDHxirKiy42tZacCEsrdXTWD5VoCYvvmXcDMwofatLztsPFbbwTU/pQwZiMBtLbufuwJs+1gfrLUZPswLYD4btTTW0SYWeb36s2IVPcdD68dCJB13Emjb7rWJ8JReWkcVVGbp1Q2b09wVRa4fQJY8OrxD05+088NdbvHngb4OpTRZvHhRTb6feZMvs1Cbco+BXTkqTx0bM4kSyotYLyu3U5oG3PGgKvGX5yu3UnyxB5UHzdhpU9yDJK4C3E8OISvBHf/RHcn12WW6lo5Lp2C0IqARRF8VoQXqz0ANu9stOcdOIYehTFZewoK6NDrpuB06YKmB+7Cbj/Ikh3mV9i+5PRnJ6o4Ofahg3e1dYmnZmWU2YwOKK0YO0PqU3ZMErTc0jxFZmaU5vgFckPXTHWH3S01qvdbnGdonvOiiRti5HfOmNtay5zdy0Hdx12yn2UZcra+0yo3RlYXHVFNUb+eaBGRzgGgCL66LeAGFxXbx9TapCOUmpQC+bn5T2ypjs6emSA/v3mZ7UR544LieefU66VbS2dXdr6pGs7ldOxWNaxV40bjvU4HvfnIzFtaFRhW1cJlToLKqgbd3p6Z2v350fWFixTEy/t6gbbssy2d8rKypSIZrgXgAL6oqKjeTqiorXOT2Ma7KsAg2iFrsAsZlV8ZBpaVWxukNybh4W22Q6I+1jo1Kh+/6dj3/SWBPhMlCv9XWe1NjZrdM2XZcmTDXBAmqtoIU487pHzMIyq1SpODVJ92U9XyAVZvPxs4cTorFcz/2qmlojRvH9IOZsWKfhiB5T/T0Z0aQLwL2hIU/YKYB11TRtHuZ3Ss8bRMxAdxVM4TKFmLtRXX9lgFjzEtP9WZyZMm4LRii7wG0Bqa2rW9r1u4pk01JXWytPPX1K2moqjdtKcywi5ZmkVGeTklARrl+8lC3Pm86dGf0c+EGY0d88wJ8VYb5iPfkjSCC8VqROH7z2HXNErbHcYsQ7faBR4Y11QoziOoRQdyvJtBGtXuEJ6y2uF3BHCAL1YW0fhQN1AFbs4rz3A2Gd1c8XdX1y18W4XqsWhwekb3pOxqdnZHpogO4H3wPMfcFc57fmLf6y7ery1XvrvPP+Mi9BZcBb7s3jvMa12tuRjZQOj0U0A8Q4RUgWP16h5sVbdr9TgHyx5d4yEFRvp4Xa3StB6/Jz8+ZNuXTpktxZSsoNFbKxnn3mpoUBCtI335OVvpvmol5x9JSE2np0RfiPP+avmaIks6AC6dpFiUyPSryhRds/raqjxrR3/2xZJjUCP9Z+yenNFP6qCPFlsPtq2rt50H9d1gbuSG5pwVw4cnrTTOlNKqTLlXXsMO3L2rGPG8unx4ckpYIXFsiwitvITje+rKeNm3En8LsdkeUbF8w2orrMcta5YM3fvWGm6JTVs2+/YNCEymjEhLRq6+h0BMrykhx+9nnp2rsRWsvzCdZBD3r4tqLTES6A7bv2SrVP8PiZnZyUhfFR2Xn0uFsCgtau5Cm+/e7bKq6qzPYxxefFBTnuCgCv1Rd+pGizvirPOuF2EBsckI/9438oGJfqD37p/y45T2zZbVk/7oX5jX8cldvXwrLvcFZ++R/4f+eb11F4lcVt737AgwAE5r3Qe/mCOe4VKvJWjYjU50XN46ZYUV0tWUTN0N9dDP7i+s9v9YGYHbt9U/affsEt2QraXDv3thw+9ZzUeCzHK0uLprPUtD6ILOt5MHrjqqQra40L0Uo6a2LnruiDCqjdtd882CWvn5eKj/6QxFSkBmFChw3cMoMx+MEbEnw3yXdfN/PR1k5Z0oelKFwUqmskU9tsQnJh5D1Tf/ikmfpBxAKQrz7xxpck0XPA7LMfLIvPWn/qo27JBqhLqbiN1zVIVh+ImyQtextr7jleLSmeIEFo8955O/WX2zzwRxewU287b94KTm8bbz3wr9PfBlP/evgAVLq875ZZC6waXiDcbLLYfFC5t267qU123k4L1RU79ecfZvIDl4LXXntNvnPhinxzeFbWuvZJ5bHTEnFvVngFDCGH3vUrKt7SKvBgqQzX4JWzaeL8iM1UU7zC3KRgGV0buC0yMWT8YkPVeiMw7dEI//HHSXBdwPpSQ72SnZkwFtQYrKHGL9YsJJGZMckuzpuQXbmhu6YzWQ4uBLpf6bEBie06ILETLxj3hjC2BcyiZmO6/TrTOSyjIiEx3Cup6QnHOoxXme42nP0xGRMGa3VhXhKZrIyeeUOWB+5KZGVBypbmpSGzKj3NjaYX+rEnnpD9Bw7K8Week4MnnpLWzi6pUzEaUdGUSSTMK3t09IElz4CvwJNMp6f6BjNdnp12OkBZQeRri5RSwZPTBzcInYWpCZkdHZF5ncLvFNEJ8oHFDW4Gr/dhEYXFtbHDsZhi3loxIV5t2tqBbAOE60qriI9fvSKNU5PSsLIigx9FsP7teTYWlu5IWIb1GFsCTlHD2dcjMjPlWGaf+ShitboHZOOTve/AReBesS4XOD8QcQEWyuTqmukYh9/Vij4sJHDeq+jEQ0+9L2QZzhWIaMd1IRi0WZ6elPm5OWnp3IgSAF9qWHDhjwsLbi65Jg2NjXLo8GHjewurbV1c9295TprqamSi765544CR0RJhLdf9zeg+Om8THIzP6qW3JNu5a4tl17gl4I2JPvyZDpE79pt1YBS4bGJNUrOTJkoC4jNn56fNdUfKtp57RhTrw2ukM9j32LoSBFlusezS3IxUBViXsRystvE9h01nsZVcSIZm5mR8bEwmB/poqX1EWBHozXvLgDcP7Ly/HAQt620fVOcv82Lnve2Cpt48XQ1Kk8dCzOIEsq/QAaaY9xIk6rztvfl802La2Km/DHjLgZ33pkLlXoLaINnjsF1CB6///t//u7xy9baM6UW74tgzUrXXGanLKwTxJ6biETFV1/RGC6tFaHVRIip0cHOyP2KnOTpulRm3A8RTTcxMiowPqQpLGDcFRC9w2qKxuxyWipUbtwTsO+LMpkcHjO9tTsVjCjFn715x6hZnReDbh7i2Ow9IpGOnZBfmXDeClG4TNzCzIw5mG84M9hW+txm9Ea8O6o15btL44zodvUKO28DsjEyc/45MX31PGiUp8XRC9u3aKW0dHdLZUCNVkpGnP/KiPPPix2TPocPShFfojU1679TP5X5F6KwFUaoHWcYH+40/ZXVdgzkuwdorZ6yfELXeV8vLui/wOUWnoZmxYVnQ6ezosHEHSCUTsqLiJK3TiAp6fJ94fV8sEKno2R/U2erecD7Qqh6/He+ckQYV1aNHjsnqFmGNdk56LpOQ7ssX5bkrF6W7v1fPj3Hp3tkjfStrKuqCO0+cfb1sXcye/mjGCAuviMrH1MiweW1fDMWu82ECoYnvHAmCFG4IVbW15oEIrg0QTmUqcJFEH978bgqgkJC1wGKM366NORwE2gzfuSWtPTulY8dO6XJDiMEHt6OhzvwW2nt2yEzvbYnoA5XxvdUHqfmhfknqb9OI21iFhBDuTh9Q0FEsH5mBW5LbedAITgzGAF/dMjycmgdYpz6iv00M8hDKpCQcCuMJzCxrBPP183k7icGVIJLNBHcy0wflpcE+qd5jR/7bwIT1UjFb7opkE7VEr0mIa3vj7NsyPjMrsxPjZt68pWJHsYeCXwh68Zfbtt52QXX56r1TYNsW08bibePN2ynuU3Q1KE0eG8sssEIOUy9eEWfxzvvz/mkxdcA7X8zUpu3mg5KXoPp8CdbY119/Xd7uG5HbOQyD+rSkyyslip7IEJ3oka/i0vw8N/5IGXwv27r0nqo3rb7rkh7ucwQtrLRo5f2Rm/ZVRmyKCq70aJ+kR/pUoOq63c5haG5amsU0F69QQdsuoiJz+fybElYhB9eDzOqK5FTARjp2SHSX3gAx1Cu2CSFqfGnbzPe9NnRXMgjrU99kLDMGs0+46Dibwb6V1TWaiAdT735bUmODRsAu9unNdfiuVCSXZWdVTDrqa+XEk09KT2eHPPfyJ2T/0WPGjSCuFyn0+kf8hCoVqA76XWz+OoxIRD2K5yYnpamj03RCWsfXHvgtoCO3rhnRih768KmFGIafpiN+6k2HpsaOLpM2OlDdCxs7oadFAVCZLzmk9Tzo+OqXVOyLzKuQnTniPBTBJ7cC8Wc9/PjSrHQvLcjbM/PGKvvcgs43N8of9/aaz2VEvw+vmD1ybEIm+u8aC3JQWy+D16/olx7eVtAuzUzL2ECfOabFCNpHKXxh4bVpk9gNELLbAXGKTn0p/c026ANWTm+w+fbbWnBn5+fNGwaL9cGFuMUAFeHVJX2wq5VWFbhNVeWS099rZnHBiNtxFbYQtWUL0xLfvTFwhxeIRLgapFt71v1aHd/VZsd/Va8RiJwA8YrfLOI/55aXnEFC9HcdjoQl1Xcjbyex7Sy3cGOoDBhBDMslVTxbMWsJ674twK2pZ78M6YPXSH+/zE1NGittgztKHrl/Nt03fHk7D/z1Fm8e5GsTtEy+Mm858Nd52wTV4X5E62zp8diIWZxE8J29FyFry4Km25XZPLDzQWUWb5ugFNQmqGy75MeWz8zMmKFnv/a1r8l3e4dl7cDTUnn8OYk3tZrevZJYk+U710xgf4w6FVaxiLuJ/jzXp7AQxRr1pqMicnHwrqQmRiSSy6igRMcXp51+EWa7+D6MVam101hFk2PDkpudlLAZNEEFrWlm1i4yNWz8bRM33nOsc/oxQroPmelxXXeHxA89JWHEnXX3ySynU2RNtAPdPiyua4N3JKtCCWISobbsvtjpfO8Nmb97XRbu6lT3pzkWlqqVOZHJYTl6+JAcUhFmxOuxJ9ajCjiaLSdxvaEj6D4sMxiCdVVv4JU11Y4LwZbD7hQgoD78UNFJaQOt29J+Kym81oRo1YSwUghfBdHquAFUmoTPGfCVe0BlvnR/jN6+YawOMc9r5BweXK5ekVa9yZfpse5zXQ2GVEziyJfphd0Kz5D+RodVFH139z4Z2rNPnmtvgb+LLMWjcnV6KlDQesXsiWcW9LsblTUc/zzi14JX99MjQ5opLGgT+sCEkFgrKpqwzkJC1QrfhgJWTgvaFuNHi3MqqPf9g4LPHtavenZiwri+4LxdXlw0kT6WllckpoIRHc/s58W+4uqJtw150fZpvcY++cKHZdfuPdLV1SVt1RWmY1kstSL1VZWSUmE7v7wsyxOjUqa/d3Qq87odoKMYOpMGuQJA2JpOYJU1UrZzvz486x5F9EFwbUmyc9OSHRswrgpZvabkqvX79x03WG5h2Q0aChrrTl1/VyK7Dm893umkrI4MbBmQAdZiLBN98sNS1tgiy7o7IxOTMgULta4DFlpaaR8MKwKD8hZ/2XZ1/vrt6vxlFpv3llm8y3nz0CC0zpYej5WYxUnkFbN+keedBpXZab76fGV2Hnjn/VO7b/42+ebzld1runPnjvzFX/yFvPnmmzLRsV8qn1ARqxd789vTP7goQ9AifuvKUJ+kEZ80GjMWUNSjnf41+4LjHKlvNG4E6EASUSEKnzdYaSUKfzKnnZna9dc2GFGbxY2w/7rp3QxfWohbCNjE4G3T61kPkITbdxqrS/zQk8YKnJ0Zl8zYoAkDZmLSGmxsWXcb+gejhMGXdm1xXiLjesNLpYxwnh+4IxNn3zQiNjwxKGXTo9IWL5ND+/fJsWefl90HDho3gkq9IcFtoELFjB5xrNTFzevE9NJvbjElEArNnd0BYkpr9X9qbU33ZVHCOjMx0Gs64tSuh2Vy0K8mLxBVcd0nWMwcqy4a2/TwWZotTniN3rph4teirbf9qh67nW+8Kk2TEzICV4MWFan6AfGqH2GsqlzhOaQiZEi/V8tzrSqcLl+WI8eOyecHh2TVdOxTYeQRCF4x++FPxyWmQn5OBS3a2vUGAYtmMYIWxxjHGuvMZtJSA3/qPFjhm9P1wRWgEP2X3jPr3u64wt//UYhZ7B8s42WRsPvQlTUDSeAnM6vfE6J/zE6MyYoeR3xm7GtBIesCi2+VPgSb1+36IGPi4OoDys6du6Szs9NELsjp+dTT1iJV0YiMX7tozi+M3gVRCzeA9Mxk3sgICIsH66oZatdYbJtNdAT49ZprqArPlP6ecqvLUoZIKHgTY34j+jWrYE1fPy9l+dwQrpyV8IETW443BDLiXwdZbbFMRgUwfPlhPc7VNMikntdD1y7L/Lye23oMaKW9f4IEYaGpTd55b94778U7721jk533ToG/3p9suZ0i4fx6VG9vyKPhsXIzwEkE6yzwijkv3jLvtFDeO2+nxZYBXIBtvbfOm7dTf76YlA/UQch+/vOflwtjM7KU0xuwXqzNqzTzGkR/eKal/tX/sNKGmzpkVcVKAr3/s2njuwq3A9MWjd0fLTqCIYwVRGkSobGGe40bgYkxa9qh1XrGDHkJQZvpvyGJa+9KZnFOwvOTsqLbCrftkJiuqxwDMqiAtvFs4UcLCw7iVCJeZkSFBtwKUIndMBcOs3bnL7aPIVETY8MqYF/XG5QKo5kxFbf9sru1WQ4fPiwHDh2Ukx9+UQ4eO6HiFaGiWk18UNyUEFsVa8KgA1sEkuc4G4trTc2GONKqNRPaatmI1nkMl6nJxCRV4T4/MW7EWa3xJXXXk/9r+56DDkaT/XfNQAAQ7PnEIYCQTC6vyKweK9gdKtxjgI5gFW5HsNjUlOkIBjGJIWcXpyfMwAWImeu16ILnluZF5uZE9u2Td2MVZkQt+AtjO1YE+n1mjUDUerSFoC2Ll+t6gzvm3KugnRkckGw4kleo2nbj/b0mrm0hoTo9POBYZ/W3gpBe+ZhXcYyR0LYTvfeKdVfYcFVQcaniFvmysBW4GfNQ2qCCtBjw+eGOgEgLdfAN92A7lUHcxUI585ajXh8cY6k1qVNRG1malfnRYcktzMraxIjkWrqM5dN/04d1FYIUfrVWdFpXBPjYmt+OrqMMw2KrsM3Nz0oCKaNnm56/mStn8kY7QOiueM9e085PPjELyyxi19rhSk1fAU1jd2/LdCYsM/rbwX7Sl/b+sSLQm/eWAW8e2Hl/OQha1tveX+edAm8eeNv42/vr7DxdDUqLx0rMwqxvh7cFXqFnhZ+/Lqg8Xx24l7JiRKw3b6fblReTsO0zZ87I1958SwarW6XyxHMS6dotyduXJTl0Zz0qgf4E9ceHifMDRHm0vUfSK4uS6LtlXuvBV9Z5xe+0cRfQm5DeoOoa9cJeIcmxQclOjxura1kLYsyahmaKbG5iSEXseaeN3sCQsksqYhrbpfaZF01IIDR22puFzXxE9xGidgmjc40OmBi2ZuQwWGOcjcjC7WuyNjspE2del0zfDanVG/bOzjYztn1zeUz2HzosH/nsj0p7d7c0tbZJzNzInOMK0BkKLgSwgC7OTMqyprrWgA4kG4uokNm4aY3eumYC7IsZNGHeDBIQLdcbu7GM1UutCr2WnmAfvkcJ4sfCHWI7gYqoCzhnpoaH3Nf3deZYBAExg3qEwkOIMFy47fpTKmK7r12Retc6u9biiCe4RMDq6bfoPlselZ63viNy4IC8Xd8kE5GYaZtcWZH5yTGTR1u/mAVGVLqCFgM7OMIyWEhgf4sVtGBK2xWyvKId1od4vcjnE6Eox8PN0uys1OhDUz7rK47NzIjz9gFCOR9jd26aab7tFUM+gYuyYsH2Idzs8fID95ex29eN9ba+qdmMZrZ7z15pb9Pfngrb1qYGSeuDXjQSlvFbV/U80odVFaKw2kLYGneAO5fzxouF2IWAjR1/XnLl1ZI18ab1wVGvAYhBHZqd0Afnbgm5Qwd7wXDSUd0vuDF4KeSCsHblrIT2Hd809j4suYjLW3v8GZmeX5Dh2zdlAW4yek7SSnvveEWgnVr85batt11Q3Xb1Fn+Zfwq89cDbxpu34P5LV4PS4rESswA3ZVhnMbVYgWfLvFN/edC8zQPzmsslqN6WeZO3PChvp0HlXkFssfP50t27d+W73/2uvH6zT8Yae6T+Q5+WMhULscY24wuLDk/JsSGJ6c06jNF69DeoP0kzxR+IVFhvs5GorA71SgbRBfSmAsHpNnFwl4OgRUguuBGkhu9KLpVQwelYdLPjA7J29V2RxTlJDtySsArl+OGTEt9/VHIqXkLuMLWOQN0QzM52zAZM5zDTO1nrUyqKEZ4Lwiihwmv8zGvGMlydWpFuvdcc2LtH9u/ba6xCbT07zI01nMuaVeH1dQQDCDib2AQC1VfXqYhTkZxeW1PxkT/UlR/06o6UV5o4nhiZqL6tU+rbO1UsbPi32s/i/EHenTdl9wZE6nYCFZhhXo2Ymgm0ilqsuIEVdWl60rF2alk+0YT2ZrQrPdfs+o1g1P3peuNVwVLzKt5mjjhWLiP49BjAomtF6kcqy+X5i+e1Mi5v79kn311z4seiLda1qg8Fpq3OXzhbs0XMAtRhXYj4AGsuojRsJ2hH79zS/Y/lFbS2HQRtIeGLdksqXhAyy3w+TX5sOY5pUh90an2WTAs+w9zE6JbwWX5GVCBipLHmrh635OFwL0IWTI8MS1jPX/jd4jzxW1axPoj4nLbxjooGqy2ELRJcHGpUMzbGIvpQO29C780P3l0XtuHEijm/8/nVIgRYbscBKdPji1f/TkQEXS6j55H+phB1BVEQ0ElUd9JdUjc7rr8dLBMwKEM+FwR0OAvtPLRFzGLAlLoDx8ygC8uJpAz39crs6JA0NTVR0N4jXkHoz3vng6bAmwf52gQt4y0PKgP+Nt5ky+zUJtyLvecMebx57MQsgNUIJ1IQttwKv+3mvXk7D/xldmrFJwhq483bqTdZvCLWn/x46yBkv/jFL8rbV65L5LnPSPWxU24rhzL4oKkwXFtZkbXbl53RulSo4qLv/h4V/Bj1Jqs3ElyoEfcxpQISotNEJLBWUdPeaRuKVzoWXL3RZPSmgM5huZkJyS7MSA7W1M5dZijZ+FFnWFy4HURbnM5hqyP9kh28rTeZKicmrbPaTdtAZ7Ksfr6F2WkZ+4s/M8PnhnXdO/RacfDAAdmvIva5j31KunfvNdZXAGtdZX2jc3NV4bGiKQJRp+WbMNtxtoVlEHPVXpCc7bsgb9NGxrSvbWo2ogTJEQebGrtoftM63Xp3UiwTfXdcgRrPK1ABBBcsrAjnhVi0+Nz5xB6AhQ5t0N4M5KD7CutyPuz651SAwI1AVIhV6fnX7HYE6/fEnLUiFZbrl1TAvKTbkNlZ+fbRJ+TNRNr4qpqkD6LpRMK4elhXjWuX21ToxbaI2Zg+dFXquYtwaCt6XsAy1gTrny47OTRorNLehO9zZqhfVhYXjdUEVuiVpSUToaKyZsNSZwUthK89JkGgHfxnl+byuxIYQasPOhhVqlzPjaB14XxBGyMA9UTANoNAGwypm289FmPB1fOpUJsHYXJ40PiCw+92bWHeGYBBvzNvhzLsqxlSWPc1CAxgsqQPW8998jOmE1lrdYVUphMqauc0LRg3pFVd92pZ+brF1ovfcuu4IWBY3U4T/QAdQeFLC5cGREJAPeJKh1Q4wyc3KHQXLLPlx55x5zbIjQ3KWnPXJhcC42M7MrAe5gvbxlvBkRtX9HucNvvb0RHwdofkZf2aG5C3+Mu2q/PXB9UFlQFvHhRqF1RH62xp8diJWetqYC2oXqFnsXnv1NsmKO+dt1N/3pv85d55bz5o3p9svZ36k6W3t1e+/OUvy420KryaeonX1js+ryocgf2RwZUg1tEj6WW9CfXekMxInxPRAO1ME/3jTiF00VkMbgfJwTvGNzYG0QqLh2nkrFNXLqHJIc2EJXntHX2gSDpDzGq7qhd/2IyDbgdjcBZzlkMZhsLFOPFJFczhbErKmtqd9Zl/InO3rpo09ta3pKksJ3EVPU+ePi01oZwcO37CjE+/1aLl7BtGGEI0AYTYwRCtCETf0KY3GafaSS4Y4hUdfIyv4/SkeQVr9gH74mlnWF/WZvwNvPjrNY8Vrq/UqTcWVxVi21lcNwQqfHHzWyMBxAREF0J8rekNfju/WNt+aWFBlmenzGffrv2GAB6XTM9O2X/ujDSq0Floa5f6gX5JaZuUnocVFeXykXhMPo4wS8mkfF73+ysT0+ZYL01Pm4EjYLFbm58xnYgiYRXTKljfOaf7v1wl7R1h+Us/VC415XGTGqrKpVanzY0N0txQb8JQ7d7RIw011cZqBr9Nm5L62REmrkIFZ6Uug7im2BbeIiAk3b7de9bXi9TW2moC+KvClo7OTqmMRU2Cr2lc9wlpQIX7mp4vyypCk2tr+hWGzQhTOMZh/T6NMNdrEY5PRuvhSmCPlx+UQ/whnFhVXV3BNhCrCKGXzyVh5BYsuLPS3JXfyvsgQGzjDQSOBY4PfG4X52b0OKZkRr93HNektmtoyR8yDhbd0ds3pUofBBuamkwnst0HDq0L25qysMyMDsqCPhjBHz0xPe6IWk0AEQ9g+c03OIKJK71jvxkIAaP04aE6OzMmMjMOE3GgmIU/bVD8WkRHSOhDNn4XltDaiiT0euj1sUVMXMSiXS2LmRBe1XoeUdAWj1cIFjO1yTvvzXvLvHjLkMc91N/ePwXeemDnveXeKRKs/P4HMfJ48lhaZnESFRre1ua9U4u/TdC8zdspUj7xHJT3l9mpP1mC6vwJFlkI2VtZvcG/9JeMS8Dy1XfNULGx9h7zqt5oKOeP/sjKpKJ7lxPBYPCuaWc6cKkAdtAfOX6Y5rcZctahwjQxOmBG6zJtaxr0WGu1itisCsXVt/7ChNJBXNiKI6ckrKI0tzQn6akxidY36d04rmsye2DWaTK6AtyYw527JKM3HQjmrIqojN4kEdpn7LuvyOqdKxKfGZV9bc1y4vhxOfLkU3Ls2RekpqFB5vTmCctaVIUGbvbBhIw1q6JehbMeK/SAR1laBROscyb4+/ioeX2Km/P89JRqcD2OLW3OPhqci5O5WK2XKeYzuGkjk4dNjR3M+pBExvr6jDAyFlcIFU8zL/icuLEuzs9LogiBCssf2uOze90C8vnFoj18fWEN97aHG0liacmMRIZe8RCfsHhCJO89eMg88ET1GB66dMmEeCrv75Pqq1dE9HjWDw5IU2W5fFJFpkxOGj/Zy8vL0hONSE+Vfm81VVKn07amBmmsrzOptaVZdu/eLW++GZeZmah0d5XJT/2VGqmtiJtUpd+5TQ3avrm5WUVtw/p8uwpSm+rralWgtpje9kjIt7W0SLtuA6m7tXl9vTZhfTWVFdLe3GhEMxIErc1PDg1ItQr0Fm0n6ZSxVsJnHBE1cnpuJfVhcWp0VB8kZlTfpUyHSpxbje0dqnu3WmvwveI8RM//aE1dYAcStIGVd14fvPK5JEAIL+j3VsiCi23g4am6iOgFfnB+2HPK+tyWhSPm/FtbWV632jZ74tX6wfJ4iEFnO29Hsko3OkJbd7fpJNakDyqd+l3azmPYbwjacGJVspoQRnAL6aRk9ZpjoyGYSAiIsAABrN8FvivsKwSv1wUhO9pvLLv+zmFmkAcVs3Fcw1ywfUR+2SRm15ZNXOm6E8+aEF7D1y9LWh92MBQuO4Ztj7m2+qbeZPHO+8u95GvjLc+Xt3jzwN/eJltmp95ydgQrDR5LMQvrrI056xV8Fn+Zdz6oLN888IpYO/W3C6rzlwG7vxZb523jrbfAIvuVr3zFEbIv/yWpbOuU8uZ2MwztqopDI1Rdn1dnaf2Rmd9ZSOJNbY7bgd44sqN95kZQ1txpWq2DtvrDhN8tbh7pmQnjGwsLTEhv3itvfcMInWx5pUS790rFE886frTaFgI4pTeDlO6DEa2m0xlWpz92J2f+4+YS79gh07evy9jX/0RWpsYljqE00yty6NBBOXrsmDz/iU+ZG531w0PMVbxmhKgzAkIfYBD43lxDnJVvAh294vFyI8CmB/tUOIzIsuYTKoaTumy8pta4C1Q3o8PWLncp7J+bXLDn5kLl3wbmTZnNbDSAANwsHjfXIx/WGzwiScxNTZmaChU0W5q5OIKzQU+IrCM4dblCbgdWfGAfZo1bwJKWbQ6B5aUsqsJEjwvEAzpZ4fuFnzJGZYJIi+qZhIcPSa5Jueqyo0ePSLuev22/+7tSretWyWCEzYqmsr5eqb96WQ5/4uNS8847Iv39IgsLckQF8RFMYzHp0u+3Zv9+R5B6EjrzffObKvTHstLREZYf/MH8NwbvTQN5b8J6CqUg7HKwQNoUx3nqppamJhXYXUYcY18hijtamoxlF8IcqaIsbIQvBN4x/YwQN7t27lSxXO64Sag4NhbfiCNu4Ve6og8PE7Oz0tbRaQZowG/e68cJgQqXhHxiFYIXpwwiVFSp2AyyDCVWVowoRvzkfIK3WOy5heS12mK+ENiu6Uim++sH61ycHJee/YfkyVOnzEhk0eSqZFSMhvUahdBec6ND+pDdvW6t9YJoCLLrkLkXOC4IzcZPFsNgQ+jqE7Ceg/qgHQpLNlZhji9EK9wF/J3D0v03jcgtc69dAJZZv5iFOwM6RdbtP2q2tbSWkJtvfsu8KYSFloJ2e7wi0E5BUL5QO+80X72/DnjL/FPgrffiLffmcU+nq0Fp8FiKWYCTyIbpsgQJQuS9yV+Wbx4EieVC80FlQfPAW2bLvXlLX1+ffPWrX5Xe1YzUfOrHVcjCGuL8kIxQVWG6dOuSJMYGJabiCK/7HbQNfnD630Qw2LFPcnqBTg3cdnzKKjFc7VZXAsRuje86IInbl2X10hlJT44ay0d0zxEzCIOJQWtW6ywHUYsQXogxmRi4Y2JMIjqB94efmJ6QJb0xjH73W1IvKcksLci+vXuks6ZCjp16Vg49cUJavK9MzQbMRly/WBXpelyWJsek3lirsHVcUEx2E9l0ytwEF9BxRz93eV2DEbB1XTukqb1Db6xVRiSY5XzLerdrZvFP5812vGDeJv2zMDfrBFlX0bZVOGw0RoQEdBpLJhMypzdyvDaP67E1ItizXQsEpxWoGN52QR8AinE7gB8nOofBogrR0NRQv/7qvCYek4ZKvMqPyUT/HanT9ujQ0tJQZ8RZe2uLNNbVSld7m7FswsIJ62mtiqLKc+ek8stflgXdDhJeNcPDFWlNU217uyzob2ZJReuCCsUFvcCbpPsb0rp5XUcQX/5ysigx+70mn1hu0eNiU3d3t0kQvu1trUb0turxNpbleHTdCmxFrXWZmBkfU0EYkgkVnIv6Xa0szEtKhfDSsj4cYJt6zCBWIziHA3x18RofURLQoTGoExvOg6SeX3B9aCrQoQwuDRl9KA7aRhA4n6y43Q5zLuK3lgf4SyPSRkNru7HYdu/aI2163tVHI1JfVSGzvbeM7z/eHKzow6j1rYV4TV56S7K7jxghYTGiVo9XVq9Z4a69puNZam5ScvDf1oeN1MKscVvwi9nM5IjE9FrqLS8kZmt3OQMvQEAvXr8go0urUqv7vGdPcFxdsoH3vuDN55vaZPHmgbetJWgZb8pXBrzz3npvmcVb5z0PyePJYytmAUbW8Ys/rzDMB+q87fzzoFgha6c2D/x577wlqMyPFbLXZlckqje4KhWkNjqB+aP/o1W1xqoA377UxLCEVhZdoWoFj9MObgfRjh3mgr9284LxXy3TC7+1pLorlexYv6xcPmt6BK/Gq8yr6BAsnrosXBT0p2va6S/Yyek0HK+USPceWZ2blrSuNzs7KdGGFpnrvSlrKmQH/uLzUrs2L52hpJw4/oTsP3ZcTn7kJSMM8NoVnUycV+9+sYN9x4WizLgOhKMI7aRtsGFn484/bWPLwrqvOLYIldSyc487opaKcQhGg10YyZN1Zx10xl2ntbjai9bmdorOG79KFSSIvgArDYRIKBwUpknFv34GiGt8/RixCcsYEWysT1i/uw3PdiAIKuu2uh0klpeMYEGsU6wLN/3Ozg4jXrtUPFareKqvrpIuvGJ3X503VpVrqjACC/6lEKrwY9y7d6+ZWpHmFW8QcyD9b/6NLI/qPps5B7ywtV22pi9elIzu6/zf+3syf+zYRtJ15xOy4HEVs/eCPUZ2CvwWX6/LRH1NtR67rFREwvpd6HevDzhVsJavLEtiYcFYcicG+mQlkZQyFWLOiF5lei46VlgISjw4TQ3kF7x4TYOOkYWss/C/DYop+7CAj/rEUL+s6bXaHxkB5/HE6LC079ztlrhuCK2t0tGzQxbHhqVaz6doYtm4IEyPjUgmsSpliHU9fFcyTR1bQnvh+garbezUi8YKC9/mMFyh9JqEtw66gS0ji8E1ASJ4s8gNyUrfzS1idmW4f71TGFi6e11yu4/Kkn4P9KEtjvVraUDe4s2DQm0w9ZcH1QWVAW8eBLULmto8QKdU7zx5/Hhsxax1NfDGnQX+vDd5y7x46+zU36YQ+daHkxv57U5yb73Nz83NmcEQ+qO1UnHqJVmbHJXk6IDEausCBW20Y6egt/gKBiwY7ZdYW4+E1l/PoR1+fPqFwsdMb7iJ4T4z7GQElkG4J4wNyNqVc5Lqv6V1/RI/ckrKDj8tlT17JKWC1LgdpBNSBp8zs1ln29hfnZibg/FvU1E69Y0/k6WJUVm4fE4qU6uyszpqROzzn/iMcSNAcmK/Nur9NmQ6FkGQOTddiB6sEcliNmSGjvUX23nshfmn8zFdjxG9W/AsYPDN+6t1ZujqRWMps6/3nW1oI087WI/hr6tfgInlmlKRWV6tDxmeG/dm0KO9zsQddUTwvDmPNzqHuTvibieVWDP+vxDz04P9pjd1Cj6FKnzQ+SmzvCgpFbmwuh46sN8I1pa6WmMpbGlsWH9tjgRhZbFC1SvACrH6f/wf4vVUx60fcSVglU2qmMrp+qPwl/30pyVUvTV+aD4+CGL2XsGxt5bdHjxENDUZK3hjbY0RRbBMwmIeV1ELkTs1PiZ7du5QcVchGb2mIFoALJVwJZhR8QuXBT/FWGchcudGBvK6KzwomVTSRK1Y1ActPLTm9Jq9vKIPiCpsER0C10dn5LytwA2h68BhOXj4kAnxFVrWhzmEOFNhiwgsEJ/lQVEL7lwW2XHAhNNz3A8a9Wek/1TUpman9N4RMQ/rqq5N+6xeB/Gb3hTOS+tWb1/xidmtncJWtE3s8ElJZnPGhxYuKBS0hTH3DFzb3Px2U5ssQXXeeou3ncXfvlAbi7eNN2+nOIfx2/E+IJHHj8faMgtBC58zL35hGYS/TdAytsyetBZ78tr8vbBde1sPIfuNb3xDLk8tSP1nfkoqduyRMKyvehNI3Lpk3AkiPkGLH1J5c5tkwlFZgx/taJ9xLzCDFayDH6MjaDFwQiaVNqNv5XCTOP+GJCfHpGz3IYnvf0Liuw6ap024HcR2HlDBtCArd65Jbm5Kog0qiGM21Jezfez7wu2rMn3tgiT0hhGdm5C6spAc2NktH/2hH5HWzuCbKSynURWpqyrMqvUGH9skQrGBkJiwTFOTMj82YiyuZsNm2y5OM7dMPyP+rc8H4a/0zdtZTdOjI0Zs4kEB1mMTx9ZUYRtOQjtczODPizMDLgSrKjBhPc1nEQNGBNfp9wMRPDJkrLRYB270WKf1uUR8TQTwr4hGJKxt0XGqpb5OOtDhSQUrRBCsqtYdwCtYHyarV67IqoruZHOzpOrrpX5tTTrxQKmiZFS3nWpokDWdVj/3nIQ8obC24/tRzPqxDxVW5CIZS7krcnEeQMzCoh6LlBnRVBkrk2o9zhODA9LS3qHPkTHJeIYSNuhsIessBC8EcT53BYCOZHAHKHQu5wO/AacDWVhyeu5iPRhdDr8phIZrbOvI+9AHNwQYLLp275H27h7ji9wIP2V9QM7qdR9D9c6rkBcIY73WWdDRK1nd4Avr1WzCbYVWlyRaUWFCeoX0gRBRUDKIhQ3XK58wzvTflPiew+6csrosq8ObXQ8gZqN6fYy3dsji8ICM3bpmHlAYhzY/9j63fv305O088NdbvHngb4OpTXbeUqjci7eNN9kyO7UJmqBYowB5f3jsxay1zgZhTzJ78gFvHhSq82Prg8SvF7Qrpk0+vv3tb8vr716Qmk/8uMS7nI5KsWoVeh07zehV6fEh405QVlHtjNxlhBVahSSughZ+tMm+65KZdCyvG360QBvqf4jUMsnK0nvflfTYkKzevSbVH/4BqTjxvOkItt4Wf3UCFwX41q2qoM2ODUqZ3hxNtAP9N3vjoox++xuyfP2C5O5ekdMvvizHTp2WHXv3SywckrX5OeP3iteMzho3U64Ctqqh0bgS4LggYRhcvEaHJRLjpKf1JoRX97VujFnncyC5sxbMmzLsmbOujbLNmKFI1y3BwDbcaFyB1696E54cUrG5MC9RPd5R3NQ96/NuB2GX0BFuyXRaWzA+vI7FFVYgz0Iuxi8Wgl4fRlamJ6W5WQVqc6OxstZXVkhjZbnUV+t3lcsYP1YrWuEWkM8d4FER0pv09MCAJNraJNXYKLnFRWldWpJy/V7f1v2JaVn1Jz8pVcePu0sUB8VsfqzIxXdtXRbgi2v9ceGyANcFRHmor642AhcPQXBT6L153YzEh5BaGLQhn3UW1tuFAvWIezw9OVlwwIdCWB/b2qYW48+Nz4DfNkAnxEV9eK8JcHNAR84p3W7HTucaCFcr+L3vPnjYxDlO6kNuLJuSeX3ghH+48anVBEtrSkWqNzoBWA/p1bPfREqQ6THJzozreTyrF6GAcF7Dd03EhHUKiFk8+MNdAQ8G+EyIcEBBmx97nQ/KW/xl29VtV+/F296btwSVAW+5N8+OYI8/j7WYBRCN3o5gOLn8AjYIv9j0z9v1FIPdVlB7/37k2y9bDj9ZDIqwmhWp+/CnnZBbrgiK6E0KghZWwuUr7xgLhBOWy+3I5a4jCuHbruJThVR6YlgyS3POgAUeP1rEnl1640vmtV/50WeMewBGeIJvLdwONnQXMvqj1b/oJBFuQmQEp7PX8sKcjJ59Q5avvWdE7Klnn5MTz74gJ194QZrb26Wpo1PlckhvpGPmAo8RujBSFHZzffUucDsACF01PdAnU3pT0KcU01se8XQbdV0tu/ZqC2d/NsDK3OTF0wx7bz6Bp2wtsSaTd296xCa8P91Kg9MYvrYQm4hpMT81YaIK6JlhQlutb9ddzG4HHcyMlVbPh+XpCRPiCtvIJBOSXHV8XOdVPMRUwLY2NkiDipKutlZp0hsgQld1NOiNv9wJTeV03CrbJFzfLwtAWWurLKuYTatQByndr/bRUanWc+huTY2Uq9ht/YEfkAh8QO8Bitn7B8LQnBtVlesCF1NYcicG+s05l1YRhhB3OT3f4LsK31s7+IFBL1uIvYxzNsj6igex4bu3pFoflIN8cxERY0EFqXdginxYYYtUUVMrad2fZX1IbGhrd1t40P0K6fWovmmzKAUhfcCEYH/6+Q9JhQrazLz+plTU4vdpRhdD5BV/jNp00lhnMcCLsdTqwzHCBIaWZh2Rq2VwL7DA97bME5cWoblWCohZRFFYyOnDu/7GEUnl6aefdlsRP/Z+h6k3n29qk3fe4q+zBJXbsnx1Fn+9N3nLvHm8HX0Urjrk4fDYi1lgXQ3syVWMCPW2scsBb94SVG+XD2pfLFgW67HrgHvBF77wBRmrbpVsZY0RnKaTlsdVAIJ2S1gubRvG62rgriusN6VY5w4VvhlJXL8g6eG7RvjmpsdNlAK8WkOorcoTz0vF4acctwOEarr6rnmVjdG77Loc9Aer/8qqq2VhaVkGvvInkhjqleXLZ+WZ556Xkx/6qIrYDxkRi7ZOEqlWgRarrjGdl+ZGh6VlhxsSS6uDDt3MQK/pFFbZqDfo5hap796p6+xw/GU3sbGNdbBC/0o9zZxPgDZ6o1IRK5msiSWKV56w+kT1eGxaYJ2QEyasslrF9YoK1CkJa5NNFlfftvGUHsplzM16XIUARCyGZK2OlelxXpBylcc97W0m/imsrxCuiL1adY9C8HuOfsaECtiwipq0CqnozIw0rK1Jg55nmZ//eam8jx7dFLMPFwhc8wDU3GR8cOtUZDbCkq7nYlrFbWZtRabGRp2RvbSsWkUlrKNzen4GWV/hirA8NZm3oxjCgA1dvyLl9Y33FBUBLggQtXBDMK41PrDdICEL8JZn+M4t2X/8KenevccT2mtaVvUBcm5mVspb2zeF9YKQXRsdlFi3c46Gq2pdP9mccTuAhTYDgRsrN8Jk7cJ3JHZkQ5BCzMI44HU9SF5/VyK7D6+L2aV4lVR275aZy+/IgQMHjIWWBIP7nr332by3DHjzwM77y0HQsv557xTkywNve2/eP/Xm6Wrw+PLYi1nragAzfxD2RPMSVFaMAC4E1ukXyF7B6xWt+YB7wbfvDErTZ3/WvN5auvGeJMeGTKcv4yO7jutO0NKhbS6aUW8iELRW9K5vRsWn8W91O3yNDkjy9mVZGx8xwzpWnfywqUd7uB3AlQCdLtKDtx3fWFgqYPV193vm+kUZffMvpHJ62MSiPfWhj0h3zw7Zs3OneRW41aqD5VxLpd7o8DqzHgMVbOygWbU9LGsqivB9wi+2ddceI2BtFAKzJm/jdUyNk7Vom5nhAY/YRNlG0suPY3GtbxC4GBqLq97I8YIIMTQdPAu4WItrWIXCwvSkrMxiAASfX6xuG695h25ek1ndB4S5iqry3dHZIQ0qLHb1dBufV4Tx6dAbMIRHKRFRsRKtq5PKXbskrBfupKbm27elTsV6+i/9Jcmah5l7g2L20YAbKyz5sNza8GEYPQ2jriGKQlaF7fz0tBnsoaWtXQZUHGKQBIxC5ge/3ZWZqUBXBIjO+bFhFbubB0goliAhux1YBiOMNXbvcPzV9VphRS2iFszr7zO1uCDLc7PmnDWiVn/rSzcvbrKsmoEVFAyxi7dg6EOACCYYKjd565IZntsCMQtjgNf1IHPljMjeJ9bF7EouZEJ3Je5cNW4SJ0+edFsSP7ie23ui/97oL7dtve2C6rart/jL/FPgrQfeNt68ndLV4PGmJCyzOJEQpsuC+WLEo1/A+sUo8AvSILbbjp+g9nAv+PNXX5fIh35IKnfsNT6y4ZYuJ1TPzUsSyWVNPFeDWVwFWbUKWEQX0Lq1WxclpKIe0QZMg/VNhFTQlUl6pF+Wh/slowIMltjKJ18wdQ4b7WMqaCUal9XbVyUzroKwqkbmVJTNqpDt+9IfSmy0V17++Cdk/xMn5OmPvGSGjsUrSgR5N2P9b+pwZnHi8NW3ovOWmXX/uBtVcEhgLa2qawiwwm5glkLjLcfQ1DhZZfTObeODGoX48ls73aaYVKs4jVZVycryshmxCJ+hLBbdEMGGjXXjc8BKi8gCS3qjRGev5tY208u8Jq6fsTwma3MzEkuurotXBN0/cuSIERTvt6vAgwIXgnL9PCZ1dEhEP1P0z/9c4Hm8Bl/a+7h5U8x+b9gibpubjDsC4gvvP7BfkkuLJgJGbU2NiZiwqTOZzo/evmHEblCcY+N3m8eyC2ZHhk2P/2Itt37G796WZCJhfnf2Ve7MUL80dO0wv0kLRC3CeUXSSelobpT03LSM37lptl3W0CLZ2xclsuuwsbxaYLHFcLjR489LKJVw5seHzIhi4f0n1tvqHcBcR71iNnXt3S1itqa1XVLDvTI2uyBH9+6mdTYP9j6IqT9v54G/3uLNg3xtii33lln8dd42QXUQtLTOPp6UlJj1Cli/MPXWAW8eFKrzY+vziVsL2hXb5g//8A9lcDklLZ/5SZSaOtPpq3OnrMxMSrLvhvETi5pBExTTJGRe4aNNenFeUtomBx9Q+McaX1uR7EifrJx71Qw5G3/+U2ZEHYxVb/xoETnA40eLfcGFG1bfUHOHLKuIXrhyTsbefUvic+NyYEeXPP+JT8vBE0+ZV/8AnbewD8sqBpenJnQdekOxLg9bwE47n20ju1FmXs271dthlkJjs4B3IWceNz3438JXECUVKkA3NQPuovgMsNI6FtcpY4HaYnE1uAtoaq6vk7rmZqkJZaW7rUVaaqqlQYVsY0VcUvoA4hevH0QgbKP6gLJy7pzUjY+bmMTLP/ADbm3xUMy+P+CmC2GLBLcEDPjQ09FufG4RMaEihnBuESNsK6urzW8JrlCBglXbFPKrnei9I6lMRmrvw3ILMGDIrD44ri0vSS6j17iymOmMWde0NawX/O8xGMWzn/iMivM2XXhWxu7cMJ2z6tYWZKVjj1So4LVg6Nq0ik87PC7i9oZXFiWj18xsuV5LaxocQavXFIwiVoyYzQ7elilRkT0zTutsAXANN9fxgLzFX7Zdnb/eP++fBtUDf1sv3uW8eVpnH19KRswiokG+qAaF8ItN/zzWvZ0gtRRqa092i3ceVtkvv/5tIyC9FlisCRfRWOcuyUVisqLCMqz1ESNW7Q3DWQ8EbS4SlbXr70lqqNf4wBofrte/JMn5Gan68A9I1f5jph2ClSduaLvhPiNuNzqGKe5+LQ7dlbFrl6VidtyMbnNg3z752I/8uLT2bLxmtJ/ARiOAGNSVax5+aKh1wmqtqdCdHug1bZ34r06dYT27UWZ2wckGMnzruvFZhdg0zUz7zQsZgaqiemF+TpamJs3oSuV6kzKvNDearYMLEKy0jsV1RuYmxiWi1yOEE0quLsuM3ggXpyflwM4eqdGbfEslBiCokH06X6s3Rtz0rcvAB1W85iOjgqHqq1+V6pERWXrmGclCQNwDFLOPB9aihPMYgrbO7UxmQ4HBzeb29WtmYAOISW8nMvyu8TCbz9UAr9wLWW63AxZhdAhFQpQQDL1coQ/ReIPiD+1lXRA69x0wllpEP4jnMpJTYTmrgnxyJWFCedk3QNF0QpYGeyW+2xkMAa4HeONlhr/V60poeVFy8QoJ6zU3SMxGDz9trtNeMYt2K/Vtkhofkv27d9E6mwd7H8TUm883tck778175y3+NhY77633ToG/3p9suZ0i4VxgR7DHj5IQswBPQkEdwWw+H8WKT+Avw7xdfrvtFOIP/uAPZHHHYYnuOyZLl89KRGVsBBYBY+FwraUtHaZzQuoWOnP1eqIYbGCGaozGJYnRcUYHJD02KKmKGqk++WEp33PEbYV2LeaCvXT3hmTGBkycV4TZArPXLsjIG1+XqbdfldjkkHzir/yUHDh+Au8RJak3kUq9UXl93OynNmKwvsERslq4PDtlOnNN9t1VQZiVrApo3Dw2uxB4jtl6Fhm9KOCvk93CmK53bREB2FMS1c+BG5ppZhdyvwtYV+Gri3oEjodVB/tpwnF52nnBDRvfKEKC4eaMQO9VKlRXp8elrb5WjuzdLbV6g7fDwxK9SHR1SfrcOakaHxfRtHqP1lmK2ccXK2yR0EFxZX5eKvU3tKzXgsnJcf0NQtBGjbDNplJ5BWtyZUV/t33StdcT6soHrt+FRAD81SFqMehBMrG2Lmpzum2/qB27fV0auneur6+9Z4fs3n/ARHhILy/I3HC/ZHU9kepa80Zh4Y6KdI8vLUC0mOjeoxIauiNpuCHodQMdwPxituLYaZP3i9nUzkMSn5+UJT1OtM7mB/dOe/+0eW8Z8OaBnfeXg6Bl/fN26s1bvHlQqL2/zs7T1eDxo6TEbPoBO4Jh/l6ssEH41+Gdt3nvsnht99+//k2p/fRflYqd+4xghdUUw8LCumrdBUC8pd2I0ITWwSerDCK0tsGIL4OuFn5huRkVYQO3Jb2yJJUnPyIVe23v243tol1IBfLiwF2zrVhtvcwNDcjNP/j/SHT4jpx48oQ889GPycEnn5K6Zm2rx3d+YkxWEWILr+Dxmi7gEKzMTDuhtfpum6DnFQ0NUqcX99Y9B4w1ZCtYibsiT9bOmNlN5XpTU4GazeZkSreDSARmhC5rpbXgGGuK6s3MDMygN63F+VlZ05stQpvhFaWxJLvtsPASwoKpiM0tzUtddZXpLNPW3LTJ75UEs6Qitu78ealwrbO5e7DOUsyWBhC2cEXAIA5h/Q3hjUVmLSHpxKpMTU7o9TdjhlVu6nI6ZXmB4J3quyOVze2Bbgizo8OyvJaU6iJGjoMVGDFrvaK2Rh+ivQ/Z2WzGhM/Dw6sFEUvKMilp695hRhQbu3NTlpaWJFbXaIb3ju7Y77gTuECQRo88LbnySgmrmA3pdSGrD/URbWeBmI0ddiIeIL6tV8yuNXVK+bT+HlTMfuITnzBtyFZwP7T3RO+9EfjLbVtvu6A6f72d99cBf713Crz1wNvGm7fQ1eDxpGTELIBQTKU2BtzECeYXj0F4xSfwzttl/W2C2G47ftD+jTfekN5cXKqf/qgpw/CMxmrae12yY4gju0Ov3nrxN6sOSVlji4rcHbJ665I7KAKiGGy81ktcPWfcB8pPvSThmnoTGDy3vCBlLa6vrUfyQeCFuvbK6He/JbMX3pb5G5ekMhKSH/wrPynPvvyJdb9YAKsrfHhheYHPbY2NSuD7yFN9d81IXRCxLbv2Setev4jNd4xQ7tSN3rxiLgSOz6peMMw/kzUJkQjgEmBiv6rARtxWuB3g5uU22QDfiabyCscvVu+4JoatHW2rrqJCYpGwNFbEZG16UiqzKeloaRYMMYqIAxic4IPs9/qwQAi4+Fe/ajqCraqQTd+DJYpitnSAxWnd17apSeprnegIcONZWVmVWC4jK4mkNLRsjvEKoQk3HeOG0LjVDQE+tfg9B9XlwytqK+psFBIHlHuFrMX4zeq+Pfn8h4zrQXp2ShbGRyQxMWKssPB9tUCQJpq7JK5COVTbZB6C0THMxK8tx5lenJiNZ9PmWsJBFIKx901M/XnvfNAUePMgqA3AvE0W77x3WqiNN9kyO7UJesF7LpH3n5ISs6CYmLO2DnjzoFAdCKovRugGMTs7K3/6p38qqxKW8t2H1q2wxg2guVOWr79nRtuKuBZYS1iFGURuNp00w9si4oD+hGTt/JuCscNjR5+R8r1HjK8tBgVYunRWt5BxXBeMa4L+2JxVydLda9L3+telYmVB2uuqZM/RY/Lk6Wc3WTksjm9skxkXvrzaClT8eN2sktELPoRuG0SsbbPlMKJgS6FLSAauXDKB2Ms3DcGJT4h/JmuSiURQXS0rS0vGLzasitaG49qyBZ3Bza2qvkkqoxHJLs3L7h090qY3Y+MDWxGXmoryTSNr8VVR8ZSp+F89d05qxseNdeteOoJRzJYm+H3gd2KFbUW0TL/DDkmvrcjuXbtMiDpvVAREPMDbkeZO+2C9gfGpnZu9L59axw+/OBBSLxwrN6IZrgfoIFa2tmystKuhqBkC18amTfffksXaZmMtNn609c2SunnJxOE21+ryyi1iNlRZbUYe84rZhAr45upKc20hweBeau+n/rzFX7Zdnb/eP++fBtVbCrULqqN19vGjpMTs/bgaWPyC1D+PZYsVrf623nmbx3RoaEhee/eC5CJlkpkal1jHhluBsZo2dxlBi04EsZr6LYI2iigGC3OSRWzEu1dlTS++5adeNELWoB+3rKFV0qGwM2LY2IDT4UsF7apub+Kd78jYd16RllxCPvXjPyX7jz0hsrwg6aVF59V9wE0CP9ANIWvRDennAajbWq+gesvhDyx0oiOoQIX1FGIcrwchUB30gmGX0Ynp6OV2PluYnJBlvVnBj9aK4IzeQPEaEu4D7e3t0lgek53treZVaVdTo8QjYZMAxeuDkXY7gtXcY0cwitnSZ91a6wrb1vra9c5jeMg0ojaTMQMdNHt8WS3wqR0e6JeevRuv8C2IAb2oQreYEca2AyMRriUS0ugOi40OYj2798pE720JpZKyMj0h6VxI4nUNkuq/KRkVsBjYwQI/2hA66C7O6nqSkhu6s0nMQsiGMOCNR8zOhuOyq7ZCjh7d7JNLNsD9EMnmt5va5J335r1lwDufr85b750Cbz2w895y7xSJHcEeL0rusaLCFwPRf6LdD/51YOpdX1C+mDaIYhDp3is1L/+wrC7OyeJrXzLxDrWFqa/q6Jaaj/2oZBo7ZPndN41vK4AstlK5+pkXJaXlyzcuSLi+ReImzuxmag8/KeXHTsuqCt+FN74sixfeklt/9B8k/e4bcvLQfvnsz/68HHrqpPQcOCy7n3rGhNDBiD4zKgCLxewxPtfGxwzGrU+urjgZw+aF6ptbZMeRJ1SkNpmoAiPXLpshYb3N9Oi6Oec7b9u5W5o0mX2/cVXmhgdl7OY1GblxWRYHeyUzPSadVXHpro5LLSyxDexd/LCJqoCdP35cEFOk/nd/1ykk33dYlxyE+2qtqZSehhrprKuRA3t2S7c+ROaSztszL9WNzRLNZWXeHSrZS2J5SYZu33Tn7h3EqJ0bGzFv7ar1wbfG55IAduzeIydPnZLj3W1SNnxXhs9921xhoqnN+wpDRNmuQ5Kra5b0+KAp87q2BYFlenudaC4kP9bgY6d+vOWF8nbeWw4Dl7c8qE1QvcU/78W7nJftzgvyvaXkxCyehGA99IrJICHpr/e38dYVIl+9vzyo3dtvvy2xXQekYt8xqX75xxxB+/qXJGMErUNVe7fUv/AJiXTskCUVnxCuXpLX3pXEyrJUfOgzJozU0ptfkZyK1s2EjKCtfumHZfz6Jen7k/8goVuX5KWPf1w++QM/IDv27nPbQUi2SvcTJyVUXmmsol4Qt3VMheL83NYbzgb6OQsfMkmsLsuwrmdpetItAVhoY8ENgbpHlhYWZfD6VRMk3btuR9BuFMD3tb6jS+bGR2X46gVJq4DtqKmS3Z3tZpx0iFjyaJlTQYCzpubcOZm8eNEpJN/XbIjaWjml58ee1iYT1m6s764sqXiFyMQoYuXxuMxN60OrDwjd1MrSugvZvZJOJWVhakLG7t4yD7t1xt9/MxVV1VJZUyvPf+yT8txTxyU8eEuWdBkMoOAF+5BKJiXS2iWVXc7Q3CvDhR/6IXLgUkbyEyQWUZav3DsF/nZBy+UDbYPa+9dv523eWwb8eYhZvCkmjwcl6fDhd/z3C9MgYbmd+MR80HKWfOv0lts8pohiMDU1JdEmpyMVrLDVL/+osZ5C0HqtsLFYXKqfeUkF7U5Zu3NVklffMXXJa+dl+dzrEn/+01IN94InnpWMCsXFN78smWHXEuDZrbXZKZnLlUljXZ0cevIpaWnydbZw20JIwjLavNsRuejcsTQ9JcNXLsrsyKBkVDQXRlcUcDws+KEnM1mZGOgzAhXDR26A5TaWhZW26+hx4xox3tdr3AXge2ebOJOQVEfLZOTaJYmtLRkL0IG9e4yAfe6559YHMCCPntDx42IlR+jsWTdHiAN+hxhkpLuhRiqyKVkcH5bR3jsyNTEusaoaSev1yw+ELuJrB1lt4YIwPTrqzgXTdfCIecjNqQidGhxwRPRC/gfyA8eekM985gekqa5GFm9ekqnb19wavebqOuxokxC0IDzaK+mprftQVeW4aaE9fSeLwysILUFlfvxC0s77l91uXdvV58O7Pe86vCOTkveXkvwFev1UgkRmPvzC0ys+Ld6yoDzw5vMBIYunNitMQVVHjxG0a/NzsvDq5zdZYfHzgKAt69ojqzcvSuLauzL/1jdE9hyT2iNPmTbl+47q8j8iq/OzMnfmVROP1jL8xtdl5szr8tzxo/Kpn/xrcuDkMzKuNxGE0dr8yt/BumvAGovX/Avjo1KuIrjzyHFpDOhxHHgJyHMcyquqZcfRJ6RS1zPed8eI0OUZv0VmY1nrdtDYs8u4HYxev+y01ybVsYi0V8akozIuO1pbZH93l5w+fdqIWArY7z3xZ56R2SeeENgjDl+65BQS4qNcr9HPnnpaf6+dUh8Ny8LokNNBbG420AIbK6+Q1eXNVlIAFwSM9rUdiG7Qsf+Q8ZVdW5iT0Ts3ZWZizK3F9SungnnjKnbgiePy1LPPS1tFVBYvvL0haAOuaZUdOyRz4z0JzW++htkwYzkV4vcrkr6f8B6j7fKY2pQPf5133rusfwq89Rb/PCjUBnlYZ/P14SHfW0oumgG4n45gKCvmZM3XLgh/W+/8nTt35L3bvUZIRisqpayty7HCouNXS6es9N6QTN81iTa1Ssh2/NLdLmtslczKkqy++WVJhcJS86HPSFnlRmzGsK4r3NxpRt1K3r4smcSaDH7nFcldf0dOPn1SXnr5ZTOkJMJuoVPG4uSErExNSL3tRewemuTqqsyPj8jYnVuypvvYvGOXiVAQ2LkrDzODfVKRZ2hbWM+rES9W9wGxKZfnEL2g2hO9AGBnnB1y2jdIOBaX3MKsVJaXS1drqzTFo9KiNxx04urp6WEUgseAVFubVLojgi0W0RGMHcC+P1nvNNbsREII6xVwRa81Cb324Nod1t+8NUysLiyYgRlsxy0LBmOZGh2W9p3OK/9ClOn6EI4vpttNLi0Z4dzkRlbIZrLGzQCDpliSS4smekuH7t+gPnAvpDISnx6RyO7D62GXEM0Aw4TL1IiEJocl1Nyu1+tG0wEMgytgmozotSu5Ip/85CfNMiQ/uEci2fx2U5ssQXX+ejufr85b750Cbz3wtvHm7RT3e5zD3vjF5P2hZN+N3E9HsEJ1wF+PeW9ZUD5fm9u3b5vhEys/+lmZv3xW1jRZYKGt+diPSS5WLouvfkHSwxsW2owKOdGLZjZeIRXNHZI69y3JLW72ka2En+3zn5DJsTG59f/7bZn80n+Tlz72cXn+uefcFg7tu/Yan9Sk3iT84Ec4rzeJeG29dB05IXVtGzFniwWW37EbVxy3gDy07doj3UdPwPQiE/29AW4HIiuzM2ZAg6poRA72dMqp06dlv067qmJSG+NF4nGjTAXsoj5o4OGs5ktfcgoJyQMeQOEKhDcqz5w4Lg3GUjsoDZVxE94LYJCW+S1vb/Qht7zC+NPey+vc2uZW10q7EQu3RR/W65swDPdmwmVReeHjn5SPPnNKwoO3JakP3X5SqaREDj4l2ZpGCc9NuaUbIA7u/Qy1/v3KdsYib32hfNB6vOX+9hZvvbcc+Oe9eJfzcr++3uThUrJi1nYEA15hafGWBeWBv87izVuCyoKw7eBmEG5olvpjpyR+7DmZv3RWElc2C9raj/8VI2hXEcnAdRlIaZvVGxek6sXPSvyJ05IcGZTlN78iWVfQ5kSfBnW6fPeaTA7clXgoJ8efeVYa62slsbpi6rzUt6DDl+Om4AWxGxt37JZdx06YNoXI9/OGW8D06IgM37jmRCPIA9a/4+hxE2LLuB1cv2ws1lhm7OZV05krMzMhHRUxFbBxaaurYTSCx5zZp54yHcFqz5+XiYkJp5CQAnhF7bED+6W9ptJEQUBnMbyyx/XLj/WnXVtbc0s2wKhiQX62AMs16/WpWJ564cPy6Rc/YizGGFzGSzKRlFBVrUhzu4lfHZrfLGhra2rMcugnQQrjFYL58pYg8ehvh/mgZS3+ZQu1Bd42Nu8tA/48O4I9HpS017qNamCxef/Ui7+smDZegpbPVxbRJ3ZQd+xpFabPyvzlcypoz5ky41LQ1Co1H//LJpLBCiIZXHtXVs6/KeXPfVLK9x0z8WQrP/pDsjI/q4L2y+uCd3VyXG7+3r+XplxSfvCv/Zyc+sRnZPTubRm7fqmgf+w67u7WtSHMV/7Pip9soZ9+2+690nX0hCT1hzx47bLMDuf3bcM+tGt7COD50SEZvXFZRq5elOTEsPS0NBnfOlphS4jPfMZ0BIsOD4u8+65TRkgRWFEbC4dNFAR0Fjuwe5c0qKgNAv60cKvyMzXYHxgd4V7w+tEefOK4GckrNHBDpi47fR3CldWSdEMw4ZqeqWmU7K3NUTxqomFjmZ2Z2YhSQwoTJA69ZcUQ1P5e1wHuZRlvW2+eYvb9p6TF7P12BPNihWdQ3k6D8iBfHuBETwzcktTQHTNffxQW2tNG0K5ZQatA0FYikgGGsH3tz1X1VUnV6ZfdWpH4vqNS9dIPy6o+9S+/9kVZeu+7cvuP/oPUJBaNkD301NOy4+ARadtzQJYWFmS6/64raDfvz71if6bDN6/LLEJm5cFaXU00gt47gW4EXrKJVeno7BSMg76jtcmE8nnhhRfYmavEiJ8+LXNuR7BDX/2qU0jIPWDj1aKzWE9bi5x66inpqKuW6vjmYUIRugvhCf3ABQFW23sFblGIdlBV3ygtPn9vjHD27LPPSWTgphG04araTS4OiHCQxvUtsbIeZxSuBxAz9yOkvh/JJwi92HJMbbLzXvz1wDvvz9tpUN7inweF2iDPmLPvPyUvZpEKCUxv8pY9CP7l883PT03Kwrc+LylYVLWo7ujTEjv2jKzdvCCJq+9sWD01E62pk1QyIWXNHcYCizpbDx9ZCNrFVFr6//g/SO7m+XUha4HVs+PICUllspJzO8ZB1EKIjty6bubzk/94IE7k2F0VqYMqUgOsvsCE+jp6Quq7d8rs+JhxI/C7HVSVhU3P4dTEiBw5sN+E1Xr++ecpYkuYpc9+1lhna8+elTJGNiAPCKy1iFXbVe+4Hoz39xrRCZeBoAdkxwVhQ1QUC66PGN42o9M6X4czcPCJE/Liyx8zgjYxvzl+7MrKioT3n3BunCpi0Rk54e5bkAgixYFjZ9N2bNemUH2+Om858nben7f4y+hq8P5T0mIWlJeXuzkHKyQLCdZixKi3rJh1BS0T33tUkqGwLL3yZ5IadCy0xuXg2LOyduO99bBd6PS19tqfS9nhpyXc3iPzb7+yEUfWpbKjW8Zm581QjfsPH5X2zq0jgTW0tErLnv0Sr6p2BkC4fkVmRxASZ6u/2VY29n3jJyuy49hxqe/ZKaMDfeu+rkGsuxFgEIT5ORm+dkXbrqqIjRgRa/xhK2NGxCIqARIpbSJPPSWLOsWZEztzxpQR8qDUVcSN60E8nZDFsWHjZpVQERlEkMidHR2RxQL+q+gvUKFpUh/QIZi9HXhieh1bS6wZlwMI2nA6KXN9t91akcXFRYm06QN4RbVERvuMq9tixrnee8UO2Z7tjleQeAT+fL712PJCy3qnXoLKLPmWW9X7HXn/KHkxC8usDVjtFZMWW4ZpUB746yxBeW/b7aiprZWaT/wVSUhEll77ghOpQG/95fuPSQyC9uZ7xkKbunJGUnoBrTj5EeNygLHB59/61rqPLH4yI298Xf/0yos/9pPSo2J28OolWZ7e2rMWotLEjr160VhHm9DJ64kn3dr8wD0A2/H/hLG+DhWpDT27jEgdQWcvXX8+IKg7jz4plZUV0hoPq4iNGhFr/WEpYj84lHV1ydyxY8bVoPryZaeQkIeAjVO7r6tDKiJhSa+tyOzE2GbhWV4hs3NbR96aHOiVuYBroxcMtNCo1yrEpB3r2xC05ZXV66LE+NDu2y+ZO5dk+vbmt1vo8JVJJaUsk5TV8o3QiaQ4vEIwX94SJB4LtQP++nudB7YMU2+y+PO0zr6/lLyYhZDN1xHMEiQ+76eNl+2Wr6+vF1mak+rOnVL98R+T9MqKrLz5FTOULX4CELTRY6cleeuSJC58VyKHnzb+s6Dhw5+WVEOrzF46a1wUZq9dlP6v/LG89NM/Lx/+0Ifk6LMfkmh1rQzcvLbFn9URshdMp6yOI09IXftWC67B3V3sC9LY3dsqaAcklefpsnPHTiNSE7reIXT28gUyX1HhDHGN4XARXuvZZ07JnpZGdur6gJP93OcEHoU1Z85IGQUteYjU1dXJ0aNHzducnR1tMj8ytGl0L1hYgyIgROOb39blA7G1Eb5wbWHWCNqFhQVp0Osltmvp7OyUZ44dkfHvfEMWJ8fdUoeyeFzSKoaTseCOa2R7gsSht6xY/MsUWke+Om/5veyDty3F7PtHyYtZ4A2iD1FphWUhMRqEdzn/OrxlICjvbdPQ0CDJvpsqRu+ooN1hfF6TI32y+m2nswxOf0QsCEXKJDE5KjEMnej+JjCp+9CnJNXYISPf+qLc/L1/J4cPHZKnnjpp6mEt3XnshH7wCkknNywVAEHGsc5O+LC2OwHDg8A2Nn6CKr67d8p4720Vo5fzClpYXdHZC+HEHPHb74hYCOgrFyU9PS4NkpLuypi01dJa8f1A7NlnjXUWUTZrf/d3nUJCHiJ4m4NwXkf375W6spBxPUB82mh5eWAHsPLq6oKdUL3UNreYN0+w0CIiAQSufwTEw0+dksM7umTu7k23xKFsYUZmsxGJrC5LumxzpzWyPcWIR1uOqU123lIo723vzVuC6i3+eeBt751a2BHs/aMkRwDzA+ssTqKgkw94hafFX4b5fMv7CVof8K5jbGxMrrxz1sQojGFUml2HJFRTZwZPiKgIjTQ7gxSkzr0q2ZYuicBdoiwqoVonvmqZCtKshOTqf/4NiS7OyPMf/qjs3LPH1AE7YlZda7tb4pCLRKVWRWdNw+YL8nafDO0z2ZzM41XewrxE9QFh82hdDthuVWMTDrqxwq7NzUqlPhI1VsZlV3ensaSQ7y+WJiak7vx5qRgeliUVtzlPsHrAEcDIgwKDRaueVxhNrEwFbBuiEOg1sv/GNWnSB3FvZJulGX3AXlyUlq6NzqXpRMIMi4trph9YeGPxmNQ3NbslG8wMD0q4qkYOHXtChm5dl8VIXOp7dktotFeyus6p6mYJZTMS1vSRU09JU8DADB8kJpYmpHetVyaWJ6S1onB88mLAPdPeT/33VX+5bett582DoHo7768D/nowtjImS6klWUwumunNmZsysjQio4ujMrIwYvLvDL8jNyZumPStm9+Sc/3n5GzfWXnrzlsyvjguR7t5H/xeE1LxVZyCe8xBUG30NMXHsR/JDndry7zJlts2wDsf1AZ5b7l3HnjLRkdH5Z/8k38ii/tPSn1yWSpf+mEp694jqzcvSvLS2xI/eELKunbL0n/7V1LxE78k6ZkJWbp1ReqPn5ZI1y5dmZgQXBNf/gP5wb/210USayZ6QYNeuAuxsroqlRUVrnjd2DfLwuyMRPRmUNWoF+6t1TI7OSFD1y5KTG8O3YeOOu0CQHSCq69/04TROXToEH1hv49Ze/ttaf+VXxE8Po1+7nOy+gu/4FS4/PIvL8r582l56qky+Y3fKH64ZEIKMb+akG999cvSfvQpibjDzwJEKpidmZXDzzzrloiszs/Jpbe/Lac/9UNuSXHcOvMdKWvpkN27d8u7r78qr557V+oOHZf6iX6ZqqiXlfJayU2PSuXKvPzq3/yc7N+/313yg8mvf/vXZTg0rE8HIr966leltfLBBK1XSPrz3nnv1PaRAf78+Or4ejswvuK4hujanHXqv7HFsfWysRHNV+kM7oWa0GZgYWD93og2/fP9G/dKd9X9s1oGWaDlfVN9ZhrGi24t29u6V27+i81WfPLo+cCIWfiqwOfJfhxMg8Ssdx6gjc0D77xtZ5O3zObtNoCts+mXf/mXJf3ij5kg3DEVkDU//HMSqqmXNQjay2ckUlEpa9fOS8Pf+T9N+9Ezr0t0Zkwanjiln2VRbvznfyMf+vBH5FM/9FkZ671t/FQRMSBI0G58Ai9bS/tv35K1iRHpPphfqM7MTMvknVuSy6SkrXuHbm+HW+OIWKTVmSkpz2WMf5mNF0m+j/mbf1N2XL4sa6dPy8S//JduoQPFLHlUDA4OSqy+UaaXVmUp4cSDnRkZkv67d+SpD79o5gHcDs6//q17FrOTA30Sqa41rgejt2/IO+fekf6+XmmsiMn4/mckWxaT0NBtiS5Myz/4n37xAy1mYZX9sd/7MRHXJfkfvvAP5dN7P+3MPABGZGqaWJtYF5z4P7k2aW5hZt5lfHlcwiEVjVo+PqrCtcqtw61O09DykJkN5ZzygUVHmHrXMTg36GS0vL9XRalekjpqO9bXgWTmXbBPlwcvS0edlrnaORKKSFudE9ZN7/ZmWhYqk7Z6LdPZ3/s7v7fpbQF59HxgxCxA2BTrbuBPIF+ZX5D6RTAIKrN57zywgvjXf/3XZaSuU8pOf1xWvvD/lXj3bqn8zE+joQraS7L6x78l4YMnpebHPueUJRIy897bKmhHZeid70p7zw75yZ/7nD44YtsqdlXQwqrauueA+fmsqKCszCNIHZz98TIzPSOTvbdEEqvSfehYHkGbk5WVVem/fkVkaUHa9zgCGiIW0QlqoxFzE6E1llhSb78tPb/yK8bI0f/v/p2kjx1zKhSKWfKogZV2cmlZltZSMjM5IZffOSPPffIH3FqHM1//kpz46CckXu64uiCCTKHOYohw4O2PATHb3z8gN8+fleXaFsl27JT58jqp7L8uZUszH3gxe374vPzyn/2yCEaR11vL557+nPzCKectDISol4lVdx63IPc2NLGiZXZeb2lwVUDeCE2dDq8Mm3ZWiA4v67xtj6RCcnBh0KnX+cF+FaV6OYmFYpvaYV7vyjrjlilttSoyN/SsvHjIedCBUAU7m3auC16UYd7mkc7cPbOpTTQcle6mblOHbZl2+m9H8w6znUM9h7aEDSWPlg+UmPVaZ73CEtgyb7LlhcSsndoUNO9f3qY//dM/lW+9c0Hq/8r/KInFBVl5/c+l+tM/KZHO3Wgoc//sf5LwkWek8uRHjWsB1pZYW5M7f/A7Mv21P5If/7v/m5x8+pS2NWt2Ji4QskPXL8uBF15yS4LwLrEBhOrg5QsSjYSlobUtwNLrLId282PDEk+tyaETTxoRi0RIEBV/829K2+XLsnz6tEx6rLMUs+R7wVoqLfNrCXnz298xcbH9VliI2QPPfEjqG5x+CStzs+ZKVxXgRwumR0ckk06ZfgkQtQPXrsjFM9+VyXCFTFc2Sp2kZKyiUZpGbko0nZD/5y/8jZIUsxMxFZUL7oyST4gOzw3Lb3/7t42LATi967Q8u+NZ08YKUWN3UayF1L6Kh8AbXvKI04zOLwxLeVgFn1uGe2Y8FHeEpKMZDW3V7sAWKmYhGFtrWo14tIxMj0hD1cZ3WF5W7syjCdat7GjcsWmZHzn5I2YK1wRb7p163Re888h7U1AZEvqW1NTwWve95AMlZgHELEStFZTeBPziFqDM5oF33razyVtm834xC1B24cIF+ff//t9LZNchqX75RyW9sijp4bsS23tMQtV1svCb/5tEXvoxSY/0SfWzLxuRuzo5Jud+/e/rE16DPHXsiBw69axeTPEKRLdp1uwI2ZErFyRTUSUHTz3nlm5l9PZ1qW1s2mp91RVBqC6MD8vcUL+07d4n1U0tEl3v8JUzUQoWpyaksrJKDu3sZnQCsi2J3/1d2fMf/oN5C/nWv/t30uJaZylmyfeSr3/jW3L77m3Z+9Qz0tDiCiHl3Ne+KPtOf3iTmB26c1MOPL3hW+tlYXJCxvr1el3XILv2H5QLb7wql69cloVjH5XlCX3IX12UuYZO6RpxYtD+P37up7/nYragEHWn6xZRoCLSWkQNeusaLleROaN5lGlaF6LuPLBCdHhGpzb6lOq71urW9TatVZrfuBUaUD84Pbj+et6091ARqZC6yo1QaOWRcnlmzzNGEAKIyO46pyOfLetp6FkXjeDqyFVprXXWq6USCoeMC4CtB37R6s/nK7MELe9NwN8G7nd0Nfje8YETs+93RzB/+T//5/9crl27JrXHnpbav/Z3jL/s6tvflEhDiyRvXpD6X/6nMvz1P5GamRGp+MgPSd93XpH+L/2B/K1//P+SlcG7EkomZM/xkypIm8w1A0PKDrz7tuT0x9L55LNmcIJgcnLj7FsYiFy6D/vcCZxdNMAXF/Fho2UR6Th4FL9CSa4sycjVSxLPpmTfvn1yzPPKmJB8JN5+W7p+5VcEt6a3Pvc5aXE7ghUSs50TemMdGXFmOjpkxDdWPiH3yvz8vJw5c0ZmV9akrqNbKuvqjWX1na98XvY+9+K6mMVohu+98UpBP9oFfaDvu3FN2nt2yZlX/kJGcjFJn/iILA72ioz2ykrHXtk5cVty5ZXyf/v0i/LMM8+4SxaH9/V8kBCdXHH8Ru38xKKnjabhuEeIKkaIunWWoUW3DKgQhUUUlIc2rKLxsOtO4VluXXiqPutu7DbzV4avyOUpJ5405n/25M+aPLCi0wvKbo3fcud0vnZrm8bqxnURiG011zj3KisUvQLRTr3loJDlFATVbzdvy0AhMRtUhgQ3g8rKrRGByKPhAydmva4GANNixKx3HmCZoHp/mc37xbBNcDX46le/KuHOXdLw2Z+ViE5nf+83JHPropQdOSXVP/I5WVyYl8QX/7OUh3Ny9ptfl90f/rj87c/9nCwvq3C99J507twpta0d5uI7fvOKLKn43HX6w1JeXcjK5fi9Dl65ILlMWnoOHHIE7cZHXAcRDEavvCe1DY1mn+uqKiSWSRmfWPrFkvHxTkHoYUQdqqlxhWceyn7xF6XzyhVZffZZmfy//i9Tlk/Mdi4uyq4LF0Tu3sXdAhHqpe/0aRmp5luAUmRC/4kb3vVhhG16ECBo4dd/9fZdCVVWS/vO3XLj269K65ET0t6+Ec7Q70cbxK1zb0vf7ZvSOzkr2bYeye5/UmbGRqTyznsy2blXdsyMSLaqRj52sF6efulpZyG9zk5OqBCFE7k7jw5U5vprk7LuF6psK0R1OjwbLEQhNr3LeYUo8FtEB2cGpb164zhUllVKbcXmjrxddRtxyve37Tfz/+pr/0peG3pN1jJrcrjjsPyLv/Qv3BYPjhWB/rwVosBfn6+NV7zaqbe9N+8XujZfaJ22nX87mLd5WGXhauBdD3l0fODELLifjmBe8QqQD7LEBpXZvHceoC1cDX77t39byl74jITGB6TyxR82gx0s/96/llx9i9T89P+MJWRpZNB0Erv+2tfls//oX8qHDu9FsQrSZal0X/8nlhZl8s4NqW5pl7qO/AMiODj7YDtylYdyUt/SJg1dG5EJvEDQjr/zbfMkiRF3KGIJmJjolHfe2SUY6h5hjk+c6JPy8vyCNu1aZ21HsMyxY3nF7Avf/rZIJiMjLS24C0gnRG19vXzn+efdFqRUeOXOK3I+c15kSeRo01H59M4H7+X+MLh8+bLc1PMqF6+Utfm59TBbc+lpc4l87/Vvya7jJyVUlbGXTAfNzyWmpWalVobO35Drk3OyWN8mdWuLkjzyrIyN9Epb7wXp3aVidmRMMmXl0toyKpEDG30KhoZUiFp9qOuDzymmm17H63xLlZ7/3m0ryWRS785OvqVa6334hejJXc6AOha/ldQrTMHtsdvGIurFPx/Ev/jyv5CxpTFZTa/KrpZd8nc/+XfdmgfHKxK902LK/cLTXw+8QtNbZ/P5yixBy3sTsPthy6r1wTzmCRtHHh0fSDELIQtB6xWYfhHqTbbctgHe+UJtbAL56v7ZP/tnMlnRIMmcPt1lU1L1Q39dVlW4Lt28JPV/9W9L9OBTpt2Nf/d/igzclKdf/ri8+JkfcteryVk9Vuq/5m1i4tY105krWrHZ9cB25JpDaK89+7YIWhtua+7uDRNqi0KWgPHxDunr262n3aj+pkRWVzukW++R+/f3STSaX9BW/tiPSdvEhMx+9rMy96u/ml/M/s7viLz0knzH9TN84cYNka99Tfp+8RdlhD2BSwr0cj+/pGJW7+mf3fNZ+dXnf9WtefgE9pxfv0Y6k/XX85rOnT0nI3MjEo1XSLiqVpoam2QqOWrqxgcGpLapVZYj8xvrcFlanpM9I3tkYb5M5veckNX/P3v/ASZXct73wv/OPTnnPIOcF9iAxeZIilkUKUqUpUek5PtZsmzZonU/yY9sWpauLhUsPbZ8rWsF69M1r6xEJUokl7vcQO5isVgAizxIk3NO3dO5+6u3ut9BTc3pNDMAZoD67RYqvafOme7T5/xPnbeqbA7U9HyA4LEXMDB6Fa3iWt3T0oGu/gFECsphc17GXP1cshc0pYFYiLZU3r6m6sLS6vV8QFnBLN2reZVchOhm8LX3v4aLgxdlmsTsF57+gkxvBiwIVXHIac4Tal4VsbqQVO0IvUzflsvVWLVR85RWg1UZBRKyJGgNd577UswS5GrAS8vRn6gGQhe3BJVxmlDzbMdBLeN0OjF78eJFORCs8JNfwPKp1+DZexSx3qsIiotjJJ5A5TMfQ8Ttxalf/Ek889GPAzMTOPGRjydnGaD2+ZAoTZH8dy1X3/w2SsrLUb97vzKYK4XYaKz3FhZGBlDXuRPFldXSJjndltPMUmBYw8mTJ+AQp8Vjj52U+dHRDpw92wByC6yvT5ZZEf7lX0bnt78Nu1C+Z//rf8Uv/7LXWsyKOnz+8ziZWj60IxBAw6//OvBTP4WTxnd2WyHF7IQQs+Je31zSjD//oT9P1axmKqT4gApWCVFCpNUBS1PjqVf1lE+F4eXVr+OHfcqreNIVIj2ylHp9L8LwoKgXp530C02VUVgZSS8oLxLnm0i7QjbEHTaExbnonnGgcroSvoNPIVbVgOWlRVRdeguBEx/H6OQtNPZcxWjLPjT0Xka0pAqH2+xoPNS4Spw2lSaF6876+2PKrpvjN3Fr4pZMk4B+rMt68Nx6YRGop3VRyXEmG1V4cqzaW6X1MrVNgvJqvR4I3cYMBLs73Ldi9k4MBGM7qzJOq3mOyf43fuM3MO4pQ6K2GYn5aaEsB+B46QcxOzmBgtEehApKcPl//QF+4Td/B765WcTmZ9D1+DPUQDIwIq3kVjE3NY6xKxfXClplAxrwFZiaQCP5w3Z0ChFrN0LWYMnrr58Aacr9+28L17/4ixPYuxc4eDC9mA2dOoXmL31JDgR759//e/zK109Yi9nf/V3gi1/EySJ2LBRlQgjjx38cJ9vWLgxiuLdIIUqkrifqgKXfe/f38EG/ELMpfvXjvyoulGIb/+0eUgprhCj5ifIll8qEBrASoiuv4lNBvqqnNENl1COa0h7kEyptFAqcBSgrSI6cpwUWil2V4jLci8r6JjTX7pDl/t5xBKNRjA8MwOd3IbI0j/Bzn5V14WAAJaf+EaFnP4OlhRmUXX4Xc7seQdn100LMVuBHHz+CD31oa7hXbFdUEain1TzHerlVHZcRVmJUTacrYzKJWS5jAczl5Lpn5py989y3YlZ1NSBYVHJaD1yuilmC8mq9GtQyTqvbcx0F6p0l31lX1wG4H3kWgb/4b3B++Edg2/0QZt76BwTf+w5sFTX4mX/9c7Qh5kaGUNHYDN/MFBZnp9HQtXulzfSI7YQ4HruaFLSVrZ0oqli9VjhNuTV8+TyePHYEzfTO2GBIw6uvnkB7O7kV3Bauf/VXybKHH04vZgnX//a/ofnKFSw89hg+H/7l9GL2J34CJ5URv0bM3hmm3EJULolE6vJhNXJe9oim0mmFKJG6xKkDlsgfdHg6VS9orhHXFmE3vDBsKUSHZ27bEtKGSIlRXYge71w9BaH+qp5Qe0Sp95B7RVWqipPXQ1pkYSFox9v/8DfYdfzplRkOrrz9JsZGhjHiC8DftAv2WxeRePh56XMbE/cU1+lXEH/iYytpErMl/Zdh8xbis0f34GMf+5hsx7B+dHGoBiZdPZcTuvDkWLVT07oI5TSXE2petdPL1DqaScO4Gtx57lsxS2Sbc9aqTBWvRL5iVs8T3Mav//qvY3BwEGU/8Yvw/eX/La6sDSj63D/HwuICrvz0J7D/2Zfw/T/yYygoKRUbyxZw83uvIeZwYffxp2RbBLdLa5DTPLKFK4I1WS4F7ZWLcLucaNx3aKWehOyoELruWBif+tSnZJnBkI5vf/sEurogwm3h+rWvnQC5VD/6aGYxG/r619H+la+Ahj58svl/4uxwhbWY/cIXcDJ1oW+IxdDxq7+a7K01ftsrpBWiBJWJMBVQhCcLUSKVH/YK8ZhlLtGV1/UUYiK/OJx8NU/iNVWuvppvqkyKRRKei8uLODdxTuaJzx5K9mYSzeWrH5rJB5RfVTPZ/EjvxGv6iUU/vvbVP0HL0cdRV18nr5tn33gNQws+hDsPIFbViPipb8O+4yBQnVzelPKOh55EIBqD+8p7WOo4CM9oD0pscXzy2H4jZjcBVQiqcS7luvDU6wmy4bxax+l0ZYzV9mogdHFLY1Ec5LNluGPc12KWRoT6fL5VApN7TrlMDVyu966q23Cs2li1yahl1Dv7e7/3e/DuOoS4OLZAzxUpbMMuL9748Q/h2U99BvsPHcK+E8ml9nzTU7j1zuvY9ezLqwQuN3/x7TdRaEsIwXpQEbRJ5iaoh/aCXK6xac9+Oa3XdN9NlHtc2LNnD1pbrWc1MBgYErM0g8GOHfmL2cjwMCo/9znQjJGfwv+J0zi4Vsz+t/8GfOYzOFmb7IU7sbAAkMD9Z/8MJ6u1hT62MaqfqJzkXvyZklSZOlhJ5pc2R4hSWvZ40uWJ0yl7ZqUHVNx7h2dTvagK+pRNhY7b+R11yVfzJFYvDF7A//Xu/4VgPCgF7598/k8sR+FvNb72ta/B5yqU03VdOvUOevv7Md9xCO5m8RQniF54B86qOvFHJv/W0Nm3UNi5F7PRhHQPC1Y1wD0zhprAHD789BP46EfTz1lryA0WhKo45DTnCTWvi0c1rZYRuq1ex3mO1TKC0lZtsI1eRsEMBLvz3NdilkQm9c7GYuLqLqA/VRemuhAlqEz9WNQ823FQyzjNbRJcx+ErX/mKnP/QXlmDsN0FtO6CuC5Kf9mf+ZXfwOj59/DE939Objv03vcQd3nQeuRhaokak+WpCDMzM5i4eFb8UJxo3CsErTaPLPU0jN64isriQjgTcRR7PXIBBHpKNBiy8dprSeG6e/dt4Uo+szT5wEMPZRazROJTn0Lr1BR+sPhLmPM1oqPZjl/7qWWE9u9HvKYGJ/7oj4DHH8fJffuk/Qmac/bddzH2xS+ib4tMZ5NViPJcopzXhCih+olKYTqTTMsg7n8rc4myzbwmRAU1hTXJ1ZfIJoX+al4XojT3qNorajUqXq2nwT1WI+v51TxjNXL+jatv4Gvnv4bl2LIUvL/w0V+wbGurQW/KXnnjLczPzeP68Cii4nq7sOthlKWWuE1cPQ23twCRzoMyT+LWW9eE5fI6OK6fQ7isWq4EVj7eI/1ljZjdHFgE6mkWkYRar5brNqrw5JiDmid0kcppvU29Xg8EbcNpik3v7J3lvhazhN/vRygUWiUoORDpynRBmk70EmoZp9U8wYKYfWcp7XnoSUyX1cP7/qvoGZ/Cr/7W72D4ZjeaduxGeHkZAydfR9MjT6KghMSnaEe2RbH8XzI3mRz0lXQpoB7a1T1akblpFAUW5IhK0xtryIe33z4BmuXt2LGkcJ2ba8Cbb3YIIQu0t2cWs3YhYt0/8zMoHB7Gv9p1DNNCm9K09P91fgKB48cR+Sf/BLsGBtAwP48+ergiF4PeXoyJh62+Q4eSjWwQy5HzBJeJWF1haZUQTYWsQnRIlKV+ntKGhKjAQ38tlREiVl/PS0T6oVbxQabukboQJXQhuhVezafjbN9Z/P25v0/lgF/+gV9OpbY2ly5dwrfe+C5uLQUxLb6jYt8M5toPobI6+X1Eb5xHgdOxImZXidvu9xGrrEdhYBGx4V58//NPGTG7SagiUE+reY71cqs6LiN0oamn05UxVturgdCFsRkIdme578XsZgwEs6rPVEak254CzTtLvbOu6npEfuhfY/lPfgOjfT348n/5v1fsQ0sLmB0dQv2ufaJAllKFnEu2vKk1NVNBcl/sUuB2uVb5yJpptwwbYWCgA2NjDaiu7hMXY4hztgMeodGOHBkTIrcvZWWN66tfhe33fg9+kf79o8CfHkmW/68/A6qWxYXny19G4csv48S5c8C1a+QTJBRdDU6mxEBOQlTxE52aEGkeR5YqWxmgRKh5CnS/oTKlV3RFiNo8KPWm3HpEoF7RVYgyfS5RekWvok5qT9SVrJ1q7Lndz6VSa4XodmPWN4tXL7+aygGfO558u7RVoQUN+vr68L2L3Zh0FiJc14ZJ8QBWefUkxvc9uSJmadnaKt8kwnsfQzwWhWP4FpyxiBSzzpEecdqGUBxexpzPjx89cQQf+chH5HaGjaMKQ06rZQSncxGnnOdYL+e03hbHLE4JNU9pttPL1GBcDe4s972YJe7FQDBdzBLcBvXO/vf//t/liV/wY/8G3d/8G8TfexX/n1/5DVQ2ttAGtJXcRm4rk8n2r77+LZRUVKam3ipgs9QsBklB23b0MZSXFBsha9gwvb0nxPkK+HwAdSo888yY0JyZheyV4Tkc+NI/wyytgCT400MiJDu28H++BhycABaOfz/6/+kn0OEawNTlq0JBxoDSMvSVJkVkXkJUMDwg0mJTKTzZTgQWoiMzIyvbSV/O2/elNb2iBY4CHG49nMpZj5xvKb89QI2EKL2iV8nl1fz9BglaZiv/vdSR8Morr+AKLXV74Dgc9cnvUnZ6vPk3mD7yAkpSbga0bG1T71k5t2xo2Q/7/DQKg4tSzDrmJhHvuyrErB/zdjc+//Rj+L7v+z65nWHjsAjkNMe5lGcSngyVcV7dltPpyhir7dVAqPulYFwN7hwPhJi9E3POcqy3o6Y5T6hlFKh3lnoHHJ37cP36dRSKp/vjxx/D7kceR3UTC9oksh2ZTWBmfAwTl86ipKoGzYfJl/Y2JGiHz55E4/4jeGz/biNkDXmjzyU6sliMG9eB+Tkh+mqBXTt7M4+cF+HUjUn86G9fxAiS02u9cnAMZw8mR7p//ORRNPYfxShqMfiJbsx0vr8iRKlHdKVdEaxezbMQba5I9mTqg4z0Hk4Wouoret3Gqlf0fpnk3rAa8pH91re+hUs3e2Cvqof74WdTNUkmXv1bOA89hnhhclzB3MQYmi+9Af+Ln8fy4gLC8zOoFec79dSSmC24dhphcUJGxX3g6QO78eM//uNyO8PGYUGoikNOq3mO9XKrOi4jdKGp13GeY7WMyCRmrcoomN7ZO8cDIWZzdTVQ8wTZcJpQ82zHQS3jNO+D4DoOFy5ckL2z1GNMx+bZ/wj2VJehrKICB59+IXUPT+1b2CeTyW3nR4cwcP59tB0+hvKG2z1Ey3Oz6H//bezcdwCPHdqfKjU8KOhTOE0FU6KT4DLFR5RGvasj6encWjWpvQgrI+fpVKYycZ2WI+f51OYpnJRX81V+YM9f/hhOh16UJqONfThy8KcxsXwAY6M/CPR8Ch7PHD7/+T+Hb3dSCNNreuoR5UntCZrkXh1JT7DwZLFpJUQNBh12K+gencKVkXFEY3E5KNZ99PaUh8TEO6+hvLkNgZoWRITN/OQY6q6+IxdKIDEbDIfROHBRLmmbWJpHxblXMVbVhqKFSXSWF+GXfumXUi0ZNgMWgXqahSih1qvlug3nVXsOap5QbdX6TG2qdmqebNQ0jV8xvbObzwMhZgkSjCRq6c/VA5GuTBekuggmrMo4reYJVRD/2q/9muwp8JdUw1bTgE+/9Dwifj/ssQjqdu0TuoDsEggGgoj5l1BUSb1QyTbHem5gYXgQLfsPo7CyCgEhZMe6L8IVDeG5554zMxZsM/IWouKUW5nUPpXXp3Aa8g+tpGUQ19NVI+dTQnTNq3l67S5i1Q+Uy5C6Buuv5mkE+6HW5MCt4pEorv1lGb47dwILC8llHP9r1YcwufQE/tbzNK6HH0Vnwxx+5bc6UFmZnLWAX9M/iK/nDXeWFbeC4XHYdhySbgVL46NwXXwb3pfFw5XCwuWz4ly2IbHrMJZDEUwLu5K+y3AcfgL+UFiK2aYbp6TbAWbGUdT9HqYad8E7OYgjdeX4uZ/7uVRLhs1AFYVqnGu5VR2XEarQVOs4na6MsdpeDYQueM1AsDvDAyNm1d5Z/pN1EaoGLs8kZjnmYJXXt1cD9c7+wR/8AXoTXnicTvz0z/yMfGI7/7f/C4/+8E+k2khIF4nBM+8K4XpICNrqlfKxWzexMDmO+tZ2zAz0wBUJ4ujRo9tm1oK3+t+CnFVf/DnPNCXn1t2uqAOWpuwiTSOfCC6bFmUFyTSVTfnyEKIpVglR2mYhmVdfz8tJ7gnKp2Dh2VyV7MXUheiaSe1TvZ2qH6hu01J2+40Aw72ls7Nh3PirV3H6ZhGGZsqxLP7wX1n4Vzg6voh3Ch/C7+/6Ao53juH7vmQmmDfcOag3tr+/H1d7RZhehL22ecU/NhwKIfjtP0fJiz8AW8Ht5ZQX+2/COzsue2zDsRj6e3tRMDGA4rpGLBZWSDHb3P0O5h9+GRU3z8iVwOZb9yJ+7QM80VaHn/3Zn021ZCDogVu/3uQDC0I1VgNjVW6VVssIvUxN60KVYxanhJqntBqsyigYV4M7wwMjZolsA8F0cUtQGacJNc92HNQyTutillDb+I3f+A2cP38e09PT+OxP/UtU1zeg7/2TePSzP7ZiI7bEB2+8hiJ7Ao37D0tBS2X0/9Uzp9FQUoil8eFtJWSJz/3F51bm6Pzy8S9jX3VyvtG7zSohSj2k+lyiU6KM5xIVQQpRgvKpr1d9PT9kF0J0MZlmhkdEPa0XkLLhuURXhKigq6prpZ5ZuRGkrp/qjWF4TrQhUEfOUw9pScHthQkIFqK76nbJWBemdwL/zZu49fdvYG4xgf7CEjRMfRNffLcX1B/xX3/o53D8kSZUHF+9RKnBsFmog7yi7gJ4n1774DTx6t+ges9BOFqSCyIQs8MDKLz63kqP7UBfn5y1oKikBAvVrStuBuSGUDjRj4Tdgamuh2A/9S0c39WJL33pS3I7g/h8fRO4MH4BL+94OVWyPlgEcppjXVRynVqeSXgyVMZ5tR1OpytjrLZXA8E2nDcDwTafB0rM3quBYBfnLqLOXYeagqQQ4XIKNM8h9c5evnwZj3/oI6itqkRMCO5HPpma2kbYiH+koBo/fxoe8VS38ynyRUyWRwMBtBa5EJ6f3VZClp7YP/X/fCrZWyn+lC8e+SJ+4qGfSFbmgT6FU8bX8yJM+6dX0hIRqyPnh7xCiJJW5Xpx7aEbo5xLlL5isk9N4SS/T7YTddVFqxetoEnu5QCl1HXPqodCnbLpqR2r/fcIvQdUFaI3xm/IWH81r+fvFXOnTiHQ3493JwYQXpjGv3jlpPwY3/iZn0HrD/9w0shg2ES4N7Z7ZAJXRCAhaxu6Ae9Lq90JCPKPrayshGvv0VQJvVWYhfetv0bh9/+kzNMKkvOXz6K4wLsiZhvGb8Idi2CmsgmlkwNSzHpO/iM++uxT+JEf+RG53YPObGAWZ0bPoH++Hz904IdQ6lnt+54PLABVMchpNc+xXm5Vx2WEKnDVukx5LiMyiVm1TN0PuRmQu4Fh83igxOx655xV8wRtY1Wvll2YuQBEgYvjF/HW5Fto87bhFx//RUv73/zN38Rbb72FlmOPw7Mwha6HHsaRlz8u6/zTkyiqSi6EMDM+ivGLZ9G49xDKacYDoZxaClyo8Wy/J7yrY1fxT//+n9KfIPn4no/jE0c+sZLnWPUTnZ4QQvT29Loy1qdwGvKlXs8TdC2hsiVRpgvRwhq5nry0FUH2kKqIMl2I8lr0TLZX73JFJcXGarCSKjy3igjdTMIzM/jan76HkVAMP/qdv8Cji73wP/44pn/rt1IWBsPmQOMPvv3tb+PK0Diw4yCcDa233Qle+gHYvLfdCYiFy2dQEAnA/dDth0haAj32na/B+9wnVuwnem/BM9GP6fqd5GaOppkB+AMBLLYfQM2N05jd9QiK3/wrfOYzn8HHP568bj/onBs7h+6pbixHl/HpPZ9GVeHGrm1W4pBQBSLHaj3BNgSVZ9tGTau2an2mNtlO3w/luZ56ZUtKSla1Y9gYD5SYJdYzEEwVrwSlrXpiz4+dx4R/AuNL43hr7C1xZQS+2/dd8SmTIXDlp69Ytvm3f/u3+OpXv4qK9h3whvw49NxL2PN40of0yvdeR/veAyuCll6Djd+8jtaDD6GprhZdxS5Zzm3dLfLqESXEx7XSKyqYWZzBn1z+E/kZEST6WmqFGGT71Ge2IkQF6aZwYiHaVHFbbMpeUOU6ofeK0v76p/pTubWT3BO6EN1Vn3xNb8iPP/7jIfT3B3A4fBU/9d3flB4bA3/wB4illrE1GDYCvTnp7e3F9fFpOcjLUdey4htLzL75DyjbsQeO5tvuBIR0Keh+b02vbfj9N+T27H5AAtf/xt9hrO0QihIR1I1cw6R40A3Wd6Dq2ilM0/K373wdn/n09+OTn/yk3OZBZnRpFDdmbmAuMAd/xI9/cuifpGrWjyoS1TiXcl146vUEC01CreN0ujLGans1ELoN+c2S/6xhc3jgxOxmDgSbWBbCdWEcF8YuyLI3+9/EwPwA+meFSEoJLTW88U/fkCsHcdscPvjgA/zP//k/sbCwgKKiIux56ePYefQReO02vP/md1CGKNoeeQKewkJpf/39U3AEfPjUxz4KL428TbWTK/pcolKIEnysgkxClOI1PaI0YIk/IioXv1lViFqNnKee0VAsJKtJbFYXJgU7pUfmR2Sa0IWoPmUTC1F1btBMr+eZGR+tTZrkfuwV3SqwmG1vL8DP/N2/QO3UFOY+/nHM/8IvpCwMhvxZcSno7cfZs2fh3XFglcsA47/wLtweD1x7VtfpLgVMpDs5J7La1sI/fhXzOx5G+dhN2J1u+MT1a7nzEIqvnsJkbQdKzn0HP/q5H8QnPvGJ1BYPLt8d+C4cNgfsNjt65nvwTw5ujpjlWE+reY71cqs6LiP0MlUA6yKUY9VGzVNaDVZlFMxAsM3lgROzBA0EI1FLsBDkQFj1unJP6oWJC1KYnR85j77FPtm790bvGysCLVP49Y/9Oj62/2Mr7art/+Ef/iG+/vWvo62tDR2f+DyqW9pQX+TF4swUJs+eREltPVqPPoZ5zxRGTl9GYLgfP/ADP5AUouJwZTvJptZMaj+9rPiJijC0nHoVz3kSogT92VQmfn/6FE5Di0NSbC4tL62Up301T/Wp3/nhltsrKRGqyHznxjs4M3lGph9qegifP/J5mabVlVaNpLd6PV9yf7+ev59QxeyPDPwROl99FfaWFgz+2Z+lLAyG3BkZGZEi9urVq7g6PI5EQzuCEyMoqKqFc89DKavbLPVdh3usH54TH0qVJKGlaIOvrHVBiPZfQyKwvErMBr75p4jXNsNG2zTtRGjgOgI7jsB9/Rzm5+fQGFnEJ8UD2ic+9uDM0EF+sXTfcdqdKPMmp4IcWxpD/0I/mkuasRRewrnxc5siZgkWgXpaF5VW5ZmEJ8fqtlZpvUxtk6C8Wq8Hgm04bwaCbR4PpJjNdyAYCVdyHRibH8Prfa9LX9g3bmURsAynRfzTT/00PvvIZ2WbBLkk8H4vnL+Av/jzv0BhTSEaT7wAW0Exym0J2JxBzA0NYHF8FG1HH8dk4TAWLg/DLRpsb2u/7SMqArdrJUTllE0sVkWQeRGveTVP9anfaHVxsqeUISGqvpovdK4dOa/3iD6/5/lUai3/5ZX/gndG35HpfQ378OUPf1mmDfcX7747h9nZCCorXTiW6Ebzz/88eYugXzzARffuTRoZDDlALgXsFxsrKV9xKQjcvATb1Ci8mmAl6E2c47U/X9MDS0gXhK49q2Y0SPgWEBHtuR96MlUixOxbX4fH5UR432OYW/TB0XMBvj2PSjE7+/5beP7Fl7DnwAF88vs+nNri/mZoYQjXpq8hlojJwV1dlV3wOrx4b+Q9NBQ34GDdQVyevCx9Zz+666OoKth4hwMLQFUMUqwLVY51O6s6LiOsxKiaTlfGZBKzXKbbmDlnN48HUsxmGwg2tjgmhesHwx9IAfidm99B30wf+qb6kmKPPzH1k7Mqv32eS57e8TTa6tpWbPsXFXcEwc0LN+GyuRCucSHkCCG2sIglW7IntMxbjVAwBHsshvba9uQGqe3omOWr+bnU+vMCObJegYSnXKEpBQvRnXXKq3llvXlCzxPqq3liI72iv//67yePWdBe044vPP0FmTbc37h/8ifR1N2N+ccfx5wZCHbfsxBcwOTyJBaDNF+d+P4dbnm9svJTTweJWFrB6/rYlPSLtWt+sUvjI7Cf/AaKPv1PUyWrmf3G/0L5iZdgL199XZQuCG7PGveE4Kt/Ce9Ln5Xp6MwEQu+/Ac+eI3C278HQyCiKLr+D+UNPw3PzPPyXTuOl7/s+tLS0PDBiloQszUhDYrbEXSIHeC2GFnF65DTqiurQWNKIgYUBjCyOSKH7SOMja9zF1oMuDtXAZRzr5ZwmdFHJsWqnplkw6/VcTqh51U4t0+uNq8Hm8UCKWUKfc/aDwQ9W4t7pXvRM9eA717+zSmyuijmdPF9zQ9gW2m9PxyFOZxm7bW6UF5ajaKEIkZsRRGojsO2sgDvqRnxhFp72XWgpa0VofgatpYU42H5Q7D553ATFJDxvjN1YKdN7SAn11Txxr1/Pv3H1DZztP4sSr7gYimP5zKOfSdUY7mfCf//3aPv1X5frZQz/4R8iZnpn72uuTF1Bz2wPgrGgzIejYTSXNuNw3WFUFFTIsnSsiNjxaZx/6ztw7z1m6UpAsxb4v/PXKHtcCNaK1YKVoGm4qqqq1mwbGx9CbGxgVS8sQW4FBd/3ecRmJxHpuybU8hxcXQfgaOnC7OwMHO9+CxMHn0Hi3Fto9tixZ/cudHZ04GMvvZBq4cHj1uwt9M71Yj44L+9P/rBfDgJrLG3Eky1PWt6T8kUViRyTQOQ0odZzIHThqdcTaltqHafTlTFW26cLbGNcDTaHB1bM0gjVWyO3cG7wHMZmx/Bq96uy/NWryViKVfWTuX2+rpvaklo80/YMKoorVoQs7cPj8KCutA7OOSf+5L//iXzt0PryU6gobUf45mWUn3gR5VW1CF47h+cP70NNTY0UrfzVqfF2+jpJfM/4Z1BVlBTVuxrMbAEPAhEhUCp/6IdAkmPii1/E8k/kP7+wYftAPXQkYCsLk0sT35y5KUUOvT2iHjsrVBF78eJFOHcfQfT6ebga2uAQaStmT7+J0tIyS7GbnIYruEa0EmovLEMzGrjbdiIorr9O6gEWYoP9aP0+H2Jv/DV6G/cBJ7+Blz/yMcDpwvOPP4Zj+3anWnhwmQnMyDed9L1fmryE5zueR1tZW6p2Y6giUE+reY71cqs6LiP0nlO9jvMcq2UEpa3aYBuretM7uzk4/oMglX6goJNoaHpIilkaiESjL2d9s/I1P/UUhiNhuOyuleC2u2VMIzSdNueqQNsQVEeB2nLYRaBYhHgi6cKwv2E/fuHlX8CL+17EY52P4dGOR2U42nZUrs60o30Hbt68iYGBAbgjdnjKqxErLoNtZhx2cREPDPdiZmwEVRXl0teGfyDbFeopbqlskbHea2y4f3GUlWH53XdRNj0Nh3hw87+8sRWCDFubcm+5fA1d6CqUgdwMaPqmUDSEHZWrp8siEUvi9VT3Tbxx8hRmyhvgqGmUc8aSe1h8egxOxb9VJRYKAVMjlvWReAL2/m44u/anSm4TuXFBbNMFmxCkTGJqFImhW4DHC9fB4whEorDPTsAhjiMqjiM03IfpiTG0F3vQuXsvlhJ2PH/8URR5brfxoELfcZG7SA4MI2H7WNNjqZrNgUWgmlbLCDWvl6uks7HaRo2t6gndVkXdjtMUSPiToGWRa1gfD7SYpRGYDzU/hIdaH8Kze57FgaYD2FO3B490PIKu6i756n533W7Eo/HkpM+xpL9XgaNALhtKU0SR7ykFGlBF5VzH5UXOItnzSun2inb84COr5zSk41B7U2kiZVoVbHZiHF7E4encA5tvAWX1jWhsasZAzy34pidQXl4up/EiqA1GTRsMW5VodTVKXn0VxcPDWDpxAvGajfvTGbYHwWgQo75R2RHQWdkpy0jEXrhwAe9duIQ33juzSsTaxQM9EYMNsSun4e7cK3tCdULi2oyLJ6Urgo7N5UG85/Ia0Uok5qdhsztgL0v2HNsWZxHruYKYzQ73kSdgc3sx5/PDO9YHZ1vy7ZF/sAexiWHsOXIMJcXFWI4lcGzvbiNmFUjQUgdQZUHyc90s+B5Hcbp7n2qjxoRVnV6frU6tV2NCr9eDWs6Qm4HT6UzlDOvhgRWzBJ1M5G5QVliG8qJytFW34WDLQRxpPYKndz+NfU378PiOx1FZVInDrYdlL+LB5oOoL6uXvQ3UW0txLBpLilghWFcEbkrQFjmKUOIqkaGjogPP7nt2RbyqJzNTX1+P06dPy9VsyiqrYAv44K5tREl4GTVNLQgHlzE52J+8uDodUtQyVu0ZDFsRR0sLoidPonh6GgkRgqZ39oGBRrhH41HsqNghHsx9Kz2xr3/nO5iO2eHs3CdEbNuKiGWchUXw992Ap7QcttK1vrYejydZX9MAm3f1UqEOIRSkaBWiwV66WlzFF+eQCIeEeBbbkZC9cQHxaBS2sqoV8UrTeLmGbsieXRIeIxfOYGeTuA80tsCTiCKYsKG+ohwNVZl9gB80NlvIMqoY1NN6rNdnqlNR86qNlb2aJtLZq2mOOZgFFDbGAy1m6aLEq4FZQYOySOgeaDmAA80H8PjOx3Fi1wm5EhSNvm+tbsX+5v1oKG+Qfp8tVS0ocBfIbQvdhQhGkgMe+MTd3bAbj+14bM3+qF4tI1+xsbExOCpqkZgZl8dZUVqM8oZmzPXdlLaRkgqMCVFbUuCFy+WSgeH9GQxbFRoosjg5ibrL11E4NISBEyfgNb2z25q54BwmfBMY943LOUjD8bAc6a5Cg4Su911HUbwIy8PLq9wJYjQnYChg2bPKLM/OwBX0y9f9VlC9JxqCvbohVXIbKVojQrRqdQn/gpyOy1lULITseURjcTiEaI2PD66I2bgoi966BM/uw/CNDGLqzPfwwoc+hEAoDFc4IESySw4MO7rfDGa8G7AAVNNqGaGmCc7nUk5ptVytI/R6NSbUesIqzTYUYrGYcTXYIA+0mCWkMEwtoEDQiUVlfMJZQatPNVc2y55bCo91PYYd9TtwtP2oFLlUt7dpL+rK6lBZXCnnciWRS0K2szb5Wo2x2g+J1+vXr2NkfAzOeAwFTjuadu5BSU0dwktLiIZD2PnoE/CLC6k/sIyqsjIUFSRFdKbjNhi2AuQveXbsLELLfnSdugLqQxuprkbB0bWrNxm2DzQF162ZW3JeaxrgRWNcaYomWRdaQN9gH07dOoXR86MIBYvwVncPpr3lskeUemJjbm/SjaCpHfCs7lllHIk44oM34LLwfSXi4tpoS+M3i1hEzlyg15HbQezmRdio3uaAa/cRxEoqERfidcXHVtwTloSIdZWUY+D1f8CeVnH93yfq3B7yPoNbbLu0vIwTx9YOPjNsPnyfo1i/56l1HOt26WwYvTxTnmNOE7qNHricoTTpDtM7u36MmBUnELkaEHxyUZmOfuKpUJ4GjdG8rU2VTdjTuEf2wj7c8bAUr0fajsheXErzIgNW+2DI1eDy5cvoHx3H/OQ46nfshsdhR2FZOSpa2mF3OOEtLUNpVQ08ldXwegvgFIfksq8+LoNhq0FzU16cuCgnWm/ccwz298+jYnYeZeJhbNm4Gmxrit3FcDlccpYCmmuUlq4mv8megR6cOncKb598Gz4/Df6yY6agHM4dB2AvKVtxJyA3gvj4kHyYt1VZz0Eb8xYifP083HVNa1wJiCD7zXas9aul/YTPvLlqTlkazBWfnUR84BpsTR2i7pj0kaVpG+V+2nZKsUtuCvND/fDfuoIajx0PPfE0Cr0eNLS1Y3zBB8fyAqKw48RR65kWDJsP3Xf5XsxpvcwqJtQ0kc7Gahs1tqpn0tkReh0FMxBsYzzwnxq/oldPNj2t5hm9LJ1NY0UjGioacKz9mHRHYLJtv2fPHpTX1KKguh7hSBSlze0YuHoJ/tkZVDTTNCdsb8N4MIKrvf1yiUfG6ngMhntN/3w/AtEAdlXtkiPZl3/8x0CPkqUnT8J57VrSyLBtaSptQmdFJ6qd1QjOBvG9730P//CNf8C33zqLnv45jPscclCVo97aTSDathehqfFUbi3kF2urrAPND2tFaWkpHBU1iE9bt0GLJsTnp5PppTm5dG10+JbYsBKOpttvzWg/AW+JdD9g4gE/7POT+MTnf3SlB41mlYkKm2jC3Ey3AmonEaf1mNA7k7LlVdLV6e1zXk2rWNmrb4kN+WF+fwJ9OTkWghsRhHobFKvtWaVVG5rVoNIWQ1NnJ0Z7biBhdyDicKP/4lksz06vSFnm5pXLuNI/hLlwbFXbBsO95vp130pMfpQ0ip1Xf6p87kMY7miUKy2X/dEfyTLD9mV0dFTOTPD666/jW+++j//1zVfwwYwPkw218JWWIeSfx/TytPSp9YWT54VKvLpBiNkxYHE2VbIWW0O7XMwgHSSU44oIVZF1QgjbhJClgV6OsX642nYly2m/KoXFcm5Zwjc6iNjUKB55/AnU1DfCW1SESCg5JsITjyJkc8CWmoLRcPfQBaEabxQWmFZpxqqe0fPpUO3ojYBhfRgxK6CeWZoWQxWTqiBUy6zShF6XiXT1avmuXbvkSW6bm4LfVYjX/vHv5So3A9euiItoQBgLo5R9JBAQwY+Sjl0YWo5gMhiV8yoaDFuBkyfncObMgoxpzmWai1nl1kO7Ze9s+cmTmJ5O9poZthcjIyN455138K1vfUuK2DduDuFqyJFcwODgI3DWt6GouQWRyREEIgEZwrGke5cK9azS4K3EhHXPK0GCNzo+KAeLWUErgKUTu+SaEJ+fQuzaB4jQjAU7D4tja02WawLYW1Yhy3wzUxh64xuoLitB567koghFQph7i5IT3RcWFiEqxCwRENdiw91BFYHphGM6Gz3N+XQ2Ouo2Kvr2nOe0mldjhlweaTCYIX+MmE2hO17rwtRKgOplVnmr7Zh0bVJobGyUa32TH03Zjn2YrmjCa3/2/2ByeAieKhr1LezkBkBMXJSLa+pRQD0fcaDfH8G4ELRXr98w4sCwJfj61ydSqbUsdjQhlEpHPvgglTJsdWjGleHhYbz99tv4xje+gb/6+j/iwqwf3ULEuo48IeeI9TR2yjX5W8taUdl+EC6XF03xAumOkG7aJup5zeRqcNuVQOtJTSF7WcmVIJjsVWXsvnnYAz7pohB1ueHaL0R2alaEcHE5Epp9rLxG9hIPfe/bqLLHcOj4kyu9sdXV1aht75JpimnKL2JhwbpH2HB3UAWjipV41O2stiPSla+XdMfA6RAt/mHIGyNmU9CgAyaTANVRbVmIcppRy6zShJpmyG+Wyst802g49iRCBSVSnM5OrhYG3sJCtBw7nsolITH7Qd8QTp+/KOes3S7QqGdaNYZeQ9Ia34b7EO3esHRkF/rb6kAv2A68mlpO2rBlIQF78uRJfPOb38S3Tp7GX7z5Di6Iaw35srqPPJl22iwi1tCBcPfZVM6aXFwNSLBGJ0dTubXQggvxmduCmNwK4jfOJ8s8BXDtOQqbMo9t0OFaI44jQngvD9xE8fwkPvqDP4zG9k74ZmdStbepqalGTVVyBUPqfDDcPUgAWolNqzIdXUhyXi9nrGz0Mk4zel4l3XZypTtzHuWNEbMpch0IxoHLdHItY/Q6NU/rNZP7A4229Vz4Ljqf/6jMv/fNf8DCLPe4CvtEjDZM5bkNG1oOPoRRf0guwtDd3Y3l5dU9D1uNSf8kLk9expmRMzLQ5OokbA33D3J5Z+khe5toIoorzxyRvbNl77wDhxkItuVgX1jqhf3m62/iL771muyFJVcC94HH5Nyw0VSvZSY8QuiSUE0spP9dS1eDqnrEM7ga0EAu8mFNBwnV+NICbOEgEpPDiA1cRzgcAXYclPPM6sK1qKgY4WBgVe9scLBHXm8//OnPon33XhQWFYprqD9Vu5qa6ho5bZjh3qEKQqs0i0a1Tkevy8eWUcspzXlOq/WEmqc0uRkY39n8MWJWYT0DwTLVEXo95dUyqzTb7N69W/rQyKk6/IvwLs2gpK4R71+4gNe/9udC0M5gflxc0F0e+FncKrujkbYVZaVYCkdx5up1XLh8ZUu7HdycuQlfyAe30w2X04XxpXFcn74ue2sN9we0HHQsHpODgIip5Sm5GlT44F4sVVfLTtuSv/s7WWe4t/h8PtkLy76wr7z7Pv7q1Hlc8cVg33l4pReWhCPFJATjc5mvL96q2qRQTTMbAWNr7EBkOr1rityvy70yM4EOz1oQ772C2HAP4t4iuA48KuezpeNVZykgePYCFrlz1y+haLwPtU3N2Lk/Odcs2VS3tMu0znJgGS5xHhvuPSwOddFoRa42Vm1apVVbRs8T2cp4ulBD7jzw88yq8Ipg1MWvikyGyuiEU+t0u0x1OlxvdWITNKMBTW1D9fFnPgV79/twtu1GwWMv4Op3vomwuFgHpsZR1dyG2ZFBhBcXZJtOb3IBhUgwgLneGyht60K5sBkeGxOaeCE5J22qJ3orQVM2tZa34mDtQXSUd2AxtChFj8PuQG1RbcrKsN04f34R8/NRlJe7cOhIMRaDixj3jyMSi6B7qlues51th+DqH0dZby+8y8tY+MxnUlsb7jYkYK9cuSLDmZu9eP2b/4hJdylmCirg3HkQjqo6OT+sDi3pioFrcLYkfUnTEYnGYJsezWhH88Xab56Hs7bRcj5ZQvaiiod8fbUv8o2lclqxKxET+2rfI1fyovljicCS2EaIWd0dwj8+DK/DjsXZGTnTwdPPPAunuEaWietwQUmpvF6W19RJ24UZIZSjYbg8yTbn5+cRnJmUHRB03TbcPfg+SrGe5jyh1zNqmtBtKObAqGlCrddtCat6Nc8xB7MiWP6YT0qDTiA+uQg1Teh5Yj02KlbbcxnPauDadRi2ilrYxYW9urUT7T/4k7hwpRvXz72P6bERFFRWY6y/FyNXL2J5fpYaQTwSlT25jTt3o6KuXrod+D1FOH+jBwvBrffkt7tqNxqKb9+YaIBIJB7BcmRru0cYcqeltEXOMUsPLlenrsqYHlwoJF56Sc5q4B4agvP69eQGhrsCzUZA4pV6YcmN4M+/+Sq+c30Al8RPz1ZWBWfHnoy+sAT5ui7PzaTtLWVysZODvMgdgGYtSIN0NZibSuVSLM5K31hyK6C5Y+11LbI3ViVcVm05eIxmL5BTcIntScjuP3oMHrcHQf/qKcRoBcbRm92IBG+7VZBdPMM13nDnUDuD0qUZLstkly2fC5m2oToOjFXazDmbH0bMaqQbCJZJjOqoYlRPc2yVJvR0V1eX7CmOLc3DHvQjZrMj9MH3UNXaga7Hn8ZCJIFz331T9hDUH3oYUVE/dO0KFseG4SkpRe3ufanWkm4HDTt2w9vUDp+rAPPh2Jaewssf8cPj8MDrXO3+YdjeUO/7kfojMhytP4rd1cnpjjxPPon53bvl8qAlZs7ZOw7PRiAF7De/ib9743v4y3fP3XYjeOhJFLXvkgsZRLrPpbZKDwnQeFUDApdOp0qsYbvQlTOpEmsczV2IzmpiVYHEdZzE7MKMXAAhPnBDui+EbU7pG+ts3yMXOtApKi5GQDzoq/6xNP3W3MgQYkI8s5AlyirWzrgwOdgPr7jeltXeXqWMrq1xce3d6uMS7mesBKFalgtWbRCUVttU0xxbpRk9r6LWqWnjN5sfRsxq0KsknnOW0dNqUMs2gr495+m1FRHpvw67uGjbOvZhyVmA2LuvoHBuHMXHnsT7t/rxxiuvILQwh9bDjyBid2L0RjcWxkZWeg/U9qmXdj4Sx42xSVy9dg3zvrWTl99raDaDUd+o7J3lCfYN9w/UQ9tR0SGFrcrCE0+AzthSGghmemc3HRrIpfrB0mwEf/7627g4t4zpsga4jjwJ165Dq3phqSdV+sNm6XElyls7ER0byGrLdjTLQDqkWBXtZBos5iyrlC4B0evn5WpeiZJyKcKpN9ZR04CYRQ8s+b6qvbPUGzv0vVfl9h1dO1aELOESwpen4yKCS4uYHR9F4669qRJgaWkJC6mpxMzUXPeGdIJQhcsp5sB5FbWO0fMq6erUcrVNPWZ0ezPnbH4YMWvBZgwEs8qrZbm0RXFDQ4OccxYjPfJJzV5aAdejLyJGPRGzkyjp3IP2H/nnODfjx7f+9q/FhXYEtlgUnvJKTA/1I57mVUVQCN/BKxdx6epVDC0GtlQvLfnJnhk9A6cQ5SR4jL/sg0NCPLxRXxq9H/G8/bYsM2wMtQeWBeyffePbOCcegi9PzMF98DF4HnoqrRsB9aTm2jtLbXhIRI5lng6Q7FxVdUhMDKdKrCFXA+ot1XH4F5IiNxxEZLQfUYcTjl1HRLu3XQpooFeEVvBSemAZcikgoesfHcLwm99E5fIcXvzkp1FeW7dKvMrFEQqTiyMs+5Yw3nMT5dW18KQWTCBoUO1Ef49M6wLFcO+g74JDNnL93qzs1DJOr8fOqswswpE7RsxaQD2z7HhtJTpVsWmVJvQ6xiqt2lpx/PhxYLhXnuSumkY5IIEu2ss2J2KDt1BVUoT27/8xjJXU4fR338Dpf/hrFIqLdXlbp3Q1WEHZBa0aRr5gdbsPIOgtliuH0dy0/mgcMzP3bjqsMd8Yrk5elUtdHqo9hMYSIeQNDwyFTz6JOSFo6RGsyPTMrhvdhYB7YM9P++R0WjTPKgXq+fSK61028umd5XbtQmhmguzkfLIZIFeDmO5qIERs7PoHSZFbUZMcLLPvYUsxHi2tFKJ17QIMsfJqhEYHsXD+XbRVFMt5ZB958mm4PAWr5pKViyN0JAeq0QqM8XgM1c2rfXCZuHqBNdwTVCFohZV4JPQ053OxYbLlCasygsv1evKbNb2zuWHErAUkZDPNOUtYic/12Kik255cDVpLC5AoLBGFVCEu8uMDiHUdxJLLi9jFd1EuxF/Xh38Ay/NzmPQHcOo7306OtJVtcLscAyX1jajbcxDlTckbQDCekGJ2NBDB+avXcO3atbv+VDjhm5Cj22n9/uPNx9Fc2pyqMWxndu0qwrFjZTLOhdgXvyjFLLkamIFguUODuK5evZpWwMoe2KPJHlgOJFBpZoFs5Ns7K4XvTPqptYgVuwwCmW2oF5ZcEqL916WIDVHfvRCq5BaRcTUw6tnV5qMNLy1g5uY1RBZmsbe5Hp/+sS+iY0/SbaCsomLNgC+mvKoaTbv3wVt8u1eWoMFfBPnMGu4dqhBMl2asxKNuly2vkq4uXfuUVgNjZWMGguWGmZorDSQkea43FpV0YmUSo4R6MuqkE6sM5Xl7tY6meqEFFM5d74G9qVOUJBD/4Ltwv/hZxFp3wzY/BdvwLbgWJuWUNPG9D6Pn2lVxEwjCQ1PLVFovG+kttZheR4jamYVF9PT2IkJrn8fjcoaHuzGN1zuD78g122n5Swo00j0UC5kBYNuc1tYC8UBWLONccLS2Ivr22yiemUFChOBLL6Vq8qfO50Ox+B0Ux2Lw34Vz+G5C88BOTU3JHtibN2/i7ffP4vz1W3jnje9gIhDGbEUjnC075LRUNJUWT02lYvMWIDB4C/bS8rRTYDE0XZZj6DrsQjxms6V2yc8/2zRdJFRJbOozDqiQiI1NDEr3qfjiHFBVD/euQ+JvKpf1UhALYUrCV4dcp2z93XB1JeeK9Y8NYfLsSTiHbqBZnGdPPP8iyqpvuzEt+f2IBwMoq01OwaXjVJY9D4fEZzwxKt0QZkaHpJg9enA/ysuTx2W4+/B9k2I1nS7moObVtJpXUfOqjZW9miZ0ezVwOccc9OX2DWsxYjYNPOdsOnHKJ5yKXkZ5K3FqBdfr++M26uvr8cG7b8M/OSau0GFEYkJkPvQkPOIkj9W2ADfPI37pXaB9L0qe+DBK9hyWK/bMDPbCLkRpQohS3+QoiqtqZLtRccGOixu83eIVY0lVNULROHouX8DU3DxCQgwUeD1yxO6dgpauvTBxAf6wH7FEDBP+CYwujWJmeQbF7mIUuu7cvg1bD58QsaUffICCwUEMPvkkvNXVqZrcqRMPZF3vv49KIfQqx8YQttvhr6hI1W5PxsfH5SCjy5cvy17Y893XcPbaTZzuHcZwOIFIZb1cEMAuBJZcstVCwKqQIIzeuoiguDZ4hOjNBA2cCibsQH/2uWS53azCNxqWA6/c1J5DuxYJgRqbGIJteQmRYXEd69wH587bIpaJBoSYHbq5IlhX4fIgfO0DeNp3wz8lPrsP3kVJYAHPfeTjqKiqgtvlREnl7XMrKq6r9kQcxcosBuRD67C4TtLDxK3z76OqqXVFzD79+GN35cHfkB66Z/L9lNNqGaGmCc7nUk5ptVytI/R6NSZUF8Z0dlxHwcw5mxtGzGaARKTaxU8nFpXxCZcOXZCqed5Wt7FC309RURGmblzF0uggol2Hkr0ZwsYZ9MPedxXhwhK4ysRFeGwQ7romlB59AvP+ZfS8+ndYFBfb6aEB7Dj6qGyLZjmYGOiDPRaVF2q78/YFmAaHLQ7egoumKausw8ziEpYXF+FA4o710tLsBS6bCwXuArlKFC17SoFWAytwFqDca3o7HiQiy8soeO01kGPCsBAdhUePJitypE5s33XqFCaWluCnnlmRrxQCOVxZCb/2mnirQzMQsIB97733cHNiBt/53jvo84UwlXAjUFotRZ5H/OZJ6JF4DNFSrNX1WXtQCbLxXTgFb2tXVnvqnQ3fuCAHeWWzTYgH5ghdR1p3pErWQscbG7wBZ1GJeIouT06ltewDuRIkFqYRmxqDrbkTcd+8aGen5T5j3iIEbl2B12KBBRr/4Ou7gSgtbTszgd2NdXjqwx9Bx67dQqSGEBNCVe2FpQd2FrI0c8HC1ITQw55VPbIMXcPHB/tR09SMqdFhJMS1uKu12SyacI+h+ybfO/V7qF7OtqpdOhtGL8+U55jThFWeYzXNUJrONdM7mxkjZjNAJ5CVq4GOfuKpZKojrOrTCV2a2YDcDd7/7puw7z0Ge01ycFTi8nuIDt2C48XPwVbTLGc+iE8MwyZuDkXiwhzuPofxcBwLMRuKhT71FBSiqKwcI/198E9PIiJuIC63B67UymGBeSFmZ2dR07ULjTv3oLCyGov+AMbGx+Xo4IZ661dwG6HEU4Km0iY5e4EaWstajZB9AHG1tiL09tsoEQK0TDzELefpalAvxKtfiJCe557D3OHDcO/cieLJSVT29WFoz56U1daEe19pEQN6u/Luu+/i1uAwXn3jTUzYvZgWvwda9colBGxyNa7Vvw/K0xLWrhFxTWjO3INKkL19ZlT6pWazp97Z5dkZOKeGs/bOUq9ruPcqnLVNWYSvDeGhHjhKxbVK2NtoPu3FWfk30j7sNOuBEMYJ39rVvggSrHRM7khoVX1EXLupx3nm4vvw+udx/PHH8eizz6EoJTZ9gZB4yB9ETVuHzKvQzAUTvTflamE1beTatRZ6qB/s7RHX5UaMj42hrq4O+3Z0rZkNx3B34fsoxXpazVvFhJom0tlYbaPGVvWMbseByzjmQHPNm97ZzBgxm4H1uBow+jZ6nrZN166OakvuBuQfNzs9Jdc4x/IS4h98D4mjz0j/OFthEWwd+xGbGUd84DpstLwkjbN94TOYE2K2/+IHWBICtkhccOs7diIm2l5emIVvZhpO8fc6xAW6oLwC3spalFYlX7/RRZtcD8JOj/TRqxEXb/rLXfb0f7/BsFEiVVUofu01FA8OYvGpp5AQ+VyZE+f3nOKaMCfO4RYhjNHdjaFHk28ntgr0upqmd2Lf15Xe17dP4srEHMaXQ5i2e5BYnIP7wKNSsOkCVifqKYRd/P7tFbVZe1AJsvH1XYdHPCBns/c4bHLqrWxty2MU15ZEOCTnfLWClp5N+BcQunlJiFIHEpGw/Pvcuw7L7dlNglwJElMjcKYR2/FwELbpsRWBTb6xE1fOo2B+CqUuO7o62vHICy/LOsYh9jfacx2NO5JzeTNBIZrHhEiNRyNo2r1/Ta8s+cqGln1ygO1gz03UNzZhYmwUrQ31OLB3az8oPSiwCLRKM3pZtjq9PludWq/GhJWrAaHm9TrSI/TgZrDGiNks0EnHvbMEnVwkLNWTzIpMYlbf1irP9lb7aWtrw3j3JUwN9MI22ocIjep9+LlUrdhWbOIQN4HgxVOI0rQeQpiWtO9G8e6DCJdUoa+vD3NDAyiyJ1BdU4sw9Xo4XAjMzcieCJt4CvQWiZuh9sMpFGXO4jIsQ4j8eAIOcWz++bk76ktreHBxiPM8/vbbKBIi1CZCYAMDwWpDIVQKUSx+UBjad3tVvHuF2vvaLQT2hWs3cPbqdZwSYTwUx3RBuXxYpQUMnI3tsncyOnBDCNpZOJqtewpVqAeVhGa05zIcJAqzCFQSjtS76Zoeydo7S7bUUxob6U0rLlcQ18/YxDA8FdVIKP67yUFdQ8DQTcRp1hSbHTbxwOE+9qylUCdXguWrZ9KKbXJ/iF19H7bicswM9WH5yjm4JgbxxJNP4omXP4z5sRFxGaxLzvCSgh7SQ+K8qFDcDEjI0lyyYSFWW/YfXjNzATEtHvyXxkeke8L48JAc8DUpvk8am3Do0KGUleFeQvdNvnfmEnNQ82paLVNRyzit2lrVE6oNwXm1XI05GFeD9Bgxm4Vcemd1caumiUx1Olyv74/KuYx8sljQTl6/DCcN9GhIviojC+qhCJ37rrwJxg4+jvDiHGyzE3CLpkubW1G87xjm+29i8tTrmPctY+D8aRx65iW4i0sxNzkue2nLaurgTE05o+J2u6RP7ZI/gNGhQcxMJ21J2FIwGDYTvxCxNBCMemdvfepT635wOtzfT86nmHjoIczdg9HmLF5p0Ba5Dpw6dQo3B4bw7W9+A31hOyYTzqTv68rsA0LMaqKORFxsdCDn3lbaPnrjohDA2d0HCOpx9fVdy6l3llwIYmPZj4WPga4bdnE9IZ9YOahLiPLogBCyniLYG1Ordc1OpRXHt10Jgpa9vCTe525cge/WVUSmx3F4Vycee/Z57D50WIrW8ZERuB12FFeu7t1XhSwx3H0ZwWU/Grp2rRoEpkJvpyLzs6hqasGsOD/ddvG5+ZdRX1mOXbsyD6Iz3B34PqrGamDUvF6uks5GLVfrCL1ejelervfOcuAyjjmYgWCZMWI2B+jEu5cDwawgQdva2irngvWNDSFSWIqYQ9wwxE2ChCzlvY9/CC66IQpRG/X7kBi6JX3RChBH8dSQ7KUY8JRjzudHaHEeFeLiXScu4jGbHZV1q5eQjQaDKz21/ZfOIxEKYFFc0J2VNYgXliAm/gz6S0jQhoXtnRgkZnjwiPj90tWAHqt69+xBSefqXslacYEvunYNRWfOoOjWLRSJ32kRDfJSLvi13d2o7OnBRHMzelLLQ99pWLyy64AUrynXgfPDk5gIRjBtc8upptyHHoezqUMKv0yzD8h6IRxz7W0lyMbXKwSqxeAoHWo/sByAc7x/U3tn7ZEwQkJg2hem5ICruHgYtlXWwV6d7HmmtiiQ6M0kjh3xGBLTo2v2Ry4F8zevwrk0C28shGc/9BEcf/5FVFQnZ24hlhcXALF9uim3mJmRIdS1dwm79Eto02fkm5lAbWuHFLNelwNRcc2sLi5Ep3Z+Gu4dLAI5zVilM9mpcbp6tU7NW5Uxep5Ry63S5t5qjRGzOUCCM5eBYJng7Qg1zVjV8z6s7AkaDHbkyBGEhKj0913HwuQ4YkKwLrsKUPrMx6W7AUG+sO7aJiFolxB+7ztwRYKIDN4Edj+E8hc/DU9jG4YGB+FbWpQ9J0VesX1qbtrgwryMY9HwSk/t7PS0qK9C/Z4Dcq7aqDhMXzQuVw8jUXvzyiUkxI3jTs18YHhwcLa1IZJyNSiPRte4GjQIMeu5cgWeCxfgmZyERzzkecRD3qw454naq1ex4/JlTDY1oSfPGRHygcUrLVxwS4jq06dP4+b4NM5cvoJ3ryRdB2ZSrgPo2AtPamCTTfzG6TdLy1TbPNnn4WXRByHcHHLO6cyQ/eLCIjxTgzn1znqLixDtvwF7ZQ69vxl6Z+3+BXEtWZa9sI6gD9GJYUQjUdibO4SATfrDUlCRsx+Iz8LVYj37ge5q4B8bxvytK3BOjaLMN40Dhw6hoaoS+x97Ys1UWmGx7wUheq0Ge6nQwFgaNJsJels30nsTTeLB37e8LI57GUEh0vd2daCm5raANtxb+L5JsZpOF3Ng1DSh2jLptrEqI/S0aq8GLmO4nDQB3VfVOkMSI2ZzYL1zzlrZ62Xp7KzQbTm/c+dOFDlsmDj/HiZGhlBw5AkkXG7Y5QpgwnDZB8xPI3HrohSX8T3H5ChoR3EpEPDBVVCI0oeewLKnCN2XL2F2sA9lHpecymtpakIO/vKQbYrK+gbLBRdY1N64fgMTkxMI+P3iD47LfRpRa1gvtA5d8cmTKBQPXPH6ejiFsI0XFiIhAonW2c5OzD7xRDJQmoXswAB2vPceJh97DLcOHJBlm4XuNkCDtm5NzOD999/H22+9iUlXsfR7XfaWyKmpnO27VwScOoiDBG2ExOniXE7ilCAhF83D3cBBD6HDPTnZU88w2cRuXc65dzYsHox5+q2kL+ywXMQlHgrIxQwSBSWwFSV9T917j8nYEiGOQ0KseknMKr6tDLsaJMb6MT87LUWs7/IZPPPMM3j+459EoxCqU8Pi+ice8guKV0+PZXc4ERGiszxDjythNQUXsbS0hNDiAjxFRXC5XRjquYW65lYsinJyOWiqr8Ouri4UFOS2MIjh7kD3SApWaUZNE5lsKNbLs9Wp9WpMqGXp7NQ6ut/T74A0iWE1RszmyJ0cCMZlelu8D05ngqbtonlowwtziI70wz83Axet+iOEbPziSblkZMDmhPvh5+CgWQ+aOhB3uGAb7Zev7hCNwFNYhJLmdkxfeh9Lc3M4c/o9OW1Xy6698CgXaZ+4iQfnZ+Agwaz1gBAFldVYWFzE0OAAZsZGEQwm12g3ovbB5OZNPwYHA/D5Yqiqyn8Ag2N4GEVvvglaodz9ve8hdu0awkJEOCcn5XrccYtZDmqnp7Hja18DOjowJgSudD+gIH7HqgtCLvBsA4vinKYBW+Q6IGccGJ+WbgOXB4YxFowlxSstKhAOwbXvEenbSYIv28IFSXHan7M4lW3SNtLdoEKkMwsoV2GxYp/dPYHaJ4Gda+9s+OpZuKrqEZsZW/GFjXkKUm4Eh6VgtwsxK3t8M/yNUhyPDyXFfuVadwDqiV3uuQrb1AiWh/qliN2xbz8OHHs4ZSFsxHcU1eaOJUiAZhOymaDvf+pm90rPLk3JVVZSgrjdAd/MJD7y4Q+jRFx/DVsLum/yvTOXmANjVafWM6odo9rq5YxqQ6j2appjTpuBYGsxYjZHuHeW5nvjE0qFynRxq9tlqtPhel0M65Ad29C0XeRH64qF4Z4ewWR/D2xjfXLlG2fXAXiPPg2buLElET8MSje0S1/axLm3YAsFEOu5Ao+4mcQPHJevRZeFEF2cn0dscU7OT0thaX4WsyNDCPj8colJms5LFbW2eBSL47TMYyECkSjmAyGMTwkxTT3E4vMzovbB4u//fgKnTs0LMRjFQw+t7dHPBM1iUPTVr8I2OAha6Z9Wzace0fClS3AJYYvZWSRefFHaqhy+eBH49rcBr1eu/lU5MIDK8XFUivNvKMtqYqrLQE9Pj5xt4KJo7+bENF797ju4MjGLMV8QM4UV0m2ApoNa6Xkl14GUcGTRmY1V4vQOuhskB4PlNhuCPJ5bl1FU2yB98XVsNKUWrbzlX4JjaQ7hieFkOQnX6oYVVwKGBL30sc2ydG0wIa5nZKP0CifdCa5i+foFRCZH0dzWhoMPP4KHTjyJ2sbkXNtMVFyj54V9JncCuRjC9AQKLd4upSMei2Oi/9bKNF4TQ4MoLPCisKwC4wO9eOLRR2S5YWvB91GK9TTnCb2eUdOEbkMxB0ZNE2q9bkvodaqNVZ0ZCGaNEbN5QKIxGo2mcskTLJvYJHQbPZ9rOwTZElb2VEd+tOR20NLSAv9wP+LT45gsq0dRQ4u4SXpAyzsS9plxOb9jrPcq7NEwEqI8Vlwup+Zy7j4ibj4eVLV1Ibr7KAaGhzHc35cUtSRe4zE54GFJ3BBo8Fk4JkS8XEksKWojgQAWFhdQVVePArHfqtYOBIV4HpuYxMTkJGrr61BiXsc9MJw/v4j5+SjKy115i1n717+O2F/+JRZEekmEkAj0C6ReWnI/iAqRa3/qKSEiV/fOevx++MXvwS/OR78QOP5QCH5xE/CLm8Cs+G0wfmE3IwQz9bqyywD5u17vH8TZ7us4deU6bvT2Yay/F7P1XXCkhJqcLkuINSlEtZ5XKosN3kR8dgJOIU7FE2CqJj0sNmleVjlaX1mRLx1ScJK7QS49qAJp39cNR9ZFDG4fT5F4II2UJH1IVT9Yu3hYjgkhG6OFFupaEBq4iQJ661PTKLe1hHpx+6+hoL551TRdKnKFsWvn5YC15bnZFREb7rmKQ/v24MjxJ1BRVY3qygrLQVo28bnRwi7l2gBWIuhbwuL0lFzVKyS+dyubdMQTcYwJAUuuBeSPSwPK3OKBvKi8EqUeJ3Z0ZPbFNdw76L7I9009zehl2er0eqs6TluVqViVEWq5nqbONdVdySA+FyGKclNRBtkzS75T/JFRTD21nNYDl7MNQ3m1Xg1qGafV7blOt9HTnD937pzsVaIVwEY9FbC37hR38CWEZsSNVvwgKHbtOgKnuEET5APmGLgGzE/C7i2Cs7wKbhEWhcidfu8tFAcWUVvoQVFRIUrsCZRWVqOgqkYKYlopjJbALS4rg9NbAKfm9+b3L2N2Ygy7O9pQV1yAQocdhU7zdHm/88d/PIT+/gDa2wvwhS/cFpK5EP/hH8ayEKy35xIROk+E24+UQNEnPwn3//6/p3LpIeFKopV+TxTPi4ez2dlZTM6LMvHwdv78BdjLKuVvh+YrdZSSWC1DfGkBke5zcO1/RAi35lRrmUn45hE8/bqcl9l1+AlLH1AdGkwV7j4LV30rnPtuvzrPBG0TG7gB175jsJVmHrhEhN9/Xb4dcT+2tjdbh9qOD92Co323FLGO2THECkoRpWuHENy0wqAj1csafP1vEBMCtejJ75P5dJBdYfsuxDv3p0rWMvStr6HE7YJ/2Y/o5CiOPPII6lvaceDhZO/npBCVU/23sP+p52U+F6g3llb0Ci6T0G1AXWf6JXaZydERKZxpOVvi5Kvfwt4DB1HR0ISB3h7YAn50HXoIe+qrUOAywmKrkk4Q6nmO9XJOE9QbqtZxrNqpaX36LU6rvap6m3og9HaoZ5Y6rgy3MT2zebDegWA66bbPFWpTbUPNc5r3S64HNONBkfgt2CcGxRV6GHPvvIuWmQ0AAGAWSURBVIIldxE8tB76wy/A1dwubQmar5FmPrC5PLKXNnbmTXiCPjhnx1FhjyHkLUG8pgk9C35MyMEWJSgpKYZT3Nhs4ge3KMRqSNyEioUQkANPFGiuybKKSswvB+GnhRfEcUaCIaGthbgOBMziC/cpG+mZDfzO7+C2pzpAW5Nkox7aiLigJ8Rv0i7OdeeJE7Ap54/a48ozDPDiBDd7+/DeyXfw3tXr6F0MYiLuxLSjYFWvq6O6XvYwUq+rjKlX8+YlIXarcusFpe2EXWS0D3Y6xorso9xpP7RN8NZlOKvqc9oPbZMcQJabu4G4K2adq1Z1IYj3XEZkekJ84CLvdCddCFp3CBGb7JlmqK3lS+/B09yV8bjJjSA+uXYlr4hvEcGZKdkTW7y8AMxNoLO1GUefeBrHX3gJtY1NKUuxL6cLoz035Byx6iIIVsje2KlJLIhAUwbWdnShurk1VZuZ7nNnUCzOqYKS5ODX8ZFhFHo9KBEP7XPzC/BPjqNA5He23D42w9aE7od8T+S0WkaoaYLzejlhta1qb1WXrp6wqrOKOU0P5MbVYDVGzK6DOz3nLLdpRbb96LA9DRA7fPgwCmxxKcrrKsRNMBREdGYcNrEre0yIdP8iEkLshqfGkRi8gULEkKisgc1TCH80IXtkUNeM4tYuFO45goKdBzA40I/hvh558yvwuFHW0CIFRmUdTWxO+157vCRqpwf7hNiYQ//oGKYmJmWPMA3aMIsv3H9sRMwuv/ceAk4noiUlMjT7fKgV5YsiPdfUhGhZGeZrahCorcWSOG9WCdfu67g1Oo4zF6/g3cvd6J1dEsLVgalwHIsz03I2D5rjlXpbpZBUxJmOrAsFEKWeyhwGXRGyTfHboZW77OW5iWDaJmp3IjFwLWf/Wfp9Jt0NyF83sz21L+2VwWO2iHg0IOG6MIsYzQc7lXQhoLlhHeXVCI0NwnvgMbh2H0lub+EiIMuFSCXSLV1LkBtBQuzbWZ0U6/7xYSyLMH35LLz+eaD/Gh5/5lmUFRXhoRNPoXXX2nmBaTDXjBCnNFtCpvlgCXogpx7ZorIK1LZ3pl0IwQr/4gLsSEjxSvjEg5E9NVctzTU7Sy5WC3Nm1a9tAN0H+V6o30P1crZV7azqstUzal6N09kQVnZWZWYg2G2MmM0TOom4d5ZPKF2YqnWEmiYy1elwfTpxy5BdLjbcU9tcVQ6Xbw4Y7UNo8Ja8YSWGbiAmbibkc7ZcXgdPeSU8Dz0FO/W2NHUiVF6LosAibDSdl7gJOsIhlDe1iht1NQavXpQ9tXbfAlxOFwZv3UBU2AWDITl3o9h7KiQZunpFjjqmZXGpNwoFxasWX5gaHZE/VDNQbPuzETEbKS3FjN+PsBCri3V1WFpYQFScx9cbG3FZPKCNFhdjSNRdEyK3Z2gE71+5hndFSApXJ6bshcr0WHuSPa5VIohzLjLSB1s0AnvN6kFE6aDt2BeWhGauvrArIjhHceqqqE76z+Y4XdcqgZrDPsg+duU0IkKI2emaIcQrPcjGhBiNi98s/RZtQuiiYx88NOUWDe4K+rNO1UXHEBMPwy4h3JHGJ5be/ASWlxEfuIn5uRk4hT3529a57TgqHraPHT+Bzn375QwotNJgZYN1r6eHeuXFsRdXrJ3JQoVmaKH5satbWtNOu5UOnzjv4kESzMmZEfx+nxSvtPJXTIjauZFB7Nm1Sw66NWxt+D5KsZ7mPKHXM2qaSGdjtY0aW6UZvU61saozvbOrMWI2T+jEodGEFPJFF5t6nk7QbIKUsbLlPNWp6HmC/G127NghB4rR7AclkWUURwJYDkdgq26At64puUiCCDYaMS1uZl7xw5GjksVuYvPTiF08CYdvHk5xsy4ur4DX48bQxCQGF3y4fOkipm92Sx/Z+vZOZWovOhab9K+trG9EdXOLnMeWF19YSi2+cOXSJSwui+PxL4F+qmb+xu1LvmKWXATm5uaki8CSuGBfOX8eU9EohkT6kjgPbhSX4Yx48DmXsKHX6cGIpwijtFTt1JR84HLtOHhbuArhlhR7q8WVLPcWIdLXDXtRCezKPMqZoJ7KaP/15KwAuQpaIYJXxCmJxBx7W0lsO6pyn64rQqP9Z6dW5nxVUXtfo9PjsIljCc1Nwz43ibhL/K5pFgZxbK7dNJVW8nPjASZ0LMGbl+Cqb8l4LLQN/Z305odW+NKhXlhyJ5jtuwH7+AAc81N4/PjjaG9rxwuf+JR0JShOLTVM16zRm9flnNbss6riFdevbEKWIdts0LSLc+JaVZhyKSD84vqzNHp7oQXK+2emUNvajsXpSXhiERw/fhxeb3Z/aMO9h84pvhfqaUYvy1an12er08sYTqtljLqdmibMQLDbGDG7DuhksloRTD3JrMgkVPVtrfLpxGo+qO0QLGrpVRkJW28iipKlaZQEFhC+eRGhhQXYey4hMdwjVxCLTAwhNj0Ge0ERIG7siaYOROmzoBv0/AwC9R3wHHgUpTv2Y05sO5uwI2RzYnZkEEuT4/B4C6SwdQlhPH7jqhyMkpyv9nYPLInakNOLkelZjI5PyHk+Y8EAQqGQ/OGa3trtRToxy36tNKiS3QNoDtdr167JQYs3btxAvy+Ak5NTuBW3Y9jhxbjDjcGqRiwJwSXUDJxtu+Dec0T2tEanR+WDD4nYnESmFLRCqPVdk/7duQhaEsUsNLE0n3yl7sh+M+FtyB/VLn4z2eBjU90BskH2gRsX5Ip+0n3At5D0fZ0cXtX7GiJRXVgMR1EpEtEwPE98JLk/Eayg8tCU+M3PTeTUOxshtwQhwuMuz4qAlbMSXLsAt3gorowG0NDUgoPimnPgsROr/GGZgqJizE9PyO+zuDI30boRQsEQus++h6oa8TCUevBxiu91tOf6ynRclB/pvYGalnb5dz106KB03zJsD/i+SbGaThdzUPNqWs2rqHnVRrdXywjdRg9czjEH42qQxIjZdbAZA8Eon6s45Xp9f2obhN4mpbO1rULCtqurS/rWtlRXwhkJCWE7hcKQD4GRASTEjcoPJ5y7DsFTWS3ni3RSrxats15Rh4S4OWLwhriB+uFOxFBRUoxAbSsmxsdx5a3XMHn5HOKxqJzSZqS/F0NXLiC6tIiQOOTIsl8KVha2tAAEDTpJ2MUNZWwMfTe6MT07iyAJZyGAzVy12wMSrFevzmFublb8boJC0C7KuVtZtF64cAG3BodxtvsG3jlzDpf6h9A7uygfZAb7+jADlxCsu2GraoCtrg2JQiG4hGjztHbCQf7cFZXJAVZS/BUJwdgLmxCZ9lJhl6OgldPt9XXDVlAIO53DWUjui8RpL+w5uinwNrQ4go1+MznuZ8WtIYfpupx2cXMTQjU+NymXk7ZPDUvf17h4AKVXktz7aku5D9hsdsRnhGDMYWovp9MNX+81eOqSS8mmg445cO5tuMRlZ3J0GBPvv4OShLhWigeG3V0d2L1jp+yFra6plr6sVY3NK8tk69BNmuq82mpezDJdM8QDLg3uymfOWCvID3d8eAhuh33FR5bKaHGEKjnQzCPztPJXU1MzKosKsG/PHmln2D7Q/ZDviZxWywirvBozVuWUVsvVOkIvs6rnWE3rMQcz5+xtzNRc64R8upZpXW7x8fFHyFNocZkauJxtCDVvZUNptVzNE2oZl1ul1TzHmcp1JiYm8MEHH8gfD/WeuWqbpMD0ucXNX9wQ6QdlFzeBQHGlsBE/qsIixKfFDTgakqsARRfnERkdQFiIDHckiMoDj6C3txel4SXU1gshIH6jjbW1KCstQaG4sZLbgU3cmAcvnYeDZldIPXnS/qlHvMBhQ3NtNR4+cgQuYWe4t5Bgpd5zOm/p/CH3AFp0gNI09VV395IQpwuwRwJCvCQwKoQq+VTahXgkG+nnWZzsFaSpsGjKp4Q4V/z9N+BamIZz56GVKbFi4neXEMGZeh0dDCzDK9phaKR+uPsMXKJN556HAHqtnwPRGxeS/p4Hj8sZC3KB9hW5lt+UXbRNtPey2M/jchqwbNDnQFN8uRpWT9dlFw+aiVBQPBzGEF+cFeJVPOD5FxBe9snprAjXjgPyc+XP1Ao6ntjQDRQeOo5ogbVoZGbeewMlEA+jj72UKrkN9b6GfUuyx9J/8T3U0IC8qXFUNzTh4MOPobamBnVtt2dNIbrfeVOK2dqO7NNkqdD55kjEMSweiEsKCxH0+9B2UHzXG+TmxfPwiOtY6/7bA7rOvPW6EK9NaEj1zl589208d+I4qspKxYOZ9Wdq2LqwCOQ0x7mWW9VxGaFPocV1VnmC7DlNqHm2VwOh74P80GXnzwOOEbPrJNc5Z9U8wTd8Rs2zHQe1jNO8D4LrdBs9reYZ/Vj1dDpI2BLnz5+XafoM6AclV02qbROixo+Slg65bGa0VIgC8fsLjA3BOTGIYFE5CqaHEe/Yj4XRYfhuXUHRrgMomhlFbV0dKqrFDXCoF22798LldMp5cBv3HhLa+LZYWRY3sqnpaekb+NTjx1HqsqNQiFsjau8culjl814VrFNTU3LqJpoMf2JiHKOjY6sEa9hVCtfMgDgd4nA0dsLR1JFWYKlIkTkxLOdBdlbUiPa1Xjzqqddes7GgdQuxaBfb5TL/KkH7Ci/MwyvOyXwELbkCuIQYzHWbyMVTSAR8cO89CuRwbHIfl96F++jT8jONL8zALra3xSKI2l1yPtiE+CxpgQZbcRkSvgX5mdFMDbYcBDPN/eqtbwL2PZoqsYaOg8S7+9jT8m9lAUvxYv9NVBR6Ze9tdX0Dmuvr5KIp+x9/KrX1WiaHBuATD72dD2XeL0PnoV2cgyRiS8U1YWl2BtUtbXLe2HyhOWRLSkpWpt0iaO5Y/8gg9j31XKpkrcBNLM5hd2uTEbLbFBaELATVtJpXY7XXU01TvSosOeag5gldhBJUxmlCzbMdB6syDqWlpfKN8YOMEbMbgHqg6BUlfYR6INKV6YLUSlhmEptqnmCRwajtq+3oMQc1z+lcUcUtbTc5OSnFTqCgFL4lnzjDkPR5pZtfRHxWsxMooAET4ocXE+In3nUA8clRTF6/gvqqSgRG+tHy8OPiIIQIFukTH/2kHPxVUmf9KtcVCaPCY0cBLcAgRC0NxjDCNndIIBAsUClQmoUqoYrVmDifphaW5HlFq2LFyKWkoVX6R8pX6YpApbQqWGOj/Qhdvd1rmrPIvH5eLu7hrayBs3P/iqBNiGOy08j46mrYtJ4J2hcJL4cQd/nsy3fxNFzLi3DvO5rX8cXmpnPehnpbQ++/Lo/NdfiEpTuE3U+LO8QQD4q/L7AM9F6Rq1DZqxrkAC6weE19vo7G1b2e4dOvix3FUf3092ExpC45sRb6rJbOvY2ypz+S9fjnxOfjXpzBckkVAlPjUsAGpiZQXuTFoWOPyh4imo1gfmIMs+KBtfOh9Mu8LvuXMXD+NPY+8WyqxJqQnx6kEqt6Ymn1LnI/8Batb+J46mGtqalZ6XEl6BwfPHcKh599Gc7UoDNV4Ba6XeiqEQ/kxr1pW8MCUE/rQpVj1cYqrZYRVoJUTetl+n45r9upeX0fNEf7gz4Q0YjZDaD2zvLHqItQNXC5KjbVfCYbDkS6Oq63Sqt5jjOVbwQSuNRTOzY2JvMkcEn40w+QPi8SUImug/AN3KJfImLigYB6lBxjfdKehHDA5sTy5Bj2HnsE7kgIrXv3o7G9CyUVq18bT/XeRDg172+lEyil3hYhaquqq1Cj2T4osEAl6HMn6Dvlc5XK+DsmoUppWgWLYhKnM0t+DE/NgKd4osFEVCfFKeVTAopEWXSkF66GNtibOoUQyv55k3CK9l2DTQgCWlnKUZvb6/nlvuuw9VyGp7kDjs59sgc4euECnOJvjdfXwd65dmDSegVt6J1vieNzwrUnd0HL27j3HBMnYW6fQ/jqWbia2qU7QEKIVvqMabaBhBButEhJvKgEscU5xEJB6W9LPbLigg3n3mNrxKuObL/7HBofeRJzpTQzb2aCr/+1HADnfnTtymD+8eT8scsTI1ienkDF/Lg8bxo7OqWAJQ4+srZ3ldwI2g8dXdX7qUOiN1vPqm9mCr75+RURu56eWJ3hHnHdWJxfI7ZPffsb2H3wCCoakg/PNDBx/PI5dBw6hscOH5Di3bC9UUWhGudablXHZYRepqZ1EUqoZYRuoweCbAguI1e8B31FMCNmN0i23lld3BJUxmlCzbMdB7WM07qYJazaJHhbrlNt1Dq1ntObCffg6iKXegDph0lrutOrSurFpf0v2D1y9oJERS3m+26g1B7H3oePo761TWiFStkjQz/imZEh6btMOOLie7A54Pa40dnZgT1trXCJ3/zs2Ciqqqq23fReqiglWIwSFKsPUixaCRaoFPhzJ99RSlOZ/PxpVD79pwhVIibEKS1aYWtol64ARCZ3ABJNoZ4rcgS4o30P7LXW84KqkAiO3LggX7U7d6ZxH7CABZq7sQ3Oli6E5pbgGhqCjb7Xh6x9JmkbEs92IZ5zFbR0fOGLp6TgduWxTbK3tRyuvel9dW1h8nVNCldaIpcGhBXsO4Y4lbs8crCX7OWm30RqqVju4V75+w8+mtNDANnn2uNKtiT8PQ8/KxdtYPeBCM1gMjqAkrIyeJYXUNfQJH9HEd88nv74D8jPNR3pBON6yEX0WkHXk1BqbliVlV7Y515eNQBN77Gl3uMrJ99Erbh+fPbT3y/LDNsbFoRqrAZGzbN4JNQ01avCkmN1W6u0XpapTTVYlXF5mfiNPsiuBkbMbpB7PRAsU3mmOo71cjV9N1gRWwKr3lw6DrohkXCjGxD9yOtb21FaXYO4wy1+wKWyTP6cxY864XSjqJheOdtkD22l+IHfPH8WXe2t8sfOS+aSj5EVfGFg2LFevdgw9P3ogjPT50Z19Hcw6metC1U6DhKlnCeo95SgV88RuwNz/qCoi8vjmJgTn5X4T1zapEAlaLtEKJDs7asRIqSmYUU0snjVhSqLP0dJKWx1rXBWCqEpxFUmVsSfOBbHzkM5i1P5en5hRr4ud6Z6W7MhBd3Vs3CXVyJe3QL76CRoYqzE4cP0ZSWNNPj41itopW9rDgPJWGy6SsvhPHxCDtKi7yYRDMgeb3KdsQfFw1pKuJKQpUFg0cGbcDaTH3HnGtcMHSk6r56B59Hnc/o7kj2uZXA/+kKqxBrqfaXFUxyBRSyLT9QVDSMuxGyheIhs6dyJusamld5Xdg9o3rUXJTVr55Nl6Pc6feNKVjeCOwkdQ/+Zd/HQCx9aM2uC7IU9dAQVNAg1BQlw+r5aUj6yi7MzGLl6EU8/cQIdHdmnVDNsD1QRqMa6qOSYg5pX02oZYSVG9bxVGSPvaRb1HAjdhtwMHuQl4Y2Y3SC5DgTjoJcz8qZnUa+XcZr3QXCdbqOn1TyjH6uevpeQuOWYXRcI+rxJ6E4HwnJ2BBaIMadLCIgwwt6i5DryNjuqa2oQnJ+BK7W2fEWlECXiT6urp2UwE3LuSL4gkPCjdNThkgPQiOrqalmeTszSK3kV9XOj7SgfE+3R/Lgk1kikJyvFZ0z/CXMSpOOD/dI3Ml5YCmdRsXytrMMj/mme35C44brKqmAXos5FUz0pAkgVQyTKSAD5J0dRUtuAaHUT3FWZXzvzNiw0aV5UuSJUBnibqNiGfGJlr26uApDEaVM77ELQZdsPQdtI31shBBNBG9wODxJ7dsOWYT7SpDh9Vwhad16ClnpbnSROd5OgXSsySbBCiNPk7zeOaO81hHouw7vvGFyIi+/ejbh0FRDnAg2IE+cXfT/8fZG7QOidb8Imzl232CaXzyxp75Y+utns6bNKDtp6dtXsCSuuA+K3IU4mhId64BHnXYl/ju6S6Np3AMVlFejYtVPGOuwTSz2YG3EjCPqWsLy4gMrG3NxN1sMHb76G9j37VolWwspvltwKFnpvSB/ZxbkZzAz0Y2drE44eFZ+14b5BFYF6Ws1zrJdzmqC0Kl45Vu3UtC50CVWYErpQVYNVGQXqlaVOGko/iBgxuwlkczWwKlPFK0FpK2GZSWyqeUJvk7clrNohOM9lenorQqKWA/1wKSZBOxOMIDA9AX9xJWZC4vsQN/wCWwJRIXBt8RgSdgc80RBi4gGEtgu7C+EoLJLz1XppwMfclFzZyW9zynyCBuiQUKQlPhW4tzMSjQhV3ApXsRCgFhPnk+iML84gLD56EpDU85ZutRYpBoV9xOmBgwRqc5ecw9cKFo4kUMkftEAIQWeFEN0ZelCl0OzrRli07xai0V5eJf+2TEjRSC4E3gLY28QNv7IOjjTHz7DQpJkEHLuP5CQaeRsSp848tqG/J77kg6emDfaU72YmWNDahKDN1X2A9sM9wbL3WHzGJFrlOSAePpxBmus0KG2lm4BvHvFgUAQ/HJ4COLv2y7pMPa50XMHT35EPDq5Hnk+Vpoft5UC6HOzpbwj2dsMljn85EEjOQiDEa6kQ/0tC1FaXFKG2thb1rR2oKCtG2O/PKlIJ8okloaqKwVwI+XwIis8sKh7IguLauTQ3jT0nnknVrh9yOdLdCQirKbcIKzcI6Vbw9ut46NmXMHTtMna2GCF7v8IiUE+rHRd6fTobvZ6wEqRqWi/T2+S8aqeWEfo+aIaOB3X+dbNowiZAJxTNf8rQSUVCkE+ydOhiUc3ztlymt8X74HQ+ZLPPt727DTm619fXy5XLKBw5ckSuj95cWyN7WnY11aPebUe51436kkIsCwGXKKtGWIhPTyyMAOXFRxfxFMLnFWLV40W8uglFLe2y5w6FJVL4Rui1d0kFbE0dcLbuFAKzU/akOSpqaEZ1xOhVsbsg2ZtY0wBHfQtctY1yBSoZhJ3sCXS7EfUWIiGenJ0FRbBTOYVUD50MKXtHJISgEKmJpQX5pE09dhRUaBUqsqeLlp3mGKVlSYV4itB6SVSnXBQZ2ge3HxjuFSJwQShsIX6pt9DCnqBtnJW18nV4nIS2eGBzFpesOR4V+beIvzU2My6UgU98jja5ulamVbLUbeLigQLic822qAD/PfH5SSRsseR8quQvlsFnjD432oamsqL9UBs8yI2gJV/pc6T5W6VfK3224kGIhGtEfGZOv/jMRF3M70NsakQc76Sc5zXkcAnhKj5H6sUW54JLnCsOIczj81NwNO8ALXigL6erIr9P8ffLRRjEw0m2v53to6N9oAVL9NXBSKwGZ6dFvISFnmsILPthH7qJhDgep38RhUvT6Gisx27x2zlw4ACe+cjHZE9sXVMTSqtqMN57E8GlRVQ0ZPZ/lgsJiJBuUQMVmpEgGg5hcXoKs8OD8In2aaEUd2GhFMS5tJENEte1bR3iPFh9rkXCESyMDa8sS8uEYnFM3Loml6flbWhhhJmpSTTV1aK60GuE7H0M3ef4XpdLzIGxqlPrGdWOUW3VOJ0NYWVnVfagrghmemY3CeqdJZcDgj5SNRDpel05Tah5tuOglnFa7XnlOtWG0PfLdaqNWqfWc3q7wm4J3d3dcjDZ0NyiuIkuYamoHFN9vQjOTCAsxKg7Goa/TNy8mluFSChAVIhcenVMPVoRIchQ2wyPuEDQ5NT0qpYFEPeQBkXbYacb3pIyOIQwdFcLgaFNt0R2FGi6JJsQK3Ehrq3siBVb8d3ZikuFcG1YtV8dsuVeV9Q1wyvEU6Ze19v24qJX24Lixpa0bRP8d4aHbsFFYp58O8XxZIK3iU4Ow00CvyO7TyxtE7l+HgkhKOXAsJz9dd+Vn6mrQnyebekn4CeXABqAFRUiNXzhXdirauFs35v0ZxU4xH7tNHdrNCb260acloMlYZtyD6DFCcQjJJydB+SDgBTDIqQjeOWMXI0s1ym75OfVcwW5zg8r7Qdvib95JyI2Z3KwlhCyzkgQznCytzgsbErKyrFz7z4E5mbQJkRr++59si4d5BowcPUSdj18PGvvbDbYjWBpehIecU7OjY/INknArmdAVyYuvPFttO09gHLNnYB7Ww+ceHrN36O7ILgcdjmXLIn9igd0NpQHBSshyGnOE2peffBX01TPebbl7fS8mtbLMrWpBqsyLn9QB4IZMbtJpBsIxmkuV+sp1gWpLj4JqzJOq3mO9TbVOj3PsV6upu8nWODyog88CwANPJuensayy4tYXSvchSVy2V23uJbQ7AgxIXxt4qOQ4pIEjBB/qsAkYREXwiWwMIdCIZKkX6SFACU7CqF4AgUZ7Ai2ZQFMg4TSiSIWj8ti/+R64BVCOZMAVu0LikukYHZkmYmA7EkE07FQD3U21waCBnmFheDytnbJGRJymb6LB4aR24GjY29OIjg+cB2xqVE49j8Kh1yoQZSTn6qc8kpawRkSYjUaRTQWRVw8gEQXZiGki1xG2VbTKAUrfbdkTqtmiW97lWClvz8k/Xs74OrKLs5D4pqAs29It4ZcB5GRALYLEZ3OH5amxyKo1zUsxGv4zJvwVtXBVV0vfXMLxD2srqkZdSkf1LqmxpV0rn6uxI2LF+CMhTc8E8HC5ARGb3bLnlcWjBsVsUHxQOotWfuwdvPCefEwEkbX0bUuJ+QfW1tTi/odu1IlSWib4qIC+ZnQPLK0TG1j2YM9xdGDhCoC1bQuKjlWbazSahlB7eg2alovU/dLWG2vBkK3eVDnnDVidpNY70AwVXgSlFfr1aCWcdpKuOo2elrNM/qx6un7FRa3ly5dQk9Pj8wv251wCSFE04ZRLy31yEIIuJC7EGEhmDyIw1VYBEcDDYy6vSY89eouT41L4QuxvS5WaSAYXXLI75QEGL2+JzsSh9lELYlIev1M6+vTK+xsopZ8ekl4Z+tFJXvqDY0HfHC07oKzPrdeWmrfWVaRk0BdEcFuNxxte7KKZoIEcPzKabg6dsNRI+ylcEydv+SjKmKa1YGgM5R8V2WvbpH4HIVQcxQUIUYD6iIhudSrfPgQF/qkWKWpyJLHTMcF0Y77EZodILvYZEHr3bEf9vbsa/PT5xU6nRpERgsk5CCAE+98Aw5hj64D8rrCwpUID/YIjVsphasjEhDNFaC0sABVdY2ob2uT7gKZoFfx3sJidDx0e2lcK2gWAP/YkJwndqOsd1otKwJLi0Igj6O+a7UoJWaEcO4/ewqHX/jwmpkL0k0TNtjbIx9qDjx2Ak3lQnCbeWQfKFQRqKfVPMd6OacJXVRyrNqpaRauehmniVzFLMFlD+qcs0bMbiKbMRAsXzGr5wmrNhkr0Upwnsv09IPC3NwcBgYGpIi4du2a7K2liwUJ20mbBwG7C1EhktxCSMQcbhQIQUc9gM54BDaXB1PBKDwNLYjPjKM0sCCn+aFeTBJPASFmxYcJtxDHdBmiWRM80eCK+CVRu+JSQAejiEoWkXJQmbco6ZsrRGE64bkiIEWbqKiBK4tIlT2otASqnLlACK8cB5Q5aN3/+jZLe/JBJQKBGDyRJSx88D68CMqlaR3CPio+Y0csKiwS4vOOwkED6qQ0Tfo5uoZvIDgziYKaOiQKxWcjBLw8t8VnQZ9NbDE5dRn7/caFAHM43YgEF+EsLoKzY78U/wT3rupQW7cHhZE7QG6CNko+tHLRh+zCnOzD3Weli4YcEKYIWhKqEX/y7QCL1thIPwr8c3KGh4j4uarCVQ7UautEUVGh9HGlmQZILI7evIaOw8ey9riS7dit61kXM8gE+b/SNcFBnxk96N1Fss1dS2K9QQhd3dWAxPnA2Xdx4MnnVvnnDvX1Yur6ZXzux37cCNkHFFUYclotI6zqCRaShFrH9YSVIFXTepneJudVO71MraP4QXQ1MGJ2EyG/TLm6lfhI+WPVxaMauFwVm2o+nY1Vm4xaxuVWaTXPcabyBxUStxRI1FKYn5/H0OyCnAN2IQZ4q2qlnyK5GNCSpqFyIRxJjEbCclaC0NKSHKhFIShuwo7lJbraIERyVdhW0VKsxeVygBUN6CFBLFd3Ip/H4jI5nZhTXJTiQuwS0WU/lvtvwLu8ANfuI4iLNlLXMAl9VTRFmUsEeUyiTWrbu+MA7FX1awYLqSTthfASf0+REFKoqJWC2xG7vRxqVAhOPh1YYNOrXU/LDsQLSmSvJ19UHQEhekQ8vWhHebkLMzNBlM92y55SEuOhhA0eYUrbhBJ2uMLLyT+AelGVJYmpJzY2OSLE6d4V8ShdPVKwUI2cPAkamhZxxBBZmoC3pStnN4V1CVqa6UF8B7ksFBG8cQmh7jMoOXQcS+Jvpc+YIN9WR+q7DUyPo7wgKQ5pXld3IgavEKvVdQ1J4Vqe/rhuvv+u7PFv3Lkn62AqErRErr2lNPtHJBwSDwkBRMQ1jlbkomm8SmvrpYvKnYB6YK3Etpw39tx7lv6vxOitGwiI35mVq8Hlk98Vn2W97NUNiOs07SMqXTNseOGFzPPwGu5fdCHIca7lVnVcRlgJT0YXuoRaRug2eiD0fdDbRJ4j/UHBiNlNJBaLSVcDign6aHVhqgtRgsrUr0HNsx0HtYzT3CbBdaoNoe+X6zLZ6GlDUtwSfX19Mk1uCePzC1hYXML8wqIcKJaIx+Q0SzMJJ3zxhHhCdspZDCILs0JJTMIlzo+IzY7C5g64CosRLy6FR4gFh9OenGVAQAKUXuUHHEJgVVTDQW06HQi5CmSvLfUMk8gLi3xiaVb2AMeLSuEU7UXc5DN1u8fMKepJqJJQliPhqYc2Qy8tiSpys3AI4RuMJeAVxwVypxCngVyVbeV8SF5I6ViiNFCO9lFSAWfF6vlepwOFiEQTQmDbUFObPC76+xIB/4obhJU4ZUhsRq5/IP9G6tVN12scOn8e7uVl2KqqECvxyN5Q6ml2NnfJadYysR5BK90zhMimab5ihSWyZ5WhwVgsWAlalrbQNyfngRwZGkR1RfJvJNFKPq7MoUceS6Xy83EN+nzou3BGrozXcSSzC0E2aCq7aCgshGswGYLLiIYjCIt0NByWs3OQ/+tmD+BiSGTS355uyi/yfy3yuC0F68zEhBC7p7D/qefXiHru1W3ctRdjvT3igTOIrrZWHDt2LGVheBBhQaiKQ05znlDzLB4JNU31qrDkWN1WTesilKAyThOU1u04WJVxoGvNg9Q7a8TsJkM9s3zD1wORrkwXpFbCMpPYVPME2XKa0Nu32saqXE0b1kKCloRtDHZM+/xytbJAJAKXuIgszc9jedmPwd5e2RPr8BYi5HRLH70CcSO1CQEUpBkF6lrl1E70HfEsBM5EDNGRPtmbmyivhruiRoo4que5akmAEStTZzk9cJZXSXGozmZAQpbjxNKcEJHLQoF65AINjrIqIaKtL3iyp3a4V1wQbYh37Ie7Mv1iC2TLbg2J2mY5ry67Ndy44RcPeVGUlDixa1eyt2BFPAr7XAeTkXiMydkRmix7XKMzM7Bfvw76axJHjiAmHhxo/lqPaNu+83BWgZpO0JIwlbEmVonls9+Fl5bTFX9zLPUgQu4A5ALhSM0o4BH11EtCwpV82aYG+nDio5/M6TV/vj2uFDbq5zp26wbi0UhSyKbEa4F44PKKY/eK84riOwmL+NYD4sFFfBc6VH/r7Hs48MyLUrzrkKtBZYN4SOjcmSpJQr26g2dOoprmohUPayRiOzs7U7WGBxkWgHpaF6ocqzZWabWMUAWqWsdpvUzfr16vB0Lfx4M2EMyI2U1mMwaCpbPJlM91ezWt5hlqRy9XbQ2ZYXEbFeK2sqFRvqb/3muvIOz3obi2EcVlpRgfHoZ/blb2ctmFUCEXhMlFH2YnJ+QsBIFgCA17ktMnLQ4NIDw9jmg8BldTJ2IlFcnvgge4uJOC0RH0JV99R2PSj7Wgpl4OFLNaeEH2KArxm5zKqwVeYauKXxXZphCpcrGFlq41QlmFxCAJ6+WJURRW18oeURKEVmKWYPsYrdBWltuqYXTskaFb8NDCD9K/d7V99Px5cXxFKPG4sNjaLo8/dOUMXLTowW5aKCG9QCVC44Ny2q6SHfsQrqiTv2ee5ordAQhnJJkmwUr+acuz00IktQqBWiLdAYoKhXhtSrof6O4Bg91XEA0uo2HnbikSM0E9rr3n35ev8zfa45orfRfO3nHxSmI106pfJEgbd+xBWR2t1LcWqq8SgrVWE6xEOr9amq1govuiTNPStEbIGhhVBOppNc+xXp6pjmO9nNO6CCXUMsJKDKuBYAHMZQ/aQDAjZu8ANFiIXA1YBKqBsCpTRSShi0o1qGWc1sUsYdUmw2m1HYLzarkeG3KDhC3NVXn27FnMiHNigVYoi0QxL0Sr/HzFBYduyPFQUF58aC5OmoZrZsmHDiFmEzY7/PPzmJ2agMfjRXl5GUZn5jA9MY65QIi8U+VKXnTRolfDBC3hu9zbLZ/KC9p3IVxULgclFgoxp0I9v7GRvuRUXiXlKG3fKYWeOkiMhBxBMwVQL/Hy5Ji0dbftgKO0UvYYWkEDmKJ9V6WtraENQ3OFmPHZ14hZhuzlqmE0Sr/zINyVNamatZAIZfvC5jY4dz0kHhicK6I0NjOD4143DvXfxNfE3zRFZcI+Io6ndOc+hMrr5OdBveMEC1RPypeYelSdkZBclGOkr0f88S60794r63iKK4KFKrsIUA+qU9jWS4GauQeV5j0duXoBDvEQ07hjd249ruOjaD+c3+twOidi4oEpLs41WrhiK02m/v4r/5DW75XINtArU70+2KtAiNhClxMVRQWoNIO8DGlQhSGn1TJCzatpFpIElanCkrESpGpaL8vUJtvpZWogHqSBYEbM3gHSzTlLcJkauFwXpOo2HFuJUE5znlDLuNwqreY5zlRuWD8kbnt7e5PCNhCRa7+X19bLHqNpcQNeCgRAfqQxIc5KK6sRF2K1c89eKUwZ6qkLCkE3cL0bPp9fCM4w6lo7MEdCWEBuLkvzc0L4lssleW8MjWB+ahL1uw8gKs4dV0rQFNbUw7e4gLgQBNR7WVBVg0BxBWIFxVJEU2/x/OyMtGW3hujUGGzDt+Bq7oCtdZd4YLt9vpK9iux1FQKYBofFa/agb8GJAq8dLS23xbIKC05aZc3dtV+6V+iQGONX+XTMhYkIvC074KfZYsl1IsV//uA09k2N49937cbpllZZ5gwto7KyEkNCBJEbQXV90t+zPiVGaVYAgtwBisVnV1ZWjqHuS0LLCoFKPqtZBCd9L/naU49r0669KBPnwEZg0Uq/TxqgRe4BRFhcg2LRiBTNJfVNW2pACPm9Fns9acVqtoFe2eqTg70a0LF3n5xyy4hYQzZUEajGuZZb1XEZYSU80+UJVfwSap7t1UDo+3iQBoIZMXsHyNXVQM0TZMNpQs2zHQe1jNO8D4LrdBs9reaZTILZsDmwsI0L4djYuRMXL16QIndubBRxuwMlRYWyp6/z8FF5UdLFIsE9djU79qxcsJaFSFKnS6I5OcnG5nRjXojcksoqlIlATIwkJ+AnEkL0UE/k3PQUQtEYqurqpRAiSCBLikthE2KSeoijniL037gmjt+GQiEmSkvLVi3pzLgjQTjsxRhMTfZfXlO55m/hHkPyu6W2l4U4Hb16SfoRFxYXSx9Ugv7GEuWVPfVWO+JRKdZpMFKBOAbysfzRv/4L7BwaxBkhVN/72S9JW9qWPk8SnF6RLq9rRElVtaxLx3oEKtvn4hJA399GBlHRq3qCRCv5uDrE57i8tChX3HKLz8YpzgM6ZuqdvFODtdIxOzYivytXwe0HMRX622+eP5uxdzbTQC+C6stLS9G6/1CqBCvThtnCQfmQ2NHZaYSsISdYELIQVNNqXo1ZPBJqmupVYckxBzVP6CKUoDJOE2qe7ThYlXF4UAaCGTF7h1jPnLMU64LUSlhmEptqniBbThNq+2o7esxBzXPasPmwuKU4EAhgam4ebvJ9FQLNJgQv+V1KYae8Kl6YmxVlJavE4cC1K9LPUfbOiYtfgRAT9C37hZCdnxhFcWUt2vYm/XHpQse9rgSJMbKZn52VIoh6KMkNQsUn2iFIGA5fvyJti4U4rhRiidwmrLh2LYyliWvw2hdR3lQvhXKhMnBH7zmIimMfEn9HUujvQE1zsnfVCj7mxZkplFbWoLq1HeXnP8Dz//m3QDLqH7/yn7CU6p0l2H5pZlpO0ZSPoM1FoJL9eM/1vF0C1sOV772+RrQyd2OgVibIp7VOfBeVLe2pkrWQGCXBuePY7RkcVKTgPXdaugtYCV6qH73RjV2PPYlYJNkzPdl3S76VOHrsmBGxhrxhAaindaHKsWpjlVbLCCtBqqb1Mn2/nNft1Ly+jwdlIJjjPwhSacMmQieU2lNFJxVdbPkkS4cuFtU8b8tlelu8D05vJpvdnmE1BQUFaGxslINSaGJ8j8uJmrJSLAnBSr1McyIOCZEXCkdQJsppmqT+691yyiQSq3bx5E1P38GFeSAWFaJqUbog0ECzJfFg5fQWCNHjFWLYJUeoLwox519aQqmy/jyNWidhWlxWLgcoLQrhSiJVhXpJKZAtDeCh5WDDviUpZJuE8CwuLV0ThkYS8EVqhcjwosgdgkP8Nlp37l6p5zY5kCgjH9YITfclzme73QGP4mqhwsccCQYxOz6CeCwGz8HDqDj9HsoWF+BcWMTI8RMpa9U+gNmRIVTRyPYMkH1RWQV8czMry7Fmguz1CfuJuHiwjYnvJRIKSJeAaDiEgPj8w4Fl6bccEN9Xuh7KdJCQrWpqRY0QjfQ30efGgY7jTiHnZxXHn2nBBJfbg7nJcXks6ew84gFh+MZVOfOAlQ1tOzc1iZg418tqk4tfqFD9RO9Nue3c2Ahc4pfgtSXQ2daKxtr0ftcGQzroPsf3ulxiDmpeTatlKmoZp1VbqzIiXV4tV2MOW8lf/k5hxOwdgoQFiVldnDJ0glEdn3iEmiYy1elwfbr9MWSXi43h3sHClkJdTQ3aW1vhjMcQEwLMJ4Tj3h07EAkE4LHFsTA7A9/8/IrQLa6qRklltZx+iIQoCdPKmloh8qKyXXtCSN8VsRtaI1YJFnxWdTTtHL3GDon9k294YWm5nEA/IMqKyc83Hl95G8C9CIODASwvx1BQWomdO8oR8i9lFYYkVEhEyon6RaDjyQTVu9xeLM1Oy7ZDQsA3dV9B7egw3n3pQ9IlQYUFbbZ2Cfo8chGyOtT7y0LVL74n//wsAuJhwy8CidhFIdTos/TNz4jyhazCWudOi9Z00APS1GAfaMYD6hW2go5tvOcmfOLvr0ozawHZLE5OwL84n3ZmA7fLjemRQZSJ34E6TRe5EwTFb8EnPlOP3YYSr1uKWJpuiwZdGgzrge99aqwGRs3r5Sq6DcUc1LyKXmZVz7EauIxjDjQYncSs2st7P2LcDO4g93ogWKbyTHUc6+Vq2nBv4BkSaC5bYnRyCvPjYxifncNyJAq72wOb3YliYVNecXsGg6tn30epyMtpo0pWuybkw5LPh9nhATmtGLkBuMlNQVwwacUuNy0MIUS1vIiKCyfPEHD1lhfT02FUV7vx1FOrZ1VIR0CIFWqXLs3k0rCG1df3VUKHKDz9Hp77z78F6uv8o3/xr1Go9M4y0r+SVoJgUkkaRCXbT+VDtKCFiCs0l4tsDHdflkJWPTbufSU3AIZEXTK+99PoJHtdw1ndL7rfflN834XoOmbtz0rQeXnt9Ds4/NzLaXudyebGmXdx8JkX09rQvqqbW1DT3iXzBS6nnPmD/HK9Tod8m2Gm2TJsFiwCOc2xKgbVcg5qXk2rZQS3o9epeasyhra3qudA6DbkZqAOJL4fMWL2DrLeOWfVPEHbWNXrZZzWxbAa1DI1reaZTILZsLUgcUv+muR3Ozg6Bn80geaOTiyLByp6DTvWe0suSRqHHVX19Sgpq0BhGlEbSLkNqH6tKrQf6tnltMry0sLKRTRuc8h9ouTAyjyze/bkJtgGr18V7SQv+oW0KIFAtsXn3u1ru6S+a+1qUUf/v19C1/Ag+h89jvdTA8FURq5dEf/ePpcdKdFJr//pT6Bd0ewPi+JvdNkS2PnIWkGcCf5stoJIZXgFr3TQYMGRWzfQdeTYisi2guyun30Ph2nhggx23W+/AY+o78zgb0w2ReJBq3X/4VTJauQ0XOK82v/IcTnNFvvCks+sEbGGzUYVgXpazXOsl3OaoLQqXjlW7dS0LnQJVZgSmcSsVRkFelNMA8Eofb9ixOwdZjPmnKW0lbDMJDbVPKG3ydsSVu0QnOcyPW3YmvBgMlqVbHh8XKg0J/zhiOxdnJ8cQ0x8dwVFJXJRBxK1BdrAsqnBfrlyWVF5JUork/PYZoIe2tL19JKgW4+YGxeCSifgFyJbOW9VrKZ4Knv1FTzz//tD0Ivwb37lt+FrWf0aX9+H1XF6lUUNtpIoXQ/0kOKbnZE+tpm4dPK7KC4sRMu+g0L4WrsREJdPviUXh8g0MI5E780L53DgiWfkIDUrpIC+0Y3Oo4+usaFeWJqGixb5OPr4E6gssp7azWDYTFgE6mkWm4Ren85GryesBKma1sv0Njmv2qllhL6Pkg28kdsOGDF7h1F7Z/mj1sWjGrhcFZtqPp2NXq9vrwa1TE2reY4zlRu2PiRsOUzPLSAQDEj3AN/MFKKwIeZ0S99YckFwej1SnJAAJYExMTmBqtp6IWgrZe+bLmppEBBBK5pV1tbJ2RaykUn4bjaOkWE88av/AQ2LC+h+8UO4+IWfTNXcf9AAqGxuEPSd0oNKsxCp6YQlMTMxjsmb3ahsbkVd6tW+FdTe2K3raBdiNlN7F05+DyWFBVl7Z2ngHP0NAZpLWFxeunbsWOmFNSLWcDdRRaIa51puVcdlhF6milVdhBJqGaHb6IHgNrnsfp9z1gwAu8PwQDASl3ySqVAZCUO1TrfLVKfD9dnEJtnlYmPY3tCgL/KxpcFkOzo75ICyjpZmKSjra2vgddjkzAXBQAABvx8tjQ1wi4tecVWV9If1z83IxRVowJdccSw1awIRDgQRj8UxKQRSWIhkGq1PPXlcb8XYQL98zc2LN2SChG+mtrKRoNdqvT2oGxlCUSiEmy99OFWzfaBBZOlmclC58f4plNXUylkE0kEPJDQAjeYeLigpTdvrSg8l1M6oEKpltCxxGjtqj+xIIJOYTWsnzjVyFaisb1hzfKFlv3R9oMFcNMtGXJyLfnF8heK8fPjgfulWQMFguJvwvY9iPc15Qq9n1DSh21DMgVHTRC71HKuByzjmcL8PBDNi9i5Bc84ydGLl0rOp2+j5XNshyJawsuc6Rs8zank6G8PWhsStOlsC+RySwC0vKoAnEcPOjjYUCPHhEUK2pKwctY1NcpBNcH4Gi0s+BJaXxZcvBIpog0QpheKyMkQDy5gYGpDilrA7XZZCdPTmdelXS4Oi0tkw4wO94oQFPGkm3texEr8RcbBt772L0qVF9D/2OMKlZama9bFrcR5VZaWYicZSJeuDZl3I5e8avHweheJ7yCRSiVg8gfnxkYyikqBBW1ND/Qj5fJZTiDEkVGeGB6XIzDSTA9lR72w4GJSr2VlBNhNTU4guzSdnmvD7ZK8+CfXZ0SG4xHkXXJhDZWkJaior0NXVJWclMBjuJXSP4/ucnmb0smx1er1VHaetylSsygi1XE/T9VGdW/x+wojZuwAJSJ5zlk8sKuN0OlThqdpabaeXUZ63z7afTHA7ahsbac+w9VB7b13iYkc9YaVej3y1W+ShHtxqNLa0osBhx/zkKOZmZ9HR0Q67OA/GR0fk8rfuoiIpcOfGhuBbWJDCknpyqUyFpgrzCxEzPz0tbKJS1KbrpZ0Qwndxbg42sV+PEGjUK5wO8gedHh2WU0Wp7UWam1F6+hQqFhfhEGHw6NGVqbGyiWkSXGxLwnNXNIyPvP8udu7bg1Oh2w+nDAlUts3G4KXcRCpNwTY7PiYXx8gkUskVZJp8ncXxZhK0VE5hbpwW0KjOuP987Kh3PlMvLq3mFpgcQ31zC2IBPwJCvM6PDKK8uAhdNC+sOPcefvhhGZuptQxbAb7PUaym08Uc1Dyj16nodmpMqGV6uV6nBi7nmAL1ymYbA7FdMWL2LkA3zGxzzupYlaXbXsdqW4LKdYGsCl5dtFqh1mezNWx/SNyywK2trpK9uI5YdKUH9+bVy1LALQiBWiREVDiWkIsdzAgRRIsyOF3JqbsoyF4BIXaod456cmnhBurRo0UU7KItXVgWCbGHWEz2+CIek9OOpRO+NLBpaqAXwWW/nIVBFVVBIWIbu6+gamQYtw4dxkwoJBdMoGV7i4RtOpEcFkJyaWpK2rqFKP/J2Ung7beBgwdxyra2d2NOtM+22QQti1QSnpmEIs2DOzk8iMD8XNZeV/q86JU/9Xxm6nXldrK5B+RjZ9WL66SHECedP3Y0VFeiuqwMNaVFqK+vR6EdKwKWxKsRsIatCN3j+D7HabWMUNME5/Vywmpb1d6qTi9T4bxqZxVz+n52NTBi9i5BJxP1VjGUz0U86gJWF6OELkityLYfnWz2+bZnuD9gFwUWuA011Sgr9KJIiNYCuj5Go3AJAVNWWgpHNCwHE5G/LS3qEBUiskQIGpqTtpDmvBXiKxLwY2FqEmFR5xAXWVWskngiMUcXXxpsFMogfElQ0RRk1OtLiyHYRD33vMaFqG58713Q0Ifl6lqEn3xaCnDqdZQiWevNZXj/ZNu+uICjQqxiZgZ49FGcSqy9GbDtrLDLJmilSB0SAnAhu0gtLi1LilSaGUL6uloLemqDAv1d9Go/0/5pn+QeEBTClxbZSCfoV+zEvq3cDWLimiY/b3E9oIUUOvful+K1tMCD8gKv7N2nXv6m8hL5MFRSXCTPGyNgDdsBOq/5Xqff8/RytlXtrOqy1TNqXo3T2RBWdlZl92PvrBGzdwk6ieSrV0XA6sJUrSPUNJGpTofr04lbhuxytcm2T8ODB4nbyspKKXCbmpqwoyvpg9ve2iLFSllJCezRCBzxOIJLc9i1cyeKPUK0CvHkFWKnqrZOCFSb9PekxQqi4jdCAoqJCHFcJMQc9TqS8J0ZGUI4GpOCThegtB3ZhYSglHaxGIqKixFvbUPB6VOoWlxEVIjB4eOPSwFH21NvLvkB6725KseEAP9cOADQSOCFBeDIEZxK4zJL7eYsaEW7tGgArQKWSdCuiNSxEdnrSq/9M4lPsp3s65GfRbo2CdmmEL4Oh1O6PKSD7ehvI/EajYThm51OTvU1M4XQ4jy84oGgUIjU/Xv3rohXikm4UjAYtiN8z6NYT3Oe0OsZNU2ks7HaRo2t0oRVnV7GMQcajH4/9s4aMXuXoBOHuvgp5IsuNvU8naDZBCljZct5qlPR84xans7G8ODCg8xY5NKAHha5tRVlK/64xR4Xygu9qKyoRGVVNdyxiOzJbe/sXHlFPdDTg2hICEmBq7AYS/PzmJ+ckL2BVoPISHglBSW9xh+BTfzeSPiGq2vR/t67qBUikweCSeGX6s0lQekQ21qJzx8N+WiOM9w4eBhV3VeB/fvxTjCcVlDmKmjpWElwUq9zNkHLx0qClubapZ7ddJCtX4juxakJkU7fk8v7I9eIdMKXvgc6tpgUsDOI03ch0uTvahNpWkq2uqIcjbU12L17txzEZcSr4X6C7nF8n9PTjF6WrU6vz1anl+mkK+NyNU1Il6/7bCCYEbN3ETqZNjoQTEff1iqfTqzmg9oOs5H2DA8eJHBVVH9cEkEkfGm6sKaqihWh23P1ivTBdSWi8AshGxWnYKEQw+GFWcwLcUXCjpbQDfh8iInfFo3WJ0hQUu8D9ShKMdbRhbpLF1CWGgg2evxxaUeCjoRcg28eZTSwTRxPVSyKquIizMQT2CUE9k47cKOmDt+IJHD81nVg7178/a0e6daQTijmK2jpFT35nBZkcCNgQUu22dwInIVFmBZ25Jqg9uTGohEkhMDnPLUZ8S1idnJcDvIjF4ECt1P2ntP3Qq4CQ92XUFooHlBEvrq8TApX+q727NmDAwcOyB55enDRv1+D4X6A73MUq+l0MQc1r6bVvIqaV210e7WM0G30wOUcU7gfB4IZMXsXoaehjQ4Eo3yu4pTrrUSoWqa3SelsbavkY2t48OjvX8bISBDLyzGUl2futWNBxEK3Tgin9tZWNNbXS0FVJIRWZVkJamtr4RbCKyaEbpimehIxpVvbO6TookD+uRVVQlQuzgmxNoUirxdN16+hUgjMi4+dgL00uboXuTb83IG9ODY2ip0DfdhJAratBTN2Bz463C8HoZ1yuFEVDGDX5YsQ6g3d83MYnJoUojK9+FQFLQlPFto6JGgpsBtBJr9Y7k3V3Qio5zQsRD0JekrTL5Li6ZFBOJxOuRQwiWXfzLR4KJhDQ2PDimCl6bCC87PYs2un7DWvKSlEXUnRir8rfdb79++XPewsXI14NTxI0D2O73OcVssIq7waM1bllFbL1TpCL7Oq51hN6zGH+3EgmFkB7C4TDNJNfVkKRv7o1dW79MDl+ope6jYc6+2oac4TahmXW6XVPMeZyg0GK/74j4eEoA2gvb0AX/jC6iVlNwqtbMbMzs5KwcUEhEhlrly4gIb+fhz6nd8BzTT7jc99Hp4Pfx9iFRXo/uAcPt/ZhsS1awhOTgIkckU7j+7ZA/zpnwJ+vxSwMv7e94CjR4Ef+AH81KuvwSPEZfvhzHOi0gCq+YkxuTwsz1xg9Wshd4PJgV6UVtWKNsU+BPSa34rp3pvyb9/3yHGZ77t2FctCOBd7PLJtrxDuJF4DS4uynlb/oZsYCVD6rT713HNyNgqDwZAdFoGc5jjXcqs6LiNYVOp1VnmC7DlNqHm2VwOh29xvK4IZMXuXoUFgvLwtQbGVmFXzBNlwmlDzbMdBLeM074PgOt1GT6t5JpNgNhisuJNiNl+8H/0o6ubnsSTEXLSzE8H2dpwhv9yODsTKyqRA5Av+zzz1FALf/KZQo2N0ksuZGpovX5Zidubll/G1SBS9N65j3+NPSftMnPzm12WvKvW6Slb9XJRMNIJlIUCPPf+yzBbQ1GYWUPnZk2/j2IknZf7MO0JkC6jHlNBnCkhXbjAYsqOKQD2t5tVY7fVU01TPeXUbDno+XVm2cnUfVvUUl9KsMymXo+2OEbP3gEUaVS1ujCwC1UCkK9MFqZWwzCQ21TxBtpwm1PbVdvSYg5rntMGgs1XErKOvD4X/7t+hQMTkuU6BhmM6hZBdfv55JL74RTJbhdrzS3yUemo//WmcbGiQearPRSCeOXMmlcoMt6X2MBsMhnuPLgQ5rQtVwkpI6nmrMj2frsyqXM+r5emELb3BoXA/YMTsPUDtneWPXxehauByVWyq+Uw2HIh0dVxvlVbzHGcqNxh0toqYdf+n/wTnX/81fCK9kCyS8Bh+z1e/CocQtpk48Y//iJkTJ3Dd9HAaDPc9LAYZXQxyGcd64HJCF5Rq2iqfrsyqXM/nWkZ+s4WF6QeSbiduP1IY7hqu1KTv+gnGqGVWaUKvY9Q0Y1VmRS52ZMPBYNguJObnEfjgA4yItCpkiVAqBP7H/5D5TJB7gRGyBsP2QL1fZQokNK1COhu1XK3Tyzmk20YvyyXof5ea57RVTLAdl1HHmtrJtZ0xYvYeQc7XKvqJx7GKXmaVt9qOSWevlnNar1NtVNTydDYGw70m+vrrWO7rS+UA8hIjSarOGRARNjHFxorrZtCUwXBX4PtPLoHFpB7ytbOqU4Palmqv5jPV5xOsPgO9TM1zOlOswmU8Xeh2x4jZe4TqdG11oqVDtaU05/Vyjq3ShJrOF7VNZiPtGQx3msi5cwgWFSGaCja3G22ivJbqKipWQpgGeBkMhg1B94NcAws+PeRqRyFbfa5B36fabqYyPa3bq3VW5RSs6tQy/XNV82o61zxD03TdDy6CRszeI1RXA0ZPq4HLdHItY/S6THlOW7VnZUdY2RoM9xrnc89hubNzJSzV1krXgmoRos3NWNq9Wwb7Y49Je4PhQYWu4bkGFm56yNWOQi42uQR1f+natLJRg26vb6OX6WndXq3LltaDWqd/L2peTxNWeRXOU0xuButZmXSrYcTsPUR3vFZPsHRkqiP0+kx5TlNsVU6kS1uRrd5guFe4X3gBiQMHEKqrk8EvBOyi2y3dDern5hArLpaDvzxC5BoM2xW6BucaSCxZhfXYWtXlG9T9WbWp1+tBt9e3sarPN6jtWLXLZensckmref5OrcqyBdVOTXOe4DzNrrTdMWL2HsK9swSfYPqJxrFVmtDrGKu0WpaJXOzIhoPBsB2oevZZOFIPkAkhXkfIrUCkG4WYddfUyHqD4V6hXlOzBRY9eliPrVVdvkHdn1Wber0edHurbaxs8gmZ2qL7MAW93CpYtWHVtppX63MN+Z4Tqn2mNKPmScxu94FgZmque0y6FcE4zeVqPcX6NFucV+2syjit5jnW21Tr9DzHermaNhiI11+fxuRkGLW1bjz/PL3Yv3dMv/46Av39CE9NwTUxgUfeew8lovziL/4iCj/2saSRwZAnulDIxGba5tJWPvsj7oT9ZvwdjG6b7/Faka6NTOVcp6c5zpYmOJ+pnFHzmdIc51LPeYKm6aKwXTFi9h6T64pgHLhcFZ4E5dV6NehlhJVwVeut0mqe0Y9VTxsMW43Q5CSWUgO9mv/wD9E4MIDZF17A/H/8j7LM8GCh3tCzsZm2ubSVz/6Yzf57NuPvUFHt893WinRt5NP2etqgOq7X0xznkyb0Oj1OV2ZVznG6Ms4zRswaNszCwsLKiEI9EFZlqnglchWzalrNE1ZtMlaileA8l+lpw/bF54N40KK3B3QBpOnkgNTCV/cNgT/6I3T+j/8BmnBr+P/9fxFvb09WGLYN+k05HbnaEdlsc2krn/0x+W6z0ePcyP7y3daKdG3k0/ZmtKGib5etfYpVG3IrINR6jq3ShF6nx7mW6XG6Ms4zlKfjpilD+fi3G0bMbgFCoRD8fv8qIaiLRzVwuSo21Xw6G6s2GbWMy63Sap7jTOWG7cu1a8DAADA/Txc7GrAIPPEELbmaMrgP8H/nO2j69/8elSI99sUvIvATP5GsMNwV9JtqJnK1zWaXSzv5HBeT7zZ3+zh123yPVyfd9hs5Jma9x6Zvt1ntMGq5nua8miYyidtsca5l6WJOE5xXywi1nPyGt2vvrBGzWwDqlSVXA54eg74SXZjqQpSgMvXrU/Nsx0Et4zS3SXCdakPo++W6TDZ62rA96e0lNxgaqEjfMTA8nOydPXgQKC5OGd0HxD//ebQL1e5/4QXMGFeDnNFvipnI1TabXS7t5HNcTL7b3O3j1G3zPV6ddNtv5JiY9R6bvt1mtcNs9vGqPZjUhtqOmreq41hNc8xpwqpcj4lM9WrMaUYX2sR27Z01YnaLQD2z1EPLIlANRLoyXZBaCctMYlPNE2TLaUJv32obq3I1bbg/oF7a69eB5mZg375U4X1A6LXX0P7lL4PmOej/0z9FrI2WU7i/0W9qmdhM243WW5HvNptxDPnsU7fN93itSNdGrm1vdHsr1G3X206+x7VZ+1lPO7SNul02cavHVmVqTGSyI9ZTT3C5WsbQLEtOpzOV2z4YMbtF2IyBYOlsMuVz3V5Nq3lGFcFqrNoYtjfkP3vyJFBfDxw+nCq8Tyj8/OdRlxoItrDFe2etbkDp2EzbXNrKZ3/EZttv9jHqtvkerxXp2tjIcTHrPT51u81oQ+VOHiuxnnY22gbbq9tROl05x3q9HhNWdoReli4mKG1VTnCdXk5QGQlZI2YNG+JeDATTxSxh1SbDabUdgvNquR4btjfvv58cDNbRkeydvZ8IpQaC0azPV//0T1F8h3pnrW4g6dhM21zaymd/xJ2w34y/g9Ft8z1eK9K1sZHjYtZ7fOp2m9GGyp08VmI97Wy0jc0+Bk7rZXp5upigdLryTDGRiw1BeQ46eh31zlrZbWWMmN1CpJtzluAyNXC5LkjVbTi2EqGc5jyhlnG5VVrNc5yp3LB18fshzjuaOBviiTw50KuoKFWZYnISOH8e2LULuB8H/Adeew3NX/4yykT63S9+EXUWA8Hyubhvpm0ubeV747kT9pvxd6io9vlua0W6NvJpezPaUFG324w2VDK1t5596dtshTY24xhU0tVl2w/Vs026mFDTulsCk277XGyIXO0YKuPA0LFtt95ZI2a3EOFwGD6fb5UQtBKzap4gG04Tap7tOKhlnOZ9EFyn2+hpNc9kEsyGrQsN9Orvh5yKiwZ2kVjt7EzWkdCl3tgPPgBaWoDdu5Pl2w2ri7iO/Yd/GE00EOzFFzH3K7+SKs1MtnZz2W8uNjr5bLMZx5DvMar2+W5rRbo28ml7M9pQ0bdbTzvrOabNON7NONat0oZKurr17IdQt8vWth4TetqqLlNZvnWMaqPXEdnqie3WO2vE7BZjcXFRLi3HIlANRLoyXZBaCctMYlPNE2TLaUJtX21HjzmoeU4btiYTE8DUVFK0er1ATQ1QV5eso7UFZmeBykrgwIFkWb4sLye/+8LC9V8Yc72o5nPx1W1Dr76Kln/371Ag0kN//udI5NAFvZ6Lfb7bZLPfaL2Obp/v9jrpts+n3c1oQ0Xfbj3tZNrmTh7vvWpD32Yz2lBJV7ee/RDqduvZr06247PaX75lah2RqT5bWi0jKK/W6fWEWka9s9tpVgMjZrcYau8sfzW6CFUDl6tiU81nsuFApKvjequ0muc4U7lhe0GuBd3dSSFL03Hlw/R08nyank4IsSxUMtxCIEdlTKK2utqOoqLMF9NMZLPLpR0rG+9nP4uagQHMv/wyln71V1Olt8n1+Jg7dZzp0G3zPV6ddNtv5JiY9R6bvt1mtcPcyeO9V23o26z3OJhc21vvftTtMrWRa/sbaSPXetUu3zKG8um2sSpnSHRmqidysclWv5UxYnYLkm0gmC5uCSrjNKHm2Y6DWsbpbGKW0PfLdaqNWqfWc9qwPSD3gldfJR9am5yGi69rNJ92aWky6PDFz+9P4OtfD8n0xYskYKdFoIlpfSJUC1HrwKFDTiGQbaipobW3VpPLRXQ9F9pctgn+wR+g9fd/Hx6RvvzaaygvL09WWLDZx6nbrudvVEm3/UaOiVnvsenbbVY7zFY8XnWbjW5PrKcNlVzbW+9+1O0ytZFr+xtpI5d9pLPJ9/hUe7VMr9djQu0B5W3S1RO0uIGO3saDhhGzW5B7PRAsU3mmOo71cjVtuHvkc0HTbUdGgFOn6MEquWgCXTvp66PVv0iEtramDC24fDmMr36VemP5grsotiVxSxKRVXAcL7+cwEsvpReLKvlenLPZp6v3v/IKGv7tv0WJSL/9G7+BzhdfTFZkQW8v3+O1Il0buba90e2tULddbzv5Htdm7Wc97Wy0jc04Bh21jXTtrXc/uR5vru1nssvWRi772OjxEaqtvp2e10UloZfpolIXnlyvtp3OxpA7RsxuQXIdCMZBL2doG6t6vYzTuhhWg1qmptU8k0kwG3JDv4hmYjNt1fqhIVpqOZVJQSuAtbZmbuPVVxfwyit+kSLxmrxIJxK0uh1fsCkdwoc/7BaCtiZZpJDPMaZjI59J/Pu/H3X9/fB/+MMIfOUrqdL8SLf/jRwXk08bKup2m9GGyp08VmI97Wy0jc04Bh21jXTtrXc/uR5vPu2vt41c9rHZx6dvp+fzFaKELjKtekRzsTHceYyY3aJsxpyzlLYSlpnEppon9DZ5W8KqHYLzXKan73fWezHORjbbXNrKZ3/Eeuy/9a0pGRIJciFgNwKKI8mkjCP48R9vxtGjNBnWavLZp26b7/Fa4f+zP0O9ELEkxWf/7u/AA8E2clzMeo9P3W4z2lC5k8dKrKedjbaxGcego7aRT3vrOfZ022zGfrO1kcs+Nvv4rLZTy3IRonob+tRSRoje3xgxu0W5WwPB9Hp9ezWoZWpazXOcqXwrs96LcTay2ebSVj77I+6EfS5/x9mz8zhzZhG9vdQ7Sz601BNL3z9N/eVAUZFTxj/3c52r2sv3eK1I10Y+bQdv3ULhF7+Iqvl5LP7wDyP8b/+tLF/v8enbraed9fxdm7Gf7dyGynrby3e/ZJ9um3zaWm8buewjk02ux6jaWW2jlq1HiBKqGDVC1JANI2a3MNQ7S9N0ESwEORCqEFXLOE2oebbjoJZxOpuYJfT9cp1qo9ap9Zy+E+R6ISY20zaXtvLZH7PZf89m/B0qqr3Vtn/3d+My/t73ZsWDWVSK2KefrkRjo0eEAjQ1eWU9k27/+RzXZrRBLP7rf43mV1+FY+dOzP/t36ZK82+HWM8xrWc/hLrdZhzrvWpDZb3trWe/VsKL2eh+s22fS/uZbNZzfFbb6PVWNurnZFVvhKjhbmPE7BYm3UAwTnO5Wk+xLkh18UlYlXFazXOst6nW6XmO05WrsYrVRTEdudpms8ulnXyOi8l3m40e50b3l+/2Oum2p/Lf/M0eXLvmw549xfj5n+9K1awlUxvrQd8un3aW/vEfUf3zPy/nYJj9xjeSa/hq3MnjvVdt6Nus9ziY9bZ3t4+dbTNtk629jdRn25bR7bLlrcS5amNVn+/reSNEDVsBI2a3MOsdCKYKT4Lyar0a9DI1r6fVfTN6mWqv2lnVZyPbBT5bPZGLjU6+29zt49Rt8z1enXTbb+SYGCr/ylduobs7KWZ/8Rd3pGoyo7eXz7GoZDouK9Ty4Ic/jNq+Pvg++lHEf/u3U6XWqNttxrGupw19m/UeB7Pe9u72sbNtpm2ytZfL/tLZ5LItodtly2cTooRuY4So4UHFiNktzmYMBFMFp2qXLs9pjjdSlinORq43CZV8t8lmn0t7+exTt833eHXSbb+RY2LWe2z6dr/2a7dw9aoPe/cW45d+aWeqNDv5HtdmHS/nZ/7Lf0Ht7/6uHLq2/MorsPMavxaobaznONIdw3pZb3t3+9jZNtM22drLZX/pbHLZllFt9e30/N0QooQRowZDEiNmtzihUAh+v18KQFUMqoGwErBqXrclOM91nCfUvBpnSzO8DyKdnb5NPjcWIpt9Lu3ls0/dNt/jtSJdG7m2vdHtrVC3XW876nb/8T/ekGJ2375ifPnLu1Olq9mM/RDraSddGzNf/zqK/tW/QqVIL/3LfwnHz/6sLNfZjGPQUdvItb317Hcjx862mbbJ1l4u+0tnk8u2jGqrb6fnjRA1GLYfRsxucahXdmlpaUWc8tfFac6rAjWdDaHmdcHJ5ZnSHHOaSGfDZKu3IpcbVS42TLYb2HpI18ZGjotZ7/Gp221GGyrrPdYvf/kGLl9ewoEDJfjlX96VKl273XqOd6NtZNt+4vnn0dTXh/gnPoH4f/7PqdLMqG3kejz5HjeR7dgzkc42lzbYJh9bnVy2ZVRbfTs9b4SowfBgYsTsNoB6Zsl/lr4qVQxyWheyqg3Hajmh5vU0x2o5oeazlasxpxmrskxku4Gth3Rt5NP2ZrShom63GW2o3MljJTK180u/dB2XLiXF7P/xf9zumc2nDSs2ur0VahuUnvvbv0XZz/4sCkQ++OabsFkMBCPu5rGns821DbLLxXaj+yFUW6vt1DIjRA0Gw3oxYnYbQEJWndWAvzI11sv1MiJTmZ4m8qljMtkRnFbL8iXdzTRduRWb0YaKvt162lnPMW3G8W7GsWZq4xd+4ZoQs4s4eLAUX/nKnlRpfm3kwnrby2a3+OyzqOrtReCTn4Tzd3/X0n6j+8pn+1xsM9nksy/Gahu1bD1ClFDFqBGiBoNhvRgxu00gVwMeCEZQzIHzHFvVcZrQ65l0bgeEmtfrCL2e0W3T2eR6gyXS2ebThoq+3XraWc8xbcbx3qs29G0ytfHHfzyM/v5ltLcX4gtfaE6Vriaf9lTu9LETk7/926gUgWTUwne/i4qu1dOL5XOsudhmsslnX4zVNnp9NhsjRA0Gw1bGiNltAs05S4PBVDHIgfMc6+VWaUKvYzLZEbnkrWJCtyUob3UzzQV9u/W0k2mbdHWbcbz3qg19m/UeB7Pe9u72sVvZ5rL91N/8DTz//J+DFt7t/jf/Bnu/9KVkRYp0baz3WLNtp+ez9YpmE6JENjFqhKjBYNjKGDG7TYhEIggEAqsEIgfOc5wuzbFeRnC5WkboZVZ5NSZ0G0K10+sIKsv1Zq+Tbrt8y7Ohbnev2tC3We9xMOtt724fu5XtZhxrujq9fOTECdT09MD2kz8J96/9Wqp0Lfp22fLreT1vhKjBYDCsxojZbQQNBNNdDTjmwHk95jSh5q3qrGJCtyU2WqbGKvoNnUlXno1soiIX1G02uj2xnjZU1tve3T72dLa5tJHJJtd2c9kPo9qq6emvfQ3Ff/iHcD/5JBy/9Euy7G4IUcKIUYPBYMiMEbPbiGg0KntnCfraVDGYLs0xpwmrcj1mrGwYtY6xKiPysdXZiDhhNtrGZhyDjtpGru2tZ78bOfZ0trm0kc3Gqn6z2tVt9Px6hGji+nW49u9P5YwQNRgMhq2CEbPbDJrVQJ1zlr++XGN9kBdD6Ux5wspGxWobgstytdfJJkyysdHtrVDbyLW99ex3I8eezjaXNrLZWNVvVru6jZ43PaIGg8FgUDFidptB03RRIPirU0VhPjGnCat0upixKrey0csYq+11sgmb9aC2kU97+e57I8eezjbXNjLZrbftXOqtbObmIqkUUF3tTaVuo29jhKjBYDAY8sGI2W0GuRqosxoQqihU04xeZhVzmlDTRLp63Y5IV5cub9VGJnThk01gMbnaMVb2G93XZhzretvOZd/ZejzX0yNK/PEfj2J2NoLKShf+2T9bu+iAEaIGg8Fg2AhGzG5DyG9WXfWLUQWiVTmRq026OoLz6Wx0e8JqG5V05UQuQkxH3yafNqxsc90+k126ulzazmZjVa8KS6q3slHLrISo2iu63h7R5547hTffnMGzz1bhjTeOp0oNBoPBYNgcjJjdhlDvLE3VRV8df33q16iXWdUR+dipeSJTPp86hssp1kWXlQhLRzbBlolMdunqcmk7m41VvS4ss/WKZhOiRDYxalW/GRgxazAYDIY7iRGz2xRaREEVgGqasUqnqyd0m3xsVdLZElb2RLryXMQikckuXV0ubWezsarPV4gSus1WEaKbgRGzBoPBYLiTGDG7TaGeWeqhVeGvUo8J/WvOZJPLdoyeJzJtz+TSDvEgCFFiK4vRjWLErMFgMBjuJEbMblNo8QR2NdDhMrVOt8uUzzfN5FpGpCsnqM4I0fsHI2YNBoPBcCcxYnYbQ2KW55wl0n2VVvW6rdW2mcpy2Z5IV07odSwsqdwI0fsHI2YNBoPBcCcxYnYbQ0KWXQ34a9RjHbXcymYjZYwqOtlOF6JWPauqsDRC9P7BiFmDwWAw3EmMmN3G0FdHYlb/Cjmvlmf6mklYZrLV662EqNpLatWrqpcZIfrgYMSswWAwGO4ka1WHYdtAopJEIsVqoDIKJBj1wHVqoHJ6RU/B5XLB7XavCl6vd1UoKChYEzwez0qgNvSgH4fBYDAYDAbDZmDE7DbHSpjqgUUqBVV0WolPFrVqUAUyBYPBYDAYDIatglEm2xwSmqpwVUUnB7XX1mAwGAwGg+F+wohZg8FgMBgMBsO2xYhZg8FgMBgMBsO2xYhZg8FgMBgMBsO2xYhZg8FgMBgMBsO2xYhZg8FgMBgMBsO2xYhZg8FgMBgMBsO2xYhZg8FgMBgMBsO2xYhZg8FgMBgMBsO2xYhZg8FgMBgMBsO2xYhZg8FgMBgMBsO2xYhZg8FgMBgMBsO2xYhZg8FgMBgMBsO2xYhZg8FgMBgMBsO2xYhZg8FgMBgMBsO2xYhZg8FgMBgMBsO2xYhZg8FgMBgMBsO2xYhZg8FgMBgMBsO2xYhZg8FgMBgMBsO2xYhZg8FgMBgMBsO2xYhZg8FgMBgMBsO2xYhZg8FgMBgMBsO2xYhZg8FgMBgMBsO2xYhZg8FgMBgMBsO2xYhZg8FgMBgMBsO2xYhZg8FgMBgMBsO2xYhZg8FgMBgMBsO2xYhZg8FgMBgMBsO2xYhZg8FgMBgMBsO2xYhZg8FgMBgMBsO2xYhZg8FgMBgMBsO2xYhZg8FgMBgMBsO2xYhZg8FgMBgMBsO2xYhZg8FgMBgMBsO2xYhZg8FgMBgMBsO2xYhZg8FgMBgMBsO2xYhZg8FgMBgMBsO2xYhZg8FgMBgMBsO2xYhZg8FgMBgMBsO2xYhZg8FgMBgMBsO2xYhZg8FgMBgMBsO2xYhZg8FgMBgMBsO2xYhZg8FgMBgMBsO2xYhZg8FgMBgMBsO2xYhZg8FgMBgMBsO2xYhZg8FgMBgMBsO2xYhZg8FgMBgMBsO2xYhZg8FgMBgMBsO2xYhZg8FgMBgMBsO2xYhZg8FgMBgMBsO2xYhZg8FgMBgMBsO2xYhZg8FgMBgMBsO2xYhZg8FgMBgMBsO2xYhZg8FgMBgMBsO2xYhZg8FgMBgMBsO2xYhZg8FgMBgMBsO2xYhZg8FgMBgMBsO2xYhZg8FgMBgMBsO2xYhZg8FgMBgMBsO2xYhZg8FgMBgMBsO2xYhZg8FgMBgMBsO2xYhZg8FgMBgMBsO2xYhZg8FgMBgMBsO2xYhZg8FgMBgMBsO2xYhZg8FgMBgMBsO2xYhZg8FgMBgMBsO2xYhZg8FgMBgMBsO2xYhZg8FgMBgMBsO2xYhZg8FgMBgMBsO2xYhZg8FgMBgMBsO2xYhZg8FgMBgMBsO2xYhZg8FgMBgMBsO2xYhZg8FgMBgMBsO2xYhZg8FwR9m1q2glGAwGg8Gw2dgSglTaYDAY7ghnzizg4YfLUjmDwWAwGDYPI2YNhv9/u3ZMAwAAwCBs/lVPB0mrggMAIMtmAABAlpgFACBLzAIAkCVmAQDIErMAAGSJWQAAssQsAABZYhYAgCwxCwBAlpgFACBLzAIAkCVmAQDIErMAAGSJWQAAssQsAABZYhYAgCwxCwBAlpgFACBLzAIAkCVmAQDIErMAAGSJWQAAssQsAABZYhYAgCwxCwBAlpgFACBqO6B/COsrC/zjAAAAAElFTkSuQmCC)"
      ]
    },
    {
      "cell_type": "markdown",
      "metadata": {
        "id": "Wn-eqyzQyi4_"
      },
      "source": [
        "[texto del vínculo](https://www.geogebra.org/m/mjk32sma\n",
        "\n",
        "```\n",
        "# Esto tiene formato de código\n",
        "```\n",
        "\n",
        ")"
      ]
    },
    {
      "cell_type": "code",
      "execution_count": null,
      "metadata": {
        "id": "Q8WbEMtIucpz"
      },
      "outputs": [],
      "source": [
        "#Creacion de la Elicoide\n",
        "from matplotlib.tri import triangulation\n",
        "catenoide=plt.figure()\n",
        "ax=plt.axes(projection=\"3d\")\n",
        "u=np.linspace(-2,2,70)\n",
        "v=np.linspace(0,4*np.pi,70)\n",
        "u,v=np.meshgrid(u,v)\n",
        "x=u*np.cos(v)\n",
        "y=u*np.sin(v)\n",
        "z=4*v\n",
        "ax.plot_surface(x,y,z,cmap=\"viridis\")\n",
        "plt.title('Helicoide')\n",
        "plt.show()"
      ]
    },
    {
      "cell_type": "markdown",
      "metadata": {
        "id": "c2UUyHfmwBWf"
      },
      "source": [
        "Donde $a > 0$ determina la velocidad a la que se recorre el eje $Z$. La velocidad de giro no hace falta contemplarla, ya que en lo que respecta a la superficie, a determina por completo el aspecto. Para añadir más giro es suficiente disminuir a. Aparte de variar el eje, también es posible considerar un helicoide elíptico modificando la parametrización, y tomando $b, c > 0$: obteniendo así la parametrización \n",
        "\n",
        "\\begin{equation*} \n",
        "\\begin{split}\n",
        "X(u,v) = (0,0,au) +v(b \\cos(u), c \\sin(u),0) = (bv \\cos(u), cv \\sin(u),au)\n",
        "\\end{split}\n",
        "\\end{equation*}  \n",
        "\n",
        "De igual forma  se prueba fácilmente que la curvatura media de la Helicoide es igual a cero esto es empleando el codigo anterior y haciendo \n",
        "\n",
        "\n",
        "*   expresion1=$y\\cos(x)$\n",
        "*   expresion2=$y \\sin(x)$\n",
        "*   expresion3=$x$\n",
        "\n"
      ]
    },
    {
      "cell_type": "markdown",
      "metadata": {
        "id": "Y37hnyVSBDFq"
      },
      "source": [
        "[texto del vínculo](https://www.geogebra.org/m/rjwzrecy)"
      ]
    },
    {
      "cell_type": "markdown",
      "source": [
        "Ecuacion de las geodesicas del helicoide\n",
        "\n"
      ],
      "metadata": {
        "id": "DU7jeTdDuJMm"
      }
    },
    {
      "cell_type": "markdown",
      "metadata": {
        "id": "h0xpAvaxwlAc"
      },
      "source": [
        "# La superficie de Enneper"
      ]
    },
    {
      "cell_type": "markdown",
      "metadata": {
        "id": "hN9Tl8m9x-Wj"
      },
      "source": [
        "La superficie de  Enneper se puede construir considerando la inmersión mínima similar a un espacio conforme dada por  $\\mu(z) = 2$ y  $v(w) = w$  entonces por la  Formula de representación Enneper-Weierstrass  tenemos que  una parametrizacion  de la superficie Enneper esta dada por\n",
        "\\begin{equation*}\n",
        "\\begin{split}\n",
        "&x(w)=\\Re e \\left \\{ \\frac{1}{2}\\int 2(1-w^2) \\ dw  \\right \\} \\\\\n",
        "&y(w)=\\Re e \\left \\{ \\frac{i}{2}\\int 2(1+w^2) \\ dw  \\right \\}\\\\\n",
        "&z(w)=\\Re e \\left \\{ \\frac{1}{2}\\int 2\\cdot w^2 \\ dw  \\right \\}\n",
        "\\end{split}\n",
        "\\end{equation*}\n",
        "Lo cual es equivalente a decir que \n",
        "\n",
        "\\begin{equation*}\n",
        "\\begin{split}\n",
        "X(u,v)=\\left(  u-\\frac{u^3}{3}+uv^2, v-\\frac{v^3}{3}+vu^2,u^2-v^2\\right)\n",
        "\\end{split}\n",
        "\\end{equation*}\n",
        "\n",
        "\n"
      ]
    },
    {
      "cell_type": "code",
      "execution_count": null,
      "metadata": {
        "colab": {
          "base_uri": "https://localhost:8080/",
          "height": 248
        },
        "id": "2rbklkNezt_n",
        "outputId": "219261db-3e58-48d7-e6a3-cc2732a2c7d5"
      },
      "outputs": [
        {
          "data": {
            "image/png": "[encoded data removed]",
            "text/plain": [
              "<Figure size 432x288 with 1 Axes>"
            ]
          },
          "metadata": {},
          "output_type": "display_data"
        }
      ],
      "source": [
        "#Creacion de la superficie de Enneper  \n",
        "from matplotlib.tri import triangulation\n",
        "catenoide=plt.figure()\n",
        "ax=plt.axes(projection=\"3d\")\n",
        "u=np.linspace(-25,25,70)\n",
        "v=np.linspace(-6*np.pi,6*np.pi,70)\n",
        "u,v=np.meshgrid(u,v)\n",
        "\n",
        "x=u-1/3*u**3 +u*v**2\n",
        "y=v-1/3*v**3+v*u\n",
        "z=u**2-v**2\n",
        "ax.plot_surface(x,y,z,cmap=\"viridis\")\n",
        "plt.title('superficie de Enneper  ')\n",
        "plt.show()"
      ]
    },
    {
      "cell_type": "markdown",
      "metadata": {
        "id": "9ENR4J4rJDjE"
      },
      "source": [
        "[texto del vínculo](https://www.geogebra.org/classic/htrdxmmz)"
      ]
    },
    {
      "cell_type": "markdown",
      "metadata": {
        "id": "cALXUyfry7qp"
      },
      "source": [
        "# Formula de representación de Enneper-Weierstrass para una  superficie mínima!\n",
        "\n",
        "1.   Elemento de la lista\n",
        "\n",
        "1.   Elemento de la lista\n",
        "2.   Elemento de la lista\n",
        "\n",
        "\n",
        "2.   Elemento de la lista\n",
        "\n",
        "[Captura de pantalla 2022-03-29 125115.png](data:image/png;base64,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)"
      ]
    },
    {
      "cell_type": "markdown",
      "metadata": {
        "id": "5v8qdF5OzurD"
      },
      "source": [
        "# Formula de broling \n",
        "\n",
        "![image.png](data:image/png;base64,iVBORw0KGgoAAAANSUhEUgAAAggAAABcCAYAAAALfE2rAAAAAXNSR0IArs4c6QAAAARnQU1BAACxjwv8YQUAAAAJcEhZcwAAEnQAABJ0Ad5mH3gAACGGSURBVHhe7Z1/aFPJ2se/fdk/IvhChf3jFLywWVy4KQqm7IIpd/8wxQuN+IIpFUzwghvvgqYKbuvCvu3uH5p6QRMX3GYFb6OwkghKKqw0wkrjH74kCy5JwaURLB7BhQZWaGALDdyFeWfOOWnzuydpTk3b5wNpzpk0J+fMPPPMMzPPPNPBOCAIgiAIgijiv7R3giAIgiCIFchAIAiCIAiiAjIQCIIgCIKogAwEgiAIgiAqIAOBIAiCIIgKyEAgCIIgCKICMhAIgiAIgqiADASCIAiCICogA4EgCIIgiArIQCAIgiAIogIyEAiCIAiCqIAMBKL9yWUwdcmN7q4OnHqQ0xIJgiBaRRaRYx3o2udG4ElWSyPIQCDaGvnBCPos3Rj4IQfHtTn4j3ZqnxBbGfnxOIY+c2PgsyDSS1oi8kjfDSDwUFZPX09h6O8DCPySV88JomkkuL5PIXAoC7+9C132McTfah9tY8hAINoU3hh8exi9zgBkqw8zyWn4j1tA5sEW4W0SAVcfDp8ZwdCxUwj8vDoylP+FGwdP7fB/74H59hB8D7UeXT6BsGsEsZUOXh6Lz6cQf76gnRPEOnjfCte1GWR+GoX5yTj69rkRmt/exicZCERbkr3vgeOLGHDQh/C9Udjf1z4gNj9LcYzZehG1+BD93gvHbhl+2wCCL9SPM0kZ7n/YgGQcYTjg+ERSP3iRRpz39OxWs3r+gQsjX1hgfn+Xek4QLaDzkA+x2DCkbASnPuUG6Tae1SQDgWg/8nFMnIsgCxuGrgzDtlNLJ7YAecQvujG+5MXYaRtM2TTC38Z5Wc9hQRvStZ6dhGtPDvH748j2O2Hfo6bLz2JIww3bXvVcGUH43QyrhcaViNbS2c87Jhe4YZoNwnMtqaVuP8hAINqO3OMpjIth5ANuOD82qYnE1mA+jMDVLKRBB3rFqJDkRPD5DGaSCYz8Tf0XlQwSNwD7UTvU8YIcMuk4cLQH5oJI5BOIz68aEATROkywu0Zg5UfZS2HEVvxgthdkIBBtR2Y2qLxLjh5YlCNiq5B+EEQMEgb6e1f8STr32mE/YK7qX9K5Yh8uQJ7nb3skdKkJkO8EkT/t1gwIgmgxf7XCrhzEkNGmv7YbZCAQ7ct7NHqwtUgjHklzy+8w7Na1pgVs8NzzIHM7gNCjGEJf+LBwxA/ngwACD+KYunoK4/kx+A6RjBAGYdoB1btlGdvVVbGDcbRjgmgLkpc60PsNb0cup7DwlRjkI7YEswH0WEeQ7p/Eq5hHZ88/j1wuD9POTpje01JyOeRNnUWjCwRhBEmMd/RiDBJ8zxYw+rGWvI2gEQSCIDYE1ckQMB/saWBawITOzlXjQGDi52QcEITxkIFAEMQGkEXycZy/S3DsJa8BgtgMkIFAEITx5FJI3BcHPbB+RMsSCWIzQAYCQRDG82sCytoUqRfdtCyRIDYFZCAQBGE46Wcx5V3qt9CyxG2DtnfGd3Fou2cQmwwyEAiCMBgZmafCPREwWy3QAicTW51cHCHXCEbOBZH8TUsjNhWbz0DIppH+rY1XpeazSP+S3bbrZrcEORnJF60OwJ5H9pc0sttRMHIZJB6IAwk9ewphjjYxRuigLag3ck9jyrSS9YLYb0NNq00O8s8Z/reVbOM61yI2lYGQnw1g4LMY8jvbeI2TqROm9DAO/2+8xcJuAH/mkPk5jviTapUoj9yLJKZuBxC4yl//Trb/87SC1zEMucYh83JsLSZ07kxh2LENt5F9kUZUOdj8DoqG6aDNpDd0kUPikTAPHPD8YzVqZnVkxM65MS7zOqKltIbNUeeUuB5/aidtRusNhF9DGHAOYOB/+tD39+KXGxERKlUj/0sQfbbeos/5d44NIDir/UM5ryPwnMjA/f0obG2tY0yw/DME33sjcPwr3b49gtdTOGX1ImHqhjkfhdPch7HHqmrK8bJx2wYw8ngBXTsXEf5yBCOfe+H/vy1uii8lMf5ZAF3fTMD1gZbWQkx/9SB0ERg5Mo50O2elGEF50rrenPxcbMbEkawwr9mTbGMM1UGbRG/oJZdA7AYv8tNeuPfWM6bySF46hUDXGCaOt947pW3rnGgnebvX3dWBHbt2YeBOm3ppiEiKhvB7lHn45cVPWK+ltMQy0n5mgZk5r8ywhWUtrSqv2GS/xJy3Xmnnm4A/ZtiwZGW+ZN0He2ckLkrMM7WonfEcvungZeVgoxc9zHJiks39oX3AltnMBUkpRxzwsxol2VISF1W5kS5vxK8VUJ/T/NUMPzIS9XesFxMG/06zzLGJAyL/JTYab8UdLrDoCbU8MRjmZ5uVDdJBba439LL80zAvc9uazyH+T9ozymZW9I0RNFvnEsyntGES8z3TklqKuC9xfbNB118/xhkI4uG/0hqW/dUallcsfJI3SD+tNlK1WIg4eePkY6lNVmde3eKN7oEJrnLbjQUWHgQbfaqdCl5OMrtSGTws+ruWVuBNmDmVz8CcEeNV/LswEJaTPmaVXCz6RkswEp7XDq48J55r523FMkv94Gf+6zO8hraCBBvVZEfiCnqzspE6qFV6I3XNxqQT0XdglGkNHzcI68rQMm+A90vMdW8D7rCpOme0gZBi/v38+hI3kNq0bTPQQOAohaJmcGlv5BWL/lOfcVDIRNv19mtm10QbRfH+qOc5N5aFey5mLhkpKChyL5uucrtC2SjGnsQ/LzcgWszGGwiLLHqS/97ZaX60Eai/h9Mb9XvvkLSfWRW52hjj0hg2WAe1Qm8sz7BRSeS7lfnTWtpGwX97mP/u6NP6rd7ilEfVJxtSCZqpcwYbCLLa8Xo3Rpw+jDUQCoUiMvlowZpcZDNfO5jnnr7+yXJ8lElwsMmXWsKmYpFNny5+9nZimTfEoodRuLdCZQDzJZWEUhRrX/3c2OHxwrAbmPnKBhkIiiHbqiF1fSz+6OXP6GRhWUvYoghDVKn/hvXCjGfjddD69YYy4rF/lPkuSEzacEN0kb1KpnRMG/PG0fApvVUar3PGGgjq/YA52njq3OBVDJ1wnBhV1z0/8GNqNofkJTci+yYwOajHISWPxOMQsnvs6KkbfU3s+JZDbkk7NQDhaSp2latALE/6tZY7VycsNm4jPphGWvHSaidMsH0dRgDDGLqtw0HGZIP3olcpy/Q3vCxfq8nlqPm0nrLIIP1YvK8jZv+Sdg/VyqsK8tMpxKTD6LHUd6Zq6LnECpFZuaazWee+XjgxhelnbSQYWr610pdLfh5RD3j+Wt6lg2Jee7YSb3GtTMWr5kMbpIPqysd69UYa4StTcH45hNHPfei5EUS0yEG8aXTXq06YD1gh1atO83FMPZJw+JNurolqU1PvViWP7Gxt59rG65wZlhPiPYvE8xY4EWoyWHiezDOxysMM+74yPVdVVuvwluvM13rzqDEMX+ZoOuiBr18cpeHv70Votx8TuowDAX/wR1lIn5pRc/X0UhKBYyMIJ2PwfdqFvm/VgCyrpBGwdaDjWET1pG4YGVNnBhB4lEDo8x348PNY0XUyCB7sQs8+C8b+T0sqw/xRD/8bQSqjnrcXZrg+9yD2KLl23nAhTPwqY9egH9MvQ2Ve/lzZ3R3BYdthjD1IIJVOIf7dYfSdK84rnczGERYrWfZ44D7YoKt4Ns5loReHvwwjzu8h9ciHvo/6MMJlqJj8UnFl4vcuovzttMBcK4LPWjI2G0BvRwcG7hR+J4fYFxZ0Wz+Eu5Z38gdmKJKRnlPP3zHy/SEMfBtD4rYHOz46hVjDBVcNGXM/a4cfWGF5VxGSZoM4fC6MxEMfev/Sh8AvvDH/JYhTx8YQTXI5SYbhNfNyvVpt9UALdFAT8rEevZF/HIY/OwrvUZ7hewbgORlD8G6yhjGig6bqVX1ymTRi2AHLX2oJRT29y3kbw1BXBz68lNQSeEl9Z0eXtRuWb1bTSmi4zkmwD6qdotjNGJeEJvkzi/jVAfQ6fYq8JR6MYOCLcYQf8s8kF6x71X8T5H8O8M+KZVX7QCP9bS86OgYQKQSeyvF82NeNHjPveNfotK0LbSTBUJS5JmWopsEh1YUoc/Hv1Z6LXmTTZ53a0N8rFj7Kf0PylTpEanOgzQ5lpa45VoaeE1+LZ3Cx6MqEkTpML56tpqON5uCnexhpOcUmTtqZ/VBzL+fpaGPDkkmf5l2+OsVgPlB23YM2ZjvuY+FklWf8I8X8RyQmHRxlMyW+CeJ6jToF8TIcFPdg1j0FVWDxp1FmE9+7NVdSzqrs2Zi/MEQo5kdLHMBSzCfmamvOA64tY6lrVv4bpVMUryIuxhVLHdlVHUXRP9lYeRkBryMOrX6o3ucoWeHSNFr9FdfbOP+OchZZ9DTXO6L8Cs62XL5dlxMl96PWbS+bLvemb4EOako+GtUbK6hD97bilWOKDqzifKyD5utVfVKXhQN7sS4tpb7e5b9fZXheOBrbRPnWrMvN1LmCTmrSmXJFP/pYoki2UleETPDyP1l0r79PM++gdm8F/4QS+ajm1Mjv74TIS2OmQTbAQFhWCltUBpEhNZc8VuOl6llfs2C44NsK82tahSp3+FDm4pot3EVeYCtL+3iDJxqSPWUGiOIMJDFvrIb6E9eoKOj6LC8ussWmX8XVuBYLbPr8MJvmWSIqmnpvqwbCig/CyuoFrmCreveLJWxCOG1cOMt+9w/+3A05IBWMLYnZufLW8xQFCoqh6hLFQiPFGyjxmZhPthfLoOJQVad81pQxTelUrIDgivpQPQWvzTOXG7QbjrgPrugVR7bCyqMWLbt6OqrIU7ki31BE/Ss0CM98aqN8kNfpEkEp+L1UabDWrYOalI8m9IZCVWNANRocNxsrg3XVq7po+V1L9nXoXbFMu1JO1evW7gw2WedkcT/iew42ka5+5epwnfa1MAQq9WOh01xc/sIRvOCYWrXdqtHGqTJqjI+M4VMM8t0hjOXHELvlUM7TV0KI6Y3A8jYLsYN8LfLowtDndiX6lvw4jClIGBi0K0NCKjmknk7x9x7YraupulkywXrZDSs/zD+ZxkSWF/UZh3K+gqkb3Z/WiRDXuUsZmsz+saie68DU2YnOpl/1ZvQKSOj6SxrhhzGE76Qw0l/yRFXIYbnK6GH+yQS8d7KQjg7B9bH2u3kRMjWEEVcQppvDcOiZJVjKIHLOjt7vc3BdjyH6la3uvGQpaQTPjyEJG7zH7JXfk7rQLd7vpyFmJ2P3M/AcKXpeLmP1ZhfXlLHCNsZWO6wlc+xmLhcSrB/UGpjuxC5FMJaxqGeuMZtG/ImIetng62eZP3U98jB94oN7vzhMIH6bC/kBLxwfq5+uBzlTGOqV0GtpfRAcXYg6fOGwskGUnBYBm3j5nffAWiIomt+LZOb1R01ZYb06qFn5aEJviHo6dX0EuOiB430tScEM9/lhpL4JIa57FmCd9aouOWTrDYevqXfTSEzxRMkFW9HwvPCr6rY60fORuYb+aLDOFfjAgYlHKfg/SWGo//BKQLk1mQ3CeykN9HtW9aNGJh3if4v9D3jBSEPwHFIkCdN3eLslDcB9sKg1Sye4fPHW7KB1Vb4Ee7phNygImaEGgnz3FIYyLoS5wrce8cAjErNBhB62wOGDY9rvgmu/yHgZ8bsxJUMdJSHOMkjc4G9rOhjVYLcdHqWA8kg8GufKxYYBXjilyJhL9659/d94pdAO2wHr+WkEPtkF+/cJDIvGoRq71Tk7cBWZrQhVWsgTLuadc5gS4ZjF67sor769GLs3Df+RtRuFPK9EA1x5+l73Ivw4gfBZq6Js9ZJ/EoVfzHMfcMNR6zkEWRmp+34EO71wNiALa8qYFkbYzI3E0qeVIT9fy/FRwBtwHWFgs5kE0r+kG389jSNT9/oS7CfVBi33KIJxoYxdZUZwU+S4Eiw0rXZYDIhMqYuVOpxF8rG4n170WsskbD6F2CzPiUFej9cqrjIMl49G9MZ8FKHbDniPVxrYpkNujEjjiDzS17gZXa/qspbe/Y3rdVFeh3rQXfagciZd6fRXgb46V0KnFcM/ZjB3zYr0mV348FgImbpGRh7xe36uC3l96u8tK3tu4FT4H3Cj6Dg/F88zH+flxD8+6kBvkaGXmVUkCb3lz/eal0F/ZV60BG0koeW8uudhjvPT6tCeRmHepXrgpCoow2V1hvcKaMOAFct5tO+veymNNgxdNXhJ0scsdYcB1fgC7R8kpjDFUDyXVWXaYQVt6FT8f7VlkTpZTk8wrliYdHCYhTONl5I6v1svf9WhXHGf0t4qMRz0DuUWZKxsLr0wv1wxxfR7lHlrzoWqKHOrko/ncjtQGArX5uvXjebbIeRnj876biR16rASmEiUYbW4A43qoJbJR6N6Q50eqrekURnW1ql7112v6qJzqL9GmRX8DyrjUqSY/2D9a66rzv1ngc1ccTGLZGaOC1H2qq660vwFeP5U6MeCf0Gx/0ERr27aq8hMwf+gctp2ccrb3BS6DgwZQcg9HsPQYwcmrjlKLCfrUS+UiYbZEYQe6rBk3+9Svp98vaCe1yDLeypK34Bb6cV9A/k573XxvlFhKU3mYQTpZpbf8V6AuL7k6IFFTdHgVuKPcXjqDdH/JiverztMOs27tzGc6upAR0eTr33jSOoZRszn+d1Xg/f2qgxVzb2p1Y/h1vE6hrZM+72IZhYQ+lsawxYz+r5pbLOa/JLqMW7/a61eww7sUITCjKF/+8uGXjmFodyX9YfiCzLWY7UUyVgWclr8Pu+V7ivtleZ4z33hUNlQYAn8uy/4205TjeHQDWZ+GuH7XMaPeuAQPcG3SYQerWOkj/cs5zSRkfotZT2od8CvSYT5W2Ud5j3/+8U9/xySt2M8VaNBHdQy+WhCb0T+1YWRzx01R+A6+10YzfoRfbK2glh3vapLYahfhlyvJ18os4Ol8iP/KnrSQq+XlqRYARX7G9df2mkl66hzr2MY+bsVfTfz8NxPYfqKE+a6F+H6VazGEst7y0bPcrxdUqYKPlXLX34YRHxFvWaVUT8xLV4ybS1GasT1Pu1FT0kB5xB/vIDDzUyh66DlBoIwDtx3ezBxk2eglrbCngF4T6sPEiyuhLXQhrjlxTXm4f4UAi/BIhXnXJ4bCKr/gW2f+M00Yt/OIf+e8iEnB/lRCKHHOrZY5Y2pqC49u8sKYT6MYG4YnnpDcG8X+HNKsOvd5vZ9ByYXFOfR5l7PR2FbU/pzmDq3A93HIqtlkF2Asvin345VWeMX0o67KiZnJZiVfM1X9U8QiCU7Q3o2IXlPguPiNGLXejB3qQ+OBpZHmvdwW7wui1hUWn4zr6jVMsYM8yB/y/L/UxOqo8gYuPFUXI7LXJHyN6mnzEiSEb0LbjjWaxYXsPCSf7Xe8rkNRH4SQYyX6UC/uvOe/NCP+NIO9cNmmE9Bi4BQ1mi+G1b8Dz4ub1SmEBTDuSedsItGbj4KP29AV568IR3UQvloUG+k7/gR6vfCWU8XmezwXOzB+NXwar2vwfrrVX3U6y9o16jBn6K5BLrNpT4F+WWRWt4xEUP6cTid9fyXmqxzryNw2w4j8OYwwo+jGP6bHmnmRohSFly/lDQbIq5GcfwDbqDeyCBfdNO8ueFwo6j4+bQOncS/U3I5Lq/h9zSj3gBaZyCItZ7/4tbS3zNwX6xiHCh0wjGoeCIogZMiZWs8K7HAepq/zXJLU02oSqdk4ZmWLQl2IhqnsaviSMtoxbo8vOKclH/sw4eOUzjFrcKxR0VfrAZXEkKcY7yXuYLY+e9cEu4va1vsgtwbmRsXBSOlXeDlcGYClqVl7ZyjKHSJG3ADRWXHe0+fqkdprQeV+zWEoX+ohoXtuA8O3qzEkpWlk300hoHrJniO1mskizHBen4CgRMSkt8dhveuPhNBOuLFMM/ayDNu/GlpK4j1258FkDCphowSeET0jO8Ur3fnhqXNCvDeslxnTlGy9Crz8pnfinqS83FEk/za2TksFN2ufHccsf7h+r2qHG8AeI+g0It412R5XonRI/snXJq5bIfuWHgD1vydrTooVpkz3XC0XpnEn6+sJ18w/u1WMcqYR/KHKfSccxSViT4d1Gr5aEhv5PnvXJExesFdQ++uYj7qgedREFOiN1qH9der+qj5xTuJb7SEauzhMsjf4nKx3o1j+q743QTkojwV+l4EfavbWWuqzskInXEjkjXDe93fwC6vVjjPOHheJZAqClIl3xnCkHBahU1tl7iMxD5woHdFLLk++kSRJMiFWAccmRsmCX7T2ZcLRZ0nGZHLMd6hqt8GrQve61wXi0k/8xyyMS6YyryQeEl7XVXmMV+x8Ek7sxTmJcVLsijr7L115k/U5R5V1ieX8IpNn7cz6YCXTcZmWPS6l3kuRNncUz+zS1Y2/EOYjfZ7SpcZvYkyj5j7liRdIX1f/TjMr2Vj3lvTbCY2yYYH+W/pmDNX5rwaWB+8cSyzV7c8zHl5hr1anGOTg2C2KiGUV9YWSy42etHJHGfDbK5oDmyR57Fzr50Ni3yJ87y/Ncw8RzzMNzVXcy60Ltqcb0Mx2uUoGz5oZo7LUeUeZqYm2ehpF/Ne13YJ5Z+LsnZcDLOJfzqYv3yHOf6M0poxG5bZHM8vyx4Hfzb+G7EJ/pyjbOZlik0Mmpl0xMei4vmv8Dy9OLP2sytLANtnw6blZ6KcRV2JMt9xV4PLucopLBtssBwNQ/WlkaqFLl5OMd8BMOuFsFJ2nuupijqgTwe1Vj4a0RuN+BaI+0xctOoLv7zeelUXdfniWvtbLP7kY449mt6Ncz3Odcvk87kSfT/NdY7zdPG+MjVoos4VliNWlZ01Udsl84kJNh2PsonTTkW+FuUwc/F2x3U9zOsab5fKYwP9wfXxPy3MrMnM9HUPc3zN9fQz4a8laeURZf6TTubTtZ9R86zbQDCcRjYu+UOLBVAsKMtq2vJ/tPNyeOOgO+b/f5ZX4g3oqwqiEkjM/n37mQcFFl8mWDQSZtPpOk4uCylFOUzGa/3Par6U5H1TFJx7eJnHGmukVuNHVPleoeyqXlL9TV0xOmrJQDXZq4NYxy0dbDPDca26opvVMmyLQFAcRTZqipNWprXKrhEd1BL5aExvLKejLNqIg+/vCRbmBrzebzRfr+qjOK3rMmyK8rRYNjV51Rf7pZk6t7pV+brieGhlX3LvevKtIDNl/1Qoj/XX07VpfwOBC4eweI3a+W4hwi3iWkGO1omyyYvoQTURwWz7str71G24tQB1c5sN8rZf1oJrrWe3vnZGWxmi9LzafvWOHozVQeVsG72hBP7ZoN0mm6pzhVVcxkQp3AwYHihp/ZhgO+2D98EYgmv6LDSKjOkH5sZj/utCRvhqCN3/Wx60hKiPCTv+Wz1aruMT0Gqk42Pwm0bgv6/P92E9yHcCCFnG4Dli2Mzhu2VeXfsv5lMrnAI3JUbqoHK2kd7Y7cLYNRNGrk0Vzasbw5avcwaxCQwEzvsO+G72YuJsAOkWNhry7XEkBz06vP4bR747hoAUxORZ4XBCtD9WDN/wQz43BhGkzTBeRzB2vQvBW17FqW0rkpXnNIVfJ8LoZsMgHVTOdtMb1vNB+F96MfbAwEq3DeqcUWwOA4HTecSP2LE4RhpcJ1+TfBY5y2gDO0vqJ//zOE79uxuh67VWcxBtyf5hhG+aEPwyBFmvO3YjiJUvn/He4b8n4HxXkQU3APmFtsBxj44Io5uIluugMran3uCG+d0QTN8NIzRvQKXbJnXOKDaNgaAug4tiYl8MvlYMA5skWA/Uitm9DpbiCNzqhH9qFLadWhqxaTAfmUD08xzGb6xje9yq5BH/NoTOK1GMHjBgyKptyEJ+rh5J/dYt1tC1WAcVs531htjr4N4QcleC+oK86Wa71Dnj6BCOCNoxQbQFyUsd6P2GNzCXU1j4igYFNxdJjHX0YpwfOSMLiB7Xv+KcINqLJMa5LI9Bgu/ZAkZbsIHZZmMTjSAQBNH2zM9xtSqwwd5WwcEIgmgUMhAIgmgZeTmj7EkgohZatpD/AUFsR8hAIAiiZWR+VcwDSEZtP0sQxIZBBgJBEC2isHth++wxQRBE85CBQBBEi5CRuiPebXB8Qgt8CWKzQwYCQRCtoeCgSP4HBLElIAOBIIiWkMukFQdFabAXPeR/QBCbHjIQCIJoCZlnQf5XwsChXuP2pycIYsMgA4EgiBaQRuIhf5PssFtrmAdLaYS+HMKpY26MPJS1RIGM+HcBRGaNiG9NEESzkIFAtC3ZP6nB2DTMpxCb5fbBUTfsu7W0ErKYOuPHjjMTGD2UReB/IlpAJc7sFEbO+SH/WT4vkYP8JILgdyGE+Cv2wogdEAiiBtkFzCkHO1ofkn+TQAYC0XZY9nvVg6kE75cS7Uce6dtDGPoygrRmw6UfBhGHGR6Xvfr0QjaFhGUIzg9kxB/EIX1lW9lZT34W4+Xshm2vlqCQQ+xcD0Ze2+A964Hn7ADy13vgvls88kAQBvK6EPTLBWuJbG4jxF4MBNFWLM+wUQmM10w2Gl/WEom24U2YObnqEOXj+XGRl1eC+faDSSeibEH7l5qk/czKv+dLaudskU2f5tcq/67yf142zS+/QtLHf7MsjSAMYZnNXJDEPkXMdjnFz7YnNIJAtB8mO8Z+GIaELMZdY4gvaelEe7DbDvcJCdbTAQwf7ETmtg9jSx4ELzrXDI60MlqwX0vIpxC/AdhFYKUlGUltGkF+LkaPurCreDhitxlOBJF+oZ0ThEHIdz1wX81COuhD4KyVphgIop0wHfIj8YMLUjaAvkPcSHirfUC0ARKc3yfgsyQQODOAgOxEIjmpa7/93NIi/7sLOzSNm38aQ5i/2/eZkX04gvBLNT37eko9qMLcmxZvtUwQRcgPhuB2RYC93Oi9tb237ScDgWhbzCfCyDz1w/l2HH37+jByOw1yU2sTdprhODuByR+imLzige19LX0NrINj8OyNI3w7htjtEQz93AXPQQmpZAgTD+3wHFl7geQu03btzxGGko0j+FkvPnRGkTvux9QTfUbvVqZDzDNoxwTRnvyZRfyGD4GbcXRdjmPyCEX53+zkc9zU29kJ03tF5538XD1F9r4bXcfMSDAfbFoa5kPo+2gM9m26Nz9hJFlMfWaHf8kO9+kxeLnRSpCBQBBEO/JbBAN/CcHxcgYeLWxz/vEIdnzZhVR6eGUFBEEQxkFTDARBtB+7XfDfMyNwMYjk6xyysxGMfCtj4raXjAOC2CBoBIEgiPYln0NOi7VgKpqSIAjCeMhAIAiCIAiiAppiIAiCIAiiAjIQCIIgCIKogAwEgiAIgiAqIAOBIAiCIIgKyEAgCIIgCKICMhAIgiAIgqiADASCIAiCICogA4EgCIIgiArIQCAIgiAIogIyEAiCIAiCqIAMBIIgCIIgKiADgSAIgiCICshAIAiCIAiiAjIQCIIgCIKogAwEgiAIgiAqIAOBIAiCIIgKyEAgCIIgCKICMhAIgiAIgqiADASCIAiCICogA4EgCIIgiDKA/wcZ17vkI5CYHAAAAABJRU5ErkJggg==)"
      ]
    },
    {
      "cell_type": "markdown",
      "metadata": {
        "id": "K2F8nyiVqkGq"
      },
      "source": [
        "Consideremos ahora  la solución  del problema de Bjorling  para la tira que consiste en la cicloide ,esta  es la curva generada por un punto $P$ en la circunferencia de un círculo con el centro C rodando a lo largo de una línea recta. Una cicloide en el plano $xz$ se puede parametrizar  como\n",
        "\n",
        "> Bloc con sangría\n",
        "\n",
        "\n",
        "\n"
      ]
    },
    {
      "cell_type": "markdown",
      "metadata": {
        "id": "CeNVvSWUnuqR"
      },
      "source": [
        "[texto del vínculo](https://www.geogebra.org/classic/rtndfw55)"
      ]
    },
    {
      "cell_type": "markdown",
      "metadata": {
        "id": "rhFrvp3ArYKz"
      },
      "source": [
        "\\\\begin{equation*}\n",
        "\\begin{split}\n",
        "\\alpha(t)=(1-\\cos(t),0,t-\\sin(t)) \\hspace{0.5cm}\\textbf{con t }\\in R\n",
        " \\end{split} \n",
        "\\end{equation*}\n",
        "Por lo tanto \n",
        "\n",
        "\\begin{equation*}\n",
        "\\begin{split}\n",
        "\\alpha'(t)=(\\sin(t),0,1-\\cos(t)) \\hspace{0.5cm} \\hspace{0.2cm}\\textbf{y } \\hspace{0.2cm} n(t)= \\frac{1}{\\sqrt{2-2\\cos(t)}}(1-\\cos(t),0,-\\sin(t))\n",
        " \\end{split} \n",
        "\\end{equation*}\n",
        "Llevando a cabo la construcción de Schwarz vamos a twener que\n",
        "\n",
        "\\begin{equation*}\n",
        "\\begin{split}\n",
        "X(u,v)&=\\Re e \\left \\{(1-\\cos(w),0,w-\\sin(w)) +i\\int \\frac{1}{\\sqrt{2-2\\cos(w)}}\\begin{vmatrix}\n",
        "i & j & k \\\\ \n",
        " 1-\\cos(w) & 0  & -\\sin(w)\\\\ \n",
        "\\sin(w) & 0 & 1-\\cos(w)\n",
        "\\end{vmatrix} dw \\right \\} \\\\ \n",
        "&=\\Re e \\left \\{(1-\\cos(w),0,w-\\sin(w)) +\\left ( 0,i\\int \\sqrt{2-2\\cos(w)},0 \\right ) \\right \\}\\\\\n",
        "&=\\Re e\\left \\{ 1-\\cos(w),4 i \\cos\\left ( \\frac{w}{2} \\right ),w-\\sin(w) \\right \\}\\\\\n",
        "&= \\left \\{1-\\cos(u)\\cosh(v),4\\sinh\\left ( \\frac{v}{2} \\right )\\sin\\left ( \\frac{u}{2} \\right ),u-\\sin(u)\\cosh(v)\\right \\}\n",
        "\\end{split} \n",
        "\\end{equation*}"
      ]
    },
    {
      "cell_type": "markdown",
      "metadata": {
        "id": "TgAC-SD3oEY-"
      },
      "source": [
        "**Superficie catalana**\n",
        "\n",
        "[texto del vínculo]( https://www.geogebra.org/classic/vwrmj3zw)\n"
      ]
    },
    {
      "cell_type": "markdown",
      "metadata": {
        "id": "peW5sOyt1gfA"
      },
      "source": [
        "#La superficie de Henneberg\n",
        "\n",
        "1.   Elemento de la lista\n",
        "2.   Elemento de la lista\n",
        "\n"
      ]
    },
    {
      "cell_type": "markdown",
      "metadata": {
        "id": "WUqMUsx31ZQ-"
      },
      "source": [
        "\n",
        "\n",
        "En matemáticas , una parábola semi cúbica es una curva plana algebraica que tiene una ecuación implícita de la forma\n",
        "\\begin{equation*}\n",
        "\\begin{split}\n",
        "x^ {2} -a ^ {2} z ^ {3} = 0\n",
        "\\end{split}\n",
        "\\end{equation*}\n",
        "\n"
      ]
    },
    {
      "cell_type": "code",
      "execution_count": null,
      "metadata": {
        "id": "MJbPY6S43qbZ"
      },
      "outputs": [],
      "source": [
        "\n",
        "\n",
        "def funcion(a):\n",
        "  x=np.linspace (0,3,200)\n",
        "  y_1=a*x**(3/2)\n",
        "  y_2=-a*x**(3/2)\n",
        "  plt.plot(x,y_1,color='b')\n",
        "  plt.plot(x,y_2,color='b')\n",
        "  plt.title(\"parabola semicubica\")\n",
        "  plt.axhline(y=0,color='black')\n",
        "  plt.axvline(x=0,color='black')\n",
        "  plt.ylim(-10,10)\n",
        "\n",
        "\n",
        "\n"
      ]
    },
    {
      "cell_type": "code",
      "execution_count": null,
      "metadata": {
        "colab": {
          "base_uri": "https://localhost:8080/",
          "height": 388,
          "referenced_widgets": [
            "05621fde72ed4951860dec3a83190c51",
            "c79ad3fa580d42a68f35fff8ad0f897c",
            "3067d4eee0c6440cb9eb3e40d026645c",
            "78cf8c593cb34102be056171d501c611",
            "7953a9474f834bd8a361f5a3485d0d26",
            "139447e6e5754f659f33af8877d69625",
            "994f730859664215abc04a6188fcd783"
          ]
        },
        "id": "6e-OTxnAMTfS",
        "outputId": "d3f51e79-9065-4c4c-c131-5b9b081f4935"
      },
      "outputs": [
        {
          "name": "stderr",
          "output_type": "stream",
          "text": [
            "/usr/local/lib/python3.7/dist-packages/IPython/html.py:14: ShimWarning: The `IPython.html` package has been deprecated since IPython 4.0. You should import from `notebook` instead. `IPython.html.widgets` has moved to `ipywidgets`.\n",
            "  \"`IPython.html.widgets` has moved to `ipywidgets`.\", ShimWarning)\n"
          ]
        },
        {
          "data": {
            "application/vnd.jupyter.widget-view+json": {
              "model_id": "05621fde72ed4951860dec3a83190c51",
              "version_major": 2,
              "version_minor": 0
            },
            "text/plain": [
              "interactive(children=(IntSlider(value=5, description='a', max=10), Output()), _dom_classes=('widget-interact',…"
            ]
          },
          "metadata": {},
          "output_type": "display_data"
        },
        {
          "data": {
            "text/plain": [
              "<function __main__.funcion>"
            ]
          },
          "execution_count": 6,
          "metadata": {},
          "output_type": "execute_result"
        }
      ],
      "source": [
        "from IPython.html.widgets import interact\n",
        "interact(funcion,a=(0,10))"
      ]
    },
    {
      "cell_type": "markdown",
      "metadata": {
        "id": "grG31ZhLeNgb"
      },
      "source": [
        "[texto del vínculo](https://www.geogebra.org/classic/ujmmy9du)"
      ]
    },
    {
      "cell_type": "markdown",
      "metadata": {
        "id": "AI28dTE53iLB"
      },
      "source": [
        "Consideremos la solución  del problema de Bjorling  asociado a esta curva tomando el caso en que $a=\\sqrt{\\frac{2}{3}}$. La superficie resultante  es conocida como la superficie de Henneberg .Para su construcción consideremos la parametrizacion $\\alpha(t)$ de la parábola semi cúbica   $x^ {2} -\\frac{2}{3}  z ^ {3}$ , dada por\n",
        "\n",
        "\\begin{equation*}\n",
        "\\begin{split}\n",
        "\\alpha(t)&= (\\sinh^2(t),0, \\frac{2}{3}\\sinh^3(t))\\\\\n",
        "\\end{split}\n",
        "\\end{equation*}\n",
        "Por lo tanto \n",
        "\\begin{equation*}\n",
        "\\begin{split}\n",
        "\\alpha'(t)&= (2\\sinh(t)\\cosh(t),0, 2\\sinh^2(t)\\cosh(t))\\hspace{0.5cm}\\textbf{y} \\hspace{0.5cm}n(t)= \\frac{1}{\\sqrt{\\sinh^2(w)+1}} ( -\\sinh(t),0 ,1)\n",
        "\\end{split}\n",
        "\\end{equation*}\n",
        "\n",
        "\n",
        "Llevando a cabo la construcción de Schwarz , obtenemos que la superficie de Henneberg  se puede parametrizar por la expresión \n",
        "\\begin{equation*}\n",
        "\\begin{split}\n",
        "X(u,v)&=\\Re e \\left \\{ ( \\sinh^2(w),0,\\frac{2}{3}\\sinh^3(w))+i\\int \\frac{1}{\\sqrt{\\sinh^2(w)+1}}\\begin{vmatrix}\n",
        "i & j & k \\\\ \n",
        " -\\sinh(w) & 0  & 1\\\\ \n",
        "2\\cosh(w) \\sinh(w) & 0 & 2\\sinh^2(w)\\cosh(w)\n",
        "\\end{vmatrix} dw \\right \\} \\\\ \n",
        "&=\\Re e\\left \\{ \\sinh^{2}(w),-\\frac{2}{3} i \\cosh^3(w),\\frac{2}{3}\\sinh^{3}(w) \\right \\}\\\\\n",
        "&=\\Re e\\left \\{ \\frac{1}{2} \\cosh(2w)-\\frac{1}{2},\\frac{i}{6} \\cosh(3w)+\\frac{i}{2}\\cosh(w),\\frac{2}{3}\\left ( \\frac{1}{4} \\sinh(3w)-\\frac{3}{4} \\sinh(w) \\right ) \\right \\} \\\\\n",
        "&= \\left \\{\\frac{1}{2} \\cosh(2u) \\cos(2v)-\\frac{1}{2},-\\frac{1}{6}\\sinh(3u)\\sin(3v)-\\frac{1}{2}\\sinh(u)\\sin(v),\\frac{1}{6}\\sinh(3u)\\cos(3v)-\\frac{1}{2}\\sinh(u)\\cos(v)\\right \\}\n",
        "\\end{split} \n",
        "\\end{equation*}"
      ]
    },
    {
      "cell_type": "markdown",
      "metadata": {
        "id": "rvWM_PNLeL9d"
      },
      "source": [
        "[texto del vínculo](https://www.geogebra.org/classic/fkbgmqmd)\n"
      ]
    },
    {
      "cell_type": "markdown",
      "metadata": {
        "id": "v9xJva5d3kDl"
      },
      "source": [
        ""
      ]
    },
    {
      "cell_type": "markdown",
      "metadata": {
        "id": "6oxVV_Yr1rT7"
      },
      "source": [
        "# Simbolos de chistofell"
      ]
    },
    {
      "cell_type": "markdown",
      "metadata": {
        "id": "HyltGoEG1lDJ"
      },
      "source": [
        "![simbolos de chistofell.png](data:image/png;base64,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)"
      ]
    },
    {
      "cell_type": "code",
      "execution_count": null,
      "metadata": {
        "id": "pjUXjPth1qDV",
        "colab": {
          "base_uri": "https://localhost:8080/",
          "height": 414
        },
        "outputId": "94504522-9393-40d5-9c68-f2b09ea8e04d"
      },
      "outputs": [
        {
          "output_type": "error",
          "ename": "ValueError",
          "evalue": "ignored",
          "traceback": [
            "\u001b[0;31m---------------------------------------------------------------------------\u001b[0m",
            "\u001b[0;31mValueError\u001b[0m                                Traceback (most recent call last)",
            "\u001b[0;32m<ipython-input-29-d5710b396523>\u001b[0m in \u001b[0;36m<module>\u001b[0;34m()\u001b[0m\n\u001b[0;32m----> 1\u001b[0;31m \u001b[0mE_1\u001b[0m\u001b[0;34m=\u001b[0m \u001b[0mdiff\u001b[0m\u001b[0;34m(\u001b[0m\u001b[0mE\u001b[0m\u001b[0;34m,\u001b[0m\u001b[0mx\u001b[0m\u001b[0;34m,\u001b[0m\u001b[0;36m1\u001b[0m\u001b[0;34m)\u001b[0m\u001b[0;34m\u001b[0m\u001b[0;34m\u001b[0m\u001b[0m\n\u001b[0m\u001b[1;32m      2\u001b[0m \u001b[0mF_1\u001b[0m\u001b[0;34m=\u001b[0m \u001b[0mdiff\u001b[0m\u001b[0;34m(\u001b[0m\u001b[0mF\u001b[0m\u001b[0;34m,\u001b[0m\u001b[0mx\u001b[0m\u001b[0;34m,\u001b[0m\u001b[0;36m1\u001b[0m\u001b[0;34m)\u001b[0m\u001b[0;34m\u001b[0m\u001b[0;34m\u001b[0m\u001b[0m\n\u001b[1;32m      3\u001b[0m \u001b[0mG_1\u001b[0m\u001b[0;34m=\u001b[0m \u001b[0mdiff\u001b[0m\u001b[0;34m(\u001b[0m\u001b[0mG\u001b[0m\u001b[0;34m,\u001b[0m\u001b[0mx\u001b[0m\u001b[0;34m,\u001b[0m\u001b[0;36m1\u001b[0m\u001b[0;34m)\u001b[0m\u001b[0;34m\u001b[0m\u001b[0;34m\u001b[0m\u001b[0m\n\u001b[1;32m      4\u001b[0m \u001b[0;31m#-----------------------------------------------------------------------\u001b[0m\u001b[0;34m\u001b[0m\u001b[0;34m\u001b[0m\u001b[0;34m\u001b[0m\u001b[0m\n\u001b[1;32m      5\u001b[0m \u001b[0mE_2\u001b[0m\u001b[0;34m=\u001b[0m \u001b[0mdiff\u001b[0m\u001b[0;34m(\u001b[0m\u001b[0mE\u001b[0m\u001b[0;34m,\u001b[0m\u001b[0my\u001b[0m\u001b[0;34m,\u001b[0m\u001b[0;36m1\u001b[0m\u001b[0;34m)\u001b[0m\u001b[0;34m\u001b[0m\u001b[0;34m\u001b[0m\u001b[0m\n",
            "\u001b[0;32m/usr/local/lib/python3.7/dist-packages/sympy/core/function.py\u001b[0m in \u001b[0;36mdiff\u001b[0;34m(f, *symbols, **kwargs)\u001b[0m\n\u001b[1;32m   2490\u001b[0m     \"\"\"\n\u001b[1;32m   2491\u001b[0m     \u001b[0;32mif\u001b[0m \u001b[0mhasattr\u001b[0m\u001b[0;34m(\u001b[0m\u001b[0mf\u001b[0m\u001b[0;34m,\u001b[0m \u001b[0;34m'diff'\u001b[0m\u001b[0;34m)\u001b[0m\u001b[0;34m:\u001b[0m\u001b[0;34m\u001b[0m\u001b[0;34m\u001b[0m\u001b[0m\n\u001b[0;32m-> 2492\u001b[0;31m         \u001b[0;32mreturn\u001b[0m \u001b[0mf\u001b[0m\u001b[0;34m.\u001b[0m\u001b[0mdiff\u001b[0m\u001b[0;34m(\u001b[0m\u001b[0;34m*\u001b[0m\u001b[0msymbols\u001b[0m\u001b[0;34m,\u001b[0m \u001b[0;34m**\u001b[0m\u001b[0mkwargs\u001b[0m\u001b[0;34m)\u001b[0m\u001b[0;34m\u001b[0m\u001b[0;34m\u001b[0m\u001b[0m\n\u001b[0m\u001b[1;32m   2493\u001b[0m     \u001b[0mkwargs\u001b[0m\u001b[0;34m.\u001b[0m\u001b[0msetdefault\u001b[0m\u001b[0;34m(\u001b[0m\u001b[0;34m'evaluate'\u001b[0m\u001b[0;34m,\u001b[0m \u001b[0;32mTrue\u001b[0m\u001b[0;34m)\u001b[0m\u001b[0;34m\u001b[0m\u001b[0;34m\u001b[0m\u001b[0m\n\u001b[1;32m   2494\u001b[0m     \u001b[0;32mreturn\u001b[0m \u001b[0m_derivative_dispatch\u001b[0m\u001b[0;34m(\u001b[0m\u001b[0mf\u001b[0m\u001b[0;34m,\u001b[0m \u001b[0;34m*\u001b[0m\u001b[0msymbols\u001b[0m\u001b[0;34m,\u001b[0m \u001b[0;34m**\u001b[0m\u001b[0mkwargs\u001b[0m\u001b[0;34m)\u001b[0m\u001b[0;34m\u001b[0m\u001b[0;34m\u001b[0m\u001b[0m\n",
            "\u001b[0;32m/usr/local/lib/python3.7/dist-packages/sympy/core/expr.py\u001b[0m in \u001b[0;36mdiff\u001b[0;34m(self, *symbols, **assumptions)\u001b[0m\n\u001b[1;32m   3472\u001b[0m     \u001b[0;32mdef\u001b[0m \u001b[0mdiff\u001b[0m\u001b[0;34m(\u001b[0m\u001b[0mself\u001b[0m\u001b[0;34m,\u001b[0m \u001b[0;34m*\u001b[0m\u001b[0msymbols\u001b[0m\u001b[0;34m,\u001b[0m \u001b[0;34m**\u001b[0m\u001b[0massumptions\u001b[0m\u001b[0;34m)\u001b[0m\u001b[0;34m:\u001b[0m\u001b[0;34m\u001b[0m\u001b[0;34m\u001b[0m\u001b[0m\n\u001b[1;32m   3473\u001b[0m         \u001b[0massumptions\u001b[0m\u001b[0;34m.\u001b[0m\u001b[0msetdefault\u001b[0m\u001b[0;34m(\u001b[0m\u001b[0;34m\"evaluate\"\u001b[0m\u001b[0;34m,\u001b[0m \u001b[0;32mTrue\u001b[0m\u001b[0;34m)\u001b[0m\u001b[0;34m\u001b[0m\u001b[0;34m\u001b[0m\u001b[0m\n\u001b[0;32m-> 3474\u001b[0;31m         \u001b[0;32mreturn\u001b[0m \u001b[0m_derivative_dispatch\u001b[0m\u001b[0;34m(\u001b[0m\u001b[0mself\u001b[0m\u001b[0;34m,\u001b[0m \u001b[0;34m*\u001b[0m\u001b[0msymbols\u001b[0m\u001b[0;34m,\u001b[0m \u001b[0;34m**\u001b[0m\u001b[0massumptions\u001b[0m\u001b[0;34m)\u001b[0m\u001b[0;34m\u001b[0m\u001b[0;34m\u001b[0m\u001b[0m\n\u001b[0m\u001b[1;32m   3475\u001b[0m \u001b[0;34m\u001b[0m\u001b[0m\n\u001b[1;32m   3476\u001b[0m     \u001b[0;31m###########################################################################\u001b[0m\u001b[0;34m\u001b[0m\u001b[0;34m\u001b[0m\u001b[0;34m\u001b[0m\u001b[0m\n",
            "\u001b[0;32m/usr/local/lib/python3.7/dist-packages/sympy/core/function.py\u001b[0m in \u001b[0;36m_derivative_dispatch\u001b[0;34m(expr, *variables, **kwargs)\u001b[0m\n\u001b[1;32m   1940\u001b[0m         \u001b[0;32mfrom\u001b[0m \u001b[0msympy\u001b[0m\u001b[0;34m.\u001b[0m\u001b[0mtensor\u001b[0m\u001b[0;34m.\u001b[0m\u001b[0marray\u001b[0m\u001b[0;34m.\u001b[0m\u001b[0marray_derivatives\u001b[0m \u001b[0;32mimport\u001b[0m \u001b[0mArrayDerivative\u001b[0m\u001b[0;34m\u001b[0m\u001b[0;34m\u001b[0m\u001b[0m\n\u001b[1;32m   1941\u001b[0m         \u001b[0;32mreturn\u001b[0m \u001b[0mArrayDerivative\u001b[0m\u001b[0;34m(\u001b[0m\u001b[0mexpr\u001b[0m\u001b[0;34m,\u001b[0m \u001b[0;34m*\u001b[0m\u001b[0mvariables\u001b[0m\u001b[0;34m,\u001b[0m \u001b[0;34m**\u001b[0m\u001b[0mkwargs\u001b[0m\u001b[0;34m)\u001b[0m\u001b[0;34m\u001b[0m\u001b[0;34m\u001b[0m\u001b[0m\n\u001b[0;32m-> 1942\u001b[0;31m     \u001b[0;32mreturn\u001b[0m \u001b[0mDerivative\u001b[0m\u001b[0;34m(\u001b[0m\u001b[0mexpr\u001b[0m\u001b[0;34m,\u001b[0m \u001b[0;34m*\u001b[0m\u001b[0mvariables\u001b[0m\u001b[0;34m,\u001b[0m \u001b[0;34m**\u001b[0m\u001b[0mkwargs\u001b[0m\u001b[0;34m)\u001b[0m\u001b[0;34m\u001b[0m\u001b[0;34m\u001b[0m\u001b[0m\n\u001b[0m\u001b[1;32m   1943\u001b[0m \u001b[0;34m\u001b[0m\u001b[0m\n\u001b[1;32m   1944\u001b[0m \u001b[0;34m\u001b[0m\u001b[0m\n",
            "\u001b[0;32m/usr/local/lib/python3.7/dist-packages/sympy/core/function.py\u001b[0m in \u001b[0;36m__new__\u001b[0;34m(cls, expr, *variables, **kwargs)\u001b[0m\n\u001b[1;32m   1466\u001b[0m                     \u001b[0mexpr\u001b[0m \u001b[0;34m*=\u001b[0m \u001b[0mold_v\u001b[0m\u001b[0;34m.\u001b[0m\u001b[0mdiff\u001b[0m\u001b[0;34m(\u001b[0m\u001b[0mold_v\u001b[0m\u001b[0;34m)\u001b[0m\u001b[0;34m\u001b[0m\u001b[0;34m\u001b[0m\u001b[0m\n\u001b[1;32m   1467\u001b[0m \u001b[0;34m\u001b[0m\u001b[0m\n\u001b[0;32m-> 1468\u001b[0;31m             \u001b[0mobj\u001b[0m \u001b[0;34m=\u001b[0m \u001b[0mcls\u001b[0m\u001b[0;34m.\u001b[0m\u001b[0m_dispatch_eval_derivative_n_times\u001b[0m\u001b[0;34m(\u001b[0m\u001b[0mexpr\u001b[0m\u001b[0;34m,\u001b[0m \u001b[0mv\u001b[0m\u001b[0;34m,\u001b[0m \u001b[0mcount\u001b[0m\u001b[0;34m)\u001b[0m\u001b[0;34m\u001b[0m\u001b[0;34m\u001b[0m\u001b[0m\n\u001b[0m\u001b[1;32m   1469\u001b[0m             \u001b[0;32mif\u001b[0m \u001b[0mobj\u001b[0m \u001b[0;32mis\u001b[0m \u001b[0;32mnot\u001b[0m \u001b[0;32mNone\u001b[0m \u001b[0;32mand\u001b[0m \u001b[0mobj\u001b[0m\u001b[0;34m.\u001b[0m\u001b[0mis_zero\u001b[0m\u001b[0;34m:\u001b[0m\u001b[0;34m\u001b[0m\u001b[0;34m\u001b[0m\u001b[0m\n\u001b[1;32m   1470\u001b[0m                 \u001b[0;32mreturn\u001b[0m \u001b[0mobj\u001b[0m\u001b[0;34m\u001b[0m\u001b[0;34m\u001b[0m\u001b[0m\n",
            "\u001b[0;32m/usr/local/lib/python3.7/dist-packages/sympy/core/function.py\u001b[0m in \u001b[0;36m_dispatch_eval_derivative_n_times\u001b[0;34m(cls, expr, v, count)\u001b[0m\n\u001b[1;32m   1929\u001b[0m         \u001b[0;31m# object, the default in `Basic` will call a loop over\u001b[0m\u001b[0;34m\u001b[0m\u001b[0;34m\u001b[0m\u001b[0;34m\u001b[0m\u001b[0m\n\u001b[1;32m   1930\u001b[0m         \u001b[0;31m# `_eval_derivative`:\u001b[0m\u001b[0;34m\u001b[0m\u001b[0;34m\u001b[0m\u001b[0;34m\u001b[0m\u001b[0m\n\u001b[0;32m-> 1931\u001b[0;31m         \u001b[0;32mreturn\u001b[0m \u001b[0mexpr\u001b[0m\u001b[0;34m.\u001b[0m\u001b[0m_eval_derivative_n_times\u001b[0m\u001b[0;34m(\u001b[0m\u001b[0mv\u001b[0m\u001b[0;34m,\u001b[0m \u001b[0mcount\u001b[0m\u001b[0;34m)\u001b[0m\u001b[0;34m\u001b[0m\u001b[0;34m\u001b[0m\u001b[0m\n\u001b[0m\u001b[1;32m   1932\u001b[0m \u001b[0;34m\u001b[0m\u001b[0m\n\u001b[1;32m   1933\u001b[0m \u001b[0;34m\u001b[0m\u001b[0m\n",
            "\u001b[0;32m/usr/local/lib/python3.7/dist-packages/sympy/core/basic.py\u001b[0m in \u001b[0;36m_eval_derivative_n_times\u001b[0;34m(self, s, n)\u001b[0m\n\u001b[1;32m   1703\u001b[0m             \u001b[0mobj\u001b[0m \u001b[0;34m=\u001b[0m \u001b[0mself\u001b[0m\u001b[0;34m\u001b[0m\u001b[0;34m\u001b[0m\u001b[0m\n\u001b[1;32m   1704\u001b[0m             \u001b[0;32mfor\u001b[0m \u001b[0mi\u001b[0m \u001b[0;32min\u001b[0m \u001b[0mrange\u001b[0m\u001b[0;34m(\u001b[0m\u001b[0mn\u001b[0m\u001b[0;34m)\u001b[0m\u001b[0;34m:\u001b[0m\u001b[0;34m\u001b[0m\u001b[0;34m\u001b[0m\u001b[0m\n\u001b[0;32m-> 1705\u001b[0;31m                 \u001b[0mobj2\u001b[0m \u001b[0;34m=\u001b[0m \u001b[0mobj\u001b[0m\u001b[0;34m.\u001b[0m\u001b[0m_eval_derivative\u001b[0m\u001b[0;34m(\u001b[0m\u001b[0ms\u001b[0m\u001b[0;34m)\u001b[0m\u001b[0;34m\u001b[0m\u001b[0;34m\u001b[0m\u001b[0m\n\u001b[0m\u001b[1;32m   1706\u001b[0m                 \u001b[0;32mif\u001b[0m \u001b[0mobj\u001b[0m \u001b[0;34m==\u001b[0m \u001b[0mobj2\u001b[0m \u001b[0;32mor\u001b[0m \u001b[0mobj2\u001b[0m \u001b[0;32mis\u001b[0m \u001b[0;32mNone\u001b[0m\u001b[0;34m:\u001b[0m\u001b[0;34m\u001b[0m\u001b[0;34m\u001b[0m\u001b[0m\n\u001b[1;32m   1707\u001b[0m                     \u001b[0;32mbreak\u001b[0m\u001b[0;34m\u001b[0m\u001b[0;34m\u001b[0m\u001b[0m\n",
            "\u001b[0;32m/usr/local/lib/python3.7/dist-packages/sympy/core/cache.py\u001b[0m in \u001b[0;36mwrapper\u001b[0;34m(*args, **kwargs)\u001b[0m\n\u001b[1;32m     70\u001b[0m         \u001b[0;32mdef\u001b[0m \u001b[0mwrapper\u001b[0m\u001b[0;34m(\u001b[0m\u001b[0;34m*\u001b[0m\u001b[0margs\u001b[0m\u001b[0;34m,\u001b[0m \u001b[0;34m**\u001b[0m\u001b[0mkwargs\u001b[0m\u001b[0;34m)\u001b[0m\u001b[0;34m:\u001b[0m\u001b[0;34m\u001b[0m\u001b[0;34m\u001b[0m\u001b[0m\n\u001b[1;32m     71\u001b[0m             \u001b[0;32mtry\u001b[0m\u001b[0;34m:\u001b[0m\u001b[0;34m\u001b[0m\u001b[0;34m\u001b[0m\u001b[0m\n\u001b[0;32m---> 72\u001b[0;31m                 \u001b[0mretval\u001b[0m \u001b[0;34m=\u001b[0m \u001b[0mcfunc\u001b[0m\u001b[0;34m(\u001b[0m\u001b[0;34m*\u001b[0m\u001b[0margs\u001b[0m\u001b[0;34m,\u001b[0m \u001b[0;34m**\u001b[0m\u001b[0mkwargs\u001b[0m\u001b[0;34m)\u001b[0m\u001b[0;34m\u001b[0m\u001b[0;34m\u001b[0m\u001b[0m\n\u001b[0m\u001b[1;32m     73\u001b[0m             \u001b[0;32mexcept\u001b[0m \u001b[0mTypeError\u001b[0m\u001b[0;34m:\u001b[0m\u001b[0;34m\u001b[0m\u001b[0;34m\u001b[0m\u001b[0m\n\u001b[1;32m     74\u001b[0m                 \u001b[0mretval\u001b[0m \u001b[0;34m=\u001b[0m \u001b[0mfunc\u001b[0m\u001b[0;34m(\u001b[0m\u001b[0;34m*\u001b[0m\u001b[0margs\u001b[0m\u001b[0;34m,\u001b[0m \u001b[0;34m**\u001b[0m\u001b[0mkwargs\u001b[0m\u001b[0;34m)\u001b[0m\u001b[0;34m\u001b[0m\u001b[0;34m\u001b[0m\u001b[0m\n",
            "\u001b[0;32m/usr/local/lib/python3.7/dist-packages/sympy/core/add.py\u001b[0m in \u001b[0;36m_eval_derivative\u001b[0;34m(self, s)\u001b[0m\n\u001b[1;32m    401\u001b[0m     \u001b[0;34m@\u001b[0m\u001b[0mcacheit\u001b[0m\u001b[0;34m\u001b[0m\u001b[0;34m\u001b[0m\u001b[0m\n\u001b[1;32m    402\u001b[0m     \u001b[0;32mdef\u001b[0m \u001b[0m_eval_derivative\u001b[0m\u001b[0;34m(\u001b[0m\u001b[0mself\u001b[0m\u001b[0;34m,\u001b[0m \u001b[0ms\u001b[0m\u001b[0;34m)\u001b[0m\u001b[0;34m:\u001b[0m\u001b[0;34m\u001b[0m\u001b[0;34m\u001b[0m\u001b[0m\n\u001b[0;32m--> 403\u001b[0;31m         \u001b[0;32mreturn\u001b[0m \u001b[0mself\u001b[0m\u001b[0;34m.\u001b[0m\u001b[0mfunc\u001b[0m\u001b[0;34m(\u001b[0m\u001b[0;34m*\u001b[0m\u001b[0;34m[\u001b[0m\u001b[0ma\u001b[0m\u001b[0;34m.\u001b[0m\u001b[0mdiff\u001b[0m\u001b[0;34m(\u001b[0m\u001b[0ms\u001b[0m\u001b[0;34m)\u001b[0m \u001b[0;32mfor\u001b[0m \u001b[0ma\u001b[0m \u001b[0;32min\u001b[0m \u001b[0mself\u001b[0m\u001b[0;34m.\u001b[0m\u001b[0margs\u001b[0m\u001b[0;34m]\u001b[0m\u001b[0;34m)\u001b[0m\u001b[0;34m\u001b[0m\u001b[0;34m\u001b[0m\u001b[0m\n\u001b[0m\u001b[1;32m    404\u001b[0m \u001b[0;34m\u001b[0m\u001b[0m\n\u001b[1;32m    405\u001b[0m     \u001b[0;32mdef\u001b[0m \u001b[0m_eval_nseries\u001b[0m\u001b[0;34m(\u001b[0m\u001b[0mself\u001b[0m\u001b[0;34m,\u001b[0m \u001b[0mx\u001b[0m\u001b[0;34m,\u001b[0m \u001b[0mn\u001b[0m\u001b[0;34m,\u001b[0m \u001b[0mlogx\u001b[0m\u001b[0;34m,\u001b[0m \u001b[0mcdir\u001b[0m\u001b[0;34m=\u001b[0m\u001b[0;36m0\u001b[0m\u001b[0;34m)\u001b[0m\u001b[0;34m:\u001b[0m\u001b[0;34m\u001b[0m\u001b[0;34m\u001b[0m\u001b[0m\n",
            "\u001b[0;32m/usr/local/lib/python3.7/dist-packages/sympy/core/add.py\u001b[0m in \u001b[0;36m<listcomp>\u001b[0;34m(.0)\u001b[0m\n\u001b[1;32m    401\u001b[0m     \u001b[0;34m@\u001b[0m\u001b[0mcacheit\u001b[0m\u001b[0;34m\u001b[0m\u001b[0;34m\u001b[0m\u001b[0m\n\u001b[1;32m    402\u001b[0m     \u001b[0;32mdef\u001b[0m \u001b[0m_eval_derivative\u001b[0m\u001b[0;34m(\u001b[0m\u001b[0mself\u001b[0m\u001b[0;34m,\u001b[0m \u001b[0ms\u001b[0m\u001b[0;34m)\u001b[0m\u001b[0;34m:\u001b[0m\u001b[0;34m\u001b[0m\u001b[0;34m\u001b[0m\u001b[0m\n\u001b[0;32m--> 403\u001b[0;31m         \u001b[0;32mreturn\u001b[0m \u001b[0mself\u001b[0m\u001b[0;34m.\u001b[0m\u001b[0mfunc\u001b[0m\u001b[0;34m(\u001b[0m\u001b[0;34m*\u001b[0m\u001b[0;34m[\u001b[0m\u001b[0ma\u001b[0m\u001b[0;34m.\u001b[0m\u001b[0mdiff\u001b[0m\u001b[0;34m(\u001b[0m\u001b[0ms\u001b[0m\u001b[0;34m)\u001b[0m \u001b[0;32mfor\u001b[0m \u001b[0ma\u001b[0m \u001b[0;32min\u001b[0m \u001b[0mself\u001b[0m\u001b[0;34m.\u001b[0m\u001b[0margs\u001b[0m\u001b[0;34m]\u001b[0m\u001b[0;34m)\u001b[0m\u001b[0;34m\u001b[0m\u001b[0;34m\u001b[0m\u001b[0m\n\u001b[0m\u001b[1;32m    404\u001b[0m \u001b[0;34m\u001b[0m\u001b[0m\n\u001b[1;32m    405\u001b[0m     \u001b[0;32mdef\u001b[0m \u001b[0m_eval_nseries\u001b[0m\u001b[0;34m(\u001b[0m\u001b[0mself\u001b[0m\u001b[0;34m,\u001b[0m \u001b[0mx\u001b[0m\u001b[0;34m,\u001b[0m \u001b[0mn\u001b[0m\u001b[0;34m,\u001b[0m \u001b[0mlogx\u001b[0m\u001b[0;34m,\u001b[0m \u001b[0mcdir\u001b[0m\u001b[0;34m=\u001b[0m\u001b[0;36m0\u001b[0m\u001b[0;34m)\u001b[0m\u001b[0;34m:\u001b[0m\u001b[0;34m\u001b[0m\u001b[0;34m\u001b[0m\u001b[0m\n",
            "\u001b[0;32m/usr/local/lib/python3.7/dist-packages/sympy/core/expr.py\u001b[0m in \u001b[0;36mdiff\u001b[0;34m(self, *symbols, **assumptions)\u001b[0m\n\u001b[1;32m   3472\u001b[0m     \u001b[0;32mdef\u001b[0m \u001b[0mdiff\u001b[0m\u001b[0;34m(\u001b[0m\u001b[0mself\u001b[0m\u001b[0;34m,\u001b[0m \u001b[0;34m*\u001b[0m\u001b[0msymbols\u001b[0m\u001b[0;34m,\u001b[0m \u001b[0;34m**\u001b[0m\u001b[0massumptions\u001b[0m\u001b[0;34m)\u001b[0m\u001b[0;34m:\u001b[0m\u001b[0;34m\u001b[0m\u001b[0;34m\u001b[0m\u001b[0m\n\u001b[1;32m   3473\u001b[0m         \u001b[0massumptions\u001b[0m\u001b[0;34m.\u001b[0m\u001b[0msetdefault\u001b[0m\u001b[0;34m(\u001b[0m\u001b[0;34m\"evaluate\"\u001b[0m\u001b[0;34m,\u001b[0m \u001b[0;32mTrue\u001b[0m\u001b[0;34m)\u001b[0m\u001b[0;34m\u001b[0m\u001b[0;34m\u001b[0m\u001b[0m\n\u001b[0;32m-> 3474\u001b[0;31m         \u001b[0;32mreturn\u001b[0m \u001b[0m_derivative_dispatch\u001b[0m\u001b[0;34m(\u001b[0m\u001b[0mself\u001b[0m\u001b[0;34m,\u001b[0m \u001b[0;34m*\u001b[0m\u001b[0msymbols\u001b[0m\u001b[0;34m,\u001b[0m \u001b[0;34m**\u001b[0m\u001b[0massumptions\u001b[0m\u001b[0;34m)\u001b[0m\u001b[0;34m\u001b[0m\u001b[0;34m\u001b[0m\u001b[0m\n\u001b[0m\u001b[1;32m   3475\u001b[0m \u001b[0;34m\u001b[0m\u001b[0m\n\u001b[1;32m   3476\u001b[0m     \u001b[0;31m###########################################################################\u001b[0m\u001b[0;34m\u001b[0m\u001b[0;34m\u001b[0m\u001b[0;34m\u001b[0m\u001b[0m\n",
            "\u001b[0;32m/usr/local/lib/python3.7/dist-packages/sympy/core/function.py\u001b[0m in \u001b[0;36m_derivative_dispatch\u001b[0;34m(expr, *variables, **kwargs)\u001b[0m\n\u001b[1;32m   1939\u001b[0m     \u001b[0;32mif\u001b[0m \u001b[0misinstance\u001b[0m\u001b[0;34m(\u001b[0m\u001b[0mexpr\u001b[0m\u001b[0;34m,\u001b[0m \u001b[0marray_types\u001b[0m\u001b[0;34m)\u001b[0m \u001b[0;32mor\u001b[0m \u001b[0many\u001b[0m\u001b[0;34m(\u001b[0m\u001b[0misinstance\u001b[0m\u001b[0;34m(\u001b[0m\u001b[0mi\u001b[0m\u001b[0;34m[\u001b[0m\u001b[0;36m0\u001b[0m\u001b[0;34m]\u001b[0m\u001b[0;34m,\u001b[0m \u001b[0marray_types\u001b[0m\u001b[0;34m)\u001b[0m \u001b[0;32mif\u001b[0m \u001b[0misinstance\u001b[0m\u001b[0;34m(\u001b[0m\u001b[0mi\u001b[0m\u001b[0;34m,\u001b[0m \u001b[0;34m(\u001b[0m\u001b[0mtuple\u001b[0m\u001b[0;34m,\u001b[0m \u001b[0mlist\u001b[0m\u001b[0;34m,\u001b[0m \u001b[0mTuple\u001b[0m\u001b[0;34m)\u001b[0m\u001b[0;34m)\u001b[0m \u001b[0;32melse\u001b[0m \u001b[0misinstance\u001b[0m\u001b[0;34m(\u001b[0m\u001b[0mi\u001b[0m\u001b[0;34m,\u001b[0m \u001b[0marray_types\u001b[0m\u001b[0;34m)\u001b[0m \u001b[0;32mfor\u001b[0m \u001b[0mi\u001b[0m \u001b[0;32min\u001b[0m \u001b[0mvariables\u001b[0m\u001b[0;34m)\u001b[0m\u001b[0;34m:\u001b[0m\u001b[0;34m\u001b[0m\u001b[0;34m\u001b[0m\u001b[0m\n\u001b[1;32m   1940\u001b[0m         \u001b[0;32mfrom\u001b[0m \u001b[0msympy\u001b[0m\u001b[0;34m.\u001b[0m\u001b[0mtensor\u001b[0m\u001b[0;34m.\u001b[0m\u001b[0marray\u001b[0m\u001b[0;34m.\u001b[0m\u001b[0marray_derivatives\u001b[0m \u001b[0;32mimport\u001b[0m \u001b[0mArrayDerivative\u001b[0m\u001b[0;34m\u001b[0m\u001b[0;34m\u001b[0m\u001b[0m\n\u001b[0;32m-> 1941\u001b[0;31m         \u001b[0;32mreturn\u001b[0m \u001b[0mArrayDerivative\u001b[0m\u001b[0;34m(\u001b[0m\u001b[0mexpr\u001b[0m\u001b[0;34m,\u001b[0m \u001b[0;34m*\u001b[0m\u001b[0mvariables\u001b[0m\u001b[0;34m,\u001b[0m \u001b[0;34m**\u001b[0m\u001b[0mkwargs\u001b[0m\u001b[0;34m)\u001b[0m\u001b[0;34m\u001b[0m\u001b[0;34m\u001b[0m\u001b[0m\n\u001b[0m\u001b[1;32m   1942\u001b[0m     \u001b[0;32mreturn\u001b[0m \u001b[0mDerivative\u001b[0m\u001b[0;34m(\u001b[0m\u001b[0mexpr\u001b[0m\u001b[0;34m,\u001b[0m \u001b[0;34m*\u001b[0m\u001b[0mvariables\u001b[0m\u001b[0;34m,\u001b[0m \u001b[0;34m**\u001b[0m\u001b[0mkwargs\u001b[0m\u001b[0;34m)\u001b[0m\u001b[0;34m\u001b[0m\u001b[0;34m\u001b[0m\u001b[0m\n\u001b[1;32m   1943\u001b[0m \u001b[0;34m\u001b[0m\u001b[0m\n",
            "\u001b[0;32m/usr/local/lib/python3.7/dist-packages/sympy/tensor/array/array_derivatives.py\u001b[0m in \u001b[0;36m__new__\u001b[0;34m(cls, expr, *variables, **kwargs)\u001b[0m\n\u001b[1;32m     15\u001b[0m \u001b[0;34m\u001b[0m\u001b[0m\n\u001b[1;32m     16\u001b[0m     \u001b[0;32mdef\u001b[0m \u001b[0m__new__\u001b[0m\u001b[0;34m(\u001b[0m\u001b[0mcls\u001b[0m\u001b[0;34m,\u001b[0m \u001b[0mexpr\u001b[0m\u001b[0;34m,\u001b[0m \u001b[0;34m*\u001b[0m\u001b[0mvariables\u001b[0m\u001b[0;34m,\u001b[0m \u001b[0;34m**\u001b[0m\u001b[0mkwargs\u001b[0m\u001b[0;34m)\u001b[0m\u001b[0;34m:\u001b[0m\u001b[0;34m\u001b[0m\u001b[0;34m\u001b[0m\u001b[0m\n\u001b[0;32m---> 17\u001b[0;31m         \u001b[0mobj\u001b[0m \u001b[0;34m=\u001b[0m \u001b[0msuper\u001b[0m\u001b[0;34m(\u001b[0m\u001b[0mArrayDerivative\u001b[0m\u001b[0;34m,\u001b[0m \u001b[0mcls\u001b[0m\u001b[0;34m)\u001b[0m\u001b[0;34m.\u001b[0m\u001b[0m__new__\u001b[0m\u001b[0;34m(\u001b[0m\u001b[0mcls\u001b[0m\u001b[0;34m,\u001b[0m \u001b[0mexpr\u001b[0m\u001b[0;34m,\u001b[0m \u001b[0;34m*\u001b[0m\u001b[0mvariables\u001b[0m\u001b[0;34m,\u001b[0m \u001b[0;34m**\u001b[0m\u001b[0mkwargs\u001b[0m\u001b[0;34m)\u001b[0m\u001b[0;34m\u001b[0m\u001b[0;34m\u001b[0m\u001b[0m\n\u001b[0m\u001b[1;32m     18\u001b[0m         \u001b[0;32mif\u001b[0m \u001b[0misinstance\u001b[0m\u001b[0;34m(\u001b[0m\u001b[0mobj\u001b[0m\u001b[0;34m,\u001b[0m \u001b[0mArrayDerivative\u001b[0m\u001b[0;34m)\u001b[0m\u001b[0;34m:\u001b[0m\u001b[0;34m\u001b[0m\u001b[0;34m\u001b[0m\u001b[0m\n\u001b[1;32m     19\u001b[0m             \u001b[0mobj\u001b[0m\u001b[0;34m.\u001b[0m\u001b[0m_shape\u001b[0m \u001b[0;34m=\u001b[0m \u001b[0mobj\u001b[0m\u001b[0;34m.\u001b[0m\u001b[0m_get_shape\u001b[0m\u001b[0;34m(\u001b[0m\u001b[0;34m)\u001b[0m\u001b[0;34m\u001b[0m\u001b[0;34m\u001b[0m\u001b[0m\n",
            "\u001b[0;32m/usr/local/lib/python3.7/dist-packages/sympy/core/function.py\u001b[0m in \u001b[0;36m__new__\u001b[0;34m(cls, expr, *variables, **kwargs)\u001b[0m\n\u001b[1;32m   1466\u001b[0m                     \u001b[0mexpr\u001b[0m \u001b[0;34m*=\u001b[0m \u001b[0mold_v\u001b[0m\u001b[0;34m.\u001b[0m\u001b[0mdiff\u001b[0m\u001b[0;34m(\u001b[0m\u001b[0mold_v\u001b[0m\u001b[0;34m)\u001b[0m\u001b[0;34m\u001b[0m\u001b[0;34m\u001b[0m\u001b[0m\n\u001b[1;32m   1467\u001b[0m \u001b[0;34m\u001b[0m\u001b[0m\n\u001b[0;32m-> 1468\u001b[0;31m             \u001b[0mobj\u001b[0m \u001b[0;34m=\u001b[0m \u001b[0mcls\u001b[0m\u001b[0;34m.\u001b[0m\u001b[0m_dispatch_eval_derivative_n_times\u001b[0m\u001b[0;34m(\u001b[0m\u001b[0mexpr\u001b[0m\u001b[0;34m,\u001b[0m \u001b[0mv\u001b[0m\u001b[0;34m,\u001b[0m \u001b[0mcount\u001b[0m\u001b[0;34m)\u001b[0m\u001b[0;34m\u001b[0m\u001b[0;34m\u001b[0m\u001b[0m\n\u001b[0m\u001b[1;32m   1469\u001b[0m             \u001b[0;32mif\u001b[0m \u001b[0mobj\u001b[0m \u001b[0;32mis\u001b[0m \u001b[0;32mnot\u001b[0m \u001b[0;32mNone\u001b[0m \u001b[0;32mand\u001b[0m \u001b[0mobj\u001b[0m\u001b[0;34m.\u001b[0m\u001b[0mis_zero\u001b[0m\u001b[0;34m:\u001b[0m\u001b[0;34m\u001b[0m\u001b[0;34m\u001b[0m\u001b[0m\n\u001b[1;32m   1470\u001b[0m                 \u001b[0;32mreturn\u001b[0m \u001b[0mobj\u001b[0m\u001b[0;34m\u001b[0m\u001b[0;34m\u001b[0m\u001b[0m\n",
            "\u001b[0;32m/usr/local/lib/python3.7/dist-packages/sympy/tensor/array/array_derivatives.py\u001b[0m in \u001b[0;36m_dispatch_eval_derivative_n_times\u001b[0;34m(cls, expr, v, count)\u001b[0m\n\u001b[1;32m     94\u001b[0m                 \u001b[0mresult\u001b[0m \u001b[0;34m=\u001b[0m \u001b[0mcls\u001b[0m\u001b[0;34m.\u001b[0m\u001b[0m_call_derive_scalar_by_matexpr\u001b[0m\u001b[0;34m(\u001b[0m\u001b[0mexpr\u001b[0m\u001b[0;34m,\u001b[0m \u001b[0mv\u001b[0m\u001b[0;34m)\u001b[0m\u001b[0;34m\u001b[0m\u001b[0;34m\u001b[0m\u001b[0m\n\u001b[1;32m     95\u001b[0m             \u001b[0;32melif\u001b[0m \u001b[0misinstance\u001b[0m\u001b[0;34m(\u001b[0m\u001b[0mv\u001b[0m\u001b[0;34m,\u001b[0m \u001b[0mNDimArray\u001b[0m\u001b[0;34m)\u001b[0m\u001b[0;34m:\u001b[0m\u001b[0;34m\u001b[0m\u001b[0;34m\u001b[0m\u001b[0m\n\u001b[0;32m---> 96\u001b[0;31m                 \u001b[0mresult\u001b[0m \u001b[0;34m=\u001b[0m \u001b[0mcls\u001b[0m\u001b[0;34m.\u001b[0m\u001b[0m_call_derive_scalar_by_array\u001b[0m\u001b[0;34m(\u001b[0m\u001b[0mexpr\u001b[0m\u001b[0;34m,\u001b[0m \u001b[0mv\u001b[0m\u001b[0;34m)\u001b[0m\u001b[0;34m\u001b[0m\u001b[0;34m\u001b[0m\u001b[0m\n\u001b[0m\u001b[1;32m     97\u001b[0m             \u001b[0;32melif\u001b[0m \u001b[0mv\u001b[0m\u001b[0;34m.\u001b[0m\u001b[0mis_scalar\u001b[0m\u001b[0;34m:\u001b[0m\u001b[0;34m\u001b[0m\u001b[0;34m\u001b[0m\u001b[0m\n\u001b[1;32m     98\u001b[0m                 \u001b[0;31m# scalar by scalar has a special\u001b[0m\u001b[0;34m\u001b[0m\u001b[0;34m\u001b[0m\u001b[0;34m\u001b[0m\u001b[0m\n",
            "\u001b[0;32m/usr/local/lib/python3.7/dist-packages/sympy/tensor/array/array_derivatives.py\u001b[0m in \u001b[0;36m_call_derive_scalar_by_array\u001b[0;34m(expr, v)\u001b[0m\n\u001b[1;32m     56\u001b[0m     \u001b[0;34m@\u001b[0m\u001b[0mstaticmethod\u001b[0m\u001b[0;34m\u001b[0m\u001b[0;34m\u001b[0m\u001b[0m\n\u001b[1;32m     57\u001b[0m     \u001b[0;32mdef\u001b[0m \u001b[0m_call_derive_scalar_by_array\u001b[0m\u001b[0;34m(\u001b[0m\u001b[0mexpr\u001b[0m\u001b[0;34m,\u001b[0m \u001b[0mv\u001b[0m\u001b[0;34m)\u001b[0m\u001b[0;34m:\u001b[0m  \u001b[0;31m# type: (Expr, NDimArray) -> Expr\u001b[0m\u001b[0;34m\u001b[0m\u001b[0;34m\u001b[0m\u001b[0m\n\u001b[0;32m---> 58\u001b[0;31m         \u001b[0;32mreturn\u001b[0m \u001b[0mv\u001b[0m\u001b[0;34m.\u001b[0m\u001b[0mapplyfunc\u001b[0m\u001b[0;34m(\u001b[0m\u001b[0;32mlambda\u001b[0m \u001b[0mx\u001b[0m\u001b[0;34m:\u001b[0m \u001b[0mexpr\u001b[0m\u001b[0;34m.\u001b[0m\u001b[0mdiff\u001b[0m\u001b[0;34m(\u001b[0m\u001b[0mx\u001b[0m\u001b[0;34m)\u001b[0m\u001b[0;34m)\u001b[0m\u001b[0;34m\u001b[0m\u001b[0;34m\u001b[0m\u001b[0m\n\u001b[0m\u001b[1;32m     59\u001b[0m \u001b[0;34m\u001b[0m\u001b[0m\n\u001b[1;32m     60\u001b[0m     \u001b[0;34m@\u001b[0m\u001b[0mstaticmethod\u001b[0m\u001b[0;34m\u001b[0m\u001b[0;34m\u001b[0m\u001b[0m\n",
            "\u001b[0;32m/usr/local/lib/python3.7/dist-packages/sympy/tensor/array/ndim_array.py\u001b[0m in \u001b[0;36mapplyfunc\u001b[0;34m(self, f)\u001b[0m\n\u001b[1;32m    272\u001b[0m             \u001b[0;32mreturn\u001b[0m \u001b[0mtype\u001b[0m\u001b[0;34m(\u001b[0m\u001b[0mself\u001b[0m\u001b[0;34m)\u001b[0m\u001b[0;34m(\u001b[0m\u001b[0;34m{\u001b[0m\u001b[0mk\u001b[0m\u001b[0;34m:\u001b[0m \u001b[0mf\u001b[0m\u001b[0;34m(\u001b[0m\u001b[0mv\u001b[0m\u001b[0;34m)\u001b[0m \u001b[0;32mfor\u001b[0m \u001b[0mk\u001b[0m\u001b[0;34m,\u001b[0m \u001b[0mv\u001b[0m \u001b[0;32min\u001b[0m \u001b[0mself\u001b[0m\u001b[0;34m.\u001b[0m\u001b[0m_sparse_array\u001b[0m\u001b[0;34m.\u001b[0m\u001b[0mitems\u001b[0m\u001b[0;34m(\u001b[0m\u001b[0;34m)\u001b[0m \u001b[0;32mif\u001b[0m \u001b[0mf\u001b[0m\u001b[0;34m(\u001b[0m\u001b[0mv\u001b[0m\u001b[0;34m)\u001b[0m \u001b[0;34m!=\u001b[0m \u001b[0;36m0\u001b[0m\u001b[0;34m}\u001b[0m\u001b[0;34m,\u001b[0m \u001b[0mself\u001b[0m\u001b[0;34m.\u001b[0m\u001b[0mshape\u001b[0m\u001b[0;34m)\u001b[0m\u001b[0;34m\u001b[0m\u001b[0;34m\u001b[0m\u001b[0m\n\u001b[1;32m    273\u001b[0m \u001b[0;34m\u001b[0m\u001b[0m\n\u001b[0;32m--> 274\u001b[0;31m         \u001b[0;32mreturn\u001b[0m \u001b[0mtype\u001b[0m\u001b[0;34m(\u001b[0m\u001b[0mself\u001b[0m\u001b[0;34m)\u001b[0m\u001b[0;34m(\u001b[0m\u001b[0mmap\u001b[0m\u001b[0;34m(\u001b[0m\u001b[0mf\u001b[0m\u001b[0;34m,\u001b[0m \u001b[0mFlatten\u001b[0m\u001b[0;34m(\u001b[0m\u001b[0mself\u001b[0m\u001b[0;34m)\u001b[0m\u001b[0;34m)\u001b[0m\u001b[0;34m,\u001b[0m \u001b[0mself\u001b[0m\u001b[0;34m.\u001b[0m\u001b[0mshape\u001b[0m\u001b[0;34m)\u001b[0m\u001b[0;34m\u001b[0m\u001b[0;34m\u001b[0m\u001b[0m\n\u001b[0m\u001b[1;32m    275\u001b[0m \u001b[0;34m\u001b[0m\u001b[0m\n\u001b[1;32m    276\u001b[0m     \u001b[0;32mdef\u001b[0m \u001b[0m_sympystr\u001b[0m\u001b[0;34m(\u001b[0m\u001b[0mself\u001b[0m\u001b[0;34m,\u001b[0m \u001b[0mprinter\u001b[0m\u001b[0;34m)\u001b[0m\u001b[0;34m:\u001b[0m\u001b[0;34m\u001b[0m\u001b[0;34m\u001b[0m\u001b[0m\n",
            "\u001b[0;32m/usr/local/lib/python3.7/dist-packages/sympy/tensor/array/dense_ndim_array.py\u001b[0m in \u001b[0;36m__new__\u001b[0;34m(cls, iterable, shape, **kwargs)\u001b[0m\n\u001b[1;32m    127\u001b[0m \u001b[0;34m\u001b[0m\u001b[0m\n\u001b[1;32m    128\u001b[0m     \u001b[0;32mdef\u001b[0m \u001b[0m__new__\u001b[0m\u001b[0;34m(\u001b[0m\u001b[0mcls\u001b[0m\u001b[0;34m,\u001b[0m \u001b[0miterable\u001b[0m\u001b[0;34m,\u001b[0m \u001b[0mshape\u001b[0m\u001b[0;34m=\u001b[0m\u001b[0;32mNone\u001b[0m\u001b[0;34m,\u001b[0m \u001b[0;34m**\u001b[0m\u001b[0mkwargs\u001b[0m\u001b[0;34m)\u001b[0m\u001b[0;34m:\u001b[0m\u001b[0;34m\u001b[0m\u001b[0;34m\u001b[0m\u001b[0m\n\u001b[0;32m--> 129\u001b[0;31m         \u001b[0;32mreturn\u001b[0m \u001b[0mcls\u001b[0m\u001b[0;34m.\u001b[0m\u001b[0m_new\u001b[0m\u001b[0;34m(\u001b[0m\u001b[0miterable\u001b[0m\u001b[0;34m,\u001b[0m \u001b[0mshape\u001b[0m\u001b[0;34m,\u001b[0m \u001b[0;34m**\u001b[0m\u001b[0mkwargs\u001b[0m\u001b[0;34m)\u001b[0m\u001b[0;34m\u001b[0m\u001b[0;34m\u001b[0m\u001b[0m\n\u001b[0m\u001b[1;32m    130\u001b[0m \u001b[0;34m\u001b[0m\u001b[0m\n\u001b[1;32m    131\u001b[0m     \u001b[0;34m@\u001b[0m\u001b[0mclassmethod\u001b[0m\u001b[0;34m\u001b[0m\u001b[0;34m\u001b[0m\u001b[0m\n",
            "\u001b[0;32m/usr/local/lib/python3.7/dist-packages/sympy/tensor/array/dense_ndim_array.py\u001b[0m in \u001b[0;36m_new\u001b[0;34m(cls, iterable, shape, **kwargs)\u001b[0m\n\u001b[1;32m    136\u001b[0m         \u001b[0mshape\u001b[0m \u001b[0;34m=\u001b[0m \u001b[0mTuple\u001b[0m\u001b[0;34m(\u001b[0m\u001b[0;34m*\u001b[0m\u001b[0mmap\u001b[0m\u001b[0;34m(\u001b[0m\u001b[0m_sympify\u001b[0m\u001b[0;34m,\u001b[0m \u001b[0mshape\u001b[0m\u001b[0;34m)\u001b[0m\u001b[0;34m)\u001b[0m\u001b[0;34m\u001b[0m\u001b[0;34m\u001b[0m\u001b[0m\n\u001b[1;32m    137\u001b[0m         \u001b[0mcls\u001b[0m\u001b[0;34m.\u001b[0m\u001b[0m_check_special_bounds\u001b[0m\u001b[0;34m(\u001b[0m\u001b[0mflat_list\u001b[0m\u001b[0;34m,\u001b[0m \u001b[0mshape\u001b[0m\u001b[0;34m)\u001b[0m\u001b[0;34m\u001b[0m\u001b[0;34m\u001b[0m\u001b[0m\n\u001b[0;32m--> 138\u001b[0;31m         \u001b[0mflat_list\u001b[0m \u001b[0;34m=\u001b[0m \u001b[0mflatten\u001b[0m\u001b[0;34m(\u001b[0m\u001b[0mflat_list\u001b[0m\u001b[0;34m)\u001b[0m\u001b[0;34m\u001b[0m\u001b[0;34m\u001b[0m\u001b[0m\n\u001b[0m\u001b[1;32m    139\u001b[0m         \u001b[0mflat_list\u001b[0m \u001b[0;34m=\u001b[0m \u001b[0mTuple\u001b[0m\u001b[0;34m(\u001b[0m\u001b[0;34m*\u001b[0m\u001b[0mflat_list\u001b[0m\u001b[0;34m)\u001b[0m\u001b[0;34m\u001b[0m\u001b[0;34m\u001b[0m\u001b[0m\n\u001b[1;32m    140\u001b[0m         \u001b[0mself\u001b[0m \u001b[0;34m=\u001b[0m \u001b[0mBasic\u001b[0m\u001b[0;34m.\u001b[0m\u001b[0m__new__\u001b[0m\u001b[0;34m(\u001b[0m\u001b[0mcls\u001b[0m\u001b[0;34m,\u001b[0m \u001b[0mflat_list\u001b[0m\u001b[0;34m,\u001b[0m \u001b[0mshape\u001b[0m\u001b[0;34m,\u001b[0m \u001b[0;34m**\u001b[0m\u001b[0mkwargs\u001b[0m\u001b[0;34m)\u001b[0m\u001b[0;34m\u001b[0m\u001b[0;34m\u001b[0m\u001b[0m\n",
            "\u001b[0;32m/usr/local/lib/python3.7/dist-packages/sympy/utilities/iterables.py\u001b[0m in \u001b[0;36mflatten\u001b[0;34m(iterable, levels, cls)\u001b[0m\n\u001b[1;32m    107\u001b[0m     \u001b[0mresult\u001b[0m \u001b[0;34m=\u001b[0m \u001b[0;34m[\u001b[0m\u001b[0;34m]\u001b[0m\u001b[0;34m\u001b[0m\u001b[0;34m\u001b[0m\u001b[0m\n\u001b[1;32m    108\u001b[0m \u001b[0;34m\u001b[0m\u001b[0m\n\u001b[0;32m--> 109\u001b[0;31m     \u001b[0;32mfor\u001b[0m \u001b[0mel\u001b[0m \u001b[0;32min\u001b[0m \u001b[0miterable\u001b[0m\u001b[0;34m:\u001b[0m\u001b[0;34m\u001b[0m\u001b[0;34m\u001b[0m\u001b[0m\n\u001b[0m\u001b[1;32m    110\u001b[0m         \u001b[0;32mif\u001b[0m \u001b[0mreducible\u001b[0m\u001b[0;34m(\u001b[0m\u001b[0mel\u001b[0m\u001b[0;34m)\u001b[0m\u001b[0;34m:\u001b[0m\u001b[0;34m\u001b[0m\u001b[0;34m\u001b[0m\u001b[0m\n\u001b[1;32m    111\u001b[0m             \u001b[0;32mif\u001b[0m \u001b[0mhasattr\u001b[0m\u001b[0;34m(\u001b[0m\u001b[0mel\u001b[0m\u001b[0;34m,\u001b[0m \u001b[0;34m'args'\u001b[0m\u001b[0;34m)\u001b[0m \u001b[0;32mand\u001b[0m \u001b[0;32mnot\u001b[0m \u001b[0misinstance\u001b[0m\u001b[0;34m(\u001b[0m\u001b[0mel\u001b[0m\u001b[0;34m,\u001b[0m \u001b[0mNDimArray\u001b[0m\u001b[0;34m)\u001b[0m\u001b[0;34m:\u001b[0m\u001b[0;34m\u001b[0m\u001b[0;34m\u001b[0m\u001b[0m\n",
            "\u001b[0;32m/usr/local/lib/python3.7/dist-packages/sympy/tensor/array/array_derivatives.py\u001b[0m in \u001b[0;36m<lambda>\u001b[0;34m(x)\u001b[0m\n\u001b[1;32m     56\u001b[0m     \u001b[0;34m@\u001b[0m\u001b[0mstaticmethod\u001b[0m\u001b[0;34m\u001b[0m\u001b[0;34m\u001b[0m\u001b[0m\n\u001b[1;32m     57\u001b[0m     \u001b[0;32mdef\u001b[0m \u001b[0m_call_derive_scalar_by_array\u001b[0m\u001b[0;34m(\u001b[0m\u001b[0mexpr\u001b[0m\u001b[0;34m,\u001b[0m \u001b[0mv\u001b[0m\u001b[0;34m)\u001b[0m\u001b[0;34m:\u001b[0m  \u001b[0;31m# type: (Expr, NDimArray) -> Expr\u001b[0m\u001b[0;34m\u001b[0m\u001b[0;34m\u001b[0m\u001b[0m\n\u001b[0;32m---> 58\u001b[0;31m         \u001b[0;32mreturn\u001b[0m \u001b[0mv\u001b[0m\u001b[0;34m.\u001b[0m\u001b[0mapplyfunc\u001b[0m\u001b[0;34m(\u001b[0m\u001b[0;32mlambda\u001b[0m \u001b[0mx\u001b[0m\u001b[0;34m:\u001b[0m \u001b[0mexpr\u001b[0m\u001b[0;34m.\u001b[0m\u001b[0mdiff\u001b[0m\u001b[0;34m(\u001b[0m\u001b[0mx\u001b[0m\u001b[0;34m)\u001b[0m\u001b[0;34m)\u001b[0m\u001b[0;34m\u001b[0m\u001b[0;34m\u001b[0m\u001b[0m\n\u001b[0m\u001b[1;32m     59\u001b[0m \u001b[0;34m\u001b[0m\u001b[0m\n\u001b[1;32m     60\u001b[0m     \u001b[0;34m@\u001b[0m\u001b[0mstaticmethod\u001b[0m\u001b[0;34m\u001b[0m\u001b[0;34m\u001b[0m\u001b[0m\n",
            "\u001b[0;32m/usr/local/lib/python3.7/dist-packages/sympy/core/expr.py\u001b[0m in \u001b[0;36mdiff\u001b[0;34m(self, *symbols, **assumptions)\u001b[0m\n\u001b[1;32m   3472\u001b[0m     \u001b[0;32mdef\u001b[0m \u001b[0mdiff\u001b[0m\u001b[0;34m(\u001b[0m\u001b[0mself\u001b[0m\u001b[0;34m,\u001b[0m \u001b[0;34m*\u001b[0m\u001b[0msymbols\u001b[0m\u001b[0;34m,\u001b[0m \u001b[0;34m**\u001b[0m\u001b[0massumptions\u001b[0m\u001b[0;34m)\u001b[0m\u001b[0;34m:\u001b[0m\u001b[0;34m\u001b[0m\u001b[0;34m\u001b[0m\u001b[0m\n\u001b[1;32m   3473\u001b[0m         \u001b[0massumptions\u001b[0m\u001b[0;34m.\u001b[0m\u001b[0msetdefault\u001b[0m\u001b[0;34m(\u001b[0m\u001b[0;34m\"evaluate\"\u001b[0m\u001b[0;34m,\u001b[0m \u001b[0;32mTrue\u001b[0m\u001b[0;34m)\u001b[0m\u001b[0;34m\u001b[0m\u001b[0;34m\u001b[0m\u001b[0m\n\u001b[0;32m-> 3474\u001b[0;31m         \u001b[0;32mreturn\u001b[0m \u001b[0m_derivative_dispatch\u001b[0m\u001b[0;34m(\u001b[0m\u001b[0mself\u001b[0m\u001b[0;34m,\u001b[0m \u001b[0;34m*\u001b[0m\u001b[0msymbols\u001b[0m\u001b[0;34m,\u001b[0m \u001b[0;34m**\u001b[0m\u001b[0massumptions\u001b[0m\u001b[0;34m)\u001b[0m\u001b[0;34m\u001b[0m\u001b[0;34m\u001b[0m\u001b[0m\n\u001b[0m\u001b[1;32m   3475\u001b[0m \u001b[0;34m\u001b[0m\u001b[0m\n\u001b[1;32m   3476\u001b[0m     \u001b[0;31m###########################################################################\u001b[0m\u001b[0;34m\u001b[0m\u001b[0;34m\u001b[0m\u001b[0;34m\u001b[0m\u001b[0m\n",
            "\u001b[0;32m/usr/local/lib/python3.7/dist-packages/sympy/core/function.py\u001b[0m in \u001b[0;36m_derivative_dispatch\u001b[0;34m(expr, *variables, **kwargs)\u001b[0m\n\u001b[1;32m   1940\u001b[0m         \u001b[0;32mfrom\u001b[0m \u001b[0msympy\u001b[0m\u001b[0;34m.\u001b[0m\u001b[0mtensor\u001b[0m\u001b[0;34m.\u001b[0m\u001b[0marray\u001b[0m\u001b[0;34m.\u001b[0m\u001b[0marray_derivatives\u001b[0m \u001b[0;32mimport\u001b[0m \u001b[0mArrayDerivative\u001b[0m\u001b[0;34m\u001b[0m\u001b[0;34m\u001b[0m\u001b[0m\n\u001b[1;32m   1941\u001b[0m         \u001b[0;32mreturn\u001b[0m \u001b[0mArrayDerivative\u001b[0m\u001b[0;34m(\u001b[0m\u001b[0mexpr\u001b[0m\u001b[0;34m,\u001b[0m \u001b[0;34m*\u001b[0m\u001b[0mvariables\u001b[0m\u001b[0;34m,\u001b[0m \u001b[0;34m**\u001b[0m\u001b[0mkwargs\u001b[0m\u001b[0;34m)\u001b[0m\u001b[0;34m\u001b[0m\u001b[0;34m\u001b[0m\u001b[0m\n\u001b[0;32m-> 1942\u001b[0;31m     \u001b[0;32mreturn\u001b[0m \u001b[0mDerivative\u001b[0m\u001b[0;34m(\u001b[0m\u001b[0mexpr\u001b[0m\u001b[0;34m,\u001b[0m \u001b[0;34m*\u001b[0m\u001b[0mvariables\u001b[0m\u001b[0;34m,\u001b[0m \u001b[0;34m**\u001b[0m\u001b[0mkwargs\u001b[0m\u001b[0;34m)\u001b[0m\u001b[0;34m\u001b[0m\u001b[0;34m\u001b[0m\u001b[0m\n\u001b[0m\u001b[1;32m   1943\u001b[0m \u001b[0;34m\u001b[0m\u001b[0m\n\u001b[1;32m   1944\u001b[0m \u001b[0;34m\u001b[0m\u001b[0m\n",
            "\u001b[0;32m/usr/local/lib/python3.7/dist-packages/sympy/core/function.py\u001b[0m in \u001b[0;36m__new__\u001b[0;34m(cls, expr, *variables, **kwargs)\u001b[0m\n\u001b[1;32m   1368\u001b[0m                 raise ValueError(filldedent('''\n\u001b[1;32m   1369\u001b[0m                     Can't calculate derivative wrt %s.%s''' % (v,\n\u001b[0;32m-> 1370\u001b[0;31m                     __)))\n\u001b[0m\u001b[1;32m   1371\u001b[0m \u001b[0;34m\u001b[0m\u001b[0m\n\u001b[1;32m   1372\u001b[0m         \u001b[0;31m# We make a special case for 0th derivative, because there is no\u001b[0m\u001b[0;34m\u001b[0m\u001b[0;34m\u001b[0m\u001b[0;34m\u001b[0m\u001b[0m\n",
            "\u001b[0;31mValueError\u001b[0m: \nCan't calculate derivative wrt -2.00000000000000."
          ]
        }
      ],
      "source": [
        "E_1= diff(E,x,1)\n",
        "F_1= diff(F,x,1)\n",
        "G_1= diff(G,x,1)\n",
        "#-----------------------------------------------------------------------\n",
        "E_2= diff(E,y,1)\n",
        "F_2= diff(F,y,1)\n",
        "G_2= diff(G,y,1)"
      ]
    },
    {
      "cell_type": "code",
      "execution_count": null,
      "metadata": {
        "id": "Hpbjw9Lf5BrV"
      },
      "outputs": [],
      "source": [
        "C_111=(0.5*E_1*G-(F_1*-0.5*E_2)*F)/(E*G-F**2)\n",
        "C_112=((F_1-0.5*E_2)*E-0.5*E_1*F)/(E*G-F**2)\n",
        "C_121=(0.5*E_2*G-0.5*G_1*F)/(E*G-F**2)\n",
        "C_122=(0.5*G_1*E-0.5*E_2*F)/(E*G-F**2)\n",
        "C_221=((F_2-0.5*G_1)*G-0.5*G_2*F)/(E*G-F**2)\n",
        "C_222=(0.5*G_2*E-(F_2-0.5*G_1)*F)/(E*G-F**2)"
      ]
    },
    {
      "cell_type": "markdown",
      "source": [
        "**texto en negrita** $Γ_{11}^2$"
      ],
      "metadata": {
        "id": "piGBFVNmukOh"
      }
    },
    {
      "cell_type": "code",
      "execution_count": null,
      "metadata": {
        "colab": {
          "base_uri": "https://localhost:8080/",
          "height": 190
        },
        "id": "XuG1_aSH99d2",
        "outputId": "31cf8678-b312-4883-8cc4-f6223a1f14cb"
      },
      "outputs": [
        {
          "output_type": "error",
          "ename": "NameError",
          "evalue": "ignored",
          "traceback": [
            "\u001b[0;31m---------------------------------------------------------------------------\u001b[0m",
            "\u001b[0;31mNameError\u001b[0m                                 Traceback (most recent call last)",
            "\u001b[0;32m<ipython-input-27-502daaa10922>\u001b[0m in \u001b[0;36m<module>\u001b[0;34m()\u001b[0m\n\u001b[0;32m----> 1\u001b[0;31m \u001b[0mprint\u001b[0m\u001b[0;34m(\u001b[0m\u001b[0mC_111\u001b[0m\u001b[0;34m)\u001b[0m\u001b[0;34m\u001b[0m\u001b[0;34m\u001b[0m\u001b[0m\n\u001b[0m\u001b[1;32m      2\u001b[0m \u001b[0msimplify\u001b[0m\u001b[0;34m(\u001b[0m\u001b[0mC_111\u001b[0m\u001b[0;34m)\u001b[0m\u001b[0;34m\u001b[0m\u001b[0;34m\u001b[0m\u001b[0m\n",
            "\u001b[0;31mNameError\u001b[0m: name 'C_111' is not defined"
          ]
        }
      ],
      "source": [
        "print(C_111)\n",
        "simplify(C_111)\n"
      ]
    },
    {
      "cell_type": "markdown",
      "source": [
        " $Γ_{11}^2$\n"
      ],
      "metadata": {
        "id": "qA07r2muvFHl"
      }
    },
    {
      "cell_type": "code",
      "execution_count": null,
      "metadata": {
        "colab": {
          "base_uri": "https://localhost:8080/",
          "height": 55
        },
        "id": "PVLutX5UAaP-",
        "outputId": "5ce3f751-f8e6-4b9d-aa27-fccc9cf694cf"
      },
      "outputs": [
        {
          "output_type": "stream",
          "name": "stdout",
          "text": [
            "0\n"
          ]
        },
        {
          "output_type": "execute_result",
          "data": {
            "text/plain": [
              "0"
            ],
            "image/png": "[encoded data removed]",
            "text/latex": "$\\displaystyle 0$"
          },
          "metadata": {},
          "execution_count": 82
        }
      ],
      "source": [
        "print(C_112)\n",
        "simplify(C_112)\n",
        "      \n"
      ]
    },
    {
      "cell_type": "markdown",
      "source": [
        "$Γ_{12}^1$"
      ],
      "metadata": {
        "id": "i5PlcEB-vaoE"
      }
    },
    {
      "cell_type": "code",
      "execution_count": null,
      "metadata": {
        "colab": {
          "base_uri": "https://localhost:8080/",
          "height": 55
        },
        "id": "Mh41ax_GAjCZ",
        "outputId": "eb2e22f1-310c-462e-eb23-19ec3986153d"
      },
      "outputs": [
        {
          "output_type": "stream",
          "name": "stdout",
          "text": [
            "0\n"
          ]
        },
        {
          "output_type": "execute_result",
          "data": {
            "text/plain": [
              "0"
            ],
            "image/png": "[encoded data removed]",
            "text/latex": "$\\displaystyle 0$"
          },
          "metadata": {},
          "execution_count": 83
        }
      ],
      "source": [
        "print(C_121)\n",
        "simplify(C_121)\n"
      ]
    },
    {
      "cell_type": "markdown",
      "source": [
        "**texto en negrita**$Γ_{12}^2$"
      ],
      "metadata": {
        "id": "1G0gHyiuvpIM"
      }
    },
    {
      "cell_type": "code",
      "execution_count": null,
      "metadata": {
        "colab": {
          "base_uri": "https://localhost:8080/",
          "height": 70
        },
        "id": "MY3aHKJoApwZ",
        "outputId": "58248542-edc5-4230-ae40-bf4f2d3a8d6b"
      },
      "outputs": [
        {
          "output_type": "stream",
          "name": "stdout",
          "text": [
            "(1.0*x*sin(y)**2 + 1.0*x*cos(y)**2)/(x**2*sin(y)**2 + x**2*cos(y)**2 + 1)\n"
          ]
        },
        {
          "output_type": "execute_result",
          "data": {
            "text/plain": [
              "1.0⋅x \n",
              "──────\n",
              " 2    \n",
              "x  + 1"
            ],
            "image/png": "[encoded data removed]",
            "text/latex": "$\\displaystyle \\frac{1.0 x}{x^{2} + 1}$"
          },
          "metadata": {},
          "execution_count": 84
        }
      ],
      "source": [
        "print(C_122)\n",
        "simplify(C_122)\n"
      ]
    },
    {
      "cell_type": "markdown",
      "source": [
        "$Γ_{22}^1$"
      ],
      "metadata": {
        "id": "PMUJGritvvME"
      }
    },
    {
      "cell_type": "code",
      "execution_count": null,
      "metadata": {
        "colab": {
          "base_uri": "https://localhost:8080/",
          "height": 57
        },
        "id": "9oXtl8UIAu41",
        "outputId": "2ebbb817-9f92-4ba7-98a4-e8dd83d3944c"
      },
      "outputs": [
        {
          "output_type": "stream",
          "name": "stdout",
          "text": [
            "(-1.0*x*sin(y)**2 - 1.0*x*cos(y)**2)/(sin(y)**2 + cos(y)**2)\n"
          ]
        },
        {
          "output_type": "execute_result",
          "data": {
            "text/plain": [
              "-1.0⋅x"
            ],
            "image/png": "[encoded data removed]",
            "text/latex": "$\\displaystyle - 1.0 x$"
          },
          "metadata": {},
          "execution_count": 85
        }
      ],
      "source": [
        "print(C_221)\n",
        "simplify(C_221)\n"
      ]
    },
    {
      "cell_type": "markdown",
      "source": [
        "$Γ_{22}^2$"
      ],
      "metadata": {
        "id": "H1B6QNIhv6B9"
      }
    },
    {
      "cell_type": "code",
      "execution_count": null,
      "metadata": {
        "colab": {
          "base_uri": "https://localhost:8080/",
          "height": 55
        },
        "id": "EVzSbh6wA0mX",
        "outputId": "52e27c42-d342-4627-8aca-f1ce01fef71f"
      },
      "outputs": [
        {
          "output_type": "stream",
          "name": "stdout",
          "text": [
            "0\n"
          ]
        },
        {
          "output_type": "execute_result",
          "data": {
            "text/plain": [
              "0"
            ],
            "image/png": "[encoded data removed]",
            "text/latex": "$\\displaystyle 0$"
          },
          "metadata": {},
          "execution_count": 86
        }
      ],
      "source": [
        "print(C_222)\n",
        "simplify(C_222)\n"
      ]
    },
    {
      "cell_type": "code",
      "source": [
        "import sympy\n",
        "from sympy.simplify.fu import as_f_sign_1\n",
        "from sympy import *\n",
        "import os \n",
        "import code \n",
        "from sympy.printing import latex\n",
        "import pandas as pd \n",
        "import numpy as np\n",
        "\n",
        "\n",
        "init_printing(pretty_print=True  ,wrap_line=False )\n",
        "half=Rational(1/2)\n",
        "\n",
        "#variables \n",
        "x,y,u,v,t=symbols('x y u v t')\n",
        "#constantes \n",
        "a,b,c,a_1,a_2,b_1,b_2,c_1,c_2,k,p,q,r =symbols('a b c a_1 a_2 b_1 b_2 c_1 c_2 k p q r ')\n",
        "#funciones \n",
        "X,X_u,X_v,f,g =symbols('X X_u X_v f g ')"
      ],
      "metadata": {
        "id": "SSlj2JGTW35b"
      },
      "execution_count": null,
      "outputs": []
    },
    {
      "cell_type": "code",
      "source": [
        ""
      ],
      "metadata": {
        "colab": {
          "base_uri": "https://localhost:8080/",
          "height": 189
        },
        "id": "86kzdLUzW8Bn",
        "outputId": "049f1e8e-1b43-40de-adad-e0d32c36cd0a"
      },
      "execution_count": null,
      "outputs": [
        {
          "output_type": "error",
          "ename": "TypeError",
          "evalue": "ignored",
          "traceback": [
            "\u001b[0;31m---------------------------------------------------------------------------\u001b[0m",
            "\u001b[0;31mTypeError\u001b[0m                                 Traceback (most recent call last)",
            "\u001b[0;32m<ipython-input-8-e080bf28d41c>\u001b[0m in \u001b[0;36m<module>\u001b[0;34m()\u001b[0m\n\u001b[1;32m      1\u001b[0m \u001b[0mt\u001b[0m\u001b[0;34m=\u001b[0m\u001b[0msymbols\u001b[0m\u001b[0;34m(\u001b[0m\u001b[0;34m\"t\"\u001b[0m\u001b[0;34m)\u001b[0m\u001b[0;34m\u001b[0m\u001b[0;34m\u001b[0m\u001b[0m\n\u001b[0;32m----> 2\u001b[0;31m \u001b[0mu\u001b[0m\u001b[0;34m=\u001b[0m\u001b[0mu\u001b[0m\u001b[0;34m(\u001b[0m\u001b[0mt\u001b[0m\u001b[0;34m)\u001b[0m\u001b[0;34m\u001b[0m\u001b[0;34m\u001b[0m\u001b[0m\n\u001b[0m",
            "\u001b[0;31mTypeError\u001b[0m: 'Symbol' object is not callable"
          ]
        }
      ]
    },
    {
      "cell_type": "markdown",
      "source": [
        "**Geodesicas**\n",
        "    \n",
        "Vamos ahora a introducir  las ecuaciones de una geodésica en un entorno coordenado . A tal efecto sean $\\gamma :J\\rightarrow S$   una curva parametrizada de S y sea $X(u,v)$ una parametrización de S en un entorno $V$ de $\\gamma(t_0)$ $t_0\\in I$ $J\\subset I$ un intervalo abierto que contiene a a $t_0$    talque $\\gamma (J)\\subset V$. Entonces el campo vectorial tangente ${\\gamma }'(t)$ con $t\\in J$ viene dado por \n",
        "          \n",
        " \\begin{equation}\n",
        "\\begin{split}\n",
        "        {u}'(t)x_u+{v}'(t)x_v\n",
        "          \\end{split} \n",
        "\\end{equation}\n",
        "\n",
        " Por lo tanto el hecho de que $w$ sea paralelo  lo cual es equivalente a que satisfaga el sistema de ecuaciones diferenciales \n",
        "  \n",
        " \\begin{equation}\n",
        "\\begin{split}\n",
        "        {u}''+\\Gamma ^1_{11}{u}'^2+2\\Gamma ^1_{12}{u}'{v}'+\\Gamma ^1_{22}{v}'^2=0\\\\\n",
        "        {v}''+\\Gamma ^2_{11}{u}'^2+2\\Gamma ^2_{12}{u}'{v}'+\\Gamma ^2_{22}{v}'^2=0\n",
        "     \\end{split} \n",
        "\\end{equation}"
      ],
      "metadata": {
        "id": "5mF5nuimjit0"
      }
    }
  ],
  "metadata": {
    "colab": {
      "collapsed_sections": [],
      "name": "Untitled4.ipynb",
      "toc_visible": true,
      "provenance": []
    },
    "kernelspec": {
      "display_name": "Python 3",
      "name": "python3"
    },
    "language_info": {
      "name": "python"
    },
    "widgets": {
      "application/vnd.jupyter.widget-state+json": {
        "05621fde72ed4951860dec3a83190c51": {
          "model_module": "@jupyter-widgets/controls",
          "model_module_version": "1.5.0",
          "model_name": "VBoxModel",
          "state": {
            "_dom_classes": [
              "widget-interact"
            ],
            "_model_module": "@jupyter-widgets/controls",
            "_model_module_version": "1.5.0",
            "_model_name": "VBoxModel",
            "_view_count": null,
            "_view_module": "@jupyter-widgets/controls",
            "_view_module_version": "1.5.0",
            "_view_name": "VBoxView",
            "box_style": "",
            "children": [
              "IPY_MODEL_c79ad3fa580d42a68f35fff8ad0f897c",
              "IPY_MODEL_3067d4eee0c6440cb9eb3e40d026645c"
            ],
            "layout": "IPY_MODEL_78cf8c593cb34102be056171d501c611"
          }
        },
        "139447e6e5754f659f33af8877d69625": {
          "model_module": "@jupyter-widgets/controls",
          "model_module_version": "1.5.0",
          "model_name": "SliderStyleModel",
          "state": {
            "_model_module": "@jupyter-widgets/controls",
            "_model_module_version": "1.5.0",
            "_model_name": "SliderStyleModel",
            "_view_count": null,
            "_view_module": "@jupyter-widgets/base",
            "_view_module_version": "1.2.0",
            "_view_name": "StyleView",
            "description_width": "",
            "handle_color": null
          }
        },
        "3067d4eee0c6440cb9eb3e40d026645c": {
          "model_module": "@jupyter-widgets/output",
          "model_module_version": "1.0.0",
          "model_name": "OutputModel",
          "state": {
            "_dom_classes": [],
            "_model_module": "@jupyter-widgets/output",
            "_model_module_version": "1.0.0",
            "_model_name": "OutputModel",
            "_view_count": null,
            "_view_module": "@jupyter-widgets/output",
            "_view_module_version": "1.0.0",
            "_view_name": "OutputView",
            "layout": "IPY_MODEL_994f730859664215abc04a6188fcd783",
            "msg_id": "",
            "outputs": [
              {
                "data": {
                  "image/png": "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\n",
                  "text/plain": "<Figure size 432x288 with 1 Axes>"
                },
                "metadata": {
                  "needs_background": "light"
                },
                "output_type": "display_data"
              }
            ]
          }
        },
        "78cf8c593cb34102be056171d501c611": {
          "model_module": "@jupyter-widgets/base",
          "model_module_version": "1.2.0",
          "model_name": "LayoutModel",
          "state": {
            "_model_module": "@jupyter-widgets/base",
            "_model_module_version": "1.2.0",
            "_model_name": "LayoutModel",
            "_view_count": null,
            "_view_module": "@jupyter-widgets/base",
            "_view_module_version": "1.2.0",
            "_view_name": "LayoutView",
            "align_content": null,
            "align_items": null,
            "align_self": null,
            "border": null,
            "bottom": null,
            "display": null,
            "flex": null,
            "flex_flow": null,
            "grid_area": null,
            "grid_auto_columns": null,
            "grid_auto_flow": null,
            "grid_auto_rows": null,
            "grid_column": null,
            "grid_gap": null,
            "grid_row": null,
            "grid_template_areas": null,
            "grid_template_columns": null,
            "grid_template_rows": null,
            "height": null,
            "justify_content": null,
            "justify_items": null,
            "left": null,
            "margin": null,
            "max_height": null,
            "max_width": null,
            "min_height": null,
            "min_width": null,
            "object_fit": null,
            "object_position": null,
            "order": null,
            "overflow": null,
            "overflow_x": null,
            "overflow_y": null,
            "padding": null,
            "right": null,
            "top": null,
            "visibility": null,
            "width": null
          }
        },
        "7953a9474f834bd8a361f5a3485d0d26": {
          "model_module": "@jupyter-widgets/base",
          "model_module_version": "1.2.0",
          "model_name": "LayoutModel",
          "state": {
            "_model_module": "@jupyter-widgets/base",
            "_model_module_version": "1.2.0",
            "_model_name": "LayoutModel",
            "_view_count": null,
            "_view_module": "@jupyter-widgets/base",
            "_view_module_version": "1.2.0",
            "_view_name": "LayoutView",
            "align_content": null,
            "align_items": null,
            "align_self": null,
            "border": null,
            "bottom": null,
            "display": null,
            "flex": null,
            "flex_flow": null,
            "grid_area": null,
            "grid_auto_columns": null,
            "grid_auto_flow": null,
            "grid_auto_rows": null,
            "grid_column": null,
            "grid_gap": null,
            "grid_row": null,
            "grid_template_areas": null,
            "grid_template_columns": null,
            "grid_template_rows": null,
            "height": null,
            "justify_content": null,
            "justify_items": null,
            "left": null,
            "margin": null,
            "max_height": null,
            "max_width": null,
            "min_height": null,
            "min_width": null,
            "object_fit": null,
            "object_position": null,
            "order": null,
            "overflow": null,
            "overflow_x": null,
            "overflow_y": null,
            "padding": null,
            "right": null,
            "top": null,
            "visibility": null,
            "width": null
          }
        },
        "994f730859664215abc04a6188fcd783": {
          "model_module": "@jupyter-widgets/base",
          "model_module_version": "1.2.0",
          "model_name": "LayoutModel",
          "state": {
            "_model_module": "@jupyter-widgets/base",
            "_model_module_version": "1.2.0",
            "_model_name": "LayoutModel",
            "_view_count": null,
            "_view_module": "@jupyter-widgets/base",
            "_view_module_version": "1.2.0",
            "_view_name": "LayoutView",
            "align_content": null,
            "align_items": null,
            "align_self": null,
            "border": null,
            "bottom": null,
            "display": null,
            "flex": null,
            "flex_flow": null,
            "grid_area": null,
            "grid_auto_columns": null,
            "grid_auto_flow": null,
            "grid_auto_rows": null,
            "grid_column": null,
            "grid_gap": null,
            "grid_row": null,
            "grid_template_areas": null,
            "grid_template_columns": null,
            "grid_template_rows": null,
            "height": null,
            "justify_content": null,
            "justify_items": null,
            "left": null,
            "margin": null,
            "max_height": null,
            "max_width": null,
            "min_height": null,
            "min_width": null,
            "object_fit": null,
            "object_position": null,
            "order": null,
            "overflow": null,
            "overflow_x": null,
            "overflow_y": null,
            "padding": null,
            "right": null,
            "top": null,
            "visibility": null,
            "width": null
          }
        },
        "c79ad3fa580d42a68f35fff8ad0f897c": {
          "model_module": "@jupyter-widgets/controls",
          "model_module_version": "1.5.0",
          "model_name": "IntSliderModel",
          "state": {
            "_dom_classes": [],
            "_model_module": "@jupyter-widgets/controls",
            "_model_module_version": "1.5.0",
            "_model_name": "IntSliderModel",
            "_view_count": null,
            "_view_module": "@jupyter-widgets/controls",
            "_view_module_version": "1.5.0",
            "_view_name": "IntSliderView",
            "continuous_update": true,
            "description": "a",
            "description_tooltip": null,
            "disabled": false,
            "layout": "IPY_MODEL_7953a9474f834bd8a361f5a3485d0d26",
            "max": 10,
            "min": 0,
            "orientation": "horizontal",
            "readout": true,
            "readout_format": "d",
            "step": 1,
            "style": "IPY_MODEL_139447e6e5754f659f33af8877d69625",
            "value": 5
          }
        }
      }
    }
  },
  "nbformat": 4,
  "nbformat_minor": 0
}